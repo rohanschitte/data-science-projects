{
 "cells": [
  {
   "cell_type": "markdown",
   "metadata": {
    "id": "JMfSvD6IfFLr"
   },
   "source": [
    "# Import libraries"
   ]
  },
  {
   "cell_type": "code",
   "execution_count": 1,
   "metadata": {
    "colab": {
     "base_uri": "https://localhost:8080/"
    },
    "executionInfo": {
     "elapsed": 2409,
     "status": "ok",
     "timestamp": 1606036322454,
     "user": {
      "displayName": "Natalja Kon",
      "photoUrl": "",
      "userId": "02556929915192202910"
     },
     "user_tz": -60
    },
    "id": "fLSedcLpXyYS",
    "outputId": "7de4a40e-43b1-4783-f06e-1f1a3570a2d4"
   },
   "outputs": [
    {
     "name": "stdout",
     "output_type": "stream",
     "text": [
      "Drive already mounted at /content/gdrive; to attempt to forcibly remount, call drive.mount(\"/content/gdrive\", force_remount=True).\n"
     ]
    }
   ],
   "source": [
    "from google.colab import drive\n",
    "drive.mount('/content/gdrive')\n",
    "from tensorflow.keras.models import Sequential\n",
    "from tensorflow.keras.preprocessing.image import ImageDataGenerator\n",
    "from tensorflow.keras.layers import Dense, Dropout, Activation, Flatten\n",
    "from tensorflow.keras.layers import Conv2D, MaxPooling2D\n",
    "from tensorflow.keras.callbacks  import Callback, ModelCheckpoint, ReduceLROnPlateau, TensorBoard\n",
    "from tensorflow.keras.utils import to_categorical\n",
    "import time\n",
    "import os\n",
    "\n",
    "import numpy as np\n",
    "import pandas as pd\n",
    "from sklearn.metrics import classification_report, confusion_matrix\n",
    "import matplotlib.pyplot as plt\n",
    "import itertools\n",
    "from sklearn.preprocessing import LabelBinarizer\n",
    "from sklearn.metrics import roc_curve, auc, roc_auc_score"
   ]
  },
  {
   "cell_type": "markdown",
   "metadata": {
    "id": "o8Wk751UfOxo"
   },
   "source": [
    "# Input data"
   ]
  },
  {
   "cell_type": "code",
   "execution_count": 2,
   "metadata": {
    "colab": {
     "base_uri": "https://localhost:8080/"
    },
    "executionInfo": {
     "elapsed": 2404,
     "status": "ok",
     "timestamp": 1606036322454,
     "user": {
      "displayName": "Natalja Kon",
      "photoUrl": "",
      "userId": "02556929915192202910"
     },
     "user_tz": -60
    },
    "id": "SQ_OfHuTNHZN",
    "outputId": "d7c31029-302e-4c70-f4fa-043745280bec"
   },
   "outputs": [
    {
     "name": "stdout",
     "output_type": "stream",
     "text": [
      "/content/gdrive/MyDrive/introToFADS/ue3\n"
     ]
    }
   ],
   "source": [
    "%cd /content/gdrive/MyDrive/introToFADS/ue3"
   ]
  },
  {
   "cell_type": "code",
   "execution_count": 3,
   "metadata": {
    "colab": {
     "base_uri": "https://localhost:8080/"
    },
    "executionInfo": {
     "elapsed": 2698,
     "status": "ok",
     "timestamp": 1606036322752,
     "user": {
      "displayName": "Natalja Kon",
      "photoUrl": "",
      "userId": "02556929915192202910"
     },
     "user_tz": -60
    },
    "id": "hi7FYDKncqne",
    "outputId": "ff4c3dc7-a3d0-4f5e-9df5-3cd650cc7c7c"
   },
   "outputs": [
    {
     "name": "stdout",
     "output_type": "stream",
     "text": [
      "Found 1456 images belonging to 2 classes.\n",
      "Found 364 images belonging to 2 classes.\n"
     ]
    }
   ],
   "source": [
    "# Loading the training data\n",
    "PATH = os.getcwd()\n",
    "# Define data path\n",
    "train_data_dir = PATH + '/400x/train'\n",
    "test_data_dir = PATH + '/400x/test'\n",
    "im_rows=224\n",
    "im_cols=224\n",
    "epochs=24\n",
    "batch_size=32\n",
    "num_of_train_samples=1458\n",
    "num_of_test_samples=366\n",
    "train_datagen=ImageDataGenerator(rescale=1./255, zoom_range=2, rotation_range=90, horizontal_flip=True, vertical_flip=True)\n",
    "test_datagen=ImageDataGenerator(rescale=1./255)\n",
    "train_batch = train_datagen.flow_from_directory(train_data_dir, target_size=(im_rows,im_cols), color_mode=\"rgb\", batch_size=batch_size, class_mode=\"categorical\", classes=['benign', 'malignant'], shuffle=True, seed=42)\n",
    "test_batch = test_datagen.flow_from_directory(test_data_dir, target_size=(im_rows,im_cols), color_mode=\"rgb\", batch_size=1, class_mode=\"categorical\", classes=['benign', 'malignant'], shuffle=False, seed=42)\n",
    "test_filenames= test_batch.filenames\n",
    "nb_samples=len(test_filenames)"
   ]
  },
  {
   "cell_type": "markdown",
   "metadata": {
    "id": "wpqDgZhpbDO-"
   },
   "source": [
    "# Build model"
   ]
  },
  {
   "cell_type": "code",
   "execution_count": 4,
   "metadata": {
    "colab": {
     "base_uri": "https://localhost:8080/"
    },
    "executionInfo": {
     "elapsed": 3234,
     "status": "ok",
     "timestamp": 1606036323292,
     "user": {
      "displayName": "Natalja Kon",
      "photoUrl": "",
      "userId": "02556929915192202910"
     },
     "user_tz": -60
    },
    "id": "BMxnEjWuc0f-",
    "outputId": "f78ebaaf-134a-4fb5-e88b-009dc17b3e18"
   },
   "outputs": [
    {
     "name": "stdout",
     "output_type": "stream",
     "text": [
      "Model: \"sequential\"\n",
      "_________________________________________________________________\n",
      "Layer (type)                 Output Shape              Param #   \n",
      "=================================================================\n",
      "conv2d (Conv2D)              (None, 222, 222, 128)     3584      \n",
      "_________________________________________________________________\n",
      "activation (Activation)      (None, 222, 222, 128)     0         \n",
      "_________________________________________________________________\n",
      "max_pooling2d (MaxPooling2D) (None, 111, 111, 128)     0         \n",
      "_________________________________________________________________\n",
      "dropout (Dropout)            (None, 111, 111, 128)     0         \n",
      "_________________________________________________________________\n",
      "conv2d_1 (Conv2D)            (None, 109, 109, 128)     147584    \n",
      "_________________________________________________________________\n",
      "activation_1 (Activation)    (None, 109, 109, 128)     0         \n",
      "_________________________________________________________________\n",
      "max_pooling2d_1 (MaxPooling2 (None, 54, 54, 128)       0         \n",
      "_________________________________________________________________\n",
      "dropout_1 (Dropout)          (None, 54, 54, 128)       0         \n",
      "_________________________________________________________________\n",
      "conv2d_2 (Conv2D)            (None, 52, 52, 128)       147584    \n",
      "_________________________________________________________________\n",
      "activation_2 (Activation)    (None, 52, 52, 128)       0         \n",
      "_________________________________________________________________\n",
      "max_pooling2d_2 (MaxPooling2 (None, 26, 26, 128)       0         \n",
      "_________________________________________________________________\n",
      "dropout_2 (Dropout)          (None, 26, 26, 128)       0         \n",
      "_________________________________________________________________\n",
      "flatten (Flatten)            (None, 86528)             0         \n",
      "_________________________________________________________________\n",
      "dense (Dense)                (None, 128)               11075712  \n",
      "_________________________________________________________________\n",
      "activation_3 (Activation)    (None, 128)               0         \n",
      "_________________________________________________________________\n",
      "dense_1 (Dense)              (None, 2)                 258       \n",
      "_________________________________________________________________\n",
      "activation_4 (Activation)    (None, 2)                 0         \n",
      "=================================================================\n",
      "Total params: 11,374,722\n",
      "Trainable params: 11,374,722\n",
      "Non-trainable params: 0\n",
      "_________________________________________________________________\n"
     ]
    }
   ],
   "source": [
    "NAME = \"assignment_3_CNN\"\n",
    "\n",
    "model = Sequential()\n",
    " \n",
    "model.add(Conv2D(128, (3, 3), input_shape=(im_rows,im_cols,3)))\n",
    "model.add(Activation('relu'))\n",
    "model.add(MaxPooling2D(pool_size=(2, 2)))\n",
    "model.add(Dropout(0.3))\n",
    " \n",
    "model.add(Conv2D(128, (3, 3)))\n",
    "model.add(Activation('relu'))\n",
    "model.add(MaxPooling2D(pool_size=(2, 2)))\n",
    "model.add(Dropout(0.3))\n",
    " \n",
    "model.add(Conv2D(128, (3, 3)))\n",
    "model.add(Activation('relu'))\n",
    "model.add(MaxPooling2D(pool_size=(2, 2)))\n",
    "model.add(Dropout(0.3))\n",
    " \n",
    "model.add(Flatten())  \n",
    " \n",
    "model.add(Dense(128))\n",
    "model.add(Activation('relu'))\n",
    " \n",
    "model.add(Dense(2))\n",
    "model.add(Activation('softmax'))\n",
    "\n",
    "model.summary()"
   ]
  },
  {
   "cell_type": "markdown",
   "metadata": {
    "id": "AIyAjCysa9dv"
   },
   "source": [
    "# Train"
   ]
  },
  {
   "cell_type": "code",
   "execution_count": 5,
   "metadata": {
    "executionInfo": {
     "elapsed": 3231,
     "status": "ok",
     "timestamp": 1606036323293,
     "user": {
      "displayName": "Natalja Kon",
      "photoUrl": "",
      "userId": "02556929915192202910"
     },
     "user_tz": -60
    },
    "id": "16B4GN394Okc"
   },
   "outputs": [],
   "source": [
    "tensorboard = TensorBoard(log_dir=PATH + '/logs/{}'.format(NAME))\n",
    "#learning rate reducer\n",
    "learn_control = ReduceLROnPlateau(monitor='val_accuracy', patience=5, verbose=1, factor=0.2, min_lr=1e-7)\n",
    "#Checkpoint\n",
    "filepath=PATH + '/weights_3_1.best.hdf5'\n",
    "checkpoint = ModelCheckpoint(filepath, monitor='val_accuracy', verbose=1, save_best_only=True, mode='max') \n",
    "model.compile(loss='categorical_crossentropy',\n",
    "              optimizer='adam',\n",
    "              metrics=['accuracy'],\n",
    "              )"
   ]
  },
  {
   "cell_type": "code",
   "execution_count": 6,
   "metadata": {
    "colab": {
     "base_uri": "https://localhost:8080/"
    },
    "executionInfo": {
     "elapsed": 12231229,
     "status": "ok",
     "timestamp": 1606048551295,
     "user": {
      "displayName": "Natalja Kon",
      "photoUrl": "",
      "userId": "02556929915192202910"
     },
     "user_tz": -60
    },
    "id": "-QGaYSub4Wyk",
    "outputId": "bd9c6a72-6ce4-4b1a-f763-c5b1a3bba7c2"
   },
   "outputs": [
    {
     "name": "stdout",
     "output_type": "stream",
     "text": [
      "Epoch 1/24\n",
      " 1/45 [..............................] - ETA: 0s - loss: 0.7366 - accuracy: 0.3438WARNING:tensorflow:From /usr/local/lib/python3.6/dist-packages/tensorflow/python/ops/summary_ops_v2.py:1277: stop (from tensorflow.python.eager.profiler) is deprecated and will be removed after 2020-07-01.\n",
      "Instructions for updating:\n",
      "use `tf.profiler.experimental.stop` instead.\n",
      "45/45 [==============================] - ETA: 0s - loss: 1.5657 - accuracy: 0.6433 \n",
      "Epoch 00001: val_accuracy improved from -inf to 0.00000, saving model to /content/gdrive/MyDrive/introToFADS/ue3/weights_3_1.best.hdf5\n",
      "45/45 [==============================] - 510s 11s/step - loss: 1.5657 - accuracy: 0.6433 - val_loss: 0.7099 - val_accuracy: 0.0000e+00\n",
      "Epoch 2/24\n",
      "45/45 [==============================] - ETA: 0s - loss: 0.4972 - accuracy: 0.7121 \n",
      "Epoch 00002: val_accuracy improved from 0.00000 to 0.58333, saving model to /content/gdrive/MyDrive/introToFADS/ue3/weights_3_1.best.hdf5\n",
      "45/45 [==============================] - 499s 11s/step - loss: 0.4972 - accuracy: 0.7121 - val_loss: 0.7051 - val_accuracy: 0.5833\n",
      "Epoch 3/24\n",
      "45/45 [==============================] - ETA: 0s - loss: 0.4744 - accuracy: 0.7956 \n",
      "Epoch 00003: val_accuracy did not improve from 0.58333\n",
      "45/45 [==============================] - 501s 11s/step - loss: 0.4744 - accuracy: 0.7956 - val_loss: 0.8591 - val_accuracy: 0.1667\n",
      "Epoch 4/24\n",
      "45/45 [==============================] - ETA: 0s - loss: 0.5217 - accuracy: 0.7409 \n",
      "Epoch 00004: val_accuracy did not improve from 0.58333\n",
      "45/45 [==============================] - 505s 11s/step - loss: 0.5217 - accuracy: 0.7409 - val_loss: 0.8538 - val_accuracy: 0.0000e+00\n",
      "Epoch 5/24\n",
      "45/45 [==============================] - ETA: 0s - loss: 0.4732 - accuracy: 0.7688 \n",
      "Epoch 00005: val_accuracy did not improve from 0.58333\n",
      "45/45 [==============================] - 503s 11s/step - loss: 0.4732 - accuracy: 0.7688 - val_loss: 0.8328 - val_accuracy: 0.0833\n",
      "Epoch 6/24\n",
      "45/45 [==============================] - ETA: 0s - loss: 0.4746 - accuracy: 0.7711 \n",
      "Epoch 00006: val_accuracy improved from 0.58333 to 1.00000, saving model to /content/gdrive/MyDrive/introToFADS/ue3/weights_3_1.best.hdf5\n",
      "45/45 [==============================] - 494s 11s/step - loss: 0.4746 - accuracy: 0.7711 - val_loss: 0.3716 - val_accuracy: 1.0000\n",
      "Epoch 7/24\n",
      "45/45 [==============================] - ETA: 0s - loss: 0.4137 - accuracy: 0.8371 \n",
      "Epoch 00007: val_accuracy did not improve from 1.00000\n",
      "45/45 [==============================] - 495s 11s/step - loss: 0.4137 - accuracy: 0.8371 - val_loss: 0.5430 - val_accuracy: 0.8333\n",
      "Epoch 8/24\n",
      "45/45 [==============================] - ETA: 0s - loss: 0.4105 - accuracy: 0.8371 \n",
      "Epoch 00008: val_accuracy did not improve from 1.00000\n",
      "45/45 [==============================] - 493s 11s/step - loss: 0.4105 - accuracy: 0.8371 - val_loss: 0.1840 - val_accuracy: 1.0000\n",
      "Epoch 9/24\n",
      "45/45 [==============================] - ETA: 0s - loss: 0.4603 - accuracy: 0.8104 \n",
      "Epoch 00009: val_accuracy did not improve from 1.00000\n",
      "45/45 [==============================] - 496s 11s/step - loss: 0.4603 - accuracy: 0.8104 - val_loss: 0.5764 - val_accuracy: 1.0000\n",
      "Epoch 10/24\n",
      "45/45 [==============================] - ETA: 0s - loss: 0.4366 - accuracy: 0.8287 \n",
      "Epoch 00010: val_accuracy did not improve from 1.00000\n",
      "45/45 [==============================] - 497s 11s/step - loss: 0.4366 - accuracy: 0.8287 - val_loss: 0.1776 - val_accuracy: 1.0000\n",
      "Epoch 11/24\n",
      "45/45 [==============================] - ETA: 0s - loss: 0.4109 - accuracy: 0.8497 \n",
      "Epoch 00011: ReduceLROnPlateau reducing learning rate to 0.00020000000949949026.\n",
      "\n",
      "Epoch 00011: val_accuracy did not improve from 1.00000\n",
      "45/45 [==============================] - 500s 11s/step - loss: 0.4109 - accuracy: 0.8497 - val_loss: 0.6246 - val_accuracy: 0.5833\n",
      "Epoch 12/24\n",
      "45/45 [==============================] - ETA: 0s - loss: 0.3793 - accuracy: 0.8680 \n",
      "Epoch 00012: val_accuracy did not improve from 1.00000\n",
      "45/45 [==============================] - 496s 11s/step - loss: 0.3793 - accuracy: 0.8680 - val_loss: 0.1790 - val_accuracy: 1.0000\n",
      "Epoch 13/24\n",
      "45/45 [==============================] - ETA: 0s - loss: 0.3633 - accuracy: 0.8708 \n",
      "Epoch 00013: val_accuracy did not improve from 1.00000\n",
      "45/45 [==============================] - 491s 11s/step - loss: 0.3633 - accuracy: 0.8708 - val_loss: 0.2204 - val_accuracy: 1.0000\n",
      "Epoch 14/24\n",
      "45/45 [==============================] - ETA: 0s - loss: 0.3496 - accuracy: 0.8785 \n",
      "Epoch 00014: val_accuracy did not improve from 1.00000\n",
      "45/45 [==============================] - 492s 11s/step - loss: 0.3496 - accuracy: 0.8785 - val_loss: 0.3085 - val_accuracy: 1.0000\n",
      "Epoch 15/24\n",
      "45/45 [==============================] - ETA: 0s - loss: 0.3542 - accuracy: 0.8757 \n",
      "Epoch 00015: val_accuracy did not improve from 1.00000\n",
      "45/45 [==============================] - 493s 11s/step - loss: 0.3542 - accuracy: 0.8757 - val_loss: 0.3851 - val_accuracy: 0.9167\n",
      "Epoch 16/24\n",
      "45/45 [==============================] - ETA: 0s - loss: 0.3610 - accuracy: 0.8708 \n",
      "Epoch 00016: ReduceLROnPlateau reducing learning rate to 4.0000001899898055e-05.\n",
      "\n",
      "Epoch 00016: val_accuracy did not improve from 1.00000\n",
      "45/45 [==============================] - 494s 11s/step - loss: 0.3610 - accuracy: 0.8708 - val_loss: 0.1720 - val_accuracy: 1.0000\n",
      "Epoch 17/24\n",
      "45/45 [==============================] - ETA: 0s - loss: 0.3386 - accuracy: 0.8862 \n",
      "Epoch 00017: val_accuracy did not improve from 1.00000\n",
      "45/45 [==============================] - 497s 11s/step - loss: 0.3386 - accuracy: 0.8862 - val_loss: 0.2230 - val_accuracy: 1.0000\n",
      "Epoch 18/24\n",
      "45/45 [==============================] - ETA: 0s - loss: 0.3361 - accuracy: 0.8890 \n",
      "Epoch 00018: val_accuracy did not improve from 1.00000\n",
      "45/45 [==============================] - 500s 11s/step - loss: 0.3361 - accuracy: 0.8890 - val_loss: 0.2432 - val_accuracy: 1.0000\n",
      "Epoch 19/24\n",
      "45/45 [==============================] - ETA: 0s - loss: 0.3488 - accuracy: 0.8820 \n",
      "Epoch 00019: val_accuracy did not improve from 1.00000\n",
      "45/45 [==============================] - 498s 11s/step - loss: 0.3488 - accuracy: 0.8820 - val_loss: 0.3572 - val_accuracy: 0.9167\n",
      "Epoch 20/24\n",
      "45/45 [==============================] - ETA: 0s - loss: 0.3341 - accuracy: 0.8841 \n",
      "Epoch 00020: val_accuracy did not improve from 1.00000\n",
      "45/45 [==============================] - 491s 11s/step - loss: 0.3341 - accuracy: 0.8841 - val_loss: 0.1771 - val_accuracy: 1.0000\n",
      "Epoch 21/24\n",
      "45/45 [==============================] - ETA: 0s - loss: 0.3451 - accuracy: 0.8764 \n",
      "Epoch 00021: ReduceLROnPlateau reducing learning rate to 8.000000525498762e-06.\n",
      "\n",
      "Epoch 00021: val_accuracy did not improve from 1.00000\n",
      "45/45 [==============================] - 491s 11s/step - loss: 0.3451 - accuracy: 0.8764 - val_loss: 0.4302 - val_accuracy: 0.8333\n",
      "Epoch 22/24\n",
      "45/45 [==============================] - ETA: 0s - loss: 0.3372 - accuracy: 0.8799 \n",
      "Epoch 00022: val_accuracy did not improve from 1.00000\n",
      "45/45 [==============================] - 493s 11s/step - loss: 0.3372 - accuracy: 0.8799 - val_loss: 0.2449 - val_accuracy: 1.0000\n",
      "Epoch 23/24\n",
      "45/45 [==============================] - ETA: 0s - loss: 0.3289 - accuracy: 0.8869 \n",
      "Epoch 00023: val_accuracy did not improve from 1.00000\n",
      "45/45 [==============================] - 493s 11s/step - loss: 0.3289 - accuracy: 0.8869 - val_loss: 0.2424 - val_accuracy: 1.0000\n",
      "Epoch 24/24\n",
      "45/45 [==============================] - ETA: 0s - loss: 0.3342 - accuracy: 0.8820 \n",
      "Epoch 00024: val_accuracy did not improve from 1.00000\n",
      "45/45 [==============================] - 497s 11s/step - loss: 0.3342 - accuracy: 0.8820 - val_loss: 0.2136 - val_accuracy: 1.0000\n"
     ]
    }
   ],
   "source": [
    "history=model.fit(train_batch,\n",
    "          validation_data=test_batch,       \n",
    "          steps_per_epoch=num_of_train_samples//batch_size,\n",
    "          epochs=epochs, validation_steps=num_of_test_samples//batch_size+1, callbacks=[learn_control, checkpoint, tensorboard])\n",
    "\n",
    "import json\n",
    "with open(PATH + '/history.json', 'w') as f:\n",
    "  json.dump(str(history.history), f)"
   ]
  },
  {
   "cell_type": "code",
   "execution_count": 7,
   "metadata": {
    "colab": {
     "base_uri": "https://localhost:8080/",
     "height": 282
    },
    "executionInfo": {
     "elapsed": 12231808,
     "status": "ok",
     "timestamp": 1606048551878,
     "user": {
      "displayName": "Natalja Kon",
      "photoUrl": "",
      "userId": "02556929915192202910"
     },
     "user_tz": -60
    },
    "id": "k6g7RVHSGsA_",
    "outputId": "771e4f6a-f68e-4c60-8ae3-d302beb96542"
   },
   "outputs": [
    {
     "data": {
      "text/plain": [
       "<matplotlib.axes._subplots.AxesSubplot at 0x7f25b2be8278>"
      ]
     },
     "execution_count": 7,
     "metadata": {
      "tags": []
     },
     "output_type": "execute_result"
    },
    {
     "data": {
      "image/png": "[encoded data removed]",
      "text/plain": [
       "<Figure size 432x288 with 1 Axes>"
      ]
     },
     "metadata": {
      "needs_background": "light",
      "tags": []
     },
     "output_type": "display_data"
    }
   ],
   "source": [
    "history_df = pd.DataFrame(history.history)\n",
    "history_df[['accuracy', 'val_accuracy']].plot()"
   ]
  },
  {
   "cell_type": "code",
   "execution_count": 8,
   "metadata": {
    "colab": {
     "base_uri": "https://localhost:8080/",
     "height": 282
    },
    "executionInfo": {
     "elapsed": 12232362,
     "status": "ok",
     "timestamp": 1606048552438,
     "user": {
      "displayName": "Natalja Kon",
      "photoUrl": "",
      "userId": "02556929915192202910"
     },
     "user_tz": -60
    },
    "id": "MpR4_QTyHDEe",
    "outputId": "f1cdbb8a-aa3c-4526-f780-a9b3824f41e0"
   },
   "outputs": [
    {
     "data": {
      "text/plain": [
       "<matplotlib.axes._subplots.AxesSubplot at 0x7f25b2b48048>"
      ]
     },
     "execution_count": 8,
     "metadata": {
      "tags": []
     },
     "output_type": "execute_result"
    },
    {
     "data": {
      "image/png": "[encoded data removed]",
      "text/plain": [
       "<Figure size 432x288 with 1 Axes>"
      ]
     },
     "metadata": {
      "needs_background": "light",
      "tags": []
     },
     "output_type": "display_data"
    }
   ],
   "source": [
    "history_df=pd.DataFrame(history.history)\n",
    "history_df[['loss', 'val_loss']].plot()"
   ]
  },
  {
   "cell_type": "code",
   "execution_count": 9,
   "metadata": {
    "executionInfo": {
     "elapsed": 12232358,
     "status": "ok",
     "timestamp": 1606048552439,
     "user": {
      "displayName": "Natalja Kon",
      "photoUrl": "",
      "userId": "02556929915192202910"
     },
     "user_tz": -60
    },
    "id": "uF1M0SkKHeBe"
   },
   "outputs": [],
   "source": [
    "model.load_weights(filepath)"
   ]
  },
  {
   "cell_type": "markdown",
   "metadata": {
    "id": "9Cy0KGSfakfn"
   },
   "source": [
    "# Confusion Matrix and Classification Report"
   ]
  },
  {
   "cell_type": "code",
   "execution_count": 16,
   "metadata": {
    "executionInfo": {
     "elapsed": 38086,
     "status": "ok",
     "timestamp": 1606049564729,
     "user": {
      "displayName": "Natalja Kon",
      "photoUrl": "",
      "userId": "02556929915192202910"
     },
     "user_tz": -60
    },
    "id": "wEM3cdgHJRRB"
   },
   "outputs": [],
   "source": [
    "Y_test_pred=model.predict_generator(test_batch, steps=nb_samples)\n",
    "y_test_pred=np.argmax(Y_test_pred, axis=1)"
   ]
  },
  {
   "cell_type": "code",
   "execution_count": 17,
   "metadata": {
    "colab": {
     "base_uri": "https://localhost:8080/",
     "height": 501
    },
    "executionInfo": {
     "elapsed": 24124,
     "status": "ok",
     "timestamp": 1606049565053,
     "user": {
      "displayName": "Natalja Kon",
      "photoUrl": "",
      "userId": "02556929915192202910"
     },
     "user_tz": -60
    },
    "id": "hWWDFGQVVJsq",
    "outputId": "2d09b5bb-8fdd-4e3e-ef3d-42f65db59518"
   },
   "outputs": [
    {
     "name": "stdout",
     "output_type": "stream",
     "text": [
      "Confusion matrix, without normalization\n",
      "[[ 81  37]\n",
      " [ 72 174]]\n",
      "              precision    recall  f1-score   support\n",
      "\n",
      "      benign       0.53      0.69      0.60       118\n",
      "   malignant       0.82      0.71      0.76       246\n",
      "\n",
      "    accuracy                           0.70       364\n",
      "   macro avg       0.68      0.70      0.68       364\n",
      "weighted avg       0.73      0.70      0.71       364\n",
      "\n"
     ]
    },
    {
     "data": {
      "image/png": "[encoded data removed]",
      "text/plain": [
       "<Figure size 432x288 with 2 Axes>"
      ]
     },
     "metadata": {
      "needs_background": "light",
      "tags": []
     },
     "output_type": "display_data"
    }
   ],
   "source": [
    "def plot_confusion_matrix(cm, classes,\n",
    "                          normalize=False,\n",
    "                          title='Confusion matrix',\n",
    "                          cmap=plt.cm.Blues):\n",
    "    \"\"\"\n",
    "    This function prints and plots the confusion matrix.\n",
    "    Normalization can be applied by setting `normalize=True`.\n",
    "    \"\"\"\n",
    "    if normalize:\n",
    "        cm = cm.astype('float') / cm.sum(axis=1)[:, np.newaxis]\n",
    "        print(\"Normalized confusion matrix\")\n",
    "    else:\n",
    "        print('Confusion matrix, without normalization')\n",
    "\n",
    "    print(cm)\n",
    "\n",
    "    plt.imshow(cm, interpolation='nearest', cmap=cmap)\n",
    "    plt.title(title)\n",
    "    plt.colorbar()\n",
    "    tick_marks = np.arange(len(classes))\n",
    "    plt.xticks(tick_marks, classes, rotation=55)\n",
    "    plt.yticks(tick_marks, classes)\n",
    "\n",
    "    fmt = '.2f' if normalize else 'd'\n",
    "    thresh = cm.max() / 2.\n",
    "    for i, j in itertools.product(range(cm.shape[0]), range(cm.shape[1])):\n",
    "        plt.text(j, i, format(cm[i, j], fmt),\n",
    "                 horizontalalignment=\"center\",\n",
    "                 color=\"white\" if cm[i, j] > thresh else \"black\")\n",
    "\n",
    "    plt.ylabel('True label')\n",
    "    plt.xlabel('Predicted label')\n",
    "    plt.tight_layout()\n",
    "\n",
    "cm = confusion_matrix(test_batch.classes, y_test_pred)\n",
    "labels =['benign', 'malignant']\n",
    "plot_confusion_matrix(cm, labels, title ='Confusion Matrix for Breast Cancer')\n",
    "print(classification_report(test_batch.classes, y_test_pred, target_names=labels))"
   ]
  },
  {
   "cell_type": "code",
   "execution_count": 18,
   "metadata": {
    "colab": {
     "base_uri": "https://localhost:8080/",
     "height": 500
    },
    "executionInfo": {
     "elapsed": 1309,
     "status": "ok",
     "timestamp": 1606049566370,
     "user": {
      "displayName": "Natalja Kon",
      "photoUrl": "",
      "userId": "02556929915192202910"
     },
     "user_tz": -60
    },
    "id": "I8M1twtHvR5P",
    "outputId": "6ce6436d-f361-442e-dafe-3f5d385330a6"
   },
   "outputs": [
    {
     "name": "stdout",
     "output_type": "stream",
     "text": [
      "AUC value is 0.70\n"
     ]
    },
    {
     "data": {
      "image/png": "[encoded data removed]",
      "text/plain": [
       "<Figure size 864x576 with 1 Axes>"
      ]
     },
     "metadata": {
      "needs_background": "light",
      "tags": []
     },
     "output_type": "display_data"
    }
   ],
   "source": [
    "# set plot figure size\n",
    "fig, c_ax = plt.subplots(1,1, figsize = (12, 8))\n",
    "\n",
    "def multiclass_roc_auc_score(y_test, y_pred, average=\"macro\"):\n",
    "    lb = LabelBinarizer()\n",
    "    lb.fit(y_test)\n",
    "    y_test = lb.transform(y_test)\n",
    "    y_pred = lb.transform(y_pred)\n",
    "    for (idx, c_label) in enumerate(labels): # labels: ['benign', 'malignant']\n",
    "        fpr, tpr, thresholds = roc_curve(y_test[:].astype(int), y_pred[:])\n",
    "        c_ax.plot(fpr, tpr, label = '%s (AUC:%0.2f)'  % (c_label, auc(fpr, tpr)))\n",
    "    c_ax.plot(fpr, fpr, 'b-', label = 'Random Guessing')\n",
    "    c_ax.legend()\n",
    "    return roc_auc_score(y_test, y_pred, average=average)\n",
    "\n",
    "print('AUC value is %0.2f' % multiclass_roc_auc_score(test_batch.classes, y_test_pred))"
   ]
  }
 ],
 "metadata": {
  "accelerator": "TPU",
  "colab": {
   "authorship_tag": "ABX9TyNZN2XxhgkXvaux/UGDTH4f",
   "name": "Assignment_3_1.ipynb",
   "provenance": []
  },
  "kernelspec": {
   "display_name": "Python 3",
   "language": "python",
   "name": "python3"
  },
  "language_info": {
   "codemirror_mode": {
    "name": "ipython",
    "version": 3
   },
   "file_extension": ".py",
   "mimetype": "text/x-python",
   "name": "python",
   "nbconvert_exporter": "python",
   "pygments_lexer": "ipython3",
   "version": "3.8.1"
  }
 },
 "nbformat": 4,
 "nbformat_minor": 1
}

{
 "cells": [
  {
   "cell_type": "markdown",
   "metadata": {
    "id": "iuCfeRkwfbyX"
   },
   "source": [
    "# Import libraries"
   ]
  },
  {
   "cell_type": "code",
   "execution_count": null,
   "metadata": {
    "colab": {
     "base_uri": "https://localhost:8080/"
    },
    "executionInfo": {
     "elapsed": 26900,
     "status": "ok",
     "timestamp": 1606036384023,
     "user": {
      "displayName": "Natalja Kon",
      "photoUrl": "",
      "userId": "02556929915192202910"
     },
     "user_tz": -60
    },
    "id": "fLSedcLpXyYS",
    "outputId": "7644c9bf-dac3-4b71-ffc5-aadaa1a430e6"
   },
   "outputs": [
    {
     "name": "stdout",
     "output_type": "stream",
     "text": [
      "Mounted at /content/gdrive\n"
     ]
    }
   ],
   "source": [
    "from google.colab import drive\n",
    "drive.mount('/content/gdrive')\n",
    "from tensorflow.keras.models import Sequential\n",
    "from tensorflow.keras.preprocessing.image import ImageDataGenerator\n",
    "from tensorflow.keras.layers import Dense, Dropout, Activation, Flatten\n",
    "from tensorflow.keras.layers import Conv2D, MaxPooling2D\n",
    "from tensorflow.keras.callbacks  import Callback, ModelCheckpoint, ReduceLROnPlateau, TensorBoard\n",
    "from tensorflow.keras.utils import to_categorical\n",
    "import time\n",
    "import os\n",
    "\n",
    "import numpy as np\n",
    "import pandas as pd\n",
    "from sklearn.metrics import classification_report, confusion_matrix\n",
    "import matplotlib.pyplot as plt\n",
    "import itertools\n",
    "from sklearn.preprocessing import LabelBinarizer\n",
    "from sklearn.metrics import roc_curve, auc, roc_auc_score"
   ]
  },
  {
   "cell_type": "markdown",
   "metadata": {
    "id": "FAZqLaZQfh_O"
   },
   "source": [
    "# Input data"
   ]
  },
  {
   "cell_type": "code",
   "execution_count": null,
   "metadata": {
    "colab": {
     "base_uri": "https://localhost:8080/"
    },
    "executionInfo": {
     "elapsed": 26892,
     "status": "ok",
     "timestamp": 1606036384024,
     "user": {
      "displayName": "Natalja Kon",
      "photoUrl": "",
      "userId": "02556929915192202910"
     },
     "user_tz": -60
    },
    "id": "SQ_OfHuTNHZN",
    "outputId": "83b22779-cae3-4415-c257-f3454f5c3fee"
   },
   "outputs": [
    {
     "name": "stdout",
     "output_type": "stream",
     "text": [
      "/content/gdrive/MyDrive/introToFADS/ue3\n"
     ]
    }
   ],
   "source": [
    "%cd /content/gdrive/MyDrive/introToFADS/ue3"
   ]
  },
  {
   "cell_type": "code",
   "execution_count": null,
   "metadata": {
    "colab": {
     "base_uri": "https://localhost:8080/"
    },
    "executionInfo": {
     "elapsed": 35247,
     "status": "ok",
     "timestamp": 1606036392385,
     "user": {
      "displayName": "Natalja Kon",
      "photoUrl": "",
      "userId": "02556929915192202910"
     },
     "user_tz": -60
    },
    "id": "hi7FYDKncqne",
    "outputId": "a5b12480-39a5-4dfb-8f6f-8366bf9515ee"
   },
   "outputs": [
    {
     "name": "stdout",
     "output_type": "stream",
     "text": [
      "Found 1456 images belonging to 2 classes.\n",
      "Found 364 images belonging to 2 classes.\n"
     ]
    }
   ],
   "source": [
    "# Loading the training data\n",
    "PATH = os.getcwd()\n",
    "# Define data path\n",
    "train_data_dir = PATH + '/400x/train'\n",
    "test_data_dir = PATH + '/400x/test'\n",
    "im_rows=224\n",
    "im_cols=224\n",
    "epochs=24\n",
    "batch_size=32\n",
    "num_of_train_samples=1458\n",
    "num_of_test_samples=366\n",
    "train_datagen=ImageDataGenerator(rescale=1./255, zoom_range=2, rotation_range=90, horizontal_flip=True, vertical_flip=True)\n",
    "test_datagen=ImageDataGenerator(rescale=1./255)\n",
    "train_batch = train_datagen.flow_from_directory(train_data_dir, target_size=(im_rows,im_cols), color_mode=\"rgb\", batch_size=batch_size, class_mode=\"categorical\", classes=['benign', 'malignant'], shuffle=True, seed=42)\n",
    "test_batch = test_datagen.flow_from_directory(test_data_dir, target_size=(im_rows,im_cols), color_mode=\"rgb\", batch_size=1, class_mode=\"categorical\", classes=['benign', 'malignant'], shuffle=False, seed=42)\n",
    "test_filenames= test_batch.filenames\n",
    "nb_samples=len(test_filenames)"
   ]
  },
  {
   "cell_type": "markdown",
   "metadata": {
    "id": "wpqDgZhpbDO-"
   },
   "source": [
    "# Build model"
   ]
  },
  {
   "cell_type": "code",
   "execution_count": null,
   "metadata": {
    "colab": {
     "base_uri": "https://localhost:8080/"
    },
    "executionInfo": {
     "elapsed": 35617,
     "status": "ok",
     "timestamp": 1606036392759,
     "user": {
      "displayName": "Natalja Kon",
      "photoUrl": "",
      "userId": "02556929915192202910"
     },
     "user_tz": -60
    },
    "id": "BMxnEjWuc0f-",
    "outputId": "1b2ed5de-5eed-49d8-b228-2614a7de9ada"
   },
   "outputs": [
    {
     "name": "stdout",
     "output_type": "stream",
     "text": [
      "Model: \"sequential\"\n",
      "_________________________________________________________________\n",
      "Layer (type)                 Output Shape              Param #   \n",
      "=================================================================\n",
      "conv2d (Conv2D)              (None, 222, 222, 32)      896       \n",
      "_________________________________________________________________\n",
      "activation (Activation)      (None, 222, 222, 32)      0         \n",
      "_________________________________________________________________\n",
      "max_pooling2d (MaxPooling2D) (None, 111, 111, 32)      0         \n",
      "_________________________________________________________________\n",
      "conv2d_1 (Conv2D)            (None, 109, 109, 64)      18496     \n",
      "_________________________________________________________________\n",
      "activation_1 (Activation)    (None, 109, 109, 64)      0         \n",
      "_________________________________________________________________\n",
      "max_pooling2d_1 (MaxPooling2 (None, 54, 54, 64)        0         \n",
      "_________________________________________________________________\n",
      "conv2d_2 (Conv2D)            (None, 52, 52, 128)       73856     \n",
      "_________________________________________________________________\n",
      "activation_2 (Activation)    (None, 52, 52, 128)       0         \n",
      "_________________________________________________________________\n",
      "max_pooling2d_2 (MaxPooling2 (None, 26, 26, 128)       0         \n",
      "_________________________________________________________________\n",
      "flatten (Flatten)            (None, 86528)             0         \n",
      "_________________________________________________________________\n",
      "dense (Dense)                (None, 128)               11075712  \n",
      "_________________________________________________________________\n",
      "activation_3 (Activation)    (None, 128)               0         \n",
      "_________________________________________________________________\n",
      "dense_1 (Dense)              (None, 2)                 258       \n",
      "_________________________________________________________________\n",
      "activation_4 (Activation)    (None, 2)                 0         \n",
      "=================================================================\n",
      "Total params: 11,169,218\n",
      "Trainable params: 11,169,218\n",
      "Non-trainable params: 0\n",
      "_________________________________________________________________\n"
     ]
    }
   ],
   "source": [
    "NAME = \"assignment_3_CNN\"\n",
    "\n",
    "model = Sequential()\n",
    " \n",
    "model.add(Conv2D(32, (3, 3), input_shape=(im_rows,im_cols,3)))\n",
    "model.add(Activation('relu'))\n",
    "model.add(MaxPooling2D(pool_size=(2, 2)))\n",
    "\n",
    " \n",
    "model.add(Conv2D(64, (3, 3)))\n",
    "model.add(Activation('relu'))\n",
    "model.add(MaxPooling2D(pool_size=(2, 2)))\n",
    " \n",
    "model.add(Conv2D(128, (3, 3)))\n",
    "model.add(Activation('relu'))\n",
    "model.add(MaxPooling2D(pool_size=(2, 2)))\n",
    " \n",
    "model.add(Flatten()) \n",
    "\n",
    "model.add(Dense(128))\n",
    "model.add(Activation('relu'))\n",
    "\n",
    "model.add(Dense(2))\n",
    "model.add(Activation('softmax'))\n",
    "\n",
    "model.summary()"
   ]
  },
  {
   "cell_type": "markdown",
   "metadata": {
    "id": "AIyAjCysa9dv"
   },
   "source": [
    "# Train"
   ]
  },
  {
   "cell_type": "code",
   "execution_count": null,
   "metadata": {
    "id": "16B4GN394Okc"
   },
   "outputs": [],
   "source": [
    "tensorboard = TensorBoard(log_dir=PATH + '/logs/{}'.format(NAME))\n",
    "#learning rate reducer\n",
    "learn_control = ReduceLROnPlateau(monitor='val_accuracy', patience=5, verbose=1, factor=0.2, min_lr=1e-7)\n",
    "#Checkpoint\n",
    "filepath=PATH + '/weights_3_2.best.hdf5'\n",
    "checkpoint = ModelCheckpoint(filepath, monitor='val_accuracy', verbose=1, save_best_only=True, mode='max') \n",
    "model.compile(loss='categorical_crossentropy',\n",
    "              optimizer='adam',\n",
    "              metrics=['accuracy'],\n",
    "              )"
   ]
  },
  {
   "cell_type": "code",
   "execution_count": null,
   "metadata": {
    "colab": {
     "base_uri": "https://localhost:8080/"
    },
    "executionInfo": {
     "elapsed": 3457442,
     "status": "ok",
     "timestamp": 1606039814596,
     "user": {
      "displayName": "Natalja Kon",
      "photoUrl": "",
      "userId": "02556929915192202910"
     },
     "user_tz": -60
    },
    "id": "-QGaYSub4Wyk",
    "outputId": "6f9e1d9a-2c6e-4755-b6a0-16de6d7d71b8"
   },
   "outputs": [
    {
     "name": "stdout",
     "output_type": "stream",
     "text": [
      "Epoch 1/24\n",
      " 1/45 [..............................] - ETA: 0s - loss: 0.7513 - accuracy: 0.3438WARNING:tensorflow:From /usr/local/lib/python3.6/dist-packages/tensorflow/python/ops/summary_ops_v2.py:1277: stop (from tensorflow.python.eager.profiler) is deprecated and will be removed after 2020-07-01.\n",
      "Instructions for updating:\n",
      "use `tf.profiler.experimental.stop` instead.\n",
      "45/45 [==============================] - ETA: 0s - loss: 0.7194 - accuracy: 0.6692\n",
      "Epoch 00001: val_accuracy improved from -inf to 0.08333, saving model to /content/gdrive/MyDrive/introToFADS/ue3/weights_3_2.best.hdf5\n",
      "45/45 [==============================] - 331s 7s/step - loss: 0.7194 - accuracy: 0.6692 - val_loss: 0.8355 - val_accuracy: 0.0833\n",
      "Epoch 2/24\n",
      "45/45 [==============================] - ETA: 0s - loss: 0.4527 - accuracy: 0.8097\n",
      "Epoch 00002: val_accuracy improved from 0.08333 to 1.00000, saving model to /content/gdrive/MyDrive/introToFADS/ue3/weights_3_2.best.hdf5\n",
      "45/45 [==============================] - 130s 3s/step - loss: 0.4527 - accuracy: 0.8097 - val_loss: 0.1371 - val_accuracy: 1.0000\n",
      "Epoch 3/24\n",
      "45/45 [==============================] - ETA: 0s - loss: 0.4138 - accuracy: 0.8392\n",
      "Epoch 00003: val_accuracy did not improve from 1.00000\n",
      "45/45 [==============================] - 131s 3s/step - loss: 0.4138 - accuracy: 0.8392 - val_loss: 0.0560 - val_accuracy: 1.0000\n",
      "Epoch 4/24\n",
      "45/45 [==============================] - ETA: 0s - loss: 0.3951 - accuracy: 0.8434\n",
      "Epoch 00004: val_accuracy did not improve from 1.00000\n",
      "45/45 [==============================] - 131s 3s/step - loss: 0.3951 - accuracy: 0.8434 - val_loss: 0.2349 - val_accuracy: 1.0000\n",
      "Epoch 5/24\n",
      "45/45 [==============================] - ETA: 0s - loss: 0.4198 - accuracy: 0.8308\n",
      "Epoch 00005: val_accuracy did not improve from 1.00000\n",
      "45/45 [==============================] - 131s 3s/step - loss: 0.4198 - accuracy: 0.8308 - val_loss: 0.3895 - val_accuracy: 1.0000\n",
      "Epoch 6/24\n",
      "45/45 [==============================] - ETA: 0s - loss: 0.4000 - accuracy: 0.8357\n",
      "Epoch 00006: val_accuracy did not improve from 1.00000\n",
      "45/45 [==============================] - 130s 3s/step - loss: 0.4000 - accuracy: 0.8357 - val_loss: 0.0876 - val_accuracy: 1.0000\n",
      "Epoch 7/24\n",
      "45/45 [==============================] - ETA: 0s - loss: 0.3895 - accuracy: 0.8631\n",
      "Epoch 00007: ReduceLROnPlateau reducing learning rate to 0.00020000000949949026.\n",
      "\n",
      "Epoch 00007: val_accuracy did not improve from 1.00000\n",
      "45/45 [==============================] - 129s 3s/step - loss: 0.3895 - accuracy: 0.8631 - val_loss: 0.4426 - val_accuracy: 0.9167\n",
      "Epoch 8/24\n",
      "45/45 [==============================] - ETA: 0s - loss: 0.3631 - accuracy: 0.8743\n",
      "Epoch 00008: val_accuracy did not improve from 1.00000\n",
      "45/45 [==============================] - 129s 3s/step - loss: 0.3631 - accuracy: 0.8743 - val_loss: 0.0937 - val_accuracy: 1.0000\n",
      "Epoch 9/24\n",
      "45/45 [==============================] - ETA: 0s - loss: 0.3449 - accuracy: 0.8806\n",
      "Epoch 00009: val_accuracy did not improve from 1.00000\n",
      "45/45 [==============================] - 133s 3s/step - loss: 0.3449 - accuracy: 0.8806 - val_loss: 0.0893 - val_accuracy: 1.0000\n",
      "Epoch 10/24\n",
      "45/45 [==============================] - ETA: 0s - loss: 0.3341 - accuracy: 0.8834\n",
      "Epoch 00010: val_accuracy did not improve from 1.00000\n",
      "45/45 [==============================] - 130s 3s/step - loss: 0.3341 - accuracy: 0.8834 - val_loss: 0.0737 - val_accuracy: 1.0000\n",
      "Epoch 11/24\n",
      "45/45 [==============================] - ETA: 0s - loss: 0.3225 - accuracy: 0.8883\n",
      "Epoch 00011: val_accuracy did not improve from 1.00000\n",
      "45/45 [==============================] - 130s 3s/step - loss: 0.3225 - accuracy: 0.8883 - val_loss: 0.0373 - val_accuracy: 1.0000\n",
      "Epoch 12/24\n",
      "45/45 [==============================] - ETA: 0s - loss: 0.3246 - accuracy: 0.8834\n",
      "Epoch 00012: ReduceLROnPlateau reducing learning rate to 4.0000001899898055e-05.\n",
      "\n",
      "Epoch 00012: val_accuracy did not improve from 1.00000\n",
      "45/45 [==============================] - 131s 3s/step - loss: 0.3246 - accuracy: 0.8834 - val_loss: 0.0506 - val_accuracy: 1.0000\n",
      "Epoch 13/24\n",
      "45/45 [==============================] - ETA: 0s - loss: 0.3213 - accuracy: 0.8883\n",
      "Epoch 00013: val_accuracy did not improve from 1.00000\n",
      "45/45 [==============================] - 132s 3s/step - loss: 0.3213 - accuracy: 0.8883 - val_loss: 0.0852 - val_accuracy: 1.0000\n",
      "Epoch 14/24\n",
      "45/45 [==============================] - ETA: 0s - loss: 0.3159 - accuracy: 0.8869\n",
      "Epoch 00014: val_accuracy did not improve from 1.00000\n",
      "45/45 [==============================] - 130s 3s/step - loss: 0.3159 - accuracy: 0.8869 - val_loss: 0.0768 - val_accuracy: 1.0000\n",
      "Epoch 15/24\n",
      "45/45 [==============================] - ETA: 0s - loss: 0.3089 - accuracy: 0.8933\n",
      "Epoch 00015: val_accuracy did not improve from 1.00000\n",
      "45/45 [==============================] - 130s 3s/step - loss: 0.3089 - accuracy: 0.8933 - val_loss: 0.0655 - val_accuracy: 1.0000\n",
      "Epoch 16/24\n",
      "45/45 [==============================] - ETA: 0s - loss: 0.3092 - accuracy: 0.8933\n",
      "Epoch 00016: val_accuracy did not improve from 1.00000\n",
      "45/45 [==============================] - 128s 3s/step - loss: 0.3092 - accuracy: 0.8933 - val_loss: 0.0710 - val_accuracy: 1.0000\n",
      "Epoch 17/24\n",
      "45/45 [==============================] - ETA: 0s - loss: 0.3079 - accuracy: 0.8904\n",
      "Epoch 00017: ReduceLROnPlateau reducing learning rate to 8.000000525498762e-06.\n",
      "\n",
      "Epoch 00017: val_accuracy did not improve from 1.00000\n",
      "45/45 [==============================] - 128s 3s/step - loss: 0.3079 - accuracy: 0.8904 - val_loss: 0.0812 - val_accuracy: 1.0000\n",
      "Epoch 18/24\n",
      "45/45 [==============================] - ETA: 0s - loss: 0.3140 - accuracy: 0.8855\n",
      "Epoch 00018: val_accuracy did not improve from 1.00000\n",
      "45/45 [==============================] - 130s 3s/step - loss: 0.3140 - accuracy: 0.8855 - val_loss: 0.0686 - val_accuracy: 1.0000\n",
      "Epoch 19/24\n",
      "45/45 [==============================] - ETA: 0s - loss: 0.2978 - accuracy: 0.8947\n",
      "Epoch 00019: val_accuracy did not improve from 1.00000\n",
      "45/45 [==============================] - 126s 3s/step - loss: 0.2978 - accuracy: 0.8947 - val_loss: 0.0623 - val_accuracy: 1.0000\n",
      "Epoch 20/24\n",
      "45/45 [==============================] - ETA: 0s - loss: 0.3022 - accuracy: 0.8961\n",
      "Epoch 00020: val_accuracy did not improve from 1.00000\n",
      "45/45 [==============================] - 127s 3s/step - loss: 0.3022 - accuracy: 0.8961 - val_loss: 0.0632 - val_accuracy: 1.0000\n",
      "Epoch 21/24\n",
      "45/45 [==============================] - ETA: 0s - loss: 0.2973 - accuracy: 0.8975\n",
      "Epoch 00021: val_accuracy did not improve from 1.00000\n",
      "45/45 [==============================] - 128s 3s/step - loss: 0.2973 - accuracy: 0.8975 - val_loss: 0.0605 - val_accuracy: 1.0000\n",
      "Epoch 22/24\n",
      "45/45 [==============================] - ETA: 0s - loss: 0.3008 - accuracy: 0.8989\n",
      "Epoch 00022: ReduceLROnPlateau reducing learning rate to 1.6000001778593287e-06.\n",
      "\n",
      "Epoch 00022: val_accuracy did not improve from 1.00000\n",
      "45/45 [==============================] - 131s 3s/step - loss: 0.3008 - accuracy: 0.8989 - val_loss: 0.0657 - val_accuracy: 1.0000\n",
      "Epoch 23/24\n",
      "45/45 [==============================] - ETA: 0s - loss: 0.2979 - accuracy: 0.8933\n",
      "Epoch 00023: val_accuracy did not improve from 1.00000\n",
      "45/45 [==============================] - 128s 3s/step - loss: 0.2979 - accuracy: 0.8933 - val_loss: 0.0658 - val_accuracy: 1.0000\n",
      "Epoch 24/24\n",
      "45/45 [==============================] - ETA: 0s - loss: 0.3029 - accuracy: 0.8912\n",
      "Epoch 00024: val_accuracy did not improve from 1.00000\n",
      "45/45 [==============================] - 127s 3s/step - loss: 0.3029 - accuracy: 0.8912 - val_loss: 0.0657 - val_accuracy: 1.0000\n"
     ]
    }
   ],
   "source": [
    "history=model.fit(train_batch,\n",
    "          validation_data=test_batch,       \n",
    "          steps_per_epoch=num_of_train_samples//batch_size,\n",
    "          epochs=epochs, validation_steps=num_of_test_samples//batch_size+1, callbacks=[learn_control, checkpoint, tensorboard])\n",
    "\n",
    "import json\n",
    "with open(PATH + '/history.json', 'w') as f:\n",
    "  json.dump(str(history.history), f)"
   ]
  },
  {
   "cell_type": "code",
   "execution_count": null,
   "metadata": {
    "colab": {
     "base_uri": "https://localhost:8080/",
     "height": 282
    },
    "executionInfo": {
     "elapsed": 3457724,
     "status": "ok",
     "timestamp": 1606039814888,
     "user": {
      "displayName": "Natalja Kon",
      "photoUrl": "",
      "userId": "02556929915192202910"
     },
     "user_tz": -60
    },
    "id": "k6g7RVHSGsA_",
    "outputId": "83e42e79-8eb4-41ac-dd00-db91cbb770f2"
   },
   "outputs": [
    {
     "data": {
      "text/plain": [
       "<matplotlib.axes._subplots.AxesSubplot at 0x7fbde5165748>"
      ]
     },
     "execution_count": 7,
     "metadata": {
      "tags": []
     },
     "output_type": "execute_result"
    },
    {
     "data": {
      "image/png": "[encoded data removed]",
      "text/plain": [
       "<Figure size 432x288 with 1 Axes>"
      ]
     },
     "metadata": {
      "needs_background": "light",
      "tags": []
     },
     "output_type": "display_data"
    }
   ],
   "source": [
    "history_df = pd.DataFrame(history.history)\n",
    "history_df[['accuracy', 'val_accuracy']].plot()"
   ]
  },
  {
   "cell_type": "code",
   "execution_count": null,
   "metadata": {
    "colab": {
     "base_uri": "https://localhost:8080/",
     "height": 282
    },
    "executionInfo": {
     "elapsed": 3457957,
     "status": "ok",
     "timestamp": 1606039815132,
     "user": {
      "displayName": "Natalja Kon",
      "photoUrl": "",
      "userId": "02556929915192202910"
     },
     "user_tz": -60
    },
    "id": "MpR4_QTyHDEe",
    "outputId": "b4a47b88-9c09-48f8-cbd2-7ef51408964b"
   },
   "outputs": [
    {
     "data": {
      "text/plain": [
       "<matplotlib.axes._subplots.AxesSubplot at 0x7fbde4c10400>"
      ]
     },
     "execution_count": 8,
     "metadata": {
      "tags": []
     },
     "output_type": "execute_result"
    },
    {
     "data": {
      "image/png": "[encoded data removed]",
      "text/plain": [
       "<Figure size 432x288 with 1 Axes>"
      ]
     },
     "metadata": {
      "needs_background": "light",
      "tags": []
     },
     "output_type": "display_data"
    }
   ],
   "source": [
    "history_df=pd.DataFrame(history.history)\n",
    "history_df[['loss', 'val_loss']].plot()"
   ]
  },
  {
   "cell_type": "code",
   "execution_count": null,
   "metadata": {
    "id": "uF1M0SkKHeBe"
   },
   "outputs": [],
   "source": [
    "model.load_weights(filepath)"
   ]
  },
  {
   "cell_type": "markdown",
   "metadata": {
    "id": "9Cy0KGSfakfn"
   },
   "source": [
    "# Confusion Matrix and Classification Report"
   ]
  },
  {
   "cell_type": "code",
   "execution_count": null,
   "metadata": {
    "colab": {
     "base_uri": "https://localhost:8080/"
    },
    "executionInfo": {
     "elapsed": 3548503,
     "status": "ok",
     "timestamp": 1606039905687,
     "user": {
      "displayName": "Natalja Kon",
      "photoUrl": "",
      "userId": "02556929915192202910"
     },
     "user_tz": -60
    },
    "id": "wEM3cdgHJRRB",
    "outputId": "2505bb4a-5ce3-432c-dca3-8d671fdbfe6b"
   },
   "outputs": [
    {
     "name": "stdout",
     "output_type": "stream",
     "text": [
      "WARNING:tensorflow:From <ipython-input-10-ac4c04150dd6>:1: Model.predict_generator (from tensorflow.python.keras.engine.training) is deprecated and will be removed in a future version.\n",
      "Instructions for updating:\n",
      "Please use Model.predict, which supports generators.\n"
     ]
    }
   ],
   "source": [
    "Y_test_pred=model.predict_generator(test_batch, steps=nb_samples)\n",
    "y_test_pred=np.argmax(Y_test_pred, axis=1)"
   ]
  },
  {
   "cell_type": "code",
   "execution_count": null,
   "metadata": {
    "colab": {
     "base_uri": "https://localhost:8080/",
     "height": 501
    },
    "executionInfo": {
     "elapsed": 3548893,
     "status": "ok",
     "timestamp": 1606039906082,
     "user": {
      "displayName": "Natalja Kon",
      "photoUrl": "",
      "userId": "02556929915192202910"
     },
     "user_tz": -60
    },
    "id": "hWWDFGQVVJsq",
    "outputId": "5aa15c42-9781-49a5-e307-1ccc8516019f"
   },
   "outputs": [
    {
     "name": "stdout",
     "output_type": "stream",
     "text": [
      "Confusion matrix, without normalization\n",
      "[[ 79  39]\n",
      " [ 48 198]]\n",
      "              precision    recall  f1-score   support\n",
      "\n",
      "      benign       0.62      0.67      0.64       118\n",
      "   malignant       0.84      0.80      0.82       246\n",
      "\n",
      "    accuracy                           0.76       364\n",
      "   macro avg       0.73      0.74      0.73       364\n",
      "weighted avg       0.77      0.76      0.76       364\n",
      "\n"
     ]
    },
    {
     "data": {
      "image/png": "[encoded data removed]",
      "text/plain": [
       "<Figure size 432x288 with 2 Axes>"
      ]
     },
     "metadata": {
      "needs_background": "light",
      "tags": []
     },
     "output_type": "display_data"
    }
   ],
   "source": [
    "def plot_confusion_matrix(cm, classes,\n",
    "                          normalize=False,\n",
    "                          title='Confusion matrix',\n",
    "                          cmap=plt.cm.Blues):\n",
    "    \"\"\"\n",
    "    This function prints and plots the confusion matrix.\n",
    "    Normalization can be applied by setting `normalize=True`.\n",
    "    \"\"\"\n",
    "    if normalize:\n",
    "        cm = cm.astype('float') / cm.sum(axis=1)[:, np.newaxis]\n",
    "        print(\"Normalized confusion matrix\")\n",
    "    else:\n",
    "        print('Confusion matrix, without normalization')\n",
    "\n",
    "    print(cm)\n",
    "\n",
    "    plt.imshow(cm, interpolation='nearest', cmap=cmap)\n",
    "    plt.title(title)\n",
    "    plt.colorbar()\n",
    "    tick_marks = np.arange(len(classes))\n",
    "    plt.xticks(tick_marks, classes, rotation=55)\n",
    "    plt.yticks(tick_marks, classes)\n",
    "\n",
    "    fmt = '.2f' if normalize else 'd'\n",
    "    thresh = cm.max() / 2.\n",
    "    for i, j in itertools.product(range(cm.shape[0]), range(cm.shape[1])):\n",
    "        plt.text(j, i, format(cm[i, j], fmt),\n",
    "                 horizontalalignment=\"center\",\n",
    "                 color=\"white\" if cm[i, j] > thresh else \"black\")\n",
    "\n",
    "    plt.ylabel('True label')\n",
    "    plt.xlabel('Predicted label')\n",
    "    plt.tight_layout()\n",
    "\n",
    "cm = confusion_matrix(test_batch.classes, y_test_pred)\n",
    "labels =['benign', 'malignant']\n",
    "plot_confusion_matrix(cm, labels, title ='Confusion Matrix for Breast Cancer')\n",
    "print(classification_report(test_batch.classes, y_test_pred, target_names=labels))"
   ]
  },
  {
   "cell_type": "code",
   "execution_count": null,
   "metadata": {
    "colab": {
     "base_uri": "https://localhost:8080/",
     "height": 500
    },
    "executionInfo": {
     "elapsed": 869,
     "status": "ok",
     "timestamp": 1606044633740,
     "user": {
      "displayName": "Natalja Kon",
      "photoUrl": "",
      "userId": "02556929915192202910"
     },
     "user_tz": -60
    },
    "id": "ljUikoWCbPvE",
    "outputId": "82bb562c-4f6c-45eb-ec72-1f5407911383"
   },
   "outputs": [
    {
     "name": "stdout",
     "output_type": "stream",
     "text": [
      "AUC value is 0.74\n"
     ]
    },
    {
     "data": {
      "image/png": "[encoded data removed]",
      "text/plain": [
       "<Figure size 864x576 with 1 Axes>"
      ]
     },
     "metadata": {
      "needs_background": "light",
      "tags": []
     },
     "output_type": "display_data"
    }
   ],
   "source": [
    "# set plot figure size\n",
    "fig, c_ax = plt.subplots(1,1, figsize = (12, 8))\n",
    "\n",
    "def multiclass_roc_auc_score(y_test, y_pred, average=\"macro\"):\n",
    "    lb = LabelBinarizer()\n",
    "    lb.fit(y_test)\n",
    "    y_test = lb.transform(y_test)\n",
    "    y_pred = lb.transform(y_pred)\n",
    "    for (idx, c_label) in enumerate(labels): # labels: ['benign', 'malignant']\n",
    "        fpr, tpr, thresholds = roc_curve(y_test[:].astype(int), y_pred[:])\n",
    "        c_ax.plot(fpr, tpr, label = '%s (AUC:%0.2f)'  % (c_label, auc(fpr, tpr)))\n",
    "    c_ax.plot(fpr, fpr, 'b-', label = 'Random Guessing')\n",
    "    c_ax.legend()\n",
    "    return roc_auc_score(y_test, y_pred, average=average)\n",
    "\n",
    "print('AUC value is %0.2f' % multiclass_roc_auc_score(test_batch.classes, y_test_pred))"
   ]
  }
 ],
 "metadata": {
  "accelerator": "TPU",
  "colab": {
   "name": "Assignment_3_2.ipynb",
   "provenance": [
    {
     "file_id": "1RDh51UutSmMgDLvnpa7fTQfQmnmQXjKI",
     "timestamp": 1606005856203
    }
   ]
  },
  "kernelspec": {
   "display_name": "Python 3",
   "language": "python",
   "name": "python3"
  },
  "language_info": {
   "codemirror_mode": {
    "name": "ipython",
    "version": 3
   },
   "file_extension": ".py",
   "mimetype": "text/x-python",
   "name": "python",
   "nbconvert_exporter": "python",
   "pygments_lexer": "ipython3",
   "version": "3.8.1"
  }
 },
 "nbformat": 4,
 "nbformat_minor": 1
}

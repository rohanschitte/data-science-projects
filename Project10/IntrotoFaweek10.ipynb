{
  "nbformat": 4,
  "nbformat_minor": 0,
  "metadata": {
    "colab": {
      "name": "IntrotoFaweek12.ipynb",
      "provenance": [],
      "collapsed_sections": []
    },
    "kernelspec": {
      "name": "python3",
      "display_name": "Python 3"
    }
  },
  "cells": [
    {
      "cell_type": "markdown",
      "metadata": {
        "id": "lo1SfjtyFQq9"
      },
      "source": [
        "# data\n"
      ]
    },
    {
      "cell_type": "code",
      "metadata": {
        "colab": {
          "base_uri": "https://localhost:8080/"
        },
        "id": "qYIY4fwyU50Q",
        "outputId": "4c13abda-cb1a-46fc-93f8-2f89670a50b2"
      },
      "source": [
        "from google.colab import drive\n",
        "drive.mount('/content/drive')"
      ],
      "execution_count": 1,
      "outputs": [
        {
          "output_type": "stream",
          "text": [
            "Mounted at /content/drive\n"
          ],
          "name": "stdout"
        }
      ]
    },
    {
      "cell_type": "code",
      "metadata": {
        "id": "brzWOxb2G47L"
      },
      "source": [
        "# import library\n",
        "import pandas as pd\n",
        "import numpy as np\n",
        "import pandas as pd \n",
        "from matplotlib import pyplot as plt\n",
        "from numpy import array\n",
        "from scipy import sparse\n",
        "from scipy.sparse import csr_matrix"
      ],
      "execution_count": 2,
      "outputs": []
    },
    {
      "cell_type": "code",
      "metadata": {
        "colab": {
          "base_uri": "https://localhost:8080/"
        },
        "id": "VbCrgWpQVHV2",
        "outputId": "4c3aced4-64f5-4dfc-b22e-91d81c10972b"
      },
      "source": [
        "%cd \"/content/drive/MyDrive/introToFADS/week10\""
      ],
      "execution_count": 3,
      "outputs": [
        {
          "output_type": "stream",
          "text": [
            "/content/drive/MyDrive/introToFADS/week10\n"
          ],
          "name": "stdout"
        }
      ]
    },
    {
      "cell_type": "code",
      "metadata": {
        "id": "xbU4N60RG8Qd"
      },
      "source": [
        "# load data\n",
        "users = pd.read_csv('users.csv')\n",
        "likes = pd.read_csv('likes.csv')\n",
        "ul = pd.read_csv('users-likes.csv')"
      ],
      "execution_count": 4,
      "outputs": []
    },
    {
      "cell_type": "code",
      "metadata": {
        "colab": {
          "base_uri": "https://localhost:8080/",
          "height": 407
        },
        "id": "PquhCRKIgyR1",
        "outputId": "4f0fc377-6688-4b03-826a-6176a5acc16f"
      },
      "source": [
        "likes"
      ],
      "execution_count": 5,
      "outputs": [
        {
          "output_type": "execute_result",
          "data": {
            "text/html": [
              "<div>\n",
              "<style scoped>\n",
              "    .dataframe tbody tr th:only-of-type {\n",
              "        vertical-align: middle;\n",
              "    }\n",
              "\n",
              "    .dataframe tbody tr th {\n",
              "        vertical-align: top;\n",
              "    }\n",
              "\n",
              "    .dataframe thead th {\n",
              "        text-align: right;\n",
              "    }\n",
              "</style>\n",
              "<table border=\"1\" class=\"dataframe\">\n",
              "  <thead>\n",
              "    <tr style=\"text-align: right;\">\n",
              "      <th></th>\n",
              "      <th>likeid</th>\n",
              "      <th>name</th>\n",
              "    </tr>\n",
              "  </thead>\n",
              "  <tbody>\n",
              "    <tr>\n",
              "      <th>0</th>\n",
              "      <td>3c1636c878e6eb2acfd00c6b61086e38</td>\n",
              "      <td>REIGN by Paul Gibson</td>\n",
              "    </tr>\n",
              "    <tr>\n",
              "      <th>1</th>\n",
              "      <td>feca46ddb8ef04f86172ace0cb7e004c</td>\n",
              "      <td>Cupcake Wishes &amp; Birthday Dreams</td>\n",
              "    </tr>\n",
              "    <tr>\n",
              "      <th>2</th>\n",
              "      <td>b65f46d64c688fe98bdbcf93a76a71fc</td>\n",
              "      <td>Yo también me rei de la caída de otro jejeje</td>\n",
              "    </tr>\n",
              "    <tr>\n",
              "      <th>3</th>\n",
              "      <td>9c5c8bb82d2cd46fbd7582f944fe370e</td>\n",
              "      <td>Abraham Joshua Heschel Day School- Alumni Network</td>\n",
              "    </tr>\n",
              "    <tr>\n",
              "      <th>4</th>\n",
              "      <td>2d82fa84ad79b085dc516dde154327a2</td>\n",
              "      <td>Kennesaw Farmer's Market</td>\n",
              "    </tr>\n",
              "    <tr>\n",
              "      <th>...</th>\n",
              "      <td>...</td>\n",
              "      <td>...</td>\n",
              "    </tr>\n",
              "    <tr>\n",
              "      <th>1580279</th>\n",
              "      <td>6d81e47bfcaca7949a011e1029fc1151</td>\n",
              "      <td>Paradise Airbrush Tanning 949.201.5244</td>\n",
              "    </tr>\n",
              "    <tr>\n",
              "      <th>1580280</th>\n",
              "      <td>98dd9df34d0975f662a4963b44189fe6</td>\n",
              "      <td>Outlaw Country</td>\n",
              "    </tr>\n",
              "    <tr>\n",
              "      <th>1580281</th>\n",
              "      <td>d168d8b152534056113d70ff3e6badf7</td>\n",
              "      <td>AND I WAS LIKE, WHAT?</td>\n",
              "    </tr>\n",
              "    <tr>\n",
              "      <th>1580282</th>\n",
              "      <td>b3b53121e9ec13634ff4dbd6e2877df4</td>\n",
              "      <td>Mulan-II-</td>\n",
              "    </tr>\n",
              "    <tr>\n",
              "      <th>1580283</th>\n",
              "      <td>20458d0f521d4bd3a0903cf2113a43f3</td>\n",
              "      <td>Mucca Pazza</td>\n",
              "    </tr>\n",
              "  </tbody>\n",
              "</table>\n",
              "<p>1580284 rows × 2 columns</p>\n",
              "</div>"
            ],
            "text/plain": [
              "                                   likeid                                               name\n",
              "0        3c1636c878e6eb2acfd00c6b61086e38                               REIGN by Paul Gibson\n",
              "1        feca46ddb8ef04f86172ace0cb7e004c                   Cupcake Wishes & Birthday Dreams\n",
              "2        b65f46d64c688fe98bdbcf93a76a71fc       Yo también me rei de la caída de otro jejeje\n",
              "3        9c5c8bb82d2cd46fbd7582f944fe370e  Abraham Joshua Heschel Day School- Alumni Network\n",
              "4        2d82fa84ad79b085dc516dde154327a2                           Kennesaw Farmer's Market\n",
              "...                                   ...                                                ...\n",
              "1580279  6d81e47bfcaca7949a011e1029fc1151             Paradise Airbrush Tanning 949.201.5244\n",
              "1580280  98dd9df34d0975f662a4963b44189fe6                                     Outlaw Country\n",
              "1580281  d168d8b152534056113d70ff3e6badf7                              AND I WAS LIKE, WHAT?\n",
              "1580282  b3b53121e9ec13634ff4dbd6e2877df4                                          Mulan-II-\n",
              "1580283  20458d0f521d4bd3a0903cf2113a43f3                                        Mucca Pazza\n",
              "\n",
              "[1580284 rows x 2 columns]"
            ]
          },
          "metadata": {
            "tags": []
          },
          "execution_count": 5
        }
      ]
    },
    {
      "cell_type": "code",
      "metadata": {
        "colab": {
          "base_uri": "https://localhost:8080/",
          "height": 407
        },
        "id": "97-5S2GfIQti",
        "outputId": "c170a534-a706-4fd1-f6f4-6e39cf0f03dd"
      },
      "source": [
        "ul"
      ],
      "execution_count": 6,
      "outputs": [
        {
          "output_type": "execute_result",
          "data": {
            "text/html": [
              "<div>\n",
              "<style scoped>\n",
              "    .dataframe tbody tr th:only-of-type {\n",
              "        vertical-align: middle;\n",
              "    }\n",
              "\n",
              "    .dataframe tbody tr th {\n",
              "        vertical-align: top;\n",
              "    }\n",
              "\n",
              "    .dataframe thead th {\n",
              "        text-align: right;\n",
              "    }\n",
              "</style>\n",
              "<table border=\"1\" class=\"dataframe\">\n",
              "  <thead>\n",
              "    <tr style=\"text-align: right;\">\n",
              "      <th></th>\n",
              "      <th>userid</th>\n",
              "      <th>likeid</th>\n",
              "    </tr>\n",
              "  </thead>\n",
              "  <tbody>\n",
              "    <tr>\n",
              "      <th>0</th>\n",
              "      <td>71bc7c0901488aec6d30f0add257e7c5</td>\n",
              "      <td>3c1636c878e6eb2acfd00c6b61086e38</td>\n",
              "    </tr>\n",
              "    <tr>\n",
              "      <th>1</th>\n",
              "      <td>978ab8e90c4d6ad1a48ef5c973b62f4d</td>\n",
              "      <td>feca46ddb8ef04f86172ace0cb7e004c</td>\n",
              "    </tr>\n",
              "    <tr>\n",
              "      <th>2</th>\n",
              "      <td>85123b0e358907725cf19a2cb0ec3983</td>\n",
              "      <td>b65f46d64c688fe98bdbcf93a76a71fc</td>\n",
              "    </tr>\n",
              "    <tr>\n",
              "      <th>3</th>\n",
              "      <td>ce110562b3e2f7e5cad3775b32d9caa5</td>\n",
              "      <td>b65f46d64c688fe98bdbcf93a76a71fc</td>\n",
              "    </tr>\n",
              "    <tr>\n",
              "      <th>4</th>\n",
              "      <td>8188d20745471273fa69ba44a5b28473</td>\n",
              "      <td>b65f46d64c688fe98bdbcf93a76a71fc</td>\n",
              "    </tr>\n",
              "    <tr>\n",
              "      <th>...</th>\n",
              "      <td>...</td>\n",
              "      <td>...</td>\n",
              "    </tr>\n",
              "    <tr>\n",
              "      <th>10612321</th>\n",
              "      <td>264088faf4884d77e025a4ceda148b73</td>\n",
              "      <td>20458d0f521d4bd3a0903cf2113a43f3</td>\n",
              "    </tr>\n",
              "    <tr>\n",
              "      <th>10612322</th>\n",
              "      <td>d498e43d700dbb0006b733aa912e49c7</td>\n",
              "      <td>20458d0f521d4bd3a0903cf2113a43f3</td>\n",
              "    </tr>\n",
              "    <tr>\n",
              "      <th>10612323</th>\n",
              "      <td>76ac7130db7f6065c969402226b7053b</td>\n",
              "      <td>20458d0f521d4bd3a0903cf2113a43f3</td>\n",
              "    </tr>\n",
              "    <tr>\n",
              "      <th>10612324</th>\n",
              "      <td>05dcd62425918392dc5d42f7550cbd9e</td>\n",
              "      <td>20458d0f521d4bd3a0903cf2113a43f3</td>\n",
              "    </tr>\n",
              "    <tr>\n",
              "      <th>10612325</th>\n",
              "      <td>54817b9e5746a560f43dee41c5d459b8</td>\n",
              "      <td>20458d0f521d4bd3a0903cf2113a43f3</td>\n",
              "    </tr>\n",
              "  </tbody>\n",
              "</table>\n",
              "<p>10612326 rows × 2 columns</p>\n",
              "</div>"
            ],
            "text/plain": [
              "                                    userid                            likeid\n",
              "0         71bc7c0901488aec6d30f0add257e7c5  3c1636c878e6eb2acfd00c6b61086e38\n",
              "1         978ab8e90c4d6ad1a48ef5c973b62f4d  feca46ddb8ef04f86172ace0cb7e004c\n",
              "2         85123b0e358907725cf19a2cb0ec3983  b65f46d64c688fe98bdbcf93a76a71fc\n",
              "3         ce110562b3e2f7e5cad3775b32d9caa5  b65f46d64c688fe98bdbcf93a76a71fc\n",
              "4         8188d20745471273fa69ba44a5b28473  b65f46d64c688fe98bdbcf93a76a71fc\n",
              "...                                    ...                               ...\n",
              "10612321  264088faf4884d77e025a4ceda148b73  20458d0f521d4bd3a0903cf2113a43f3\n",
              "10612322  d498e43d700dbb0006b733aa912e49c7  20458d0f521d4bd3a0903cf2113a43f3\n",
              "10612323  76ac7130db7f6065c969402226b7053b  20458d0f521d4bd3a0903cf2113a43f3\n",
              "10612324  05dcd62425918392dc5d42f7550cbd9e  20458d0f521d4bd3a0903cf2113a43f3\n",
              "10612325  54817b9e5746a560f43dee41c5d459b8  20458d0f521d4bd3a0903cf2113a43f3\n",
              "\n",
              "[10612326 rows x 2 columns]"
            ]
          },
          "metadata": {
            "tags": []
          },
          "execution_count": 6
        }
      ]
    },
    {
      "cell_type": "code",
      "metadata": {
        "id": "ZG0-mZK9MbS1"
      },
      "source": [
        "user_row = users.reset_index().set_index('userid').loc[ul.userid, 'index'].values\n",
        "\n"
      ],
      "execution_count": 7,
      "outputs": []
    },
    {
      "cell_type": "code",
      "metadata": {
        "id": "VybS5Eisfz1x"
      },
      "source": [
        "like_row = likes.reset_index().set_index('likeid').loc[ul.likeid, 'index'].values"
      ],
      "execution_count": 8,
      "outputs": []
    },
    {
      "cell_type": "code",
      "metadata": {
        "id": "ZdEbAiz9cR81"
      },
      "source": [
        "ul['user_row'] = user_row\n",
        "ul['like_row'] = like_row"
      ],
      "execution_count": 9,
      "outputs": []
    },
    {
      "cell_type": "code",
      "metadata": {
        "colab": {
          "base_uri": "https://localhost:8080/"
        },
        "id": "uwz_gQFmz_gx",
        "outputId": "9b3da5e0-31f9-4d99-8f70-92270f0c3fde"
      },
      "source": [
        "like_row.shape"
      ],
      "execution_count": 10,
      "outputs": [
        {
          "output_type": "execute_result",
          "data": {
            "text/plain": [
              "(10612326,)"
            ]
          },
          "metadata": {
            "tags": []
          },
          "execution_count": 10
        }
      ]
    },
    {
      "cell_type": "code",
      "metadata": {
        "id": "wAXz6QHBZIu2"
      },
      "source": [
        "i = np.array(ul['user_row'].tolist())\r\n",
        "j = np.array(ul['like_row'].tolist())\r\n",
        "# construct the sparse matrix\r\n",
        "data = np.ones_like(j)    \r\n",
        "S = sparse.csr_matrix((data, (i, j)), dtype=int)"
      ],
      "execution_count": 11,
      "outputs": []
    },
    {
      "cell_type": "code",
      "metadata": {
        "colab": {
          "base_uri": "https://localhost:8080/"
        },
        "id": "GHkXcV_-Z78K",
        "outputId": "a246ffe1-eb05-4617-8107-d117c41dbb89"
      },
      "source": [
        "S.shape"
      ],
      "execution_count": 12,
      "outputs": [
        {
          "output_type": "execute_result",
          "data": {
            "text/plain": [
              "(110728, 1580284)"
            ]
          },
          "metadata": {
            "tags": []
          },
          "execution_count": 12
        }
      ]
    },
    {
      "cell_type": "code",
      "metadata": {
        "id": "YDHFUGrtikKd"
      },
      "source": [
        "row_names = np.array(users['userid'].tolist())\r\n",
        "col_names = np.array(likes['name'].tolist())"
      ],
      "execution_count": 13,
      "outputs": []
    },
    {
      "cell_type": "code",
      "metadata": {
        "id": "lq4r_7DHcEFN"
      },
      "source": [
        "def sp_matr_update(maatrix, row_names, col_names):\r\n",
        "    sum_rows=np.array(np.sum(maatrix, axis=1)).flatten()\r\n",
        "    #print(sum_rows)\r\n",
        "    sel_row=[]\r\n",
        "    for i in range(len(sum_rows)):\r\n",
        "        if sum_rows[i]>= 50:\r\n",
        "            sel_row.append(i)\r\n",
        "    #print(sel_row)\r\n",
        "    sel_row=np.array(sel_row)\r\n",
        "    sum_cols=np.array(np.sum(maatrix, axis=0)).flatten()\r\n",
        "    #print(sum_cols)\r\n",
        "    sel_col=[]\r\n",
        "    for i in range(len(sum_cols)):\r\n",
        "        if sum_cols[i]>= 150:\r\n",
        "            sel_col.append(i)\r\n",
        "    #print(sel_col)\r\n",
        "    sel_col=np.array(sel_col)\r\n",
        "    maatrix_=maatrix.tocsr()[sel_row,:]\r\n",
        "    maatrix_=maatrix_.tocsr()[:, sel_col]\r\n",
        "    #print(sel_row)\r\n",
        "    row_names_ = row_names[sel_row]\r\n",
        "    #print(row_names.shape)\r\n",
        "    col_names_ = col_names[sel_col]\r\n",
        "    #print(col_names.shape)\r\n",
        "    return maatrix_, row_names_, col_names_"
      ],
      "execution_count": 14,
      "outputs": []
    },
    {
      "cell_type": "code",
      "metadata": {
        "colab": {
          "base_uri": "https://localhost:8080/"
        },
        "id": "td3hUxR2hqXB",
        "outputId": "a5b1dee7-d8de-4f80-adc1-f1a6687fecf3"
      },
      "source": [
        "i_sum=np.sum(S.shape)\r\n",
        "new_matrix, new_row_names, new_col_names = sp_matr_update(S, row_names, col_names)\r\n",
        "print(new_matrix.shape)\r\n",
        "for i in range(9):\r\n",
        "    new_matrix, new_row_names, new_col_names=sp_matr_update(new_matrix, new_row_names, new_col_names)\r\n",
        "    print(new_matrix.shape)\r\n",
        "    i_sum=np.sum(new_matrix.shape)"
      ],
      "execution_count": 15,
      "outputs": [
        {
          "output_type": "stream",
          "text": [
            "(35112, 10830)\n",
            "(22670, 9670)\n",
            "(21362, 8801)\n",
            "(20285, 8690)\n",
            "(20087, 8569)\n",
            "(19848, 8555)\n",
            "(19819, 8530)\n",
            "(19758, 8529)\n",
            "(19753, 8523)\n",
            "(19742, 8523)\n"
          ],
          "name": "stdout"
        }
      ]
    },
    {
      "cell_type": "code",
      "metadata": {
        "colab": {
          "base_uri": "https://localhost:8080/",
          "height": 721
        },
        "id": "gF9B2gOmagVd",
        "outputId": "645cb14c-715e-41e2-adf9-536919dbf1a9"
      },
      "source": [
        "M2=pd.DataFrame.sparse.from_spmatrix(new_matrix, index=new_row_names, columns=new_col_names)\r\n",
        "M2\r\n"
      ],
      "execution_count": 16,
      "outputs": [
        {
          "output_type": "execute_result",
          "data": {
            "text/html": [
              "<div>\n",
              "<style scoped>\n",
              "    .dataframe tbody tr th:only-of-type {\n",
              "        vertical-align: middle;\n",
              "    }\n",
              "\n",
              "    .dataframe tbody tr th {\n",
              "        vertical-align: top;\n",
              "    }\n",
              "\n",
              "    .dataframe thead th {\n",
              "        text-align: right;\n",
              "    }\n",
              "</style>\n",
              "<table border=\"1\" class=\"dataframe\">\n",
              "  <thead>\n",
              "    <tr style=\"text-align: right;\">\n",
              "      <th></th>\n",
              "      <th>Titanic</th>\n",
              "      <th>I run away when I press a toy at a store and it wont stop making noises.</th>\n",
              "      <th>If you like me, Tell Me, if you miss me, Show it, if you love me, Prove it</th>\n",
              "      <th>The Twilight Zone</th>\n",
              "      <th>Boy Meets World</th>\n",
              "      <th>The Eagles</th>\n",
              "      <th>Kurt Hummel (Glee)</th>\n",
              "      <th>2 most said things in school, I'm tired. and Can I have a piece of gum?</th>\n",
              "      <th>I Hate Mosquitos</th>\n",
              "      <th>Scrabble</th>\n",
              "      <th>A</th>\n",
              "      <th>IHOP</th>\n",
              "      <th>Putting on warm clothes straight from the dryer!</th>\n",
              "      <th>Atonement</th>\n",
              "      <th>Smallville</th>\n",
              "      <th>iTunes</th>\n",
              "      <th>Official Grease Movie</th>\n",
              "      <th>finding money in your pocket that you forgot you left in there.</th>\n",
              "      <th>You Shutting The F?ck Up</th>\n",
              "      <th>Creating situations in your head that will NEVER happen in real life.</th>\n",
              "      <th>I think its funny when sluts hate sluts, For being sluts.</th>\n",
              "      <th>i hate it when your yelling at somebody and u mess up a word.</th>\n",
              "      <th>Getting up too fast and going blind for a couple of seconds.</th>\n",
              "      <th>Rooney</th>\n",
              "      <th>The Devil Wears Prada</th>\n",
              "      <th>The awkward moment when a sex scence comes on the movie you're watching with your parents.</th>\n",
              "      <th>The Outsiders</th>\n",
              "      <th>When I'm sad I cut myself... another slice of cheesecake.</th>\n",
              "      <th>Betty Crocker</th>\n",
              "      <th>'Like' this if you think cellphones should be waterproof =)</th>\n",
              "      <th>Jason Statham</th>\n",
              "      <th>HEYYYY COME HERE ITS IMPORTANT what can u turn off my light?</th>\n",
              "      <th>Tosh.0</th>\n",
              "      <th>Let's remember those who have passed. Press Like if you've lost a loved one...</th>\n",
              "      <th>Can somebody please tell this bitch nobody likes her.</th>\n",
              "      <th>ScienceNOW</th>\n",
              "      <th>Kathy Griffin</th>\n",
              "      <th>You're my best friend, he treats you like crap. Of course I hate him.</th>\n",
              "      <th>Rihanna</th>\n",
              "      <th>The Da Vinci Code</th>\n",
              "      <th>...</th>\n",
              "      <th>Law &amp; Order:  Special Victims Unit</th>\n",
              "      <th>Dipping your fingers in melted wax and then peeling it off when it dries up</th>\n",
              "      <th>28 Days Later</th>\n",
              "      <th>The Time Traveler's Wife</th>\n",
              "      <th>Gibson Guitar</th>\n",
              "      <th>Will Schuester (Glee)</th>\n",
              "      <th>Carolina Liar</th>\n",
              "      <th>Curly Fries</th>\n",
              "      <th>Michael Jackson's This Is It</th>\n",
              "      <th>100,000 strong to gain a dislike button.</th>\n",
              "      <th>The word Shenanigans</th>\n",
              "      <th>The Wedding Singer</th>\n",
              "      <th>Talking Heads</th>\n",
              "      <th>Mario Kart</th>\n",
              "      <th>Life's not a garden, Don't be a hoe</th>\n",
              "      <th>I SURVIVED SWINE '09</th>\n",
              "      <th>John Cena - WWE Universe</th>\n",
              "      <th>Panera Bread</th>\n",
              "      <th>I HATE DOUCHEBAGS</th>\n",
              "      <th>Miranda Cosgrove</th>\n",
              "      <th>Florida Gators</th>\n",
              "      <th>British Accents</th>\n",
              "      <th>5 More Minutes of Sleep in the Morning Really DOES Matter</th>\n",
              "      <th>Oasis</th>\n",
              "      <th>Chewing gum in class</th>\n",
              "      <th>Dallas Cowboys</th>\n",
              "      <th>Chase Coy</th>\n",
              "      <th>Matisyahu</th>\n",
              "      <th>Channing Tatum Unwrapped</th>\n",
              "      <th>Waking up in the night, and then realizing you still have hours to sleep.</th>\n",
              "      <th>Attacking the Vending Machine When Your Food Gets Stuck</th>\n",
              "      <th>Tron</th>\n",
              "      <th>deadmau5</th>\n",
              "      <th>Zach Braff</th>\n",
              "      <th>traveling</th>\n",
              "      <th>Monsters</th>\n",
              "      <th>Darren Criss</th>\n",
              "      <th>The Princess and the Frog</th>\n",
              "      <th>Supernatural</th>\n",
              "      <th>Sade</th>\n",
              "    </tr>\n",
              "  </thead>\n",
              "  <tbody>\n",
              "    <tr>\n",
              "      <th>c6a9a43058c8cc8398ca6e97324c0fae</th>\n",
              "      <td>0</td>\n",
              "      <td>0</td>\n",
              "      <td>0</td>\n",
              "      <td>0</td>\n",
              "      <td>0</td>\n",
              "      <td>0</td>\n",
              "      <td>0</td>\n",
              "      <td>0</td>\n",
              "      <td>0</td>\n",
              "      <td>0</td>\n",
              "      <td>0</td>\n",
              "      <td>0</td>\n",
              "      <td>0</td>\n",
              "      <td>0</td>\n",
              "      <td>0</td>\n",
              "      <td>0</td>\n",
              "      <td>0</td>\n",
              "      <td>0</td>\n",
              "      <td>0</td>\n",
              "      <td>0</td>\n",
              "      <td>0</td>\n",
              "      <td>0</td>\n",
              "      <td>0</td>\n",
              "      <td>0</td>\n",
              "      <td>0</td>\n",
              "      <td>0</td>\n",
              "      <td>0</td>\n",
              "      <td>0</td>\n",
              "      <td>0</td>\n",
              "      <td>0</td>\n",
              "      <td>0</td>\n",
              "      <td>0</td>\n",
              "      <td>0</td>\n",
              "      <td>0</td>\n",
              "      <td>0</td>\n",
              "      <td>0</td>\n",
              "      <td>0</td>\n",
              "      <td>0</td>\n",
              "      <td>0</td>\n",
              "      <td>0</td>\n",
              "      <td>...</td>\n",
              "      <td>0</td>\n",
              "      <td>0</td>\n",
              "      <td>0</td>\n",
              "      <td>0</td>\n",
              "      <td>0</td>\n",
              "      <td>0</td>\n",
              "      <td>0</td>\n",
              "      <td>0</td>\n",
              "      <td>0</td>\n",
              "      <td>0</td>\n",
              "      <td>0</td>\n",
              "      <td>0</td>\n",
              "      <td>0</td>\n",
              "      <td>0</td>\n",
              "      <td>0</td>\n",
              "      <td>0</td>\n",
              "      <td>0</td>\n",
              "      <td>0</td>\n",
              "      <td>0</td>\n",
              "      <td>0</td>\n",
              "      <td>0</td>\n",
              "      <td>0</td>\n",
              "      <td>0</td>\n",
              "      <td>0</td>\n",
              "      <td>0</td>\n",
              "      <td>0</td>\n",
              "      <td>0</td>\n",
              "      <td>0</td>\n",
              "      <td>0</td>\n",
              "      <td>0</td>\n",
              "      <td>0</td>\n",
              "      <td>0</td>\n",
              "      <td>0</td>\n",
              "      <td>0</td>\n",
              "      <td>0</td>\n",
              "      <td>0</td>\n",
              "      <td>0</td>\n",
              "      <td>0</td>\n",
              "      <td>0</td>\n",
              "      <td>0</td>\n",
              "    </tr>\n",
              "    <tr>\n",
              "      <th>e557fd2902b857797cb8cec471f201a5</th>\n",
              "      <td>0</td>\n",
              "      <td>0</td>\n",
              "      <td>0</td>\n",
              "      <td>0</td>\n",
              "      <td>0</td>\n",
              "      <td>0</td>\n",
              "      <td>0</td>\n",
              "      <td>0</td>\n",
              "      <td>0</td>\n",
              "      <td>0</td>\n",
              "      <td>0</td>\n",
              "      <td>0</td>\n",
              "      <td>0</td>\n",
              "      <td>0</td>\n",
              "      <td>0</td>\n",
              "      <td>0</td>\n",
              "      <td>0</td>\n",
              "      <td>0</td>\n",
              "      <td>0</td>\n",
              "      <td>0</td>\n",
              "      <td>0</td>\n",
              "      <td>0</td>\n",
              "      <td>0</td>\n",
              "      <td>0</td>\n",
              "      <td>0</td>\n",
              "      <td>0</td>\n",
              "      <td>0</td>\n",
              "      <td>0</td>\n",
              "      <td>0</td>\n",
              "      <td>0</td>\n",
              "      <td>0</td>\n",
              "      <td>0</td>\n",
              "      <td>0</td>\n",
              "      <td>0</td>\n",
              "      <td>0</td>\n",
              "      <td>0</td>\n",
              "      <td>0</td>\n",
              "      <td>0</td>\n",
              "      <td>0</td>\n",
              "      <td>0</td>\n",
              "      <td>...</td>\n",
              "      <td>0</td>\n",
              "      <td>0</td>\n",
              "      <td>0</td>\n",
              "      <td>0</td>\n",
              "      <td>0</td>\n",
              "      <td>0</td>\n",
              "      <td>0</td>\n",
              "      <td>0</td>\n",
              "      <td>0</td>\n",
              "      <td>0</td>\n",
              "      <td>0</td>\n",
              "      <td>0</td>\n",
              "      <td>0</td>\n",
              "      <td>0</td>\n",
              "      <td>0</td>\n",
              "      <td>0</td>\n",
              "      <td>0</td>\n",
              "      <td>0</td>\n",
              "      <td>0</td>\n",
              "      <td>0</td>\n",
              "      <td>0</td>\n",
              "      <td>0</td>\n",
              "      <td>0</td>\n",
              "      <td>0</td>\n",
              "      <td>0</td>\n",
              "      <td>0</td>\n",
              "      <td>0</td>\n",
              "      <td>0</td>\n",
              "      <td>0</td>\n",
              "      <td>0</td>\n",
              "      <td>0</td>\n",
              "      <td>0</td>\n",
              "      <td>1</td>\n",
              "      <td>0</td>\n",
              "      <td>0</td>\n",
              "      <td>0</td>\n",
              "      <td>0</td>\n",
              "      <td>0</td>\n",
              "      <td>0</td>\n",
              "      <td>0</td>\n",
              "    </tr>\n",
              "    <tr>\n",
              "      <th>f9ed42fd1c0e0e1ecd2ba3fdb54ce6fa</th>\n",
              "      <td>0</td>\n",
              "      <td>0</td>\n",
              "      <td>0</td>\n",
              "      <td>0</td>\n",
              "      <td>0</td>\n",
              "      <td>0</td>\n",
              "      <td>0</td>\n",
              "      <td>0</td>\n",
              "      <td>0</td>\n",
              "      <td>0</td>\n",
              "      <td>0</td>\n",
              "      <td>0</td>\n",
              "      <td>0</td>\n",
              "      <td>0</td>\n",
              "      <td>1</td>\n",
              "      <td>0</td>\n",
              "      <td>0</td>\n",
              "      <td>0</td>\n",
              "      <td>0</td>\n",
              "      <td>0</td>\n",
              "      <td>0</td>\n",
              "      <td>0</td>\n",
              "      <td>0</td>\n",
              "      <td>0</td>\n",
              "      <td>0</td>\n",
              "      <td>0</td>\n",
              "      <td>0</td>\n",
              "      <td>0</td>\n",
              "      <td>0</td>\n",
              "      <td>0</td>\n",
              "      <td>0</td>\n",
              "      <td>0</td>\n",
              "      <td>0</td>\n",
              "      <td>0</td>\n",
              "      <td>0</td>\n",
              "      <td>0</td>\n",
              "      <td>0</td>\n",
              "      <td>0</td>\n",
              "      <td>1</td>\n",
              "      <td>0</td>\n",
              "      <td>...</td>\n",
              "      <td>0</td>\n",
              "      <td>0</td>\n",
              "      <td>0</td>\n",
              "      <td>0</td>\n",
              "      <td>0</td>\n",
              "      <td>0</td>\n",
              "      <td>0</td>\n",
              "      <td>0</td>\n",
              "      <td>0</td>\n",
              "      <td>0</td>\n",
              "      <td>0</td>\n",
              "      <td>0</td>\n",
              "      <td>0</td>\n",
              "      <td>0</td>\n",
              "      <td>0</td>\n",
              "      <td>0</td>\n",
              "      <td>0</td>\n",
              "      <td>0</td>\n",
              "      <td>0</td>\n",
              "      <td>0</td>\n",
              "      <td>0</td>\n",
              "      <td>0</td>\n",
              "      <td>0</td>\n",
              "      <td>0</td>\n",
              "      <td>0</td>\n",
              "      <td>0</td>\n",
              "      <td>0</td>\n",
              "      <td>0</td>\n",
              "      <td>0</td>\n",
              "      <td>0</td>\n",
              "      <td>0</td>\n",
              "      <td>0</td>\n",
              "      <td>0</td>\n",
              "      <td>0</td>\n",
              "      <td>0</td>\n",
              "      <td>0</td>\n",
              "      <td>0</td>\n",
              "      <td>0</td>\n",
              "      <td>0</td>\n",
              "      <td>0</td>\n",
              "    </tr>\n",
              "    <tr>\n",
              "      <th>eca69bfad8f4f2b193b2592248101b7f</th>\n",
              "      <td>0</td>\n",
              "      <td>0</td>\n",
              "      <td>0</td>\n",
              "      <td>0</td>\n",
              "      <td>0</td>\n",
              "      <td>0</td>\n",
              "      <td>0</td>\n",
              "      <td>0</td>\n",
              "      <td>0</td>\n",
              "      <td>0</td>\n",
              "      <td>0</td>\n",
              "      <td>0</td>\n",
              "      <td>0</td>\n",
              "      <td>0</td>\n",
              "      <td>1</td>\n",
              "      <td>1</td>\n",
              "      <td>0</td>\n",
              "      <td>0</td>\n",
              "      <td>0</td>\n",
              "      <td>0</td>\n",
              "      <td>0</td>\n",
              "      <td>0</td>\n",
              "      <td>0</td>\n",
              "      <td>0</td>\n",
              "      <td>0</td>\n",
              "      <td>0</td>\n",
              "      <td>0</td>\n",
              "      <td>0</td>\n",
              "      <td>0</td>\n",
              "      <td>0</td>\n",
              "      <td>0</td>\n",
              "      <td>0</td>\n",
              "      <td>0</td>\n",
              "      <td>0</td>\n",
              "      <td>0</td>\n",
              "      <td>0</td>\n",
              "      <td>0</td>\n",
              "      <td>0</td>\n",
              "      <td>1</td>\n",
              "      <td>0</td>\n",
              "      <td>...</td>\n",
              "      <td>0</td>\n",
              "      <td>0</td>\n",
              "      <td>0</td>\n",
              "      <td>0</td>\n",
              "      <td>0</td>\n",
              "      <td>0</td>\n",
              "      <td>0</td>\n",
              "      <td>0</td>\n",
              "      <td>0</td>\n",
              "      <td>0</td>\n",
              "      <td>0</td>\n",
              "      <td>0</td>\n",
              "      <td>0</td>\n",
              "      <td>0</td>\n",
              "      <td>0</td>\n",
              "      <td>0</td>\n",
              "      <td>0</td>\n",
              "      <td>0</td>\n",
              "      <td>0</td>\n",
              "      <td>0</td>\n",
              "      <td>0</td>\n",
              "      <td>0</td>\n",
              "      <td>0</td>\n",
              "      <td>0</td>\n",
              "      <td>0</td>\n",
              "      <td>0</td>\n",
              "      <td>0</td>\n",
              "      <td>1</td>\n",
              "      <td>0</td>\n",
              "      <td>0</td>\n",
              "      <td>0</td>\n",
              "      <td>0</td>\n",
              "      <td>0</td>\n",
              "      <td>0</td>\n",
              "      <td>0</td>\n",
              "      <td>0</td>\n",
              "      <td>0</td>\n",
              "      <td>0</td>\n",
              "      <td>0</td>\n",
              "      <td>0</td>\n",
              "    </tr>\n",
              "    <tr>\n",
              "      <th>1e4e4517e035a0d5f6dd5bfd1fe65890</th>\n",
              "      <td>0</td>\n",
              "      <td>0</td>\n",
              "      <td>0</td>\n",
              "      <td>0</td>\n",
              "      <td>0</td>\n",
              "      <td>0</td>\n",
              "      <td>0</td>\n",
              "      <td>0</td>\n",
              "      <td>0</td>\n",
              "      <td>1</td>\n",
              "      <td>0</td>\n",
              "      <td>0</td>\n",
              "      <td>0</td>\n",
              "      <td>0</td>\n",
              "      <td>0</td>\n",
              "      <td>0</td>\n",
              "      <td>0</td>\n",
              "      <td>0</td>\n",
              "      <td>0</td>\n",
              "      <td>0</td>\n",
              "      <td>0</td>\n",
              "      <td>0</td>\n",
              "      <td>0</td>\n",
              "      <td>0</td>\n",
              "      <td>0</td>\n",
              "      <td>0</td>\n",
              "      <td>0</td>\n",
              "      <td>0</td>\n",
              "      <td>0</td>\n",
              "      <td>0</td>\n",
              "      <td>0</td>\n",
              "      <td>0</td>\n",
              "      <td>0</td>\n",
              "      <td>0</td>\n",
              "      <td>0</td>\n",
              "      <td>0</td>\n",
              "      <td>0</td>\n",
              "      <td>0</td>\n",
              "      <td>0</td>\n",
              "      <td>0</td>\n",
              "      <td>...</td>\n",
              "      <td>0</td>\n",
              "      <td>0</td>\n",
              "      <td>0</td>\n",
              "      <td>0</td>\n",
              "      <td>0</td>\n",
              "      <td>0</td>\n",
              "      <td>0</td>\n",
              "      <td>0</td>\n",
              "      <td>0</td>\n",
              "      <td>0</td>\n",
              "      <td>0</td>\n",
              "      <td>0</td>\n",
              "      <td>0</td>\n",
              "      <td>0</td>\n",
              "      <td>0</td>\n",
              "      <td>0</td>\n",
              "      <td>0</td>\n",
              "      <td>0</td>\n",
              "      <td>0</td>\n",
              "      <td>0</td>\n",
              "      <td>0</td>\n",
              "      <td>0</td>\n",
              "      <td>0</td>\n",
              "      <td>0</td>\n",
              "      <td>0</td>\n",
              "      <td>0</td>\n",
              "      <td>0</td>\n",
              "      <td>0</td>\n",
              "      <td>0</td>\n",
              "      <td>0</td>\n",
              "      <td>0</td>\n",
              "      <td>0</td>\n",
              "      <td>0</td>\n",
              "      <td>0</td>\n",
              "      <td>0</td>\n",
              "      <td>0</td>\n",
              "      <td>0</td>\n",
              "      <td>0</td>\n",
              "      <td>0</td>\n",
              "      <td>0</td>\n",
              "    </tr>\n",
              "    <tr>\n",
              "      <th>...</th>\n",
              "      <td>...</td>\n",
              "      <td>...</td>\n",
              "      <td>...</td>\n",
              "      <td>...</td>\n",
              "      <td>...</td>\n",
              "      <td>...</td>\n",
              "      <td>...</td>\n",
              "      <td>...</td>\n",
              "      <td>...</td>\n",
              "      <td>...</td>\n",
              "      <td>...</td>\n",
              "      <td>...</td>\n",
              "      <td>...</td>\n",
              "      <td>...</td>\n",
              "      <td>...</td>\n",
              "      <td>...</td>\n",
              "      <td>...</td>\n",
              "      <td>...</td>\n",
              "      <td>...</td>\n",
              "      <td>...</td>\n",
              "      <td>...</td>\n",
              "      <td>...</td>\n",
              "      <td>...</td>\n",
              "      <td>...</td>\n",
              "      <td>...</td>\n",
              "      <td>...</td>\n",
              "      <td>...</td>\n",
              "      <td>...</td>\n",
              "      <td>...</td>\n",
              "      <td>...</td>\n",
              "      <td>...</td>\n",
              "      <td>...</td>\n",
              "      <td>...</td>\n",
              "      <td>...</td>\n",
              "      <td>...</td>\n",
              "      <td>...</td>\n",
              "      <td>...</td>\n",
              "      <td>...</td>\n",
              "      <td>...</td>\n",
              "      <td>...</td>\n",
              "      <td>...</td>\n",
              "      <td>...</td>\n",
              "      <td>...</td>\n",
              "      <td>...</td>\n",
              "      <td>...</td>\n",
              "      <td>...</td>\n",
              "      <td>...</td>\n",
              "      <td>...</td>\n",
              "      <td>...</td>\n",
              "      <td>...</td>\n",
              "      <td>...</td>\n",
              "      <td>...</td>\n",
              "      <td>...</td>\n",
              "      <td>...</td>\n",
              "      <td>...</td>\n",
              "      <td>...</td>\n",
              "      <td>...</td>\n",
              "      <td>...</td>\n",
              "      <td>...</td>\n",
              "      <td>...</td>\n",
              "      <td>...</td>\n",
              "      <td>...</td>\n",
              "      <td>...</td>\n",
              "      <td>...</td>\n",
              "      <td>...</td>\n",
              "      <td>...</td>\n",
              "      <td>...</td>\n",
              "      <td>...</td>\n",
              "      <td>...</td>\n",
              "      <td>...</td>\n",
              "      <td>...</td>\n",
              "      <td>...</td>\n",
              "      <td>...</td>\n",
              "      <td>...</td>\n",
              "      <td>...</td>\n",
              "      <td>...</td>\n",
              "      <td>...</td>\n",
              "      <td>...</td>\n",
              "      <td>...</td>\n",
              "      <td>...</td>\n",
              "      <td>...</td>\n",
              "    </tr>\n",
              "    <tr>\n",
              "      <th>3995772c890538007229320216aec92f</th>\n",
              "      <td>0</td>\n",
              "      <td>0</td>\n",
              "      <td>0</td>\n",
              "      <td>0</td>\n",
              "      <td>0</td>\n",
              "      <td>0</td>\n",
              "      <td>0</td>\n",
              "      <td>0</td>\n",
              "      <td>0</td>\n",
              "      <td>0</td>\n",
              "      <td>0</td>\n",
              "      <td>0</td>\n",
              "      <td>0</td>\n",
              "      <td>0</td>\n",
              "      <td>0</td>\n",
              "      <td>0</td>\n",
              "      <td>0</td>\n",
              "      <td>0</td>\n",
              "      <td>0</td>\n",
              "      <td>0</td>\n",
              "      <td>0</td>\n",
              "      <td>0</td>\n",
              "      <td>0</td>\n",
              "      <td>0</td>\n",
              "      <td>0</td>\n",
              "      <td>0</td>\n",
              "      <td>0</td>\n",
              "      <td>0</td>\n",
              "      <td>1</td>\n",
              "      <td>0</td>\n",
              "      <td>0</td>\n",
              "      <td>0</td>\n",
              "      <td>0</td>\n",
              "      <td>0</td>\n",
              "      <td>0</td>\n",
              "      <td>0</td>\n",
              "      <td>0</td>\n",
              "      <td>0</td>\n",
              "      <td>0</td>\n",
              "      <td>0</td>\n",
              "      <td>...</td>\n",
              "      <td>0</td>\n",
              "      <td>0</td>\n",
              "      <td>0</td>\n",
              "      <td>0</td>\n",
              "      <td>0</td>\n",
              "      <td>0</td>\n",
              "      <td>0</td>\n",
              "      <td>0</td>\n",
              "      <td>0</td>\n",
              "      <td>0</td>\n",
              "      <td>0</td>\n",
              "      <td>0</td>\n",
              "      <td>0</td>\n",
              "      <td>0</td>\n",
              "      <td>0</td>\n",
              "      <td>0</td>\n",
              "      <td>0</td>\n",
              "      <td>0</td>\n",
              "      <td>0</td>\n",
              "      <td>0</td>\n",
              "      <td>0</td>\n",
              "      <td>0</td>\n",
              "      <td>0</td>\n",
              "      <td>0</td>\n",
              "      <td>0</td>\n",
              "      <td>0</td>\n",
              "      <td>0</td>\n",
              "      <td>0</td>\n",
              "      <td>0</td>\n",
              "      <td>0</td>\n",
              "      <td>0</td>\n",
              "      <td>0</td>\n",
              "      <td>0</td>\n",
              "      <td>0</td>\n",
              "      <td>0</td>\n",
              "      <td>0</td>\n",
              "      <td>0</td>\n",
              "      <td>0</td>\n",
              "      <td>0</td>\n",
              "      <td>0</td>\n",
              "    </tr>\n",
              "    <tr>\n",
              "      <th>f9a122ccb0ae03e0e67a6024f46d38d9</th>\n",
              "      <td>0</td>\n",
              "      <td>0</td>\n",
              "      <td>0</td>\n",
              "      <td>0</td>\n",
              "      <td>0</td>\n",
              "      <td>0</td>\n",
              "      <td>0</td>\n",
              "      <td>0</td>\n",
              "      <td>0</td>\n",
              "      <td>0</td>\n",
              "      <td>0</td>\n",
              "      <td>0</td>\n",
              "      <td>0</td>\n",
              "      <td>0</td>\n",
              "      <td>0</td>\n",
              "      <td>0</td>\n",
              "      <td>0</td>\n",
              "      <td>0</td>\n",
              "      <td>0</td>\n",
              "      <td>0</td>\n",
              "      <td>0</td>\n",
              "      <td>0</td>\n",
              "      <td>0</td>\n",
              "      <td>0</td>\n",
              "      <td>1</td>\n",
              "      <td>0</td>\n",
              "      <td>0</td>\n",
              "      <td>0</td>\n",
              "      <td>0</td>\n",
              "      <td>0</td>\n",
              "      <td>0</td>\n",
              "      <td>0</td>\n",
              "      <td>1</td>\n",
              "      <td>0</td>\n",
              "      <td>0</td>\n",
              "      <td>0</td>\n",
              "      <td>0</td>\n",
              "      <td>0</td>\n",
              "      <td>1</td>\n",
              "      <td>0</td>\n",
              "      <td>...</td>\n",
              "      <td>0</td>\n",
              "      <td>0</td>\n",
              "      <td>0</td>\n",
              "      <td>1</td>\n",
              "      <td>0</td>\n",
              "      <td>0</td>\n",
              "      <td>0</td>\n",
              "      <td>0</td>\n",
              "      <td>0</td>\n",
              "      <td>0</td>\n",
              "      <td>0</td>\n",
              "      <td>0</td>\n",
              "      <td>0</td>\n",
              "      <td>0</td>\n",
              "      <td>0</td>\n",
              "      <td>0</td>\n",
              "      <td>0</td>\n",
              "      <td>0</td>\n",
              "      <td>0</td>\n",
              "      <td>0</td>\n",
              "      <td>0</td>\n",
              "      <td>0</td>\n",
              "      <td>0</td>\n",
              "      <td>0</td>\n",
              "      <td>0</td>\n",
              "      <td>0</td>\n",
              "      <td>0</td>\n",
              "      <td>0</td>\n",
              "      <td>0</td>\n",
              "      <td>0</td>\n",
              "      <td>0</td>\n",
              "      <td>0</td>\n",
              "      <td>1</td>\n",
              "      <td>0</td>\n",
              "      <td>0</td>\n",
              "      <td>0</td>\n",
              "      <td>0</td>\n",
              "      <td>0</td>\n",
              "      <td>0</td>\n",
              "      <td>0</td>\n",
              "    </tr>\n",
              "    <tr>\n",
              "      <th>8a1c71c937b9a01c6983d86a4396a240</th>\n",
              "      <td>0</td>\n",
              "      <td>0</td>\n",
              "      <td>0</td>\n",
              "      <td>0</td>\n",
              "      <td>0</td>\n",
              "      <td>0</td>\n",
              "      <td>0</td>\n",
              "      <td>0</td>\n",
              "      <td>0</td>\n",
              "      <td>0</td>\n",
              "      <td>0</td>\n",
              "      <td>0</td>\n",
              "      <td>0</td>\n",
              "      <td>0</td>\n",
              "      <td>0</td>\n",
              "      <td>0</td>\n",
              "      <td>0</td>\n",
              "      <td>0</td>\n",
              "      <td>0</td>\n",
              "      <td>0</td>\n",
              "      <td>0</td>\n",
              "      <td>0</td>\n",
              "      <td>0</td>\n",
              "      <td>0</td>\n",
              "      <td>0</td>\n",
              "      <td>0</td>\n",
              "      <td>0</td>\n",
              "      <td>0</td>\n",
              "      <td>0</td>\n",
              "      <td>0</td>\n",
              "      <td>0</td>\n",
              "      <td>0</td>\n",
              "      <td>0</td>\n",
              "      <td>0</td>\n",
              "      <td>0</td>\n",
              "      <td>0</td>\n",
              "      <td>0</td>\n",
              "      <td>0</td>\n",
              "      <td>0</td>\n",
              "      <td>0</td>\n",
              "      <td>...</td>\n",
              "      <td>0</td>\n",
              "      <td>0</td>\n",
              "      <td>0</td>\n",
              "      <td>0</td>\n",
              "      <td>0</td>\n",
              "      <td>0</td>\n",
              "      <td>0</td>\n",
              "      <td>0</td>\n",
              "      <td>0</td>\n",
              "      <td>0</td>\n",
              "      <td>0</td>\n",
              "      <td>0</td>\n",
              "      <td>0</td>\n",
              "      <td>0</td>\n",
              "      <td>0</td>\n",
              "      <td>0</td>\n",
              "      <td>0</td>\n",
              "      <td>0</td>\n",
              "      <td>0</td>\n",
              "      <td>0</td>\n",
              "      <td>0</td>\n",
              "      <td>0</td>\n",
              "      <td>0</td>\n",
              "      <td>0</td>\n",
              "      <td>0</td>\n",
              "      <td>0</td>\n",
              "      <td>0</td>\n",
              "      <td>0</td>\n",
              "      <td>0</td>\n",
              "      <td>0</td>\n",
              "      <td>0</td>\n",
              "      <td>0</td>\n",
              "      <td>0</td>\n",
              "      <td>0</td>\n",
              "      <td>0</td>\n",
              "      <td>0</td>\n",
              "      <td>0</td>\n",
              "      <td>0</td>\n",
              "      <td>0</td>\n",
              "      <td>0</td>\n",
              "    </tr>\n",
              "    <tr>\n",
              "      <th>d0c8717c1584b4be1a0d28a5e0f25c70</th>\n",
              "      <td>0</td>\n",
              "      <td>0</td>\n",
              "      <td>0</td>\n",
              "      <td>0</td>\n",
              "      <td>0</td>\n",
              "      <td>0</td>\n",
              "      <td>0</td>\n",
              "      <td>0</td>\n",
              "      <td>0</td>\n",
              "      <td>0</td>\n",
              "      <td>0</td>\n",
              "      <td>0</td>\n",
              "      <td>0</td>\n",
              "      <td>0</td>\n",
              "      <td>0</td>\n",
              "      <td>0</td>\n",
              "      <td>0</td>\n",
              "      <td>0</td>\n",
              "      <td>0</td>\n",
              "      <td>0</td>\n",
              "      <td>0</td>\n",
              "      <td>0</td>\n",
              "      <td>0</td>\n",
              "      <td>0</td>\n",
              "      <td>0</td>\n",
              "      <td>0</td>\n",
              "      <td>0</td>\n",
              "      <td>0</td>\n",
              "      <td>0</td>\n",
              "      <td>0</td>\n",
              "      <td>0</td>\n",
              "      <td>0</td>\n",
              "      <td>0</td>\n",
              "      <td>0</td>\n",
              "      <td>0</td>\n",
              "      <td>0</td>\n",
              "      <td>0</td>\n",
              "      <td>0</td>\n",
              "      <td>0</td>\n",
              "      <td>0</td>\n",
              "      <td>...</td>\n",
              "      <td>0</td>\n",
              "      <td>0</td>\n",
              "      <td>0</td>\n",
              "      <td>0</td>\n",
              "      <td>0</td>\n",
              "      <td>0</td>\n",
              "      <td>0</td>\n",
              "      <td>0</td>\n",
              "      <td>0</td>\n",
              "      <td>0</td>\n",
              "      <td>0</td>\n",
              "      <td>0</td>\n",
              "      <td>0</td>\n",
              "      <td>0</td>\n",
              "      <td>0</td>\n",
              "      <td>0</td>\n",
              "      <td>0</td>\n",
              "      <td>0</td>\n",
              "      <td>0</td>\n",
              "      <td>0</td>\n",
              "      <td>0</td>\n",
              "      <td>0</td>\n",
              "      <td>0</td>\n",
              "      <td>0</td>\n",
              "      <td>0</td>\n",
              "      <td>0</td>\n",
              "      <td>0</td>\n",
              "      <td>0</td>\n",
              "      <td>0</td>\n",
              "      <td>0</td>\n",
              "      <td>0</td>\n",
              "      <td>0</td>\n",
              "      <td>0</td>\n",
              "      <td>0</td>\n",
              "      <td>0</td>\n",
              "      <td>0</td>\n",
              "      <td>0</td>\n",
              "      <td>0</td>\n",
              "      <td>0</td>\n",
              "      <td>0</td>\n",
              "    </tr>\n",
              "    <tr>\n",
              "      <th>b7740bea5e9d220ae831ccc687df6736</th>\n",
              "      <td>0</td>\n",
              "      <td>0</td>\n",
              "      <td>0</td>\n",
              "      <td>0</td>\n",
              "      <td>0</td>\n",
              "      <td>0</td>\n",
              "      <td>0</td>\n",
              "      <td>0</td>\n",
              "      <td>0</td>\n",
              "      <td>0</td>\n",
              "      <td>0</td>\n",
              "      <td>0</td>\n",
              "      <td>0</td>\n",
              "      <td>0</td>\n",
              "      <td>0</td>\n",
              "      <td>0</td>\n",
              "      <td>0</td>\n",
              "      <td>0</td>\n",
              "      <td>0</td>\n",
              "      <td>0</td>\n",
              "      <td>0</td>\n",
              "      <td>0</td>\n",
              "      <td>0</td>\n",
              "      <td>0</td>\n",
              "      <td>0</td>\n",
              "      <td>0</td>\n",
              "      <td>0</td>\n",
              "      <td>0</td>\n",
              "      <td>0</td>\n",
              "      <td>0</td>\n",
              "      <td>0</td>\n",
              "      <td>0</td>\n",
              "      <td>1</td>\n",
              "      <td>0</td>\n",
              "      <td>0</td>\n",
              "      <td>0</td>\n",
              "      <td>0</td>\n",
              "      <td>0</td>\n",
              "      <td>0</td>\n",
              "      <td>0</td>\n",
              "      <td>...</td>\n",
              "      <td>1</td>\n",
              "      <td>0</td>\n",
              "      <td>0</td>\n",
              "      <td>0</td>\n",
              "      <td>0</td>\n",
              "      <td>0</td>\n",
              "      <td>0</td>\n",
              "      <td>0</td>\n",
              "      <td>0</td>\n",
              "      <td>0</td>\n",
              "      <td>0</td>\n",
              "      <td>0</td>\n",
              "      <td>0</td>\n",
              "      <td>0</td>\n",
              "      <td>0</td>\n",
              "      <td>0</td>\n",
              "      <td>0</td>\n",
              "      <td>0</td>\n",
              "      <td>0</td>\n",
              "      <td>0</td>\n",
              "      <td>0</td>\n",
              "      <td>0</td>\n",
              "      <td>0</td>\n",
              "      <td>0</td>\n",
              "      <td>0</td>\n",
              "      <td>0</td>\n",
              "      <td>0</td>\n",
              "      <td>0</td>\n",
              "      <td>0</td>\n",
              "      <td>0</td>\n",
              "      <td>0</td>\n",
              "      <td>0</td>\n",
              "      <td>1</td>\n",
              "      <td>0</td>\n",
              "      <td>0</td>\n",
              "      <td>1</td>\n",
              "      <td>0</td>\n",
              "      <td>0</td>\n",
              "      <td>0</td>\n",
              "      <td>0</td>\n",
              "    </tr>\n",
              "  </tbody>\n",
              "</table>\n",
              "<p>19742 rows × 8523 columns</p>\n",
              "</div>"
            ],
            "text/plain": [
              "                                  Titanic  ...  Sade\n",
              "c6a9a43058c8cc8398ca6e97324c0fae        0  ...     0\n",
              "e557fd2902b857797cb8cec471f201a5        0  ...     0\n",
              "f9ed42fd1c0e0e1ecd2ba3fdb54ce6fa        0  ...     0\n",
              "eca69bfad8f4f2b193b2592248101b7f        0  ...     0\n",
              "1e4e4517e035a0d5f6dd5bfd1fe65890        0  ...     0\n",
              "...                                   ...  ...   ...\n",
              "3995772c890538007229320216aec92f        0  ...     0\n",
              "f9a122ccb0ae03e0e67a6024f46d38d9        0  ...     0\n",
              "8a1c71c937b9a01c6983d86a4396a240        0  ...     0\n",
              "d0c8717c1584b4be1a0d28a5e0f25c70        0  ...     0\n",
              "b7740bea5e9d220ae831ccc687df6736        0  ...     0\n",
              "\n",
              "[19742 rows x 8523 columns]"
            ]
          },
          "metadata": {
            "tags": []
          },
          "execution_count": 16
        }
      ]
    },
    {
      "cell_type": "code",
      "metadata": {
        "id": "ayQjEJWhl1LX"
      },
      "source": [
        "M2_arr = M2.to_numpy()"
      ],
      "execution_count": 17,
      "outputs": []
    },
    {
      "cell_type": "code",
      "metadata": {
        "id": "07qn4n3rTjwa"
      },
      "source": [
        "M2_arr = M2_arr.astype(np.int32)"
      ],
      "execution_count": 18,
      "outputs": []
    },
    {
      "cell_type": "code",
      "metadata": {
        "id": "qWD4MCjF5XDO"
      },
      "source": [
        "from scipy.linalg import svd as svd2\n",
        "from sklearn.decomposition import TruncatedSVD\n",
        "from sklearn.utils.extmath import randomized_svd"
      ],
      "execution_count": 19,
      "outputs": []
    },
    {
      "cell_type": "code",
      "metadata": {
        "id": "paQPuaL-Bq-9"
      },
      "source": [
        "U, Sigma, VT = randomized_svd(M2_arr, \n",
        "                              n_components=5,\n",
        "                              n_iter=5,\n",
        "                              random_state=68)"
      ],
      "execution_count": 20,
      "outputs": []
    },
    {
      "cell_type": "code",
      "metadata": {
        "colab": {
          "base_uri": "https://localhost:8080/"
        },
        "id": "FSYymEdntcz7",
        "outputId": "e030a879-a923-4f28-f09d-6eb7a375a8a3"
      },
      "source": [
        "Sigma"
      ],
      "execution_count": 21,
      "outputs": [
        {
          "output_type": "execute_result",
          "data": {
            "text/plain": [
              "array([635.44467823, 378.45856055, 200.92846127, 182.23532269,\n",
              "       160.44100595])"
            ]
          },
          "metadata": {
            "tags": []
          },
          "execution_count": 21
        }
      ]
    },
    {
      "cell_type": "code",
      "metadata": {
        "id": "w7lTQhqdwk6f"
      },
      "source": [
        "v = VT.T"
      ],
      "execution_count": 22,
      "outputs": []
    },
    {
      "cell_type": "code",
      "metadata": {
        "colab": {
          "base_uri": "https://localhost:8080/"
        },
        "id": "n9hsd9rTCSRl",
        "outputId": "6bf9f23d-2133-4a93-db46-1463ec0324a2"
      },
      "source": [
        "v.shape"
      ],
      "execution_count": 23,
      "outputs": [
        {
          "output_type": "execute_result",
          "data": {
            "text/plain": [
              "(8523, 5)"
            ]
          },
          "metadata": {
            "tags": []
          },
          "execution_count": 23
        }
      ]
    },
    {
      "cell_type": "code",
      "metadata": {
        "colab": {
          "base_uri": "https://localhost:8080/",
          "height": 279
        },
        "id": "uo39Cvb9tnC_",
        "outputId": "fedfd596-f828-4e4a-b6ab-4f26713a4a50"
      },
      "source": [
        "plt.plot(Sigma)\n",
        "plt.ylabel('Msvd$d')\n",
        "plt.xlabel('Index')\n",
        "plt.xlim(left=0, right=4)\n",
        "plt.show()"
      ],
      "execution_count": 24,
      "outputs": [
        {
          "output_type": "display_data",
          "data": {
            "image/png": "[encoded data removed]",
            "text/plain": [
              "<Figure size 432x288 with 1 Axes>"
            ]
          },
          "metadata": {
            "tags": [],
            "needs_background": "light"
          }
        }
      ]
    },
    {
      "cell_type": "code",
      "metadata": {
        "id": "nf_M3XR8wYex"
      },
      "source": [
        "from numpy import eye, asarray, dot, sum, diag\n",
        "from numpy.linalg import svd\n",
        "\n",
        "def varimax(Phi, gamma = 1, q = 20, tol = 1e-6):\n",
        "    p,k = Phi.shape\n",
        "    R = eye(k)\n",
        "    d=0\n",
        "    for i in range(q):\n",
        "        d_old = d\n",
        "        Lambda = dot(Phi, R)\n",
        "        u,s,vh = svd(dot(Phi.T,asarray(Lambda)**3 - (gamma/p) * dot(Lambda, diag(diag(dot(Lambda.T,Lambda))))))\n",
        "        R = dot(u,vh)\n",
        "        d = sum(s)\n",
        "        if d/d_old < tol: break\n",
        "    return dot(Phi, R)"
      ],
      "execution_count": 25,
      "outputs": []
    },
    {
      "cell_type": "code",
      "metadata": {
        "colab": {
          "base_uri": "https://localhost:8080/"
        },
        "id": "fKH5mUzqwcDY",
        "outputId": "05f759b2-c853-4a84-918e-500ca9dad64c"
      },
      "source": [
        "v_vot = varimax(v)"
      ],
      "execution_count": 26,
      "outputs": [
        {
          "output_type": "stream",
          "text": [
            "/usr/local/lib/python3.6/dist-packages/ipykernel_launcher.py:14: RuntimeWarning: divide by zero encountered in double_scalars\n",
            "  \n"
          ],
          "name": "stderr"
        }
      ]
    },
    {
      "cell_type": "code",
      "metadata": {
        "colab": {
          "base_uri": "https://localhost:8080/"
        },
        "id": "fBR0TDgI1LkT",
        "outputId": "c1da91bc-5da6-4eaf-cc9d-b5e272aa472b"
      },
      "source": [
        "v[0:5]"
      ],
      "execution_count": 27,
      "outputs": [
        {
          "output_type": "execute_result",
          "data": {
            "text/plain": [
              "array([[ 6.11129229e-03, -3.01286779e-03,  4.23397926e-03,\n",
              "        -1.04891387e-02,  1.07027240e-02],\n",
              "       [ 2.56244091e-03, -2.48048293e-05, -1.57992647e-03,\n",
              "        -9.53728620e-03,  9.34919193e-04],\n",
              "       [ 2.88872886e-03,  3.56999547e-03,  2.29329974e-03,\n",
              "        -3.65057389e-03, -9.27850299e-03],\n",
              "       [ 1.65133380e-03, -4.32226461e-03,  8.44438385e-03,\n",
              "         1.02834013e-02, -5.60812480e-03],\n",
              "       [ 2.74624645e-03, -1.68377972e-03,  3.81887070e-03,\n",
              "        -8.35110086e-03, -9.95118244e-04]])"
            ]
          },
          "metadata": {
            "tags": []
          },
          "execution_count": 27
        }
      ]
    },
    {
      "cell_type": "code",
      "metadata": {
        "colab": {
          "base_uri": "https://localhost:8080/"
        },
        "id": "_CQ6j2Gt0v_Y",
        "outputId": "754a0988-4637-4ccb-bc2f-37ca20a51770"
      },
      "source": [
        "v_vot[0:5]"
      ],
      "execution_count": 28,
      "outputs": [
        {
          "output_type": "execute_result",
          "data": {
            "text/plain": [
              "array([[ 5.92032311e-03, -4.57816872e-04, -4.54762431e-03,\n",
              "        -1.49779148e-02,  2.93998956e-03],\n",
              "       [-7.15376600e-04, -1.22776823e-03, -6.30220133e-03,\n",
              "        -6.93549558e-03, -3.32547279e-03],\n",
              "       [-1.95990986e-03,  2.30734460e-03,  1.04557851e-03,\n",
              "        -3.06646887e-04, -1.07430815e-02],\n",
              "       [ 3.87824401e-05,  1.56862661e-03,  1.48398003e-02,\n",
              "         2.64982537e-03, -4.61042074e-04],\n",
              "       [-1.21174926e-03,  1.44815790e-03, -1.17535271e-03,\n",
              "        -8.63286955e-03, -4.02722172e-03]])"
            ]
          },
          "metadata": {
            "tags": []
          },
          "execution_count": 28
        }
      ]
    },
    {
      "cell_type": "code",
      "metadata": {
        "id": "-XD4Nu4W1pFc"
      },
      "source": [
        "u_rot = np.dot(M2_arr,v_vot)"
      ],
      "execution_count": 29,
      "outputs": []
    },
    {
      "cell_type": "code",
      "metadata": {
        "colab": {
          "base_uri": "https://localhost:8080/"
        },
        "id": "fPJfezd6CCtI",
        "outputId": "443d5b92-d5d4-4e02-93cc-d7428ca9851b"
      },
      "source": [
        "u_rot.shape"
      ],
      "execution_count": 30,
      "outputs": [
        {
          "output_type": "execute_result",
          "data": {
            "text/plain": [
              "(19742, 5)"
            ]
          },
          "metadata": {
            "tags": []
          },
          "execution_count": 30
        }
      ]
    },
    {
      "cell_type": "code",
      "metadata": {
        "id": "zyiPO18bFgUp",
        "colab": {
          "base_uri": "https://localhost:8080/",
          "height": 407
        },
        "outputId": "deb4f2f8-a097-4fd1-e2c4-c992db332383"
      },
      "source": [
        "user_row_new = users.reset_index().set_index('userid').loc[new_row_names, 'index'].values\r\n",
        "newusers=users.loc[ user_row_new , : ]\r\n",
        "newusers = newusers.drop('userid', axis=1)\r\n",
        "newusers.index=range(19742)\r\n",
        "newusers"
      ],
      "execution_count": 63,
      "outputs": [
        {
          "output_type": "execute_result",
          "data": {
            "text/html": [
              "<div>\n",
              "<style scoped>\n",
              "    .dataframe tbody tr th:only-of-type {\n",
              "        vertical-align: middle;\n",
              "    }\n",
              "\n",
              "    .dataframe tbody tr th {\n",
              "        vertical-align: top;\n",
              "    }\n",
              "\n",
              "    .dataframe thead th {\n",
              "        text-align: right;\n",
              "    }\n",
              "</style>\n",
              "<table border=\"1\" class=\"dataframe\">\n",
              "  <thead>\n",
              "    <tr style=\"text-align: right;\">\n",
              "      <th></th>\n",
              "      <th>gender</th>\n",
              "      <th>age</th>\n",
              "      <th>political</th>\n",
              "      <th>ope</th>\n",
              "      <th>con</th>\n",
              "      <th>ext</th>\n",
              "      <th>agr</th>\n",
              "      <th>neu</th>\n",
              "    </tr>\n",
              "  </thead>\n",
              "  <tbody>\n",
              "    <tr>\n",
              "      <th>0</th>\n",
              "      <td>0</td>\n",
              "      <td>47</td>\n",
              "      <td>NaN</td>\n",
              "      <td>-0.31</td>\n",
              "      <td>-0.57</td>\n",
              "      <td>-0.89</td>\n",
              "      <td>0.41</td>\n",
              "      <td>1.17</td>\n",
              "    </tr>\n",
              "    <tr>\n",
              "      <th>1</th>\n",
              "      <td>0</td>\n",
              "      <td>35</td>\n",
              "      <td>NaN</td>\n",
              "      <td>0.61</td>\n",
              "      <td>-0.12</td>\n",
              "      <td>-0.64</td>\n",
              "      <td>-1.01</td>\n",
              "      <td>-1.50</td>\n",
              "    </tr>\n",
              "    <tr>\n",
              "      <th>2</th>\n",
              "      <td>1</td>\n",
              "      <td>29</td>\n",
              "      <td>0.0</td>\n",
              "      <td>-0.31</td>\n",
              "      <td>-0.94</td>\n",
              "      <td>-0.77</td>\n",
              "      <td>-1.76</td>\n",
              "      <td>1.05</td>\n",
              "    </tr>\n",
              "    <tr>\n",
              "      <th>3</th>\n",
              "      <td>1</td>\n",
              "      <td>28</td>\n",
              "      <td>0.0</td>\n",
              "      <td>-0.68</td>\n",
              "      <td>0.54</td>\n",
              "      <td>-0.52</td>\n",
              "      <td>-1.01</td>\n",
              "      <td>-0.51</td>\n",
              "    </tr>\n",
              "    <tr>\n",
              "      <th>4</th>\n",
              "      <td>0</td>\n",
              "      <td>35</td>\n",
              "      <td>NaN</td>\n",
              "      <td>-0.41</td>\n",
              "      <td>-0.86</td>\n",
              "      <td>-1.02</td>\n",
              "      <td>-0.18</td>\n",
              "      <td>0.30</td>\n",
              "    </tr>\n",
              "    <tr>\n",
              "      <th>...</th>\n",
              "      <td>...</td>\n",
              "      <td>...</td>\n",
              "      <td>...</td>\n",
              "      <td>...</td>\n",
              "      <td>...</td>\n",
              "      <td>...</td>\n",
              "      <td>...</td>\n",
              "      <td>...</td>\n",
              "    </tr>\n",
              "    <tr>\n",
              "      <th>19737</th>\n",
              "      <td>1</td>\n",
              "      <td>23</td>\n",
              "      <td>NaN</td>\n",
              "      <td>-0.31</td>\n",
              "      <td>-1.97</td>\n",
              "      <td>-1.21</td>\n",
              "      <td>-1.09</td>\n",
              "      <td>1.79</td>\n",
              "    </tr>\n",
              "    <tr>\n",
              "      <th>19738</th>\n",
              "      <td>1</td>\n",
              "      <td>26</td>\n",
              "      <td>1.0</td>\n",
              "      <td>1.26</td>\n",
              "      <td>0.17</td>\n",
              "      <td>1.11</td>\n",
              "      <td>0.12</td>\n",
              "      <td>0.18</td>\n",
              "    </tr>\n",
              "    <tr>\n",
              "      <th>19739</th>\n",
              "      <td>1</td>\n",
              "      <td>20</td>\n",
              "      <td>NaN</td>\n",
              "      <td>-0.04</td>\n",
              "      <td>0.69</td>\n",
              "      <td>0.17</td>\n",
              "      <td>0.82</td>\n",
              "      <td>0.80</td>\n",
              "    </tr>\n",
              "    <tr>\n",
              "      <th>19740</th>\n",
              "      <td>1</td>\n",
              "      <td>35</td>\n",
              "      <td>0.0</td>\n",
              "      <td>1.63</td>\n",
              "      <td>-0.72</td>\n",
              "      <td>1.86</td>\n",
              "      <td>1.41</td>\n",
              "      <td>-1.01</td>\n",
              "    </tr>\n",
              "    <tr>\n",
              "      <th>19741</th>\n",
              "      <td>0</td>\n",
              "      <td>26</td>\n",
              "      <td>1.0</td>\n",
              "      <td>0.24</td>\n",
              "      <td>0.17</td>\n",
              "      <td>0.73</td>\n",
              "      <td>-0.34</td>\n",
              "      <td>-0.32</td>\n",
              "    </tr>\n",
              "  </tbody>\n",
              "</table>\n",
              "<p>19742 rows × 8 columns</p>\n",
              "</div>"
            ],
            "text/plain": [
              "       gender  age  political   ope   con   ext   agr   neu\n",
              "0           0   47        NaN -0.31 -0.57 -0.89  0.41  1.17\n",
              "1           0   35        NaN  0.61 -0.12 -0.64 -1.01 -1.50\n",
              "2           1   29        0.0 -0.31 -0.94 -0.77 -1.76  1.05\n",
              "3           1   28        0.0 -0.68  0.54 -0.52 -1.01 -0.51\n",
              "4           0   35        NaN -0.41 -0.86 -1.02 -0.18  0.30\n",
              "...       ...  ...        ...   ...   ...   ...   ...   ...\n",
              "19737       1   23        NaN -0.31 -1.97 -1.21 -1.09  1.79\n",
              "19738       1   26        1.0  1.26  0.17  1.11  0.12  0.18\n",
              "19739       1   20        NaN -0.04  0.69  0.17  0.82  0.80\n",
              "19740       1   35        0.0  1.63 -0.72  1.86  1.41 -1.01\n",
              "19741       0   26        1.0  0.24  0.17  0.73 -0.34 -0.32\n",
              "\n",
              "[19742 rows x 8 columns]"
            ]
          },
          "metadata": {
            "tags": []
          },
          "execution_count": 63
        }
      ]
    },
    {
      "cell_type": "code",
      "metadata": {
        "colab": {
          "base_uri": "https://localhost:8080/"
        },
        "id": "PzlZAMMSMEVO",
        "outputId": "dfe13c29-71d9-4415-945e-26c91a156805"
      },
      "source": [
        "print(np.max(newusers[\"ope\"]))\r\n",
        "print(np.min(newusers[\"ope\"]))"
      ],
      "execution_count": 64,
      "outputs": [
        {
          "output_type": "stream",
          "text": [
            "1.9\n",
            "-5.22\n"
          ],
          "name": "stdout"
        }
      ]
    },
    {
      "cell_type": "code",
      "metadata": {
        "id": "4O_FIn9NH06A"
      },
      "source": [
        "newusers_np = newusers.to_numpy()"
      ],
      "execution_count": 32,
      "outputs": []
    },
    {
      "cell_type": "code",
      "metadata": {
        "colab": {
          "base_uri": "https://localhost:8080/"
        },
        "id": "1ijYXS5AJ_rk",
        "outputId": "c557db3c-0b8e-4c4e-95c3-0ba7f2eae32e"
      },
      "source": [
        "u_rot.shape"
      ],
      "execution_count": 33,
      "outputs": [
        {
          "output_type": "execute_result",
          "data": {
            "text/plain": [
              "(19742, 5)"
            ]
          },
          "metadata": {
            "tags": []
          },
          "execution_count": 33
        }
      ]
    },
    {
      "cell_type": "code",
      "metadata": {
        "id": "eSkI5KuyK1K8"
      },
      "source": [
        "u_rot_t = u_rot.T\n",
        "newusers_np_t = newusers_np.T"
      ],
      "execution_count": 34,
      "outputs": []
    },
    {
      "cell_type": "code",
      "metadata": {
        "id": "Jph56StACixR"
      },
      "source": [
        "def pcorrelation(np_arr1, np_arr2):\n",
        "    #correlation - one vectorized solution using broadcasting -\n",
        "    #https://stackoverflow.com/questions/33650188/efficient-pairwise-correlation-for-two-matrices-of-features/33651442#33651442\n",
        "    \n",
        "    # Get number of rows in either A or B\n",
        "    N = np_arr1.shape[0]\n",
        "    \n",
        "    # Store columnw-wise in A and B, as they would be used at few places\n",
        "    sA = np_arr2.sum(0)\n",
        "    sB = np_arr1.sum(0)\n",
        "    \n",
        "    # Basically there are four parts in the formula. We would compute them one-by-one\n",
        "    p1 = N*np.einsum('ij,ik->kj',np_arr2,np_arr1)\n",
        "    p2 = sA*sB[:,None]\n",
        "    p3 = N*((np_arr1**2).sum(0)) - (sB**2)\n",
        "    p4 = N*((np_arr2**2).sum(0)) - (sA**2)\n",
        "    \n",
        "    # Finally compute Pearson Correlation Coefficient as 2D array \n",
        "    pcorr = ((p1 - p2)/np.sqrt(p4*p3[:,None]))\n",
        "    \n",
        "    # Get the element corresponding to absolute argmax along the columns \n",
        "    out = pcorr[np.nanargmax(np.abs(pcorr),axis=0),np.arange(pcorr.shape[1])]\n",
        "    return pcorr"
      ],
      "execution_count": 35,
      "outputs": []
    },
    {
      "cell_type": "code",
      "metadata": {
        "id": "MZZ28_JDUCGE"
      },
      "source": [
        "pcorr=pcorrelation(newusers_np, u_rot)"
      ],
      "execution_count": 36,
      "outputs": []
    },
    {
      "cell_type": "code",
      "metadata": {
        "id": "vu1IMiahVGJZ"
      },
      "source": [
        "pcorr_t = pcorr.T"
      ],
      "execution_count": 37,
      "outputs": []
    },
    {
      "cell_type": "code",
      "metadata": {
        "id": "-Eh7CB3WVMfr",
        "colab": {
          "base_uri": "https://localhost:8080/",
          "height": 198
        },
        "outputId": "35a93698-d377-4928-944f-43d2b138aec0"
      },
      "source": [
        "pcorr_df = pd.DataFrame({'gender': pcorr_t[:, 0], 'age': pcorr_t[:, 1], 'political': pcorr_t[:, 2],'ope': pcorr_t[:, 3],'con': pcorr_t[:, 4],'ext': pcorr_t[:, 5],'agr': pcorr_t[:, 6],'neu': pcorr_t[:, 7]})\r\n",
        "pcorr_df"
      ],
      "execution_count": 38,
      "outputs": [
        {
          "output_type": "execute_result",
          "data": {
            "text/html": [
              "<div>\n",
              "<style scoped>\n",
              "    .dataframe tbody tr th:only-of-type {\n",
              "        vertical-align: middle;\n",
              "    }\n",
              "\n",
              "    .dataframe tbody tr th {\n",
              "        vertical-align: top;\n",
              "    }\n",
              "\n",
              "    .dataframe thead th {\n",
              "        text-align: right;\n",
              "    }\n",
              "</style>\n",
              "<table border=\"1\" class=\"dataframe\">\n",
              "  <thead>\n",
              "    <tr style=\"text-align: right;\">\n",
              "      <th></th>\n",
              "      <th>gender</th>\n",
              "      <th>age</th>\n",
              "      <th>political</th>\n",
              "      <th>ope</th>\n",
              "      <th>con</th>\n",
              "      <th>ext</th>\n",
              "      <th>agr</th>\n",
              "      <th>neu</th>\n",
              "    </tr>\n",
              "  </thead>\n",
              "  <tbody>\n",
              "    <tr>\n",
              "      <th>0</th>\n",
              "      <td>0.106599</td>\n",
              "      <td>-0.191047</td>\n",
              "      <td>NaN</td>\n",
              "      <td>-0.056489</td>\n",
              "      <td>-0.080904</td>\n",
              "      <td>0.001797</td>\n",
              "      <td>-0.023170</td>\n",
              "      <td>0.066799</td>\n",
              "    </tr>\n",
              "    <tr>\n",
              "      <th>1</th>\n",
              "      <td>-0.103728</td>\n",
              "      <td>0.136168</td>\n",
              "      <td>NaN</td>\n",
              "      <td>0.096356</td>\n",
              "      <td>0.009801</td>\n",
              "      <td>-0.074727</td>\n",
              "      <td>-0.025565</td>\n",
              "      <td>-0.012013</td>\n",
              "    </tr>\n",
              "    <tr>\n",
              "      <th>2</th>\n",
              "      <td>-0.171072</td>\n",
              "      <td>0.144912</td>\n",
              "      <td>NaN</td>\n",
              "      <td>0.196468</td>\n",
              "      <td>-0.042305</td>\n",
              "      <td>-0.011049</td>\n",
              "      <td>-0.007029</td>\n",
              "      <td>-0.029181</td>\n",
              "    </tr>\n",
              "    <tr>\n",
              "      <th>3</th>\n",
              "      <td>-0.011215</td>\n",
              "      <td>0.088553</td>\n",
              "      <td>NaN</td>\n",
              "      <td>-0.048523</td>\n",
              "      <td>0.038322</td>\n",
              "      <td>0.016669</td>\n",
              "      <td>0.015859</td>\n",
              "      <td>-0.070278</td>\n",
              "    </tr>\n",
              "    <tr>\n",
              "      <th>4</th>\n",
              "      <td>-0.110245</td>\n",
              "      <td>0.158118</td>\n",
              "      <td>NaN</td>\n",
              "      <td>0.067437</td>\n",
              "      <td>0.068592</td>\n",
              "      <td>-0.027678</td>\n",
              "      <td>0.041180</td>\n",
              "      <td>-0.066856</td>\n",
              "    </tr>\n",
              "  </tbody>\n",
              "</table>\n",
              "</div>"
            ],
            "text/plain": [
              "     gender       age  political  ...       ext       agr       neu\n",
              "0  0.106599 -0.191047        NaN  ...  0.001797 -0.023170  0.066799\n",
              "1 -0.103728  0.136168        NaN  ... -0.074727 -0.025565 -0.012013\n",
              "2 -0.171072  0.144912        NaN  ... -0.011049 -0.007029 -0.029181\n",
              "3 -0.011215  0.088553        NaN  ...  0.016669  0.015859 -0.070278\n",
              "4 -0.110245  0.158118        NaN  ... -0.027678  0.041180 -0.066856\n",
              "\n",
              "[5 rows x 8 columns]"
            ]
          },
          "metadata": {
            "tags": []
          },
          "execution_count": 38
        }
      ]
    },
    {
      "cell_type": "code",
      "metadata": {
        "colab": {
          "base_uri": "https://localhost:8080/",
          "height": 283
        },
        "id": "NbkQU2YfG-g_",
        "outputId": "8d8fce1c-e060-4cbd-a836-d6d933c778bf"
      },
      "source": [
        "import numpy as np \r\n",
        "from pandas import DataFrame\r\n",
        "import seaborn as sns\r\n",
        "%matplotlib inline\r\n",
        "\r\n",
        "Index= pcorr_df.drop(['gender', 'age', 'political'], axis=1).columns.tolist()\r\n",
        "Cols = ['1', '2', '3', '4', '5']\r\n",
        "df = DataFrame(pcorr[3:,:], index=Index, columns=Cols)\r\n",
        "\r\n",
        "sns.heatmap(df, annot=True)"
      ],
      "execution_count": 39,
      "outputs": [
        {
          "output_type": "execute_result",
          "data": {
            "text/plain": [
              "<matplotlib.axes._subplots.AxesSubplot at 0x7f03b69d2f28>"
            ]
          },
          "metadata": {
            "tags": []
          },
          "execution_count": 39
        },
        {
          "output_type": "display_data",
          "data": {
            "image/png": "[encoded data removed]",
            "text/plain": [
              "<Figure size 432x288 with 2 Axes>"
            ]
          },
          "metadata": {
            "tags": [],
            "needs_background": "light"
          }
        }
      ]
    },
    {
      "cell_type": "code",
      "metadata": {
        "id": "DHtIe-rHYJ3z",
        "colab": {
          "base_uri": "https://localhost:8080/"
        },
        "outputId": "96266366-81f3-45c7-b54a-28a884c05179"
      },
      "source": [
        "folds = np.random.choice(range(0,10),newusers_np.shape[0])\n",
        "folds"
      ],
      "execution_count": 40,
      "outputs": [
        {
          "output_type": "execute_result",
          "data": {
            "text/plain": [
              "array([1, 4, 6, ..., 4, 3, 4])"
            ]
          },
          "metadata": {
            "tags": []
          },
          "execution_count": 40
        }
      ]
    },
    {
      "cell_type": "code",
      "metadata": {
        "colab": {
          "base_uri": "https://localhost:8080/"
        },
        "id": "umo1TGHaa8Wh",
        "outputId": "4e9427a8-289a-4c8e-9695-7134b6d74935"
      },
      "source": [
        "folds.tolist().index(9)"
      ],
      "execution_count": 41,
      "outputs": [
        {
          "output_type": "execute_result",
          "data": {
            "text/plain": [
              "3"
            ]
          },
          "metadata": {
            "tags": []
          },
          "execution_count": 41
        }
      ]
    },
    {
      "cell_type": "code",
      "metadata": {
        "id": "hEs87XWCa6FK"
      },
      "source": [
        "test_arr=np.where(np.isin(folds, 0))[0].tolist()\n",
        "train_arr=np.where(np.isin(folds, range(1,10)))[0].tolist()\n",
        "train_subset=[True if folds[i]!=0 else False for i in range(len(folds))]\n",
        "test_subset=[True if folds[i]==0 else False for i in range(len(folds))]"
      ],
      "execution_count": 42,
      "outputs": []
    },
    {
      "cell_type": "code",
      "metadata": {
        "id": "uYPCe43VmtmD"
      },
      "source": [
        "M_df= pd.DataFrame(data=M2_arr[0:,0:],\n",
        "                      index=[i for i in range(M2_arr.shape[0])],\n",
        "                      columns=['f'+str(i) for i in range(M2_arr.shape[1])])"
      ],
      "execution_count": 43,
      "outputs": []
    },
    {
      "cell_type": "code",
      "metadata": {
        "colab": {
          "base_uri": "https://localhost:8080/",
          "height": 427
        },
        "id": "fuWE1NOMn41m",
        "outputId": "11582a27-1b2e-45b8-b04b-d33ce302d75d"
      },
      "source": [
        "M_df"
      ],
      "execution_count": 44,
      "outputs": [
        {
          "output_type": "execute_result",
          "data": {
            "text/html": [
              "<div>\n",
              "<style scoped>\n",
              "    .dataframe tbody tr th:only-of-type {\n",
              "        vertical-align: middle;\n",
              "    }\n",
              "\n",
              "    .dataframe tbody tr th {\n",
              "        vertical-align: top;\n",
              "    }\n",
              "\n",
              "    .dataframe thead th {\n",
              "        text-align: right;\n",
              "    }\n",
              "</style>\n",
              "<table border=\"1\" class=\"dataframe\">\n",
              "  <thead>\n",
              "    <tr style=\"text-align: right;\">\n",
              "      <th></th>\n",
              "      <th>f0</th>\n",
              "      <th>f1</th>\n",
              "      <th>f2</th>\n",
              "      <th>f3</th>\n",
              "      <th>f4</th>\n",
              "      <th>f5</th>\n",
              "      <th>f6</th>\n",
              "      <th>f7</th>\n",
              "      <th>f8</th>\n",
              "      <th>f9</th>\n",
              "      <th>f10</th>\n",
              "      <th>f11</th>\n",
              "      <th>f12</th>\n",
              "      <th>f13</th>\n",
              "      <th>f14</th>\n",
              "      <th>f15</th>\n",
              "      <th>f16</th>\n",
              "      <th>f17</th>\n",
              "      <th>f18</th>\n",
              "      <th>f19</th>\n",
              "      <th>f20</th>\n",
              "      <th>f21</th>\n",
              "      <th>f22</th>\n",
              "      <th>f23</th>\n",
              "      <th>f24</th>\n",
              "      <th>f25</th>\n",
              "      <th>f26</th>\n",
              "      <th>f27</th>\n",
              "      <th>f28</th>\n",
              "      <th>f29</th>\n",
              "      <th>f30</th>\n",
              "      <th>f31</th>\n",
              "      <th>f32</th>\n",
              "      <th>f33</th>\n",
              "      <th>f34</th>\n",
              "      <th>f35</th>\n",
              "      <th>f36</th>\n",
              "      <th>f37</th>\n",
              "      <th>f38</th>\n",
              "      <th>f39</th>\n",
              "      <th>...</th>\n",
              "      <th>f8483</th>\n",
              "      <th>f8484</th>\n",
              "      <th>f8485</th>\n",
              "      <th>f8486</th>\n",
              "      <th>f8487</th>\n",
              "      <th>f8488</th>\n",
              "      <th>f8489</th>\n",
              "      <th>f8490</th>\n",
              "      <th>f8491</th>\n",
              "      <th>f8492</th>\n",
              "      <th>f8493</th>\n",
              "      <th>f8494</th>\n",
              "      <th>f8495</th>\n",
              "      <th>f8496</th>\n",
              "      <th>f8497</th>\n",
              "      <th>f8498</th>\n",
              "      <th>f8499</th>\n",
              "      <th>f8500</th>\n",
              "      <th>f8501</th>\n",
              "      <th>f8502</th>\n",
              "      <th>f8503</th>\n",
              "      <th>f8504</th>\n",
              "      <th>f8505</th>\n",
              "      <th>f8506</th>\n",
              "      <th>f8507</th>\n",
              "      <th>f8508</th>\n",
              "      <th>f8509</th>\n",
              "      <th>f8510</th>\n",
              "      <th>f8511</th>\n",
              "      <th>f8512</th>\n",
              "      <th>f8513</th>\n",
              "      <th>f8514</th>\n",
              "      <th>f8515</th>\n",
              "      <th>f8516</th>\n",
              "      <th>f8517</th>\n",
              "      <th>f8518</th>\n",
              "      <th>f8519</th>\n",
              "      <th>f8520</th>\n",
              "      <th>f8521</th>\n",
              "      <th>f8522</th>\n",
              "    </tr>\n",
              "  </thead>\n",
              "  <tbody>\n",
              "    <tr>\n",
              "      <th>0</th>\n",
              "      <td>0</td>\n",
              "      <td>0</td>\n",
              "      <td>0</td>\n",
              "      <td>0</td>\n",
              "      <td>0</td>\n",
              "      <td>0</td>\n",
              "      <td>0</td>\n",
              "      <td>0</td>\n",
              "      <td>0</td>\n",
              "      <td>0</td>\n",
              "      <td>0</td>\n",
              "      <td>0</td>\n",
              "      <td>0</td>\n",
              "      <td>0</td>\n",
              "      <td>0</td>\n",
              "      <td>0</td>\n",
              "      <td>0</td>\n",
              "      <td>0</td>\n",
              "      <td>0</td>\n",
              "      <td>0</td>\n",
              "      <td>0</td>\n",
              "      <td>0</td>\n",
              "      <td>0</td>\n",
              "      <td>0</td>\n",
              "      <td>0</td>\n",
              "      <td>0</td>\n",
              "      <td>0</td>\n",
              "      <td>0</td>\n",
              "      <td>0</td>\n",
              "      <td>0</td>\n",
              "      <td>0</td>\n",
              "      <td>0</td>\n",
              "      <td>0</td>\n",
              "      <td>0</td>\n",
              "      <td>0</td>\n",
              "      <td>0</td>\n",
              "      <td>0</td>\n",
              "      <td>0</td>\n",
              "      <td>0</td>\n",
              "      <td>0</td>\n",
              "      <td>...</td>\n",
              "      <td>0</td>\n",
              "      <td>0</td>\n",
              "      <td>0</td>\n",
              "      <td>0</td>\n",
              "      <td>0</td>\n",
              "      <td>0</td>\n",
              "      <td>0</td>\n",
              "      <td>0</td>\n",
              "      <td>0</td>\n",
              "      <td>0</td>\n",
              "      <td>0</td>\n",
              "      <td>0</td>\n",
              "      <td>0</td>\n",
              "      <td>0</td>\n",
              "      <td>0</td>\n",
              "      <td>0</td>\n",
              "      <td>0</td>\n",
              "      <td>0</td>\n",
              "      <td>0</td>\n",
              "      <td>0</td>\n",
              "      <td>0</td>\n",
              "      <td>0</td>\n",
              "      <td>0</td>\n",
              "      <td>0</td>\n",
              "      <td>0</td>\n",
              "      <td>0</td>\n",
              "      <td>0</td>\n",
              "      <td>0</td>\n",
              "      <td>0</td>\n",
              "      <td>0</td>\n",
              "      <td>0</td>\n",
              "      <td>0</td>\n",
              "      <td>0</td>\n",
              "      <td>0</td>\n",
              "      <td>0</td>\n",
              "      <td>0</td>\n",
              "      <td>0</td>\n",
              "      <td>0</td>\n",
              "      <td>0</td>\n",
              "      <td>0</td>\n",
              "    </tr>\n",
              "    <tr>\n",
              "      <th>1</th>\n",
              "      <td>0</td>\n",
              "      <td>0</td>\n",
              "      <td>0</td>\n",
              "      <td>0</td>\n",
              "      <td>0</td>\n",
              "      <td>0</td>\n",
              "      <td>0</td>\n",
              "      <td>0</td>\n",
              "      <td>0</td>\n",
              "      <td>0</td>\n",
              "      <td>0</td>\n",
              "      <td>0</td>\n",
              "      <td>0</td>\n",
              "      <td>0</td>\n",
              "      <td>0</td>\n",
              "      <td>0</td>\n",
              "      <td>0</td>\n",
              "      <td>0</td>\n",
              "      <td>0</td>\n",
              "      <td>0</td>\n",
              "      <td>0</td>\n",
              "      <td>0</td>\n",
              "      <td>0</td>\n",
              "      <td>0</td>\n",
              "      <td>0</td>\n",
              "      <td>0</td>\n",
              "      <td>0</td>\n",
              "      <td>0</td>\n",
              "      <td>0</td>\n",
              "      <td>0</td>\n",
              "      <td>0</td>\n",
              "      <td>0</td>\n",
              "      <td>0</td>\n",
              "      <td>0</td>\n",
              "      <td>0</td>\n",
              "      <td>0</td>\n",
              "      <td>0</td>\n",
              "      <td>0</td>\n",
              "      <td>0</td>\n",
              "      <td>0</td>\n",
              "      <td>...</td>\n",
              "      <td>0</td>\n",
              "      <td>0</td>\n",
              "      <td>0</td>\n",
              "      <td>0</td>\n",
              "      <td>0</td>\n",
              "      <td>0</td>\n",
              "      <td>0</td>\n",
              "      <td>0</td>\n",
              "      <td>0</td>\n",
              "      <td>0</td>\n",
              "      <td>0</td>\n",
              "      <td>0</td>\n",
              "      <td>0</td>\n",
              "      <td>0</td>\n",
              "      <td>0</td>\n",
              "      <td>0</td>\n",
              "      <td>0</td>\n",
              "      <td>0</td>\n",
              "      <td>0</td>\n",
              "      <td>0</td>\n",
              "      <td>0</td>\n",
              "      <td>0</td>\n",
              "      <td>0</td>\n",
              "      <td>0</td>\n",
              "      <td>0</td>\n",
              "      <td>0</td>\n",
              "      <td>0</td>\n",
              "      <td>0</td>\n",
              "      <td>0</td>\n",
              "      <td>0</td>\n",
              "      <td>0</td>\n",
              "      <td>0</td>\n",
              "      <td>1</td>\n",
              "      <td>0</td>\n",
              "      <td>0</td>\n",
              "      <td>0</td>\n",
              "      <td>0</td>\n",
              "      <td>0</td>\n",
              "      <td>0</td>\n",
              "      <td>0</td>\n",
              "    </tr>\n",
              "    <tr>\n",
              "      <th>2</th>\n",
              "      <td>0</td>\n",
              "      <td>0</td>\n",
              "      <td>0</td>\n",
              "      <td>0</td>\n",
              "      <td>0</td>\n",
              "      <td>0</td>\n",
              "      <td>0</td>\n",
              "      <td>0</td>\n",
              "      <td>0</td>\n",
              "      <td>0</td>\n",
              "      <td>0</td>\n",
              "      <td>0</td>\n",
              "      <td>0</td>\n",
              "      <td>0</td>\n",
              "      <td>1</td>\n",
              "      <td>0</td>\n",
              "      <td>0</td>\n",
              "      <td>0</td>\n",
              "      <td>0</td>\n",
              "      <td>0</td>\n",
              "      <td>0</td>\n",
              "      <td>0</td>\n",
              "      <td>0</td>\n",
              "      <td>0</td>\n",
              "      <td>0</td>\n",
              "      <td>0</td>\n",
              "      <td>0</td>\n",
              "      <td>0</td>\n",
              "      <td>0</td>\n",
              "      <td>0</td>\n",
              "      <td>0</td>\n",
              "      <td>0</td>\n",
              "      <td>0</td>\n",
              "      <td>0</td>\n",
              "      <td>0</td>\n",
              "      <td>0</td>\n",
              "      <td>0</td>\n",
              "      <td>0</td>\n",
              "      <td>1</td>\n",
              "      <td>0</td>\n",
              "      <td>...</td>\n",
              "      <td>0</td>\n",
              "      <td>0</td>\n",
              "      <td>0</td>\n",
              "      <td>0</td>\n",
              "      <td>0</td>\n",
              "      <td>0</td>\n",
              "      <td>0</td>\n",
              "      <td>0</td>\n",
              "      <td>0</td>\n",
              "      <td>0</td>\n",
              "      <td>0</td>\n",
              "      <td>0</td>\n",
              "      <td>0</td>\n",
              "      <td>0</td>\n",
              "      <td>0</td>\n",
              "      <td>0</td>\n",
              "      <td>0</td>\n",
              "      <td>0</td>\n",
              "      <td>0</td>\n",
              "      <td>0</td>\n",
              "      <td>0</td>\n",
              "      <td>0</td>\n",
              "      <td>0</td>\n",
              "      <td>0</td>\n",
              "      <td>0</td>\n",
              "      <td>0</td>\n",
              "      <td>0</td>\n",
              "      <td>0</td>\n",
              "      <td>0</td>\n",
              "      <td>0</td>\n",
              "      <td>0</td>\n",
              "      <td>0</td>\n",
              "      <td>0</td>\n",
              "      <td>0</td>\n",
              "      <td>0</td>\n",
              "      <td>0</td>\n",
              "      <td>0</td>\n",
              "      <td>0</td>\n",
              "      <td>0</td>\n",
              "      <td>0</td>\n",
              "    </tr>\n",
              "    <tr>\n",
              "      <th>3</th>\n",
              "      <td>0</td>\n",
              "      <td>0</td>\n",
              "      <td>0</td>\n",
              "      <td>0</td>\n",
              "      <td>0</td>\n",
              "      <td>0</td>\n",
              "      <td>0</td>\n",
              "      <td>0</td>\n",
              "      <td>0</td>\n",
              "      <td>0</td>\n",
              "      <td>0</td>\n",
              "      <td>0</td>\n",
              "      <td>0</td>\n",
              "      <td>0</td>\n",
              "      <td>1</td>\n",
              "      <td>1</td>\n",
              "      <td>0</td>\n",
              "      <td>0</td>\n",
              "      <td>0</td>\n",
              "      <td>0</td>\n",
              "      <td>0</td>\n",
              "      <td>0</td>\n",
              "      <td>0</td>\n",
              "      <td>0</td>\n",
              "      <td>0</td>\n",
              "      <td>0</td>\n",
              "      <td>0</td>\n",
              "      <td>0</td>\n",
              "      <td>0</td>\n",
              "      <td>0</td>\n",
              "      <td>0</td>\n",
              "      <td>0</td>\n",
              "      <td>0</td>\n",
              "      <td>0</td>\n",
              "      <td>0</td>\n",
              "      <td>0</td>\n",
              "      <td>0</td>\n",
              "      <td>0</td>\n",
              "      <td>1</td>\n",
              "      <td>0</td>\n",
              "      <td>...</td>\n",
              "      <td>0</td>\n",
              "      <td>0</td>\n",
              "      <td>0</td>\n",
              "      <td>0</td>\n",
              "      <td>0</td>\n",
              "      <td>0</td>\n",
              "      <td>0</td>\n",
              "      <td>0</td>\n",
              "      <td>0</td>\n",
              "      <td>0</td>\n",
              "      <td>0</td>\n",
              "      <td>0</td>\n",
              "      <td>0</td>\n",
              "      <td>0</td>\n",
              "      <td>0</td>\n",
              "      <td>0</td>\n",
              "      <td>0</td>\n",
              "      <td>0</td>\n",
              "      <td>0</td>\n",
              "      <td>0</td>\n",
              "      <td>0</td>\n",
              "      <td>0</td>\n",
              "      <td>0</td>\n",
              "      <td>0</td>\n",
              "      <td>0</td>\n",
              "      <td>0</td>\n",
              "      <td>0</td>\n",
              "      <td>1</td>\n",
              "      <td>0</td>\n",
              "      <td>0</td>\n",
              "      <td>0</td>\n",
              "      <td>0</td>\n",
              "      <td>0</td>\n",
              "      <td>0</td>\n",
              "      <td>0</td>\n",
              "      <td>0</td>\n",
              "      <td>0</td>\n",
              "      <td>0</td>\n",
              "      <td>0</td>\n",
              "      <td>0</td>\n",
              "    </tr>\n",
              "    <tr>\n",
              "      <th>4</th>\n",
              "      <td>0</td>\n",
              "      <td>0</td>\n",
              "      <td>0</td>\n",
              "      <td>0</td>\n",
              "      <td>0</td>\n",
              "      <td>0</td>\n",
              "      <td>0</td>\n",
              "      <td>0</td>\n",
              "      <td>0</td>\n",
              "      <td>1</td>\n",
              "      <td>0</td>\n",
              "      <td>0</td>\n",
              "      <td>0</td>\n",
              "      <td>0</td>\n",
              "      <td>0</td>\n",
              "      <td>0</td>\n",
              "      <td>0</td>\n",
              "      <td>0</td>\n",
              "      <td>0</td>\n",
              "      <td>0</td>\n",
              "      <td>0</td>\n",
              "      <td>0</td>\n",
              "      <td>0</td>\n",
              "      <td>0</td>\n",
              "      <td>0</td>\n",
              "      <td>0</td>\n",
              "      <td>0</td>\n",
              "      <td>0</td>\n",
              "      <td>0</td>\n",
              "      <td>0</td>\n",
              "      <td>0</td>\n",
              "      <td>0</td>\n",
              "      <td>0</td>\n",
              "      <td>0</td>\n",
              "      <td>0</td>\n",
              "      <td>0</td>\n",
              "      <td>0</td>\n",
              "      <td>0</td>\n",
              "      <td>0</td>\n",
              "      <td>0</td>\n",
              "      <td>...</td>\n",
              "      <td>0</td>\n",
              "      <td>0</td>\n",
              "      <td>0</td>\n",
              "      <td>0</td>\n",
              "      <td>0</td>\n",
              "      <td>0</td>\n",
              "      <td>0</td>\n",
              "      <td>0</td>\n",
              "      <td>0</td>\n",
              "      <td>0</td>\n",
              "      <td>0</td>\n",
              "      <td>0</td>\n",
              "      <td>0</td>\n",
              "      <td>0</td>\n",
              "      <td>0</td>\n",
              "      <td>0</td>\n",
              "      <td>0</td>\n",
              "      <td>0</td>\n",
              "      <td>0</td>\n",
              "      <td>0</td>\n",
              "      <td>0</td>\n",
              "      <td>0</td>\n",
              "      <td>0</td>\n",
              "      <td>0</td>\n",
              "      <td>0</td>\n",
              "      <td>0</td>\n",
              "      <td>0</td>\n",
              "      <td>0</td>\n",
              "      <td>0</td>\n",
              "      <td>0</td>\n",
              "      <td>0</td>\n",
              "      <td>0</td>\n",
              "      <td>0</td>\n",
              "      <td>0</td>\n",
              "      <td>0</td>\n",
              "      <td>0</td>\n",
              "      <td>0</td>\n",
              "      <td>0</td>\n",
              "      <td>0</td>\n",
              "      <td>0</td>\n",
              "    </tr>\n",
              "    <tr>\n",
              "      <th>...</th>\n",
              "      <td>...</td>\n",
              "      <td>...</td>\n",
              "      <td>...</td>\n",
              "      <td>...</td>\n",
              "      <td>...</td>\n",
              "      <td>...</td>\n",
              "      <td>...</td>\n",
              "      <td>...</td>\n",
              "      <td>...</td>\n",
              "      <td>...</td>\n",
              "      <td>...</td>\n",
              "      <td>...</td>\n",
              "      <td>...</td>\n",
              "      <td>...</td>\n",
              "      <td>...</td>\n",
              "      <td>...</td>\n",
              "      <td>...</td>\n",
              "      <td>...</td>\n",
              "      <td>...</td>\n",
              "      <td>...</td>\n",
              "      <td>...</td>\n",
              "      <td>...</td>\n",
              "      <td>...</td>\n",
              "      <td>...</td>\n",
              "      <td>...</td>\n",
              "      <td>...</td>\n",
              "      <td>...</td>\n",
              "      <td>...</td>\n",
              "      <td>...</td>\n",
              "      <td>...</td>\n",
              "      <td>...</td>\n",
              "      <td>...</td>\n",
              "      <td>...</td>\n",
              "      <td>...</td>\n",
              "      <td>...</td>\n",
              "      <td>...</td>\n",
              "      <td>...</td>\n",
              "      <td>...</td>\n",
              "      <td>...</td>\n",
              "      <td>...</td>\n",
              "      <td>...</td>\n",
              "      <td>...</td>\n",
              "      <td>...</td>\n",
              "      <td>...</td>\n",
              "      <td>...</td>\n",
              "      <td>...</td>\n",
              "      <td>...</td>\n",
              "      <td>...</td>\n",
              "      <td>...</td>\n",
              "      <td>...</td>\n",
              "      <td>...</td>\n",
              "      <td>...</td>\n",
              "      <td>...</td>\n",
              "      <td>...</td>\n",
              "      <td>...</td>\n",
              "      <td>...</td>\n",
              "      <td>...</td>\n",
              "      <td>...</td>\n",
              "      <td>...</td>\n",
              "      <td>...</td>\n",
              "      <td>...</td>\n",
              "      <td>...</td>\n",
              "      <td>...</td>\n",
              "      <td>...</td>\n",
              "      <td>...</td>\n",
              "      <td>...</td>\n",
              "      <td>...</td>\n",
              "      <td>...</td>\n",
              "      <td>...</td>\n",
              "      <td>...</td>\n",
              "      <td>...</td>\n",
              "      <td>...</td>\n",
              "      <td>...</td>\n",
              "      <td>...</td>\n",
              "      <td>...</td>\n",
              "      <td>...</td>\n",
              "      <td>...</td>\n",
              "      <td>...</td>\n",
              "      <td>...</td>\n",
              "      <td>...</td>\n",
              "      <td>...</td>\n",
              "    </tr>\n",
              "    <tr>\n",
              "      <th>19737</th>\n",
              "      <td>0</td>\n",
              "      <td>0</td>\n",
              "      <td>0</td>\n",
              "      <td>0</td>\n",
              "      <td>0</td>\n",
              "      <td>0</td>\n",
              "      <td>0</td>\n",
              "      <td>0</td>\n",
              "      <td>0</td>\n",
              "      <td>0</td>\n",
              "      <td>0</td>\n",
              "      <td>0</td>\n",
              "      <td>0</td>\n",
              "      <td>0</td>\n",
              "      <td>0</td>\n",
              "      <td>0</td>\n",
              "      <td>0</td>\n",
              "      <td>0</td>\n",
              "      <td>0</td>\n",
              "      <td>0</td>\n",
              "      <td>0</td>\n",
              "      <td>0</td>\n",
              "      <td>0</td>\n",
              "      <td>0</td>\n",
              "      <td>0</td>\n",
              "      <td>0</td>\n",
              "      <td>0</td>\n",
              "      <td>0</td>\n",
              "      <td>1</td>\n",
              "      <td>0</td>\n",
              "      <td>0</td>\n",
              "      <td>0</td>\n",
              "      <td>0</td>\n",
              "      <td>0</td>\n",
              "      <td>0</td>\n",
              "      <td>0</td>\n",
              "      <td>0</td>\n",
              "      <td>0</td>\n",
              "      <td>0</td>\n",
              "      <td>0</td>\n",
              "      <td>...</td>\n",
              "      <td>0</td>\n",
              "      <td>0</td>\n",
              "      <td>0</td>\n",
              "      <td>0</td>\n",
              "      <td>0</td>\n",
              "      <td>0</td>\n",
              "      <td>0</td>\n",
              "      <td>0</td>\n",
              "      <td>0</td>\n",
              "      <td>0</td>\n",
              "      <td>0</td>\n",
              "      <td>0</td>\n",
              "      <td>0</td>\n",
              "      <td>0</td>\n",
              "      <td>0</td>\n",
              "      <td>0</td>\n",
              "      <td>0</td>\n",
              "      <td>0</td>\n",
              "      <td>0</td>\n",
              "      <td>0</td>\n",
              "      <td>0</td>\n",
              "      <td>0</td>\n",
              "      <td>0</td>\n",
              "      <td>0</td>\n",
              "      <td>0</td>\n",
              "      <td>0</td>\n",
              "      <td>0</td>\n",
              "      <td>0</td>\n",
              "      <td>0</td>\n",
              "      <td>0</td>\n",
              "      <td>0</td>\n",
              "      <td>0</td>\n",
              "      <td>0</td>\n",
              "      <td>0</td>\n",
              "      <td>0</td>\n",
              "      <td>0</td>\n",
              "      <td>0</td>\n",
              "      <td>0</td>\n",
              "      <td>0</td>\n",
              "      <td>0</td>\n",
              "    </tr>\n",
              "    <tr>\n",
              "      <th>19738</th>\n",
              "      <td>0</td>\n",
              "      <td>0</td>\n",
              "      <td>0</td>\n",
              "      <td>0</td>\n",
              "      <td>0</td>\n",
              "      <td>0</td>\n",
              "      <td>0</td>\n",
              "      <td>0</td>\n",
              "      <td>0</td>\n",
              "      <td>0</td>\n",
              "      <td>0</td>\n",
              "      <td>0</td>\n",
              "      <td>0</td>\n",
              "      <td>0</td>\n",
              "      <td>0</td>\n",
              "      <td>0</td>\n",
              "      <td>0</td>\n",
              "      <td>0</td>\n",
              "      <td>0</td>\n",
              "      <td>0</td>\n",
              "      <td>0</td>\n",
              "      <td>0</td>\n",
              "      <td>0</td>\n",
              "      <td>0</td>\n",
              "      <td>1</td>\n",
              "      <td>0</td>\n",
              "      <td>0</td>\n",
              "      <td>0</td>\n",
              "      <td>0</td>\n",
              "      <td>0</td>\n",
              "      <td>0</td>\n",
              "      <td>0</td>\n",
              "      <td>1</td>\n",
              "      <td>0</td>\n",
              "      <td>0</td>\n",
              "      <td>0</td>\n",
              "      <td>0</td>\n",
              "      <td>0</td>\n",
              "      <td>1</td>\n",
              "      <td>0</td>\n",
              "      <td>...</td>\n",
              "      <td>0</td>\n",
              "      <td>0</td>\n",
              "      <td>0</td>\n",
              "      <td>1</td>\n",
              "      <td>0</td>\n",
              "      <td>0</td>\n",
              "      <td>0</td>\n",
              "      <td>0</td>\n",
              "      <td>0</td>\n",
              "      <td>0</td>\n",
              "      <td>0</td>\n",
              "      <td>0</td>\n",
              "      <td>0</td>\n",
              "      <td>0</td>\n",
              "      <td>0</td>\n",
              "      <td>0</td>\n",
              "      <td>0</td>\n",
              "      <td>0</td>\n",
              "      <td>0</td>\n",
              "      <td>0</td>\n",
              "      <td>0</td>\n",
              "      <td>0</td>\n",
              "      <td>0</td>\n",
              "      <td>0</td>\n",
              "      <td>0</td>\n",
              "      <td>0</td>\n",
              "      <td>0</td>\n",
              "      <td>0</td>\n",
              "      <td>0</td>\n",
              "      <td>0</td>\n",
              "      <td>0</td>\n",
              "      <td>0</td>\n",
              "      <td>1</td>\n",
              "      <td>0</td>\n",
              "      <td>0</td>\n",
              "      <td>0</td>\n",
              "      <td>0</td>\n",
              "      <td>0</td>\n",
              "      <td>0</td>\n",
              "      <td>0</td>\n",
              "    </tr>\n",
              "    <tr>\n",
              "      <th>19739</th>\n",
              "      <td>0</td>\n",
              "      <td>0</td>\n",
              "      <td>0</td>\n",
              "      <td>0</td>\n",
              "      <td>0</td>\n",
              "      <td>0</td>\n",
              "      <td>0</td>\n",
              "      <td>0</td>\n",
              "      <td>0</td>\n",
              "      <td>0</td>\n",
              "      <td>0</td>\n",
              "      <td>0</td>\n",
              "      <td>0</td>\n",
              "      <td>0</td>\n",
              "      <td>0</td>\n",
              "      <td>0</td>\n",
              "      <td>0</td>\n",
              "      <td>0</td>\n",
              "      <td>0</td>\n",
              "      <td>0</td>\n",
              "      <td>0</td>\n",
              "      <td>0</td>\n",
              "      <td>0</td>\n",
              "      <td>0</td>\n",
              "      <td>0</td>\n",
              "      <td>0</td>\n",
              "      <td>0</td>\n",
              "      <td>0</td>\n",
              "      <td>0</td>\n",
              "      <td>0</td>\n",
              "      <td>0</td>\n",
              "      <td>0</td>\n",
              "      <td>0</td>\n",
              "      <td>0</td>\n",
              "      <td>0</td>\n",
              "      <td>0</td>\n",
              "      <td>0</td>\n",
              "      <td>0</td>\n",
              "      <td>0</td>\n",
              "      <td>0</td>\n",
              "      <td>...</td>\n",
              "      <td>0</td>\n",
              "      <td>0</td>\n",
              "      <td>0</td>\n",
              "      <td>0</td>\n",
              "      <td>0</td>\n",
              "      <td>0</td>\n",
              "      <td>0</td>\n",
              "      <td>0</td>\n",
              "      <td>0</td>\n",
              "      <td>0</td>\n",
              "      <td>0</td>\n",
              "      <td>0</td>\n",
              "      <td>0</td>\n",
              "      <td>0</td>\n",
              "      <td>0</td>\n",
              "      <td>0</td>\n",
              "      <td>0</td>\n",
              "      <td>0</td>\n",
              "      <td>0</td>\n",
              "      <td>0</td>\n",
              "      <td>0</td>\n",
              "      <td>0</td>\n",
              "      <td>0</td>\n",
              "      <td>0</td>\n",
              "      <td>0</td>\n",
              "      <td>0</td>\n",
              "      <td>0</td>\n",
              "      <td>0</td>\n",
              "      <td>0</td>\n",
              "      <td>0</td>\n",
              "      <td>0</td>\n",
              "      <td>0</td>\n",
              "      <td>0</td>\n",
              "      <td>0</td>\n",
              "      <td>0</td>\n",
              "      <td>0</td>\n",
              "      <td>0</td>\n",
              "      <td>0</td>\n",
              "      <td>0</td>\n",
              "      <td>0</td>\n",
              "    </tr>\n",
              "    <tr>\n",
              "      <th>19740</th>\n",
              "      <td>0</td>\n",
              "      <td>0</td>\n",
              "      <td>0</td>\n",
              "      <td>0</td>\n",
              "      <td>0</td>\n",
              "      <td>0</td>\n",
              "      <td>0</td>\n",
              "      <td>0</td>\n",
              "      <td>0</td>\n",
              "      <td>0</td>\n",
              "      <td>0</td>\n",
              "      <td>0</td>\n",
              "      <td>0</td>\n",
              "      <td>0</td>\n",
              "      <td>0</td>\n",
              "      <td>0</td>\n",
              "      <td>0</td>\n",
              "      <td>0</td>\n",
              "      <td>0</td>\n",
              "      <td>0</td>\n",
              "      <td>0</td>\n",
              "      <td>0</td>\n",
              "      <td>0</td>\n",
              "      <td>0</td>\n",
              "      <td>0</td>\n",
              "      <td>0</td>\n",
              "      <td>0</td>\n",
              "      <td>0</td>\n",
              "      <td>0</td>\n",
              "      <td>0</td>\n",
              "      <td>0</td>\n",
              "      <td>0</td>\n",
              "      <td>0</td>\n",
              "      <td>0</td>\n",
              "      <td>0</td>\n",
              "      <td>0</td>\n",
              "      <td>0</td>\n",
              "      <td>0</td>\n",
              "      <td>0</td>\n",
              "      <td>0</td>\n",
              "      <td>...</td>\n",
              "      <td>0</td>\n",
              "      <td>0</td>\n",
              "      <td>0</td>\n",
              "      <td>0</td>\n",
              "      <td>0</td>\n",
              "      <td>0</td>\n",
              "      <td>0</td>\n",
              "      <td>0</td>\n",
              "      <td>0</td>\n",
              "      <td>0</td>\n",
              "      <td>0</td>\n",
              "      <td>0</td>\n",
              "      <td>0</td>\n",
              "      <td>0</td>\n",
              "      <td>0</td>\n",
              "      <td>0</td>\n",
              "      <td>0</td>\n",
              "      <td>0</td>\n",
              "      <td>0</td>\n",
              "      <td>0</td>\n",
              "      <td>0</td>\n",
              "      <td>0</td>\n",
              "      <td>0</td>\n",
              "      <td>0</td>\n",
              "      <td>0</td>\n",
              "      <td>0</td>\n",
              "      <td>0</td>\n",
              "      <td>0</td>\n",
              "      <td>0</td>\n",
              "      <td>0</td>\n",
              "      <td>0</td>\n",
              "      <td>0</td>\n",
              "      <td>0</td>\n",
              "      <td>0</td>\n",
              "      <td>0</td>\n",
              "      <td>0</td>\n",
              "      <td>0</td>\n",
              "      <td>0</td>\n",
              "      <td>0</td>\n",
              "      <td>0</td>\n",
              "    </tr>\n",
              "    <tr>\n",
              "      <th>19741</th>\n",
              "      <td>0</td>\n",
              "      <td>0</td>\n",
              "      <td>0</td>\n",
              "      <td>0</td>\n",
              "      <td>0</td>\n",
              "      <td>0</td>\n",
              "      <td>0</td>\n",
              "      <td>0</td>\n",
              "      <td>0</td>\n",
              "      <td>0</td>\n",
              "      <td>0</td>\n",
              "      <td>0</td>\n",
              "      <td>0</td>\n",
              "      <td>0</td>\n",
              "      <td>0</td>\n",
              "      <td>0</td>\n",
              "      <td>0</td>\n",
              "      <td>0</td>\n",
              "      <td>0</td>\n",
              "      <td>0</td>\n",
              "      <td>0</td>\n",
              "      <td>0</td>\n",
              "      <td>0</td>\n",
              "      <td>0</td>\n",
              "      <td>0</td>\n",
              "      <td>0</td>\n",
              "      <td>0</td>\n",
              "      <td>0</td>\n",
              "      <td>0</td>\n",
              "      <td>0</td>\n",
              "      <td>0</td>\n",
              "      <td>0</td>\n",
              "      <td>1</td>\n",
              "      <td>0</td>\n",
              "      <td>0</td>\n",
              "      <td>0</td>\n",
              "      <td>0</td>\n",
              "      <td>0</td>\n",
              "      <td>0</td>\n",
              "      <td>0</td>\n",
              "      <td>...</td>\n",
              "      <td>1</td>\n",
              "      <td>0</td>\n",
              "      <td>0</td>\n",
              "      <td>0</td>\n",
              "      <td>0</td>\n",
              "      <td>0</td>\n",
              "      <td>0</td>\n",
              "      <td>0</td>\n",
              "      <td>0</td>\n",
              "      <td>0</td>\n",
              "      <td>0</td>\n",
              "      <td>0</td>\n",
              "      <td>0</td>\n",
              "      <td>0</td>\n",
              "      <td>0</td>\n",
              "      <td>0</td>\n",
              "      <td>0</td>\n",
              "      <td>0</td>\n",
              "      <td>0</td>\n",
              "      <td>0</td>\n",
              "      <td>0</td>\n",
              "      <td>0</td>\n",
              "      <td>0</td>\n",
              "      <td>0</td>\n",
              "      <td>0</td>\n",
              "      <td>0</td>\n",
              "      <td>0</td>\n",
              "      <td>0</td>\n",
              "      <td>0</td>\n",
              "      <td>0</td>\n",
              "      <td>0</td>\n",
              "      <td>0</td>\n",
              "      <td>1</td>\n",
              "      <td>0</td>\n",
              "      <td>0</td>\n",
              "      <td>1</td>\n",
              "      <td>0</td>\n",
              "      <td>0</td>\n",
              "      <td>0</td>\n",
              "      <td>0</td>\n",
              "    </tr>\n",
              "  </tbody>\n",
              "</table>\n",
              "<p>19742 rows × 8523 columns</p>\n",
              "</div>"
            ],
            "text/plain": [
              "       f0  f1  f2  f3  f4  f5  ...  f8517  f8518  f8519  f8520  f8521  f8522\n",
              "0       0   0   0   0   0   0  ...      0      0      0      0      0      0\n",
              "1       0   0   0   0   0   0  ...      0      0      0      0      0      0\n",
              "2       0   0   0   0   0   0  ...      0      0      0      0      0      0\n",
              "3       0   0   0   0   0   0  ...      0      0      0      0      0      0\n",
              "4       0   0   0   0   0   0  ...      0      0      0      0      0      0\n",
              "...    ..  ..  ..  ..  ..  ..  ...    ...    ...    ...    ...    ...    ...\n",
              "19737   0   0   0   0   0   0  ...      0      0      0      0      0      0\n",
              "19738   0   0   0   0   0   0  ...      0      0      0      0      0      0\n",
              "19739   0   0   0   0   0   0  ...      0      0      0      0      0      0\n",
              "19740   0   0   0   0   0   0  ...      0      0      0      0      0      0\n",
              "19741   0   0   0   0   0   0  ...      0      1      0      0      0      0\n",
              "\n",
              "[19742 rows x 8523 columns]"
            ]
          },
          "metadata": {
            "tags": []
          },
          "execution_count": 44
        }
      ]
    },
    {
      "cell_type": "code",
      "metadata": {
        "id": "N6COA2hAoEL4",
        "colab": {
          "base_uri": "https://localhost:8080/"
        },
        "outputId": "82bba7a3-c4ec-4274-e700-c0ce8dff782c"
      },
      "source": [
        "M_train_df = M_df.iloc[train_arr,]\r\n",
        "#test shape\r\n",
        "M_train_df.shape"
      ],
      "execution_count": 45,
      "outputs": [
        {
          "output_type": "execute_result",
          "data": {
            "text/plain": [
              "(17739, 8523)"
            ]
          },
          "metadata": {
            "tags": []
          },
          "execution_count": 45
        }
      ]
    },
    {
      "cell_type": "code",
      "metadata": {
        "id": "q95xyqC_rvvl"
      },
      "source": [
        "M_train = M_train_df.to_numpy()"
      ],
      "execution_count": 46,
      "outputs": []
    },
    {
      "cell_type": "code",
      "metadata": {
        "id": "rIJGXpPgraMn"
      },
      "source": [
        "#svd on test database with nv = 50\n",
        "U2, Sigma2, VT2 = randomized_svd(M_train, \n",
        "                              n_components=50,\n",
        "                              n_iter=5,\n",
        "                              random_state=68)"
      ],
      "execution_count": 47,
      "outputs": []
    },
    {
      "cell_type": "code",
      "metadata": {
        "id": "uwBT5LyQsBvE"
      },
      "source": [
        "VT2_t = VT2.T"
      ],
      "execution_count": 48,
      "outputs": []
    },
    {
      "cell_type": "code",
      "metadata": {
        "colab": {
          "base_uri": "https://localhost:8080/"
        },
        "id": "is3XZkv5sIbX",
        "outputId": "108c2c2f-becf-4eff-fac9-0bf0dd5a3d2a"
      },
      "source": [
        "#varimax on vt2\n",
        "v_vot2 = varimax(VT2_t)\n"
      ],
      "execution_count": 49,
      "outputs": [
        {
          "output_type": "stream",
          "text": [
            "/usr/local/lib/python3.6/dist-packages/ipykernel_launcher.py:14: RuntimeWarning: divide by zero encountered in double_scalars\n",
            "  \n"
          ],
          "name": "stderr"
        }
      ]
    },
    {
      "cell_type": "code",
      "metadata": {
        "id": "Yenbc-q1seD6"
      },
      "source": [
        "u_rot2 = np.dot(M2_arr,v_vot2)"
      ],
      "execution_count": 50,
      "outputs": []
    },
    {
      "cell_type": "code",
      "metadata": {
        "id": "IzOvTu4rW1D7",
        "colab": {
          "base_uri": "https://localhost:8080/"
        },
        "outputId": "e7d83aa2-1773-4cdb-f4d2-fa159e7ad94f"
      },
      "source": [
        "u_rot2"
      ],
      "execution_count": 51,
      "outputs": [
        {
          "output_type": "execute_result",
          "data": {
            "text/plain": [
              "array([[ 0.01862601, -0.04906459, -0.21975097, ...,  0.0652124 ,\n",
              "         0.04316037,  0.05990303],\n",
              "       [ 0.02911364, -0.05866561, -0.17653036, ...,  0.02802155,\n",
              "        -0.10600923, -0.18722575],\n",
              "       [ 0.00389507,  0.05770375,  0.04940979, ...,  0.13345801,\n",
              "        -0.49137507, -0.35001465],\n",
              "       ...,\n",
              "       [-0.06237385, -0.03360605, -0.42065651, ...,  0.04165091,\n",
              "        -0.45994918, -0.44492202],\n",
              "       [-0.16851313, -0.04657627,  0.18535084, ...,  0.17818081,\n",
              "        -0.14322637,  0.19795132],\n",
              "       [-0.29892847,  0.18154505,  1.21100404, ...,  0.3950509 ,\n",
              "         0.40471083, -3.58444579]])"
            ]
          },
          "metadata": {
            "tags": []
          },
          "execution_count": 51
        }
      ]
    },
    {
      "cell_type": "code",
      "metadata": {
        "id": "-955qJ4wzvK2",
        "colab": {
          "base_uri": "https://localhost:8080/",
          "height": 407
        },
        "outputId": "cfeb899c-87e2-41ee-c58b-3a99bffd186a"
      },
      "source": [
        "newusers"
      ],
      "execution_count": 52,
      "outputs": [
        {
          "output_type": "execute_result",
          "data": {
            "text/html": [
              "<div>\n",
              "<style scoped>\n",
              "    .dataframe tbody tr th:only-of-type {\n",
              "        vertical-align: middle;\n",
              "    }\n",
              "\n",
              "    .dataframe tbody tr th {\n",
              "        vertical-align: top;\n",
              "    }\n",
              "\n",
              "    .dataframe thead th {\n",
              "        text-align: right;\n",
              "    }\n",
              "</style>\n",
              "<table border=\"1\" class=\"dataframe\">\n",
              "  <thead>\n",
              "    <tr style=\"text-align: right;\">\n",
              "      <th></th>\n",
              "      <th>gender</th>\n",
              "      <th>age</th>\n",
              "      <th>political</th>\n",
              "      <th>ope</th>\n",
              "      <th>con</th>\n",
              "      <th>ext</th>\n",
              "      <th>agr</th>\n",
              "      <th>neu</th>\n",
              "    </tr>\n",
              "  </thead>\n",
              "  <tbody>\n",
              "    <tr>\n",
              "      <th>0</th>\n",
              "      <td>0</td>\n",
              "      <td>47</td>\n",
              "      <td>NaN</td>\n",
              "      <td>-0.31</td>\n",
              "      <td>-0.57</td>\n",
              "      <td>-0.89</td>\n",
              "      <td>0.41</td>\n",
              "      <td>1.17</td>\n",
              "    </tr>\n",
              "    <tr>\n",
              "      <th>1</th>\n",
              "      <td>0</td>\n",
              "      <td>35</td>\n",
              "      <td>NaN</td>\n",
              "      <td>0.61</td>\n",
              "      <td>-0.12</td>\n",
              "      <td>-0.64</td>\n",
              "      <td>-1.01</td>\n",
              "      <td>-1.50</td>\n",
              "    </tr>\n",
              "    <tr>\n",
              "      <th>2</th>\n",
              "      <td>1</td>\n",
              "      <td>29</td>\n",
              "      <td>0.0</td>\n",
              "      <td>-0.31</td>\n",
              "      <td>-0.94</td>\n",
              "      <td>-0.77</td>\n",
              "      <td>-1.76</td>\n",
              "      <td>1.05</td>\n",
              "    </tr>\n",
              "    <tr>\n",
              "      <th>3</th>\n",
              "      <td>1</td>\n",
              "      <td>28</td>\n",
              "      <td>0.0</td>\n",
              "      <td>-0.68</td>\n",
              "      <td>0.54</td>\n",
              "      <td>-0.52</td>\n",
              "      <td>-1.01</td>\n",
              "      <td>-0.51</td>\n",
              "    </tr>\n",
              "    <tr>\n",
              "      <th>4</th>\n",
              "      <td>0</td>\n",
              "      <td>35</td>\n",
              "      <td>NaN</td>\n",
              "      <td>-0.41</td>\n",
              "      <td>-0.86</td>\n",
              "      <td>-1.02</td>\n",
              "      <td>-0.18</td>\n",
              "      <td>0.30</td>\n",
              "    </tr>\n",
              "    <tr>\n",
              "      <th>...</th>\n",
              "      <td>...</td>\n",
              "      <td>...</td>\n",
              "      <td>...</td>\n",
              "      <td>...</td>\n",
              "      <td>...</td>\n",
              "      <td>...</td>\n",
              "      <td>...</td>\n",
              "      <td>...</td>\n",
              "    </tr>\n",
              "    <tr>\n",
              "      <th>19737</th>\n",
              "      <td>1</td>\n",
              "      <td>23</td>\n",
              "      <td>NaN</td>\n",
              "      <td>-0.31</td>\n",
              "      <td>-1.97</td>\n",
              "      <td>-1.21</td>\n",
              "      <td>-1.09</td>\n",
              "      <td>1.79</td>\n",
              "    </tr>\n",
              "    <tr>\n",
              "      <th>19738</th>\n",
              "      <td>1</td>\n",
              "      <td>26</td>\n",
              "      <td>1.0</td>\n",
              "      <td>1.26</td>\n",
              "      <td>0.17</td>\n",
              "      <td>1.11</td>\n",
              "      <td>0.12</td>\n",
              "      <td>0.18</td>\n",
              "    </tr>\n",
              "    <tr>\n",
              "      <th>19739</th>\n",
              "      <td>1</td>\n",
              "      <td>20</td>\n",
              "      <td>NaN</td>\n",
              "      <td>-0.04</td>\n",
              "      <td>0.69</td>\n",
              "      <td>0.17</td>\n",
              "      <td>0.82</td>\n",
              "      <td>0.80</td>\n",
              "    </tr>\n",
              "    <tr>\n",
              "      <th>19740</th>\n",
              "      <td>1</td>\n",
              "      <td>35</td>\n",
              "      <td>0.0</td>\n",
              "      <td>1.63</td>\n",
              "      <td>-0.72</td>\n",
              "      <td>1.86</td>\n",
              "      <td>1.41</td>\n",
              "      <td>-1.01</td>\n",
              "    </tr>\n",
              "    <tr>\n",
              "      <th>19741</th>\n",
              "      <td>0</td>\n",
              "      <td>26</td>\n",
              "      <td>1.0</td>\n",
              "      <td>0.24</td>\n",
              "      <td>0.17</td>\n",
              "      <td>0.73</td>\n",
              "      <td>-0.34</td>\n",
              "      <td>-0.32</td>\n",
              "    </tr>\n",
              "  </tbody>\n",
              "</table>\n",
              "<p>19742 rows × 8 columns</p>\n",
              "</div>"
            ],
            "text/plain": [
              "       gender  age  political   ope   con   ext   agr   neu\n",
              "0           0   47        NaN -0.31 -0.57 -0.89  0.41  1.17\n",
              "1           0   35        NaN  0.61 -0.12 -0.64 -1.01 -1.50\n",
              "2           1   29        0.0 -0.31 -0.94 -0.77 -1.76  1.05\n",
              "3           1   28        0.0 -0.68  0.54 -0.52 -1.01 -0.51\n",
              "4           0   35        NaN -0.41 -0.86 -1.02 -0.18  0.30\n",
              "...       ...  ...        ...   ...   ...   ...   ...   ...\n",
              "19737       1   23        NaN -0.31 -1.97 -1.21 -1.09  1.79\n",
              "19738       1   26        1.0  1.26  0.17  1.11  0.12  0.18\n",
              "19739       1   20        NaN -0.04  0.69  0.17  0.82  0.80\n",
              "19740       1   35        0.0  1.63 -0.72  1.86  1.41 -1.01\n",
              "19741       0   26        1.0  0.24  0.17  0.73 -0.34 -0.32\n",
              "\n",
              "[19742 rows x 8 columns]"
            ]
          },
          "metadata": {
            "tags": []
          },
          "execution_count": 52
        }
      ]
    },
    {
      "cell_type": "code",
      "metadata": {
        "id": "IU067Lne5LKG"
      },
      "source": [
        "x = newusers[[\"age\",\"political\",\"ope\",\"con\",\"ext\",\"agr\",\"neu\"]]\n",
        "y = newusers['gender']\n",
        "\n",
        "yg = y.iloc[train_arr,]\n",
        "xg = x.iloc[train_arr,]\n",
        "xg = xg[:].values\n",
        "yg_test = y.iloc[test_arr,]"
      ],
      "execution_count": 53,
      "outputs": []
    },
    {
      "cell_type": "code",
      "metadata": {
        "id": "LYIyGayIZbJS"
      },
      "source": [
        "x2 = newusers[[\"gender\",\"political\",\"ope\",\"con\",\"ext\",\"agr\",\"neu\"]] \n",
        "y2 = newusers['ope']\n",
        "\n",
        "yo = y2.iloc[train_arr,]\n",
        "yo_test = y2.iloc[test_arr,]\n",
        "xo = x2.iloc[train_arr,]\n",
        "xo = xo[:].values"
      ],
      "execution_count": 54,
      "outputs": []
    },
    {
      "cell_type": "code",
      "metadata": {
        "id": "5PvfdY2OXclJ"
      },
      "source": [
        "u_rot2_df = pd.DataFrame(data=u_rot2[0:,0:],\n",
        "                         index=[i for i in range(u_rot2.shape[0])],\n",
        "                         columns=['f'+str(i) for i in range(u_rot2.shape[1])])"
      ],
      "execution_count": 55,
      "outputs": []
    },
    {
      "cell_type": "code",
      "metadata": {
        "id": "E6vUsS2_N7ev"
      },
      "source": [
        "train = u_rot2_df.iloc[train_arr,]\n",
        "test = u_rot2_df.iloc[test_arr,]"
      ],
      "execution_count": 56,
      "outputs": []
    },
    {
      "cell_type": "code",
      "metadata": {
        "colab": {
          "base_uri": "https://localhost:8080/"
        },
        "id": "t0GSEgwVc5Rn",
        "outputId": "fff523ca-1a50-474d-d043-2be46480be6b"
      },
      "source": [
        "train.shape"
      ],
      "execution_count": 57,
      "outputs": [
        {
          "output_type": "execute_result",
          "data": {
            "text/plain": [
              "(17739, 50)"
            ]
          },
          "metadata": {
            "tags": []
          },
          "execution_count": 57
        }
      ]
    },
    {
      "cell_type": "code",
      "metadata": {
        "colab": {
          "base_uri": "https://localhost:8080/"
        },
        "id": "hk2QUE-E1ywv",
        "outputId": "401d1adf-e120-4a91-b1eb-eb6791d79296"
      },
      "source": [
        "#GLM 1\r\n",
        "from sklearn.linear_model import LinearRegression\r\n",
        "# Create model\r\n",
        "linreg = LinearRegression()\r\n",
        "fit_o=linreg.fit(train, yo)\r\n",
        "fit_o.coef_"
      ],
      "execution_count": 58,
      "outputs": [
        {
          "output_type": "execute_result",
          "data": {
            "text/plain": [
              "array([ 0.00244354, -0.03894977, -0.08280833,  0.06355883,  0.01731283,\n",
              "        0.087771  , -0.06577111,  0.01431123, -0.01325374,  0.0025114 ,\n",
              "        0.01248128, -0.00417557,  0.0389879 , -0.05813831,  0.00048109,\n",
              "       -0.08121874,  0.05537926, -0.00706858,  0.06044788,  0.02466947,\n",
              "        0.01375291,  0.11144112, -0.02841138, -0.02879002, -0.05038594,\n",
              "        0.09419933,  0.2221864 ,  0.0758093 ,  0.00188528, -0.01257377,\n",
              "       -0.01037804, -0.16707732, -0.02979509,  0.04348692,  0.01079272,\n",
              "        0.02288445,  0.02252559,  0.12953552, -0.00224002,  0.05133612,\n",
              "       -0.17613995, -0.07361773,  0.23278348,  0.08221058,  0.06926971,\n",
              "       -0.10274102,  0.06637208,  0.05951059, -0.0173401 , -0.10591706])"
            ]
          },
          "metadata": {
            "tags": []
          },
          "execution_count": 58
        }
      ]
    },
    {
      "cell_type": "code",
      "metadata": {
        "colab": {
          "base_uri": "https://localhost:8080/"
        },
        "id": "THnptqDN3wBo",
        "outputId": "474df4d1-4ac4-4fff-cd8c-a693d95592b1"
      },
      "source": [
        "# Calculate our y hat (how our model performs against the test data held off)\r\n",
        "pred_o = linreg.predict(test)\r\n",
        "pred_o"
      ],
      "execution_count": 59,
      "outputs": [
        {
          "output_type": "execute_result",
          "data": {
            "text/plain": [
              "array([0.17596279, 0.33279527, 0.42096749, ..., 0.25859465, 0.30670085,\n",
              "       0.30286958])"
            ]
          },
          "metadata": {
            "tags": []
          },
          "execution_count": 59
        }
      ]
    },
    {
      "cell_type": "code",
      "metadata": {
        "id": "m7NYWG5Gnm_B",
        "colab": {
          "base_uri": "https://localhost:8080/"
        },
        "outputId": "df3e7629-ccf9-48a2-9250-53fec11b54d5"
      },
      "source": [
        "from sklearn.linear_model import LogisticRegression\r\n",
        "# Create model\r\n",
        "logreg = LogisticRegression()\r\n",
        "logreg.fit(train, yg)\r\n",
        "# Calculate our y hat (how our model performs against the test data held off)\r\n",
        "pred_g = logreg.predict(test)\r\n",
        "pred_g"
      ],
      "execution_count": 60,
      "outputs": [
        {
          "output_type": "execute_result",
          "data": {
            "text/plain": [
              "array([0, 0, 1, ..., 1, 1, 0])"
            ]
          },
          "metadata": {
            "tags": []
          },
          "execution_count": 60
        }
      ]
    },
    {
      "cell_type": "code",
      "metadata": {
        "colab": {
          "base_uri": "https://localhost:8080/"
        },
        "id": "qI-tc5s80XO5",
        "outputId": "ad41839f-766d-4147-c10a-d89150287da3"
      },
      "source": [
        "from sklearn import metrics\r\n",
        "print('Mean Absolute Error:', metrics.mean_absolute_error(yo_test, pred_o))\r\n",
        "print('Mean Squared Error:', metrics.mean_squared_error(yo_test, pred_o))\r\n",
        "print('Root Mean Squared Error:', np.sqrt(metrics.mean_squared_error(yo_test,pred_o)))"
      ],
      "execution_count": 61,
      "outputs": [
        {
          "output_type": "stream",
          "text": [
            "Mean Absolute Error: 0.6580024545846509\n",
            "Mean Squared Error: 0.7007342209359607\n",
            "Root Mean Squared Error: 0.8370986924705837\n"
          ],
          "name": "stdout"
        }
      ]
    },
    {
      "cell_type": "code",
      "metadata": {
        "colab": {
          "base_uri": "https://localhost:8080/",
          "height": 315
        },
        "id": "zfgsopafvW5n",
        "outputId": "84aeacf4-3f6f-4d24-8c42-b4837039b0d3"
      },
      "source": [
        "from sklearn.metrics import roc_curve\r\n",
        "from sklearn.metrics import roc_auc_score\r\n",
        "ns_probs = [0 for _ in range(len(yg_test))]\r\n",
        "ns_auc = roc_auc_score(yg_test, ns_probs)\r\n",
        "lr_auc = roc_auc_score(yg_test, pred_g)\r\n",
        "# summarize scores\r\n",
        "print('No Skill: ROC AUC=%.3f' % (ns_auc))\r\n",
        "print('Logistic: ROC AUC=%.3f' % (lr_auc))\r\n",
        "# calculate roc curves\r\n",
        "ns_fpr, ns_tpr, _ = roc_curve(yg_test, ns_probs)\r\n",
        "lr_fpr, lr_tpr, _ = roc_curve(yg_test, pred_g)\r\n",
        "# plot the roc curve for the model\r\n",
        "plt.plot(ns_fpr, ns_tpr, linestyle='--', label='No Skill')\r\n",
        "plt.plot(lr_fpr, lr_tpr, marker='.', label='Logistic')\r\n",
        "# axis labels\r\n",
        "plt.xlabel('False Positive Rate')\r\n",
        "plt.ylabel('True Positive Rate')\r\n",
        "# show the legend\r\n",
        "plt.legend()\r\n",
        "# show the plot\r\n",
        "plt.show()"
      ],
      "execution_count": 62,
      "outputs": [
        {
          "output_type": "stream",
          "text": [
            "No Skill: ROC AUC=0.500\n",
            "Logistic: ROC AUC=0.874\n"
          ],
          "name": "stdout"
        },
        {
          "output_type": "display_data",
          "data": {
            "image/png": "[encoded data removed]",
            "text/plain": [
              "<Figure size 432x288 with 1 Axes>"
            ]
          },
          "metadata": {
            "tags": [],
            "needs_background": "light"
          }
        }
      ]
    },
    {
      "cell_type": "code",
      "metadata": {
        "colab": {
          "base_uri": "https://localhost:8080/"
        },
        "id": "xN80eSrEfqei",
        "outputId": "04392dce-6d9b-4f7a-c115-ec4ed12c39ac"
      },
      "source": [
        "VT2_t.shape"
      ],
      "execution_count": 63,
      "outputs": [
        {
          "output_type": "execute_result",
          "data": {
            "text/plain": [
              "(8523, 50)"
            ]
          },
          "metadata": {
            "tags": []
          },
          "execution_count": 63
        }
      ]
    },
    {
      "cell_type": "code",
      "metadata": {
        "colab": {
          "base_uri": "https://localhost:8080/"
        },
        "id": "PacGDZrKLXLh",
        "outputId": "57efaa2d-3454-41fe-e5f2-1b6b583b096b"
      },
      "source": [
        "from scipy.stats.stats import pearsonr\r\n",
        "# Choose which k are to be included in the analysis\r\n",
        "ks=[2, 4, 6, 8, 10, 15,20,30,40,50]\r\n",
        "rs=[]\r\n",
        "for k in ks:\r\n",
        "    print(k)\r\n",
        "    # Varimax rotate Like SVD dimensions 1 to k\r\n",
        "    v_rot = varimax(VT2_t[:,:k])\r\n",
        "    # This code is exactly like the one discussed earlier\r\n",
        "    u_rot2 = np.dot(M2_arr,v_rot)\r\n",
        "    u_rot2_df = pd.DataFrame(data=u_rot2[0:,0:],\r\n",
        "                         index=[i for i in range(u_rot2.shape[0])],\r\n",
        "                         columns=['f'+str(i) for i in range(u_rot2.shape[1])])\r\n",
        "    fit_o = linreg.fit( u_rot2_df[train_subset], y2[train_subset])\r\n",
        "    pred_o = linreg.predict(u_rot2_df[test_subset])\r\n",
        "    \r\n",
        "    # Save the resulting correlation coefficient as the\r\n",
        "    # element called k\r\n",
        "    rs.append(pearsonr(yo_test, pred_o)[0])\r\n",
        "rs"
      ],
      "execution_count": 64,
      "outputs": [
        {
          "output_type": "stream",
          "text": [
            "2\n"
          ],
          "name": "stdout"
        },
        {
          "output_type": "stream",
          "text": [
            "/usr/local/lib/python3.6/dist-packages/ipykernel_launcher.py:14: RuntimeWarning: divide by zero encountered in double_scalars\n",
            "  \n"
          ],
          "name": "stderr"
        },
        {
          "output_type": "stream",
          "text": [
            "4\n"
          ],
          "name": "stdout"
        },
        {
          "output_type": "stream",
          "text": [
            "/usr/local/lib/python3.6/dist-packages/ipykernel_launcher.py:14: RuntimeWarning: divide by zero encountered in double_scalars\n",
            "  \n"
          ],
          "name": "stderr"
        },
        {
          "output_type": "stream",
          "text": [
            "6\n"
          ],
          "name": "stdout"
        },
        {
          "output_type": "stream",
          "text": [
            "/usr/local/lib/python3.6/dist-packages/ipykernel_launcher.py:14: RuntimeWarning: divide by zero encountered in double_scalars\n",
            "  \n"
          ],
          "name": "stderr"
        },
        {
          "output_type": "stream",
          "text": [
            "8\n"
          ],
          "name": "stdout"
        },
        {
          "output_type": "stream",
          "text": [
            "/usr/local/lib/python3.6/dist-packages/ipykernel_launcher.py:14: RuntimeWarning: divide by zero encountered in double_scalars\n",
            "  \n"
          ],
          "name": "stderr"
        },
        {
          "output_type": "stream",
          "text": [
            "10\n"
          ],
          "name": "stdout"
        },
        {
          "output_type": "stream",
          "text": [
            "/usr/local/lib/python3.6/dist-packages/ipykernel_launcher.py:14: RuntimeWarning: divide by zero encountered in double_scalars\n",
            "  \n"
          ],
          "name": "stderr"
        },
        {
          "output_type": "stream",
          "text": [
            "15\n"
          ],
          "name": "stdout"
        },
        {
          "output_type": "stream",
          "text": [
            "/usr/local/lib/python3.6/dist-packages/ipykernel_launcher.py:14: RuntimeWarning: divide by zero encountered in double_scalars\n",
            "  \n"
          ],
          "name": "stderr"
        },
        {
          "output_type": "stream",
          "text": [
            "20\n"
          ],
          "name": "stdout"
        },
        {
          "output_type": "stream",
          "text": [
            "/usr/local/lib/python3.6/dist-packages/ipykernel_launcher.py:14: RuntimeWarning: divide by zero encountered in double_scalars\n",
            "  \n"
          ],
          "name": "stderr"
        },
        {
          "output_type": "stream",
          "text": [
            "30\n"
          ],
          "name": "stdout"
        },
        {
          "output_type": "stream",
          "text": [
            "/usr/local/lib/python3.6/dist-packages/ipykernel_launcher.py:14: RuntimeWarning: divide by zero encountered in double_scalars\n",
            "  \n"
          ],
          "name": "stderr"
        },
        {
          "output_type": "stream",
          "text": [
            "40\n"
          ],
          "name": "stdout"
        },
        {
          "output_type": "stream",
          "text": [
            "/usr/local/lib/python3.6/dist-packages/ipykernel_launcher.py:14: RuntimeWarning: divide by zero encountered in double_scalars\n",
            "  \n"
          ],
          "name": "stderr"
        },
        {
          "output_type": "stream",
          "text": [
            "50\n"
          ],
          "name": "stdout"
        },
        {
          "output_type": "stream",
          "text": [
            "/usr/local/lib/python3.6/dist-packages/ipykernel_launcher.py:14: RuntimeWarning: divide by zero encountered in double_scalars\n",
            "  \n"
          ],
          "name": "stderr"
        },
        {
          "output_type": "execute_result",
          "data": {
            "text/plain": [
              "[0.11362237964600003,\n",
              " 0.3075516958788759,\n",
              " 0.313013448348612,\n",
              " 0.3629163369954234,\n",
              " 0.36451344552270715,\n",
              " 0.3921119461967932,\n",
              " 0.4391205739569725,\n",
              " 0.4505703805955405,\n",
              " 0.47136694671144447,\n",
              " 0.4822269675329226]"
            ]
          },
          "metadata": {
            "tags": []
          },
          "execution_count": 64
        }
      ]
    },
    {
      "cell_type": "code",
      "metadata": {
        "colab": {
          "base_uri": "https://localhost:8080/",
          "height": 301
        },
        "id": "5hNZJZZ2r667",
        "outputId": "a5d306c6-00c6-4e7a-ce55-e3690a459306"
      },
      "source": [
        "data = pd.DataFrame({'k':ks,'r':rs})\r\n",
        "plt.plot(data['k'], data['r'], linestyle='--', color='red')\r\n",
        "plt.ylabel('r')\r\n",
        "plt.xlabel('k')"
      ],
      "execution_count": 65,
      "outputs": [
        {
          "output_type": "execute_result",
          "data": {
            "text/plain": [
              "Text(0.5, 0, 'k')"
            ]
          },
          "metadata": {
            "tags": []
          },
          "execution_count": 65
        },
        {
          "output_type": "display_data",
          "data": {
            "image/png": "[encoded data removed]",
            "text/plain": [
              "<Figure size 432x288 with 1 Axes>"
            ]
          },
          "metadata": {
            "tags": [],
            "needs_background": "light"
          }
        }
      ]
    },
    {
      "cell_type": "code",
      "metadata": {
        "colab": {
          "base_uri": "https://localhost:8080/"
        },
        "id": "dFD645yfwAZN",
        "outputId": "676e13ef-b497-4015-a930-d6ecaf6feb39"
      },
      "source": [
        "pred_o = []\r\n",
        "for i in range(10):\r\n",
        "    test_subset = (folds == i)\r\n",
        "    train_subset=(folds != i)\r\n",
        "    M_df_train=(M_df[train_subset]).to_numpy()\r\n",
        "    M_df_test=(M_df[test_subset]).to_numpy()\r\n",
        "    #svd on test database with nv = 50\r\n",
        "    U2, Sigma2, VT2 = randomized_svd(M_df_train, \r\n",
        "                              n_components=50,\r\n",
        "                              n_iter=5,\r\n",
        "                              random_state=68)\r\n",
        "    VT2_t = VT2.T\r\n",
        "    # Varimax rotate Like SVD dimensions 1 to k\r\n",
        "    v_rot = varimax(VT2_t)\r\n",
        "    # This code is exactly like the one discussed earlier\r\n",
        "    u_rot2 = np.dot(M2_arr,v_rot)\r\n",
        "    u_rot2_df = pd.DataFrame(data=u_rot2[0:,0:],\r\n",
        "                         index=[i for i in range(u_rot2.shape[0])],\r\n",
        "                         columns=['f'+str(i) for i in range(u_rot2.shape[1])])\r\n",
        "    yo = y2[train_subset]\r\n",
        "    yo_test = y2[test_subset]\r\n",
        "    fit_o = linreg.fit( u_rot2_df[train_subset], yo)\r\n",
        "    pred_o.insert(i,linreg.predict(u_rot2_df[test_subset]))\r\n",
        "out = np.concatenate(pred_o).ravel()\r\n",
        "pred_o=out.tolist()\r\n",
        "r=max(pearsonr(y2, pred_o))\r\n",
        "r"
      ],
      "execution_count": 66,
      "outputs": [
        {
          "output_type": "stream",
          "text": [
            "/usr/local/lib/python3.6/dist-packages/ipykernel_launcher.py:14: RuntimeWarning: divide by zero encountered in double_scalars\n",
            "  \n",
            "/usr/local/lib/python3.6/dist-packages/ipykernel_launcher.py:14: RuntimeWarning: divide by zero encountered in double_scalars\n",
            "  \n",
            "/usr/local/lib/python3.6/dist-packages/ipykernel_launcher.py:14: RuntimeWarning: divide by zero encountered in double_scalars\n",
            "  \n",
            "/usr/local/lib/python3.6/dist-packages/ipykernel_launcher.py:14: RuntimeWarning: divide by zero encountered in double_scalars\n",
            "  \n",
            "/usr/local/lib/python3.6/dist-packages/ipykernel_launcher.py:14: RuntimeWarning: divide by zero encountered in double_scalars\n",
            "  \n",
            "/usr/local/lib/python3.6/dist-packages/ipykernel_launcher.py:14: RuntimeWarning: divide by zero encountered in double_scalars\n",
            "  \n",
            "/usr/local/lib/python3.6/dist-packages/ipykernel_launcher.py:14: RuntimeWarning: divide by zero encountered in double_scalars\n",
            "  \n",
            "/usr/local/lib/python3.6/dist-packages/ipykernel_launcher.py:14: RuntimeWarning: divide by zero encountered in double_scalars\n",
            "  \n",
            "/usr/local/lib/python3.6/dist-packages/ipykernel_launcher.py:14: RuntimeWarning: divide by zero encountered in double_scalars\n",
            "  \n",
            "/usr/local/lib/python3.6/dist-packages/ipykernel_launcher.py:14: RuntimeWarning: divide by zero encountered in double_scalars\n",
            "  \n"
          ],
          "name": "stderr"
        },
        {
          "output_type": "execute_result",
          "data": {
            "text/plain": [
              "0.9362888691858076"
            ]
          },
          "metadata": {
            "tags": []
          },
          "execution_count": 66
        }
      ]
    },
    {
      "cell_type": "code",
      "metadata": {
        "id": "fRalcE5yrjbV"
      },
      "source": [
        "n_folds = 10\r\n",
        "vars=(newusers.columns).values.tolist() # choose variables to predict"
      ],
      "execution_count": 67,
      "outputs": []
    },
    {
      "cell_type": "code",
      "metadata": {
        "colab": {
          "base_uri": "https://localhost:8080/"
        },
        "id": "HPnVhFzrugoT",
        "outputId": "d28b5e17-d4f7-4160-a9d2-5e87001e15a5"
      },
      "source": [
        "vars"
      ],
      "execution_count": 68,
      "outputs": [
        {
          "output_type": "execute_result",
          "data": {
            "text/plain": [
              "['gender', 'age', 'political', 'ope', 'con', 'ext', 'agr', 'neu']"
            ]
          },
          "metadata": {
            "tags": []
          },
          "execution_count": 68
        }
      ]
    },
    {
      "cell_type": "code",
      "metadata": {
        "colab": {
          "base_uri": "https://localhost:8080/"
        },
        "id": "7RnQVeRhlw_A",
        "outputId": "9b5ecd1a-a5c8-4c38-c0f4-5dff55585fb6"
      },
      "source": [
        "from sklearn.metrics import accuracy_score\r\n",
        "results = {}\r\n",
        "accuracies = {}\r\n",
        "for fold in range(n_folds): \r\n",
        "    print(\"Cross-validated predictions, fold: \", fold)\r\n",
        "    test_subset = (folds == fold)\r\n",
        "    train_subset=(folds != fold)\r\n",
        "    #svd on test database with nv = 50\r\n",
        "    U2, Sigma2, VT2 = randomized_svd(M_df_train, \r\n",
        "                              n_components=50,\r\n",
        "                              n_iter=5,\r\n",
        "                              random_state=68)\r\n",
        "    VT2_t = VT2.T\r\n",
        "    # Varimax rotate Like SVD dimensions 1 to k\r\n",
        "    v_rot = varimax(VT2_t)\r\n",
        "    # This code is exactly like the one discussed earlier\r\n",
        "    u_rot2 = np.dot(M2_arr,v_rot)\r\n",
        "    predictors = pd.DataFrame(data=u_rot2[0:,0:],\r\n",
        "                         index=[i for i in range(u_rot2.shape[0])],\r\n",
        "                         columns=['f'+str(i) for i in range(u_rot2.shape[1])])\r\n",
        "    result_list=[]\r\n",
        "    accuracy_list=[]\r\n",
        "    for var in vars:\r\n",
        "        # check if the variable is dichotomous\r\n",
        "        y=newusers[var]\r\n",
        "        y_train = y[train_subset]\r\n",
        "        y_test = y[test_subset]\r\n",
        "        if len(((newusers[var].dropna()).unique())) ==2:\r\n",
        "            y_train.fillna(method='ffill', inplace = True)\r\n",
        "            y_train.fillna(method='bfill', inplace = True)\r\n",
        "            y_test.fillna(method='ffill', inplace = True)\r\n",
        "            y_test.fillna(method='bfill', inplace = True)\r\n",
        "            fit = logreg.fit(predictors[train_subset], y_train)\r\n",
        "            result_list.append(logreg.predict(predictors[test_subset]))\r\n",
        "            accuracy_list.append(accuracy_score(y_test.values, logreg.predict(predictors[test_subset])))\r\n",
        "        else:\r\n",
        "            fit = linreg.fit(predictors[train_subset], y_train)\r\n",
        "            result_list.append(logreg.predict(predictors[test_subset]))\r\n",
        "    results[fold] = result_list\r\n",
        "    accuracies[fold] = accuracy_list"
      ],
      "execution_count": 74,
      "outputs": [
        {
          "output_type": "stream",
          "text": [
            "Cross-validated predictions, fold:  0\n"
          ],
          "name": "stdout"
        },
        {
          "output_type": "stream",
          "text": [
            "/usr/local/lib/python3.6/dist-packages/ipykernel_launcher.py:14: RuntimeWarning: divide by zero encountered in double_scalars\n",
            "  \n"
          ],
          "name": "stderr"
        },
        {
          "output_type": "stream",
          "text": [
            "Cross-validated predictions, fold:  1\n"
          ],
          "name": "stdout"
        },
        {
          "output_type": "stream",
          "text": [
            "/usr/local/lib/python3.6/dist-packages/ipykernel_launcher.py:14: RuntimeWarning: divide by zero encountered in double_scalars\n",
            "  \n"
          ],
          "name": "stderr"
        },
        {
          "output_type": "stream",
          "text": [
            "Cross-validated predictions, fold:  2\n"
          ],
          "name": "stdout"
        },
        {
          "output_type": "stream",
          "text": [
            "/usr/local/lib/python3.6/dist-packages/ipykernel_launcher.py:14: RuntimeWarning: divide by zero encountered in double_scalars\n",
            "  \n"
          ],
          "name": "stderr"
        },
        {
          "output_type": "stream",
          "text": [
            "Cross-validated predictions, fold:  3\n"
          ],
          "name": "stdout"
        },
        {
          "output_type": "stream",
          "text": [
            "/usr/local/lib/python3.6/dist-packages/ipykernel_launcher.py:14: RuntimeWarning: divide by zero encountered in double_scalars\n",
            "  \n"
          ],
          "name": "stderr"
        },
        {
          "output_type": "stream",
          "text": [
            "Cross-validated predictions, fold:  4\n"
          ],
          "name": "stdout"
        },
        {
          "output_type": "stream",
          "text": [
            "/usr/local/lib/python3.6/dist-packages/ipykernel_launcher.py:14: RuntimeWarning: divide by zero encountered in double_scalars\n",
            "  \n"
          ],
          "name": "stderr"
        },
        {
          "output_type": "stream",
          "text": [
            "Cross-validated predictions, fold:  5\n"
          ],
          "name": "stdout"
        },
        {
          "output_type": "stream",
          "text": [
            "/usr/local/lib/python3.6/dist-packages/ipykernel_launcher.py:14: RuntimeWarning: divide by zero encountered in double_scalars\n",
            "  \n"
          ],
          "name": "stderr"
        },
        {
          "output_type": "stream",
          "text": [
            "Cross-validated predictions, fold:  6\n"
          ],
          "name": "stdout"
        },
        {
          "output_type": "stream",
          "text": [
            "/usr/local/lib/python3.6/dist-packages/ipykernel_launcher.py:14: RuntimeWarning: divide by zero encountered in double_scalars\n",
            "  \n"
          ],
          "name": "stderr"
        },
        {
          "output_type": "stream",
          "text": [
            "Cross-validated predictions, fold:  7\n"
          ],
          "name": "stdout"
        },
        {
          "output_type": "stream",
          "text": [
            "/usr/local/lib/python3.6/dist-packages/ipykernel_launcher.py:14: RuntimeWarning: divide by zero encountered in double_scalars\n",
            "  \n"
          ],
          "name": "stderr"
        },
        {
          "output_type": "stream",
          "text": [
            "Cross-validated predictions, fold:  8\n"
          ],
          "name": "stdout"
        },
        {
          "output_type": "stream",
          "text": [
            "/usr/local/lib/python3.6/dist-packages/ipykernel_launcher.py:14: RuntimeWarning: divide by zero encountered in double_scalars\n",
            "  \n"
          ],
          "name": "stderr"
        },
        {
          "output_type": "stream",
          "text": [
            "Cross-validated predictions, fold:  9\n"
          ],
          "name": "stdout"
        },
        {
          "output_type": "stream",
          "text": [
            "/usr/local/lib/python3.6/dist-packages/ipykernel_launcher.py:14: RuntimeWarning: divide by zero encountered in double_scalars\n",
            "  \n"
          ],
          "name": "stderr"
        }
      ]
    },
    {
      "cell_type": "code",
      "metadata": {
        "colab": {
          "base_uri": "https://localhost:8080/"
        },
        "id": "5vrXat1YeFbU",
        "outputId": "4ed50366-6b14-4538-fae2-943203c78d66"
      },
      "source": [
        "accuracies"
      ],
      "execution_count": 75,
      "outputs": [
        {
          "output_type": "execute_result",
          "data": {
            "text/plain": [
              "{0: [0.8587939698492463, 0.6613065326633166],\n",
              " 1: [0.8613402061855671, 0.6896907216494845],\n",
              " 2: [0.8618871903004744, 0.7047970479704797],\n",
              " 3: [0.8664259927797834, 0.6936565239814337],\n",
              " 4: [0.87178241864983, 0.707625060709082],\n",
              " 5: [0.8628019323671497, 0.678743961352657],\n",
              " 6: [0.8701898409440739, 0.6536685479733196],\n",
              " 7: [0.8713541666666667, 0.6541666666666667],\n",
              " 8: [0.8656867714140902, 0.6857577293461733],\n",
              " 9: [0.8633416458852868, 0.6937655860349127]}"
            ]
          },
          "metadata": {
            "tags": []
          },
          "execution_count": 75
        }
      ]
    },
    {
      "cell_type": "code",
      "metadata": {
        "id": "AImO9eHMwEp7"
      },
      "source": [
        "i = np.array([2,3,6,2,3,4,6,0,1,6,0,1,6,4,5,4,5])\r\n",
        "j = np.array([0,0,0,1,1,1,1,2,2,2,3,3,3,4,4,5,5])\r\n",
        "# construct the sparse matrix\r\n",
        "data = np.ones_like(j)    \r\n",
        "S = sparse.csr_matrix((data, (i, j)), dtype=int)"
      ],
      "execution_count": 76,
      "outputs": []
    },
    {
      "cell_type": "code",
      "metadata": {
        "colab": {
          "base_uri": "https://localhost:8080/"
        },
        "id": "HE8wo1d6x6Xs",
        "outputId": "987d45d1-dc52-4e15-9043-27bc51911a55"
      },
      "source": [
        "S.shape"
      ],
      "execution_count": 77,
      "outputs": [
        {
          "output_type": "execute_result",
          "data": {
            "text/plain": [
              "(7, 6)"
            ]
          },
          "metadata": {
            "tags": []
          },
          "execution_count": 77
        }
      ]
    },
    {
      "cell_type": "code",
      "metadata": {
        "id": "bS0DBHbPx-E7"
      },
      "source": [
        "row_names = np.array([\"Noah\", \"Emma\", \"Mason\", \"Sophia\", \"William\", \"James\", \"Tom\"])\r\n",
        "col_names = np.array([\"True Romance\", \"Pretty Woman\", \"Aliens\", \"Star Wars\", \"Due Date\", \"Hangover\"])"
      ],
      "execution_count": 78,
      "outputs": []
    },
    {
      "cell_type": "code",
      "metadata": {
        "colab": {
          "base_uri": "https://localhost:8080/",
          "height": 258
        },
        "id": "pCBCd61HyaQE",
        "outputId": "37b03b70-5fa4-473c-9740-7f9bc22a98a0"
      },
      "source": [
        "M2=pd.DataFrame.sparse.from_spmatrix(S, index=row_names, columns=col_names)\r\n",
        "M2"
      ],
      "execution_count": 79,
      "outputs": [
        {
          "output_type": "execute_result",
          "data": {
            "text/html": [
              "<div>\n",
              "<style scoped>\n",
              "    .dataframe tbody tr th:only-of-type {\n",
              "        vertical-align: middle;\n",
              "    }\n",
              "\n",
              "    .dataframe tbody tr th {\n",
              "        vertical-align: top;\n",
              "    }\n",
              "\n",
              "    .dataframe thead th {\n",
              "        text-align: right;\n",
              "    }\n",
              "</style>\n",
              "<table border=\"1\" class=\"dataframe\">\n",
              "  <thead>\n",
              "    <tr style=\"text-align: right;\">\n",
              "      <th></th>\n",
              "      <th>True Romance</th>\n",
              "      <th>Pretty Woman</th>\n",
              "      <th>Aliens</th>\n",
              "      <th>Star Wars</th>\n",
              "      <th>Due Date</th>\n",
              "      <th>Hangover</th>\n",
              "    </tr>\n",
              "  </thead>\n",
              "  <tbody>\n",
              "    <tr>\n",
              "      <th>Noah</th>\n",
              "      <td>0</td>\n",
              "      <td>0</td>\n",
              "      <td>1</td>\n",
              "      <td>1</td>\n",
              "      <td>0</td>\n",
              "      <td>0</td>\n",
              "    </tr>\n",
              "    <tr>\n",
              "      <th>Emma</th>\n",
              "      <td>0</td>\n",
              "      <td>0</td>\n",
              "      <td>1</td>\n",
              "      <td>1</td>\n",
              "      <td>0</td>\n",
              "      <td>0</td>\n",
              "    </tr>\n",
              "    <tr>\n",
              "      <th>Mason</th>\n",
              "      <td>1</td>\n",
              "      <td>1</td>\n",
              "      <td>0</td>\n",
              "      <td>0</td>\n",
              "      <td>0</td>\n",
              "      <td>0</td>\n",
              "    </tr>\n",
              "    <tr>\n",
              "      <th>Sophia</th>\n",
              "      <td>1</td>\n",
              "      <td>1</td>\n",
              "      <td>0</td>\n",
              "      <td>0</td>\n",
              "      <td>0</td>\n",
              "      <td>0</td>\n",
              "    </tr>\n",
              "    <tr>\n",
              "      <th>William</th>\n",
              "      <td>0</td>\n",
              "      <td>1</td>\n",
              "      <td>0</td>\n",
              "      <td>0</td>\n",
              "      <td>1</td>\n",
              "      <td>1</td>\n",
              "    </tr>\n",
              "    <tr>\n",
              "      <th>James</th>\n",
              "      <td>0</td>\n",
              "      <td>0</td>\n",
              "      <td>0</td>\n",
              "      <td>0</td>\n",
              "      <td>1</td>\n",
              "      <td>1</td>\n",
              "    </tr>\n",
              "    <tr>\n",
              "      <th>Tom</th>\n",
              "      <td>1</td>\n",
              "      <td>1</td>\n",
              "      <td>1</td>\n",
              "      <td>1</td>\n",
              "      <td>0</td>\n",
              "      <td>0</td>\n",
              "    </tr>\n",
              "  </tbody>\n",
              "</table>\n",
              "</div>"
            ],
            "text/plain": [
              "         True Romance  Pretty Woman  Aliens  Star Wars  Due Date  Hangover\n",
              "Noah                0             0       1          1         0         0\n",
              "Emma                0             0       1          1         0         0\n",
              "Mason               1             1       0          0         0         0\n",
              "Sophia              1             1       0          0         0         0\n",
              "William             0             1       0          0         1         1\n",
              "James               0             0       0          0         1         1\n",
              "Tom                 1             1       1          1         0         0"
            ]
          },
          "metadata": {
            "tags": []
          },
          "execution_count": 79
        }
      ]
    },
    {
      "cell_type": "code",
      "metadata": {
        "id": "XbOV4GGWzSE3"
      },
      "source": [
        "M2_arr=M2.to_numpy()"
      ],
      "execution_count": 80,
      "outputs": []
    },
    {
      "cell_type": "code",
      "metadata": {
        "id": "9pZFr17CzP7W"
      },
      "source": [
        "M2_arr = M2_arr.astype(np.int32)"
      ],
      "execution_count": 81,
      "outputs": []
    },
    {
      "cell_type": "code",
      "metadata": {
        "id": "QAf2IfamziZS"
      },
      "source": [
        "U, Sigma, VT = randomized_svd(M2_arr, \r\n",
        "                              n_components=3,\r\n",
        "                              n_iter=3,\r\n",
        "                              random_state=68)"
      ],
      "execution_count": 82,
      "outputs": []
    },
    {
      "cell_type": "code",
      "metadata": {
        "colab": {
          "base_uri": "https://localhost:8080/"
        },
        "id": "IDZDjDZj14Bm",
        "outputId": "1144e6cb-f959-49ed-e736-1923f944410d"
      },
      "source": [
        "U"
      ],
      "execution_count": 83,
      "outputs": [
        {
          "output_type": "execute_result",
          "data": {
            "text/plain": [
              "array([[ 0.30274607, -0.42186829,  0.32158235],\n",
              "       [ 0.30274607, -0.42186829,  0.32158235],\n",
              "       [ 0.36871992,  0.23594673, -0.40872787],\n",
              "       [ 0.36871992,  0.23594673, -0.40872787],\n",
              "       [ 0.2926492 ,  0.57981127,  0.39581314],\n",
              "       [ 0.09094364,  0.4024483 ,  0.5429459 ],\n",
              "       [ 0.67146599, -0.18592156, -0.08714552]])"
            ]
          },
          "metadata": {
            "tags": []
          },
          "execution_count": 83
        }
      ]
    },
    {
      "cell_type": "code",
      "metadata": {
        "colab": {
          "base_uri": "https://localhost:8080/"
        },
        "id": "Hz8sPCFZzp7z",
        "outputId": "75ff8fa7-fcc7-4a39-9b78-c1d4e9c8e1cf"
      },
      "source": [
        "Sigma"
      ],
      "execution_count": 84,
      "outputs": [
        {
          "output_type": "execute_result",
          "data": {
            "text/plain": [
              "array([2.9044511 , 2.20939357, 1.85957537])"
            ]
          },
          "metadata": {
            "tags": []
          },
          "execution_count": 84
        }
      ]
    },
    {
      "cell_type": "code",
      "metadata": {
        "id": "W0QDhVl-zrnj"
      },
      "source": [
        "v = VT.T"
      ],
      "execution_count": 85,
      "outputs": []
    },
    {
      "cell_type": "code",
      "metadata": {
        "colab": {
          "base_uri": "https://localhost:8080/"
        },
        "id": "_oeJhBRUzs_j",
        "outputId": "d0c7ad91-8197-433c-a9fa-f07f54f8e0f6"
      },
      "source": [
        "v"
      ],
      "execution_count": 86,
      "outputs": [
        {
          "output_type": "execute_result",
          "data": {
            "text/plain": [
              "array([[ 0.48508506,  0.12943457, -0.48645582],\n",
              "       [ 0.58584392,  0.39186462, -0.27360446],\n",
              "       [ 0.43965558, -0.46603654,  0.29900331],\n",
              "       [ 0.43965558, -0.46603654,  0.29900331],\n",
              "       [ 0.13207068,  0.44458334,  0.50482441],\n",
              "       [ 0.13207068,  0.44458334,  0.50482441]])"
            ]
          },
          "metadata": {
            "tags": []
          },
          "execution_count": 86
        }
      ]
    },
    {
      "cell_type": "code",
      "metadata": {
        "colab": {
          "base_uri": "https://localhost:8080/"
        },
        "id": "N39KafH90Nor",
        "outputId": "542d2d29-f5fd-4d73-d1d9-f921633e8ee5"
      },
      "source": [
        "v_vot = varimax(v)\r\n",
        "v_vot"
      ],
      "execution_count": 87,
      "outputs": [
        {
          "output_type": "stream",
          "text": [
            "/usr/local/lib/python3.6/dist-packages/ipykernel_launcher.py:14: RuntimeWarning: divide by zero encountered in double_scalars\n",
            "  \n"
          ],
          "name": "stderr"
        },
        {
          "output_type": "execute_result",
          "data": {
            "text/plain": [
              "array([[ 6.72414144e-01, -1.13983917e-02, -1.90864817e-01],\n",
              "       [ 7.40034702e-01,  9.43112705e-03,  1.54564154e-01],\n",
              "       [-5.05371136e-04, -7.07027906e-01,  1.16286456e-03],\n",
              "       [-5.05371136e-04, -7.07027906e-01,  1.16286456e-03],\n",
              "       [ 1.01820565e-02, -1.45081087e-03,  6.85447970e-01],\n",
              "       [ 1.01820565e-02, -1.45081087e-03,  6.85447970e-01]])"
            ]
          },
          "metadata": {
            "tags": []
          },
          "execution_count": 87
        }
      ]
    },
    {
      "cell_type": "code",
      "metadata": {
        "colab": {
          "base_uri": "https://localhost:8080/"
        },
        "id": "olV9OJAv0VJU",
        "outputId": "f445be1a-1060-423e-c258-5d1910d5aa26"
      },
      "source": [
        "u_rot = np.dot(M2_arr,v_vot)\r\n",
        "u_rot"
      ],
      "execution_count": 88,
      "outputs": [
        {
          "output_type": "execute_result",
          "data": {
            "text/plain": [
              "array([[-1.01074227e-03, -1.41405581e+00,  2.32572912e-03],\n",
              "       [-1.01074227e-03, -1.41405581e+00,  2.32572912e-03],\n",
              "       [ 1.41244885e+00, -1.96726468e-03, -3.63006627e-02],\n",
              "       [ 1.41244885e+00, -1.96726468e-03, -3.63006627e-02],\n",
              "       [ 7.60398815e-01,  6.52950532e-03,  1.52546009e+00],\n",
              "       [ 2.03641130e-02, -2.90162173e-03,  1.37089594e+00],\n",
              "       [ 1.41143810e+00, -1.41602308e+00, -3.39749335e-02]])"
            ]
          },
          "metadata": {
            "tags": []
          },
          "execution_count": 88
        }
      ]
    },
    {
      "cell_type": "code",
      "metadata": {
        "id": "VdMTPxOv2tMQ"
      },
      "source": [
        "meanPoint = S.mean(axis = 0)\r\n",
        "\r\n",
        "# subtract mean point\r\n",
        "S-= meanPoint"
      ],
      "execution_count": 89,
      "outputs": []
    },
    {
      "cell_type": "code",
      "metadata": {
        "colab": {
          "base_uri": "https://localhost:8080/",
          "height": 258
        },
        "id": "Q1HZwEaIIREU",
        "outputId": "c6f886ff-17a4-4dc8-fad7-041d868d5589"
      },
      "source": [
        "M2=pd.DataFrame(S, index=row_names, columns=col_names)\r\n",
        "M2"
      ],
      "execution_count": 90,
      "outputs": [
        {
          "output_type": "execute_result",
          "data": {
            "text/html": [
              "<div>\n",
              "<style scoped>\n",
              "    .dataframe tbody tr th:only-of-type {\n",
              "        vertical-align: middle;\n",
              "    }\n",
              "\n",
              "    .dataframe tbody tr th {\n",
              "        vertical-align: top;\n",
              "    }\n",
              "\n",
              "    .dataframe thead th {\n",
              "        text-align: right;\n",
              "    }\n",
              "</style>\n",
              "<table border=\"1\" class=\"dataframe\">\n",
              "  <thead>\n",
              "    <tr style=\"text-align: right;\">\n",
              "      <th></th>\n",
              "      <th>True Romance</th>\n",
              "      <th>Pretty Woman</th>\n",
              "      <th>Aliens</th>\n",
              "      <th>Star Wars</th>\n",
              "      <th>Due Date</th>\n",
              "      <th>Hangover</th>\n",
              "    </tr>\n",
              "  </thead>\n",
              "  <tbody>\n",
              "    <tr>\n",
              "      <th>Noah</th>\n",
              "      <td>-0.428571</td>\n",
              "      <td>-0.571429</td>\n",
              "      <td>0.571429</td>\n",
              "      <td>0.571429</td>\n",
              "      <td>-0.285714</td>\n",
              "      <td>-0.285714</td>\n",
              "    </tr>\n",
              "    <tr>\n",
              "      <th>Emma</th>\n",
              "      <td>-0.428571</td>\n",
              "      <td>-0.571429</td>\n",
              "      <td>0.571429</td>\n",
              "      <td>0.571429</td>\n",
              "      <td>-0.285714</td>\n",
              "      <td>-0.285714</td>\n",
              "    </tr>\n",
              "    <tr>\n",
              "      <th>Mason</th>\n",
              "      <td>0.571429</td>\n",
              "      <td>0.428571</td>\n",
              "      <td>-0.428571</td>\n",
              "      <td>-0.428571</td>\n",
              "      <td>-0.285714</td>\n",
              "      <td>-0.285714</td>\n",
              "    </tr>\n",
              "    <tr>\n",
              "      <th>Sophia</th>\n",
              "      <td>0.571429</td>\n",
              "      <td>0.428571</td>\n",
              "      <td>-0.428571</td>\n",
              "      <td>-0.428571</td>\n",
              "      <td>-0.285714</td>\n",
              "      <td>-0.285714</td>\n",
              "    </tr>\n",
              "    <tr>\n",
              "      <th>William</th>\n",
              "      <td>-0.428571</td>\n",
              "      <td>0.428571</td>\n",
              "      <td>-0.428571</td>\n",
              "      <td>-0.428571</td>\n",
              "      <td>0.714286</td>\n",
              "      <td>0.714286</td>\n",
              "    </tr>\n",
              "    <tr>\n",
              "      <th>James</th>\n",
              "      <td>-0.428571</td>\n",
              "      <td>-0.571429</td>\n",
              "      <td>-0.428571</td>\n",
              "      <td>-0.428571</td>\n",
              "      <td>0.714286</td>\n",
              "      <td>0.714286</td>\n",
              "    </tr>\n",
              "    <tr>\n",
              "      <th>Tom</th>\n",
              "      <td>0.571429</td>\n",
              "      <td>0.428571</td>\n",
              "      <td>0.571429</td>\n",
              "      <td>0.571429</td>\n",
              "      <td>-0.285714</td>\n",
              "      <td>-0.285714</td>\n",
              "    </tr>\n",
              "  </tbody>\n",
              "</table>\n",
              "</div>"
            ],
            "text/plain": [
              "         True Romance  Pretty Woman    Aliens  Star Wars  Due Date  Hangover\n",
              "Noah        -0.428571     -0.571429  0.571429   0.571429 -0.285714 -0.285714\n",
              "Emma        -0.428571     -0.571429  0.571429   0.571429 -0.285714 -0.285714\n",
              "Mason        0.571429      0.428571 -0.428571  -0.428571 -0.285714 -0.285714\n",
              "Sophia       0.571429      0.428571 -0.428571  -0.428571 -0.285714 -0.285714\n",
              "William     -0.428571      0.428571 -0.428571  -0.428571  0.714286  0.714286\n",
              "James       -0.428571     -0.571429 -0.428571  -0.428571  0.714286  0.714286\n",
              "Tom          0.571429      0.428571  0.571429   0.571429 -0.285714 -0.285714"
            ]
          },
          "metadata": {
            "tags": []
          },
          "execution_count": 90
        }
      ]
    },
    {
      "cell_type": "code",
      "metadata": {
        "id": "VUEretXeIU_P"
      },
      "source": [
        "M2_arr=M2.to_numpy()"
      ],
      "execution_count": 91,
      "outputs": []
    },
    {
      "cell_type": "code",
      "metadata": {
        "id": "0V5XuEr0Ii66"
      },
      "source": [
        "U, Sigma, VT = randomized_svd(M2_arr, \r\n",
        "                              n_components=3,\r\n",
        "                              n_iter=3,\r\n",
        "                              random_state=68,)"
      ],
      "execution_count": 92,
      "outputs": []
    },
    {
      "cell_type": "code",
      "metadata": {
        "colab": {
          "base_uri": "https://localhost:8080/"
        },
        "id": "ZUvWI_AyIldV",
        "outputId": "26ec4e54-5c9f-4978-81f8-bc9518b8af11"
      },
      "source": [
        "U"
      ],
      "execution_count": 93,
      "outputs": [
        {
          "output_type": "execute_result",
          "data": {
            "text/plain": [
              "array([[-0.4148071 , -0.33845986, -0.15197534],\n",
              "       [-0.4148071 , -0.33845986, -0.15197534],\n",
              "       [ 0.10567562,  0.48893385, -0.31579544],\n",
              "       [ 0.10567562,  0.48893385, -0.31579544],\n",
              "       [ 0.53264655, -0.14609781,  0.54115228],\n",
              "       [ 0.45883588, -0.43759406, -0.24083287],\n",
              "       [-0.37321946,  0.28274389,  0.63522217]])"
            ]
          },
          "metadata": {
            "tags": []
          },
          "execution_count": 93
        }
      ]
    },
    {
      "cell_type": "code",
      "metadata": {
        "colab": {
          "base_uri": "https://localhost:8080/"
        },
        "id": "YZqVwvfpImVF",
        "outputId": "dcdd9bce-bd23-4ed7-a2db-47a54d2893b6"
      },
      "source": [
        "Sigma"
      ],
      "execution_count": 94,
      "outputs": [
        {
          "output_type": "execute_result",
          "data": {
            "text/plain": [
              "array([2.24128764, 1.95535779, 0.83466604])"
            ]
          },
          "metadata": {
            "tags": []
          },
          "execution_count": 94
        }
      ]
    },
    {
      "cell_type": "code",
      "metadata": {
        "colab": {
          "base_uri": "https://localhost:8080/"
        },
        "id": "RzWHdPmOIpkl",
        "outputId": "58b6c287-41fa-4651-8f61-3f9d16afc275"
      },
      "source": [
        "v = VT.T\r\n",
        "v"
      ],
      "execution_count": 95,
      "outputs": [
        {
          "output_type": "execute_result",
          "data": {
            "text/plain": [
              "array([[-0.07222109,  0.64469612,  0.00435058],\n",
              "       [ 0.16543094,  0.56997946,  0.65269645],\n",
              "       [-0.53667081, -0.20158757,  0.39689105],\n",
              "       [-0.53667081, -0.20158757,  0.39689105],\n",
              "       [ 0.44237179, -0.29850899,  0.35980787],\n",
              "       [ 0.44237179, -0.29850899,  0.35980787]])"
            ]
          },
          "metadata": {
            "tags": []
          },
          "execution_count": 95
        }
      ]
    },
    {
      "cell_type": "code",
      "metadata": {
        "colab": {
          "base_uri": "https://localhost:8080/"
        },
        "id": "Fbd0YRF7NHxF",
        "outputId": "fb9d4e58-41ac-4d5d-fee5-f4275750b2a1"
      },
      "source": [
        "v_vot = varimax(v)\r\n",
        "v_vot"
      ],
      "execution_count": 96,
      "outputs": [
        {
          "output_type": "stream",
          "text": [
            "/usr/local/lib/python3.6/dist-packages/ipykernel_launcher.py:14: RuntimeWarning: divide by zero encountered in double_scalars\n",
            "  \n"
          ],
          "name": "stderr"
        },
        {
          "output_type": "execute_result",
          "data": {
            "text/plain": [
              "array([[ 0.15509828,  0.43368752,  0.45686711],\n",
              "       [-0.04684413, -0.08104145,  0.87720838],\n",
              "       [-0.69658815,  0.01412373,  0.02722294],\n",
              "       [-0.69658815,  0.01412373,  0.02722294],\n",
              "       [ 0.04049729, -0.63440856,  0.10073659],\n",
              "       [ 0.04049729, -0.63440856,  0.10073659]])"
            ]
          },
          "metadata": {
            "tags": []
          },
          "execution_count": 96
        }
      ]
    },
    {
      "cell_type": "code",
      "metadata": {
        "colab": {
          "base_uri": "https://localhost:8080/"
        },
        "id": "vKmEQ7q6NMHR",
        "outputId": "d0f735c0-567e-492b-d933-bc544e5ff257"
      },
      "source": [
        "u_rot = np.dot(M2_arr,v_vot)\r\n",
        "u_rot"
      ],
      "execution_count": 97,
      "outputs": [
        {
          "output_type": "execute_result",
          "data": {
            "text/plain": [
              "array([[-0.85894466,  0.2391039 , -0.72351396],\n",
              "       [-0.85894466,  0.2391039 , -0.72351396],\n",
              "       [ 0.64248577,  0.56350252,  0.55611566],\n",
              "       [ 0.64248577,  0.56350252,  0.55611566],\n",
              "       [ 0.56838208, -1.13900214,  0.30072172],\n",
              "       [ 0.61522621, -1.05796069, -0.57648666],\n",
              "       [-0.75069052,  0.59174998,  0.61056154]])"
            ]
          },
          "metadata": {
            "tags": []
          },
          "execution_count": 97
        }
      ]
    },
    {
      "cell_type": "code",
      "metadata": {
        "colab": {
          "base_uri": "https://localhost:8080/",
          "height": 258
        },
        "id": "ccdZKu_EQFby",
        "outputId": "55690fa7-9e94-4d38-8afd-a757a102c3a3"
      },
      "source": [
        "u_rot_df=pd.DataFrame(u_rot, index=row_names)\r\n",
        "u_rot_df"
      ],
      "execution_count": 98,
      "outputs": [
        {
          "output_type": "execute_result",
          "data": {
            "text/html": [
              "<div>\n",
              "<style scoped>\n",
              "    .dataframe tbody tr th:only-of-type {\n",
              "        vertical-align: middle;\n",
              "    }\n",
              "\n",
              "    .dataframe tbody tr th {\n",
              "        vertical-align: top;\n",
              "    }\n",
              "\n",
              "    .dataframe thead th {\n",
              "        text-align: right;\n",
              "    }\n",
              "</style>\n",
              "<table border=\"1\" class=\"dataframe\">\n",
              "  <thead>\n",
              "    <tr style=\"text-align: right;\">\n",
              "      <th></th>\n",
              "      <th>0</th>\n",
              "      <th>1</th>\n",
              "      <th>2</th>\n",
              "    </tr>\n",
              "  </thead>\n",
              "  <tbody>\n",
              "    <tr>\n",
              "      <th>Noah</th>\n",
              "      <td>-0.858945</td>\n",
              "      <td>0.239104</td>\n",
              "      <td>-0.723514</td>\n",
              "    </tr>\n",
              "    <tr>\n",
              "      <th>Emma</th>\n",
              "      <td>-0.858945</td>\n",
              "      <td>0.239104</td>\n",
              "      <td>-0.723514</td>\n",
              "    </tr>\n",
              "    <tr>\n",
              "      <th>Mason</th>\n",
              "      <td>0.642486</td>\n",
              "      <td>0.563503</td>\n",
              "      <td>0.556116</td>\n",
              "    </tr>\n",
              "    <tr>\n",
              "      <th>Sophia</th>\n",
              "      <td>0.642486</td>\n",
              "      <td>0.563503</td>\n",
              "      <td>0.556116</td>\n",
              "    </tr>\n",
              "    <tr>\n",
              "      <th>William</th>\n",
              "      <td>0.568382</td>\n",
              "      <td>-1.139002</td>\n",
              "      <td>0.300722</td>\n",
              "    </tr>\n",
              "    <tr>\n",
              "      <th>James</th>\n",
              "      <td>0.615226</td>\n",
              "      <td>-1.057961</td>\n",
              "      <td>-0.576487</td>\n",
              "    </tr>\n",
              "    <tr>\n",
              "      <th>Tom</th>\n",
              "      <td>-0.750691</td>\n",
              "      <td>0.591750</td>\n",
              "      <td>0.610562</td>\n",
              "    </tr>\n",
              "  </tbody>\n",
              "</table>\n",
              "</div>"
            ],
            "text/plain": [
              "                0         1         2\n",
              "Noah    -0.858945  0.239104 -0.723514\n",
              "Emma    -0.858945  0.239104 -0.723514\n",
              "Mason    0.642486  0.563503  0.556116\n",
              "Sophia   0.642486  0.563503  0.556116\n",
              "William  0.568382 -1.139002  0.300722\n",
              "James    0.615226 -1.057961 -0.576487\n",
              "Tom     -0.750691  0.591750  0.610562"
            ]
          },
          "metadata": {
            "tags": []
          },
          "execution_count": 98
        }
      ]
    }
  ]
}
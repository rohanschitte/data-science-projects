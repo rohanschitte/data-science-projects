{
  "nbformat": 4,
  "nbformat_minor": 0,
  "metadata": {
    "colab": {
      "name": "task 8.2.ipynb",
      "provenance": [],
      "collapsed_sections": []
    },
    "kernelspec": {
      "name": "python3",
      "display_name": "Python 3"
    }
  },
  "cells": [
    {
      "cell_type": "code",
      "metadata": {
        "id": "LdS9lDFuG-Hn"
      },
      "source": [
        "from google.colab import drive\n",
        "drive.mount('/content/drive')"
      ],
      "execution_count": null,
      "outputs": []
    },
    {
      "cell_type": "code",
      "metadata": {
        "id": "9gPQDNQAHCP9"
      },
      "source": [
        "import pandas as pd\n",
        "import glob\n",
        "import os\n",
        "\n",
        "path = r'/content/drive/MyDrive/studentLife/sensing/activity' # use your path\n",
        "\n",
        "globbed_files = glob.glob(path + \"/*.csv\")\n",
        "\n",
        "data = [] # pd.concat takes a list of dataframes as an agrument\n",
        "\n",
        "\n",
        "for csv in globbed_files:\n",
        "    frame = pd.read_csv(csv)\n",
        "    frame['filename'] = os.path.basename(csv)\n",
        "    data.append(frame)\n",
        "\n",
        "bigframe = pd.concat(data, ignore_index=True) #dont want pandas to try an align row indexes"
      ],
      "execution_count": null,
      "outputs": []
    },
    {
      "cell_type": "code",
      "metadata": {
        "id": "u-nBUlBrHKkf"
      },
      "source": [
        "import pandas as pd\n",
        "import glob\n",
        "import os\n",
        "import json\n",
        "  \n",
        "# Opening JSON file \n",
        "\n",
        "path2 = r'/content/drive/MyDrive/studentLife/EMA/response/Stress/' # use your path\n",
        "\n",
        "globbed_files2 = glob.glob(path2 + \"/*.json\")\n",
        "\n",
        "data2 = [] # pd.concat takes a list of dataframes as an agrument\n",
        "\n",
        "for json in globbed_files2:\n",
        "    frame2 = pd.read_json(json)\n",
        "    frame2['filename'] = os.path.basename(json)\n",
        "    data2.append(frame2)\n",
        "\n",
        "bigframe2 = pd.concat(data2, ignore_index=True) #dont want pandas to try an align row indexes"
      ],
      "execution_count": null,
      "outputs": []
    },
    {
      "cell_type": "code",
      "metadata": {
        "colab": {
          "base_uri": "https://localhost:8080/"
        },
        "id": "ZNQjkL3EHQ5F",
        "outputId": "b4090930-ea17-4917-a790-ba6168c2754e"
      },
      "source": [
        "bigframe2.dtypes\n",
        "bigframe2.isnull()\n",
        "bigframe2['null'] = bigframe2['null'].astype('str') \n",
        "bigframe2.dtypes"
      ],
      "execution_count": null,
      "outputs": [
        {
          "output_type": "execute_result",
          "data": {
            "text/plain": [
              "level               float64\n",
              "location             object\n",
              "resp_time    datetime64[ns]\n",
              "null                 object\n",
              "filename             object\n",
              "dtype: object"
            ]
          },
          "metadata": {
            "tags": []
          },
          "execution_count": 5
        }
      ]
    },
    {
      "cell_type": "code",
      "metadata": {
        "colab": {
          "base_uri": "https://localhost:8080/"
        },
        "id": "f2AXSd1THqNa",
        "outputId": "3900b769-015b-4016-894d-7c32bfccc63f"
      },
      "source": [
        "x = bigframe2['level']\n",
        "x = x.dropna()\n",
        "x"
      ],
      "execution_count": null,
      "outputs": [
        {
          "output_type": "execute_result",
          "data": {
            "text/plain": [
              "0       4.0\n",
              "1       4.0\n",
              "8       4.0\n",
              "9       5.0\n",
              "10      2.0\n",
              "       ... \n",
              "2403    1.0\n",
              "2404    1.0\n",
              "2405    1.0\n",
              "2406    1.0\n",
              "2407    1.0\n",
              "Name: level, Length: 2167, dtype: float64"
            ]
          },
          "metadata": {
            "tags": []
          },
          "execution_count": 7
        }
      ]
    },
    {
      "cell_type": "code",
      "metadata": {
        "colab": {
          "base_uri": "https://localhost:8080/"
        },
        "id": "h1iUqwzrH369",
        "outputId": "0690a859-b1ca-4f29-8ea9-5d6099b7fd1d"
      },
      "source": [
        "y = bigframe[:2167]\n",
        "y2 = y[' activity inference']\n",
        "y2 = y2.dropna()\n",
        "y2"
      ],
      "execution_count": null,
      "outputs": [
        {
          "output_type": "execute_result",
          "data": {
            "text/plain": [
              "0       0\n",
              "1       0\n",
              "2       0\n",
              "3       0\n",
              "4       0\n",
              "       ..\n",
              "2162    0\n",
              "2163    0\n",
              "2164    0\n",
              "2165    0\n",
              "2166    0\n",
              "Name:  activity inference, Length: 2167, dtype: int64"
            ]
          },
          "metadata": {
            "tags": []
          },
          "execution_count": 8
        }
      ]
    },
    {
      "cell_type": "code",
      "metadata": {
        "id": "02odyt6FH7Tm"
      },
      "source": [
        "from scipy.stats import pearsonr"
      ],
      "execution_count": null,
      "outputs": []
    },
    {
      "cell_type": "code",
      "metadata": {
        "colab": {
          "base_uri": "https://localhost:8080/"
        },
        "id": "RMQOxer7H9KR",
        "outputId": "9d2c1c36-adae-4b2e-d868-8b744b5cb7f7"
      },
      "source": [
        "r,p = pearsonr(x,y2)\n",
        "print (\"Correlation between stress and activity:\")\n",
        "print(r,p)"
      ],
      "execution_count": null,
      "outputs": [
        {
          "output_type": "stream",
          "text": [
            "Correlation between stress and activity:\n",
            "-0.005117952556126633 0.8117956659866397\n"
          ],
          "name": "stdout"
        }
      ]
    },
    {
      "cell_type": "code",
      "metadata": {
        "id": "6v_ZjufQIHbA"
      },
      "source": [
        "import pandas as pd\n",
        "import glob\n",
        "import os\n",
        "import json\n",
        "  \n",
        "# Opening JSON file \n",
        "\n",
        "path3 = r'/content/drive/MyDrive/studentLife/EMA/response/Exercise/' # use your path\n",
        "\n",
        "globbed_files3 = glob.glob(path3 + \"/*.json\")\n",
        "\n",
        "data3 = [] # pd.concat takes a list of dataframes as an agrument\n",
        "\n",
        "for json in globbed_files3:\n",
        "    frame3 = pd.read_json(json)\n",
        "    frame3['filename'] = os.path.basename(json)\n",
        "    data3.append(frame3)\n",
        "\n",
        "exercise = pd.concat(data3, ignore_index=True) #dont want pandas to try an align row indexes"
      ],
      "execution_count": null,
      "outputs": []
    },
    {
      "cell_type": "code",
      "metadata": {
        "id": "5FMyefZiIMQQ"
      },
      "source": [
        "import pandas as pd\n",
        "import glob\n",
        "import os\n",
        "import json\n",
        "  \n",
        "# Opening JSON file \n",
        "\n",
        "path4 = r'/content/drive/MyDrive/studentLife/EMA/response/Sleep/' # use your path\n",
        "\n",
        "globbed_files4 = glob.glob(path4 + \"/*.json\")\n",
        "\n",
        "data4 = [] # pd.concat takes a list of dataframes as an agrument\n",
        "\n",
        "for json in globbed_files4:\n",
        "    frame4 = pd.read_json(json)\n",
        "    frame4['filename'] = os.path.basename(json)\n",
        "    data4.append(frame4)\n",
        "\n",
        "sleep = pd.concat(data4, ignore_index=True) #dont want pandas to try an align row indexes"
      ],
      "execution_count": null,
      "outputs": []
    },
    {
      "cell_type": "code",
      "metadata": {
        "id": "4Ssdesu9INxJ"
      },
      "source": [
        "import pandas as pd\n",
        "import glob\n",
        "import os\n",
        "import json\n",
        "  \n",
        "# Opening JSON file \n",
        "\n",
        "path5 = r'/content/drive/MyDrive/studentLife/EMA/response/Events/' # use your path\n",
        "\n",
        "globbed_files5 = glob.glob(path5 + \"/*.json\")\n",
        "\n",
        "data5 = [] # pd.concat takes a list of dataframes as an agrument\n",
        "\n",
        "for json in globbed_files5:\n",
        "    frame5 = pd.read_json(json)\n",
        "    frame5['filename'] = os.path.basename(json)\n",
        "    data5.append(frame5)\n",
        "\n",
        "events = pd.concat(data5, ignore_index=True) #dont want pandas to try an align row indexes"
      ],
      "execution_count": null,
      "outputs": []
    },
    {
      "cell_type": "code",
      "metadata": {
        "colab": {
          "base_uri": "https://localhost:8080/"
        },
        "id": "D1dYk4xsIP9Y",
        "outputId": "a81ed453-92cb-4362-e338-a623b5bf621e"
      },
      "source": [
        "events\n",
        "events2 = events.loc[(events['filename'] == 'Events_u16.json') |\n",
        "              (events['filename'] == 'Events_u10.json')] \n",
        "events2.shape"
      ],
      "execution_count": null,
      "outputs": [
        {
          "output_type": "execute_result",
          "data": {
            "text/plain": [
              "(26, 7)"
            ]
          },
          "metadata": {
            "tags": []
          },
          "execution_count": 13
        }
      ]
    },
    {
      "cell_type": "code",
      "metadata": {
        "colab": {
          "base_uri": "https://localhost:8080/"
        },
        "id": "dSXQHdXBIU05",
        "outputId": "b640d943-f386-418f-a218-745e92412131"
      },
      "source": [
        "sleep\n",
        "sleep2 = sleep.loc[(sleep['filename'] == 'Sleep_u16.json') |\n",
        "              (sleep['filename'] == 'Sleep_u10.json')] \n",
        "sleep2.dtypes\n",
        "sleep2 = sleep2['hour'].dropna()\n",
        "sleep2"
      ],
      "execution_count": null,
      "outputs": [
        {
          "output_type": "execute_result",
          "data": {
            "text/plain": [
              "381      7.0\n",
              "388      8.0\n",
              "389      7.0\n",
              "390      7.0\n",
              "391      8.0\n",
              "        ... \n",
              "1198    13.0\n",
              "1199     1.0\n",
              "1200     8.0\n",
              "1201     9.0\n",
              "1202    11.0\n",
              "Name: hour, Length: 112, dtype: float64"
            ]
          },
          "metadata": {
            "tags": []
          },
          "execution_count": 14
        }
      ]
    },
    {
      "cell_type": "code",
      "metadata": {
        "id": "MFLIz4prIazU"
      },
      "source": [
        "exercise2 = exercise.loc[(exercise['filename'] == 'Exercise_u16.json') |\n",
        "              (exercise['filename'] == 'Exercise_u10.json')] \n",
        "exercise2 = exercise2.dropna()\n",
        "exercise2\n",
        "exercise3 = exercise2['exercise']"
      ],
      "execution_count": null,
      "outputs": []
    },
    {
      "cell_type": "code",
      "metadata": {
        "id": "TMFmJ1YwIckD"
      },
      "source": [
        "stress = bigframe2.loc[(bigframe2['filename'] == 'Stress_u16.json') |\n",
        "              (bigframe2['filename'] == 'Stress_u10.json')] \n",
        "stress = stress.dropna()\n",
        "stress\n",
        "stress_sleep = stress [ :112]\n",
        "stress_exercise = stress [ :31]\n",
        "stress_event = stress [ :26]"
      ],
      "execution_count": null,
      "outputs": []
    },
    {
      "cell_type": "code",
      "metadata": {
        "colab": {
          "base_uri": "https://localhost:8080/"
        },
        "id": "vm_Yf0KEIhWF",
        "outputId": "647afad1-c896-41cd-b6a2-0774172b8920"
      },
      "source": [
        "r1,p1 = pearsonr(stress_sleep['level'],sleep2)\n",
        "print (\"Correlation between stress and sleep:\")\n",
        "print(r1,p1)"
      ],
      "execution_count": null,
      "outputs": [
        {
          "output_type": "stream",
          "text": [
            "Correlation between stress and sleep:\n",
            "0.04034174854143035 0.6727919262452694\n"
          ],
          "name": "stdout"
        }
      ]
    },
    {
      "cell_type": "code",
      "metadata": {
        "colab": {
          "base_uri": "https://localhost:8080/"
        },
        "id": "HiFRFnvaIjXf",
        "outputId": "fcf4469a-b15e-4b8c-d438-b33c5e1293d1"
      },
      "source": [
        "r2,p2 = pearsonr(stress_exercise['level'],exercise3)\n",
        "print (\"Correlation between stress and exercise:\")\n",
        "print(r2,p2)"
      ],
      "execution_count": null,
      "outputs": [
        {
          "output_type": "stream",
          "text": [
            "Correlation between stress and exercise:\n",
            "0.011554023143496567 0.9508109680954823\n"
          ],
          "name": "stdout"
        }
      ]
    },
    {
      "cell_type": "code",
      "metadata": {
        "colab": {
          "base_uri": "https://localhost:8080/"
        },
        "id": "ulw0YIKsIj7h",
        "outputId": "bfad1bf7-da29-470f-8fcd-7ca8314cb668"
      },
      "source": [
        "r3, p3 = pearsonr(stress_event['level'],events2['positive'])\n",
        "print (\"Correlation between stress and events:\")\n",
        "print(r3,p3)"
      ],
      "execution_count": null,
      "outputs": [
        {
          "output_type": "stream",
          "text": [
            "Correlation between stress and events:\n",
            "0.012278491144729288 0.952529035352944\n"
          ],
          "name": "stdout"
        }
      ]
    },
    {
      "cell_type": "code",
      "metadata": {
        "colab": {
          "base_uri": "https://localhost:8080/",
          "height": 159
        },
        "id": "_7VZY9SennjD",
        "outputId": "4f05bb21-2b7c-4026-96a9-c18d38cb27be"
      },
      "source": [
        "print (\"Correlations of stress with other features:\")\n",
        "feat= ['Stress and Sleep','Stress and Exercise','Stress and Events']\n",
        "r=[r1,r2,r3]\n",
        "pvalue=[p1,p2,p3]\n",
        "corrdf = pd.DataFrame({'Other Features': feat,'r':r,'p-value':pvalue})\n",
        "corrdf\n",
        "\n"
      ],
      "execution_count": null,
      "outputs": [
        {
          "output_type": "stream",
          "text": [
            "Correlations of stress with other features:\n"
          ],
          "name": "stdout"
        },
        {
          "output_type": "execute_result",
          "data": {
            "text/html": [
              "<div>\n",
              "<style scoped>\n",
              "    .dataframe tbody tr th:only-of-type {\n",
              "        vertical-align: middle;\n",
              "    }\n",
              "\n",
              "    .dataframe tbody tr th {\n",
              "        vertical-align: top;\n",
              "    }\n",
              "\n",
              "    .dataframe thead th {\n",
              "        text-align: right;\n",
              "    }\n",
              "</style>\n",
              "<table border=\"1\" class=\"dataframe\">\n",
              "  <thead>\n",
              "    <tr style=\"text-align: right;\">\n",
              "      <th></th>\n",
              "      <th>Other Features</th>\n",
              "      <th>r</th>\n",
              "      <th>p-value</th>\n",
              "    </tr>\n",
              "  </thead>\n",
              "  <tbody>\n",
              "    <tr>\n",
              "      <th>0</th>\n",
              "      <td>Stress and Sleep</td>\n",
              "      <td>0.040342</td>\n",
              "      <td>0.672792</td>\n",
              "    </tr>\n",
              "    <tr>\n",
              "      <th>1</th>\n",
              "      <td>Stress and Exercise</td>\n",
              "      <td>0.011554</td>\n",
              "      <td>0.950811</td>\n",
              "    </tr>\n",
              "    <tr>\n",
              "      <th>2</th>\n",
              "      <td>Stress and Events</td>\n",
              "      <td>0.012278</td>\n",
              "      <td>0.952529</td>\n",
              "    </tr>\n",
              "  </tbody>\n",
              "</table>\n",
              "</div>"
            ],
            "text/plain": [
              "        Other Features         r   p-value\n",
              "0     Stress and Sleep  0.040342  0.672792\n",
              "1  Stress and Exercise  0.011554  0.950811\n",
              "2    Stress and Events  0.012278  0.952529"
            ]
          },
          "metadata": {
            "tags": []
          },
          "execution_count": 34
        }
      ]
    }
  ]
}
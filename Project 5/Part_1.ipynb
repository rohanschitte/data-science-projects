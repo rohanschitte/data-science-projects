{
  "nbformat": 4,
  "nbformat_minor": 0,
  "metadata": {
    "colab": {
      "name": "Part-1",
      "provenance": [],
      "collapsed_sections": []
    },
    "kernelspec": {
      "display_name": "Python 3",
      "name": "python3"
    },
    "accelerator": "TPU"
  },
  "cells": [
    {
      "cell_type": "code",
      "metadata": {
        "colab": {
          "base_uri": "https://localhost:8080/"
        },
        "id": "5dyY8i8OqpmM",
        "outputId": "27fb2679-eee5-4574-a077-ed5d31a63840"
      },
      "source": [
        "!pip install -e git+https://github.com/SohierDane/BigQuery_Helper#egg=bq_helper"
      ],
      "execution_count": null,
      "outputs": [
        {
          "output_type": "stream",
          "text": [
            "Obtaining bq_helper from git+https://github.com/SohierDane/BigQuery_Helper#egg=bq_helper\n",
            "  Updating ./src/bq-helper clone\n",
            "  Running command git fetch -q --tags\n",
            "  Running command git reset --hard -q 8615a7f6c1663e7f2d48aa2b32c2dbcb600a440f\n",
            "Requirement already satisfied: pandas in /usr/local/lib/python3.6/dist-packages (from bq_helper) (1.1.4)\n",
            "Requirement already satisfied: google-cloud-bigquery in /usr/local/lib/python3.6/dist-packages (from bq_helper) (1.21.0)\n",
            "Requirement already satisfied: python-dateutil>=2.7.3 in /usr/local/lib/python3.6/dist-packages (from pandas->bq_helper) (2.8.1)\n",
            "Requirement already satisfied: numpy>=1.15.4 in /usr/local/lib/python3.6/dist-packages (from pandas->bq_helper) (1.18.5)\n",
            "Requirement already satisfied: pytz>=2017.2 in /usr/local/lib/python3.6/dist-packages (from pandas->bq_helper) (2018.9)\n",
            "Requirement already satisfied: protobuf>=3.6.0 in /usr/local/lib/python3.6/dist-packages (from google-cloud-bigquery->bq_helper) (3.12.4)\n",
            "Requirement already satisfied: google-resumable-media!=0.4.0,<0.5.0dev,>=0.3.1 in /usr/local/lib/python3.6/dist-packages (from google-cloud-bigquery->bq_helper) (0.4.1)\n",
            "Requirement already satisfied: google-cloud-core<2.0dev,>=1.0.3 in /usr/local/lib/python3.6/dist-packages (from google-cloud-bigquery->bq_helper) (1.0.3)\n",
            "Requirement already satisfied: six>=1.5 in /usr/local/lib/python3.6/dist-packages (from python-dateutil>=2.7.3->pandas->bq_helper) (1.15.0)\n",
            "Requirement already satisfied: setuptools in /usr/local/lib/python3.6/dist-packages (from protobuf>=3.6.0->google-cloud-bigquery->bq_helper) (50.3.2)\n",
            "Requirement already satisfied: google-api-core<2.0.0dev,>=1.14.0 in /usr/local/lib/python3.6/dist-packages (from google-cloud-core<2.0dev,>=1.0.3->google-cloud-bigquery->bq_helper) (1.16.0)\n",
            "Requirement already satisfied: requests<3.0.0dev,>=2.18.0 in /usr/local/lib/python3.6/dist-packages (from google-api-core<2.0.0dev,>=1.14.0->google-cloud-core<2.0dev,>=1.0.3->google-cloud-bigquery->bq_helper) (2.23.0)\n",
            "Requirement already satisfied: googleapis-common-protos<2.0dev,>=1.6.0 in /usr/local/lib/python3.6/dist-packages (from google-api-core<2.0.0dev,>=1.14.0->google-cloud-core<2.0dev,>=1.0.3->google-cloud-bigquery->bq_helper) (1.52.0)\n",
            "Requirement already satisfied: google-auth<2.0dev,>=0.4.0 in /usr/local/lib/python3.6/dist-packages (from google-api-core<2.0.0dev,>=1.14.0->google-cloud-core<2.0dev,>=1.0.3->google-cloud-bigquery->bq_helper) (1.17.2)\n",
            "Requirement already satisfied: chardet<4,>=3.0.2 in /usr/local/lib/python3.6/dist-packages (from requests<3.0.0dev,>=2.18.0->google-api-core<2.0.0dev,>=1.14.0->google-cloud-core<2.0dev,>=1.0.3->google-cloud-bigquery->bq_helper) (3.0.4)\n",
            "Requirement already satisfied: urllib3!=1.25.0,!=1.25.1,<1.26,>=1.21.1 in /usr/local/lib/python3.6/dist-packages (from requests<3.0.0dev,>=2.18.0->google-api-core<2.0.0dev,>=1.14.0->google-cloud-core<2.0dev,>=1.0.3->google-cloud-bigquery->bq_helper) (1.24.3)\n",
            "Requirement already satisfied: idna<3,>=2.5 in /usr/local/lib/python3.6/dist-packages (from requests<3.0.0dev,>=2.18.0->google-api-core<2.0.0dev,>=1.14.0->google-cloud-core<2.0dev,>=1.0.3->google-cloud-bigquery->bq_helper) (2.10)\n",
            "Requirement already satisfied: certifi>=2017.4.17 in /usr/local/lib/python3.6/dist-packages (from requests<3.0.0dev,>=2.18.0->google-api-core<2.0.0dev,>=1.14.0->google-cloud-core<2.0dev,>=1.0.3->google-cloud-bigquery->bq_helper) (2020.11.8)\n",
            "Requirement already satisfied: cachetools<5.0,>=2.0.0 in /usr/local/lib/python3.6/dist-packages (from google-auth<2.0dev,>=0.4.0->google-api-core<2.0.0dev,>=1.14.0->google-cloud-core<2.0dev,>=1.0.3->google-cloud-bigquery->bq_helper) (4.1.1)\n",
            "Requirement already satisfied: pyasn1-modules>=0.2.1 in /usr/local/lib/python3.6/dist-packages (from google-auth<2.0dev,>=0.4.0->google-api-core<2.0.0dev,>=1.14.0->google-cloud-core<2.0dev,>=1.0.3->google-cloud-bigquery->bq_helper) (0.2.8)\n",
            "Requirement already satisfied: rsa<5,>=3.1.4; python_version >= \"3\" in /usr/local/lib/python3.6/dist-packages (from google-auth<2.0dev,>=0.4.0->google-api-core<2.0.0dev,>=1.14.0->google-cloud-core<2.0dev,>=1.0.3->google-cloud-bigquery->bq_helper) (4.6)\n",
            "Requirement already satisfied: pyasn1<0.5.0,>=0.4.6 in /usr/local/lib/python3.6/dist-packages (from pyasn1-modules>=0.2.1->google-auth<2.0dev,>=0.4.0->google-api-core<2.0.0dev,>=1.14.0->google-cloud-core<2.0dev,>=1.0.3->google-cloud-bigquery->bq_helper) (0.4.8)\n",
            "Installing collected packages: bq-helper\n",
            "  Found existing installation: bq-helper 0.4.1\n",
            "    Can't uninstall 'bq-helper'. No files were found to uninstall.\n",
            "  Running setup.py develop for bq-helper\n",
            "Successfully installed bq-helper\n"
          ],
          "name": "stdout"
        }
      ]
    },
    {
      "cell_type": "code",
      "metadata": {
        "id": "erlO_6O8qUrE",
        "colab": {
          "base_uri": "https://localhost:8080/"
        },
        "outputId": "cc7d36fd-bb5d-46fd-c9ce-168e2a204e80"
      },
      "source": [
        "from bq_helper import BigQueryHelper\n",
        "from google.colab import auth\n",
        "auth.authenticate_user()\n",
        "print('Authenticated')"
      ],
      "execution_count": null,
      "outputs": [
        {
          "output_type": "stream",
          "text": [
            "Authenticated\n"
          ],
          "name": "stdout"
        }
      ]
    },
    {
      "cell_type": "code",
      "metadata": {
        "id": "M7LbTSC0qloE",
        "colab": {
          "base_uri": "https://localhost:8080/"
        },
        "outputId": "519d8305-bd85-4c5d-a5e3-66af35cd8c86"
      },
      "source": [
        "%load_ext google.colab.data_table"
      ],
      "execution_count": null,
      "outputs": [
        {
          "output_type": "stream",
          "text": [
            "The google.colab.data_table extension is already loaded. To reload it, use:\n",
            "  %reload_ext google.colab.data_table\n"
          ],
          "name": "stdout"
        }
      ]
    },
    {
      "cell_type": "code",
      "metadata": {
        "id": "ASIqk1UoqmU4",
        "colab": {
          "base_uri": "https://localhost:8080/"
        },
        "outputId": "20449e27-7460-4086-e7e1-bd62ea108ff5"
      },
      "source": [
        "project_id = \"project297814\"\n",
        "%env GCLOUD_PROJECT=project_id"
      ],
      "execution_count": null,
      "outputs": [
        {
          "output_type": "stream",
          "text": [
            "env: GCLOUD_PROJECT=project_id\n"
          ],
          "name": "stdout"
        }
      ]
    },
    {
      "cell_type": "code",
      "metadata": {
        "id": "9HAzmAuIQTDQ"
      },
      "source": [
        "from google.cloud import bigquery\n",
        "import pandas as pd\n",
        "client=bigquery.Client(project=project_id)"
      ],
      "execution_count": null,
      "outputs": []
    },
    {
      "cell_type": "code",
      "metadata": {
        "id": "-VEKFIq3q7f_"
      },
      "source": [
        "bq_assistant = BigQueryHelper(\"bigquery-public-data\", \"github_repos\")\n",
        "bq_assistant.client=bigquery.Client(project=project_id)"
      ],
      "execution_count": null,
      "outputs": []
    },
    {
      "cell_type": "code",
      "metadata": {
        "id": "uux8yqbQrH7h"
      },
      "source": [
        "QUERY1 = '''\n",
        " WITH filtered_snp_calls AS (\n",
        "   SELECT\n",
        "     reference_name,\n",
        "     c.name,\n",
        "     CONCAT(reference_bases, '->', alternate_bases[ORDINAL(1)].alt) AS mutation\n",
        "   FROM\n",
        "     `bigquery-public-data.human_genome_variants.platinum_genomes_deepvariant_variants_20180823` AS v, UNNEST(v.call) AS c\n",
        "   WHERE\n",
        "     # Only include biallelic SNPs.\n",
        "     reference_bases IN ('A','C','G','T')\n",
        "     AND alternate_bases[ORDINAL(1)].alt IN ('A','C','G','T')\n",
        "     AND (ARRAY_LENGTH(alternate_bases) = 1\n",
        "       OR (ARRAY_LENGTH(alternate_bases) = 2 AND alternate_bases[ORDINAL(2)].alt = '<*>'))\n",
        "     # Skip homozygous reference calls and no-calls.\n",
        "     AND EXISTS (SELECT g FROM UNNEST(c.genotype) AS g WHERE g > 0)\n",
        "     AND NOT EXISTS (SELECT g FROM UNNEST(c.genotype) AS g WHERE g < 0)\n",
        "     # Include only high quality calls.\n",
        "     AND NOT EXISTS (SELECT ft FROM UNNEST(c.filter) ft WHERE ft NOT IN ('PASS', '.'))\n",
        " ),\n",
        "\n",
        " mutation_type_counts AS (\n",
        "   SELECT\n",
        "     reference_name,\n",
        "     name,\n",
        "     SUM(CAST(mutation IN ('A->G', 'G->A', 'C->T', 'T->C') AS INT64)) AS transitions,\n",
        "     SUM(CAST(mutation IN ('A->C', 'C->A', 'G->T', 'T->G',\n",
        "                           'A->T', 'T->A', 'C->G', 'G->C') AS INT64)) AS transversions\n",
        "   FROM filtered_snp_calls\n",
        "   GROUP BY\n",
        "     reference_name,\n",
        "     name\n",
        " )\n",
        "\n",
        " SELECT\n",
        "   reference_name,\n",
        "   name,\n",
        "   transitions,\n",
        "   transversions,\n",
        "   transitions/transversions AS titv\n",
        " FROM mutation_type_counts\n",
        " WHERE\n",
        "   transversions > 0\n",
        " ORDER BY\n",
        "   titv DESC,\n",
        "   name\n",
        "'''"
      ],
      "execution_count": null,
      "outputs": []
    },
    {
      "cell_type": "code",
      "metadata": {
        "id": "Its5e62IrKD6",
        "colab": {
          "base_uri": "https://localhost:8080/"
        },
        "outputId": "b401081f-1fe8-4a22-f45f-50f06c3ee025"
      },
      "source": [
        "bq_assistant.estimate_query_size(QUERY1)"
      ],
      "execution_count": null,
      "outputs": [
        {
          "output_type": "execute_result",
          "data": {
            "text/plain": [
              "5.950535892508924"
            ]
          },
          "metadata": {
            "tags": []
          },
          "execution_count": 20
        }
      ]
    },
    {
      "cell_type": "markdown",
      "metadata": {
        "id": "3MvdnoWZrtb_"
      },
      "source": [
        "One"
      ]
    },
    {
      "cell_type": "code",
      "metadata": {
        "id": "BSneuLU5rh1p"
      },
      "source": [
        "Query2='''\n",
        "#standardSQL\n",
        " SELECT\n",
        "   COUNT(1) AS number_of_rows\n",
        " FROM\n",
        "   `bigquery-public-data.human_genome_variants.platinum_genomes_deepvariant_variants_20180823`\n",
        "'''"
      ],
      "execution_count": null,
      "outputs": []
    },
    {
      "cell_type": "code",
      "metadata": {
        "id": "Zwmxwq_Jr5nA",
        "colab": {
          "base_uri": "https://localhost:8080/"
        },
        "outputId": "66d34af9-5eb1-48c4-8376-f045d3b535cb"
      },
      "source": [
        "bq_assistant.estimate_query_size(Query2)"
      ],
      "execution_count": null,
      "outputs": [
        {
          "output_type": "execute_result",
          "data": {
            "text/plain": [
              "0.0"
            ]
          },
          "metadata": {
            "tags": []
          },
          "execution_count": 22
        }
      ]
    },
    {
      "cell_type": "code",
      "metadata": {
        "id": "qrlcyeUYr6Xl"
      },
      "source": [
        "df=bq_assistant.query_to_pandas(Query2)"
      ],
      "execution_count": null,
      "outputs": []
    },
    {
      "cell_type": "code",
      "metadata": {
        "id": "d7WprMI0r9dS",
        "colab": {
          "base_uri": "https://localhost:8080/",
          "height": 109
        },
        "outputId": "c67bdcc1-917f-454c-c52d-0e369e472cad"
      },
      "source": [
        "df"
      ],
      "execution_count": null,
      "outputs": [
        {
          "output_type": "execute_result",
          "data": {
            "application/vnd.google.colaboratory.module+javascript": "\n      import \"https://ssl.gstatic.com/colaboratory/data_table/a6224c040fa35dcf/data_table.js\";\n\n      window.createDataTable({\n        data: [[{\n            'v': 0,\n            'f': \"0\",\n        },\n{\n            'v': 105923159,\n            'f': \"105923159\",\n        }]],\n        columns: [[\"number\", \"index\"], [\"number\", \"number_of_rows\"]],\n        columnOptions: [{\"width\": \"1px\", \"className\": \"index_column\"}],\n        rowsPerPage: 25,\n        helpUrl: \"https://colab.research.google.com/notebooks/data_table.ipynb\",\n        suppressOutputScrolling: true,\n        minimumWidth: undefined,\n      });\n    ",
            "text/html": [
              "<div>\n",
              "<style scoped>\n",
              "    .dataframe tbody tr th:only-of-type {\n",
              "        vertical-align: middle;\n",
              "    }\n",
              "\n",
              "    .dataframe tbody tr th {\n",
              "        vertical-align: top;\n",
              "    }\n",
              "\n",
              "    .dataframe thead th {\n",
              "        text-align: right;\n",
              "    }\n",
              "</style>\n",
              "<table border=\"1\" class=\"dataframe\">\n",
              "  <thead>\n",
              "    <tr style=\"text-align: right;\">\n",
              "      <th></th>\n",
              "      <th>number_of_rows</th>\n",
              "    </tr>\n",
              "  </thead>\n",
              "  <tbody>\n",
              "    <tr>\n",
              "      <th>0</th>\n",
              "      <td>105923159</td>\n",
              "    </tr>\n",
              "  </tbody>\n",
              "</table>\n",
              "</div>"
            ],
            "text/plain": [
              "   number_of_rows\n",
              "0       105923159"
            ]
          },
          "metadata": {
            "tags": []
          },
          "execution_count": 24
        }
      ]
    },
    {
      "cell_type": "markdown",
      "metadata": {
        "id": "U8KSsEMjsM2A"
      },
      "source": [
        "Two"
      ]
    },
    {
      "cell_type": "code",
      "metadata": {
        "id": "be-H-KTrsDdI"
      },
      "source": [
        "Query3='''\n",
        "#standardSQL\n",
        "SELECT\n",
        "  SUM(ARRAY_LENGTH(call)) AS number_of_calls\n",
        "FROM\n",
        "  `bigquery-public-data.human_genome_variants.platinum_genomes_deepvariant_variants_20180823`\n",
        "'''"
      ],
      "execution_count": null,
      "outputs": []
    },
    {
      "cell_type": "code",
      "metadata": {
        "id": "0nrAZgD8sQO1",
        "colab": {
          "base_uri": "https://localhost:8080/"
        },
        "outputId": "f07d1e38-b027-4dc2-be7c-43df9b035c2a"
      },
      "source": [
        "bq_assistant.estimate_query_size(Query3)"
      ],
      "execution_count": null,
      "outputs": [
        {
          "output_type": "execute_result",
          "data": {
            "text/plain": [
              "0.0"
            ]
          },
          "metadata": {
            "tags": []
          },
          "execution_count": 26
        }
      ]
    },
    {
      "cell_type": "code",
      "metadata": {
        "id": "S9DKO67RsXVg"
      },
      "source": [
        "df=bq_assistant.query_to_pandas(Query3)"
      ],
      "execution_count": null,
      "outputs": []
    },
    {
      "cell_type": "code",
      "metadata": {
        "id": "2Vke09y3se7f",
        "colab": {
          "base_uri": "https://localhost:8080/",
          "height": 109
        },
        "outputId": "2b26a271-d988-48b0-eb4c-b087f5fcf778"
      },
      "source": [
        "df"
      ],
      "execution_count": null,
      "outputs": [
        {
          "output_type": "execute_result",
          "data": {
            "application/vnd.google.colaboratory.module+javascript": "\n      import \"https://ssl.gstatic.com/colaboratory/data_table/a6224c040fa35dcf/data_table.js\";\n\n      window.createDataTable({\n        data: [[{\n            'v': 0,\n            'f': \"0\",\n        },\n{\n            'v': 182104652,\n            'f': \"182104652\",\n        }]],\n        columns: [[\"number\", \"index\"], [\"number\", \"number_of_calls\"]],\n        columnOptions: [{\"width\": \"1px\", \"className\": \"index_column\"}],\n        rowsPerPage: 25,\n        helpUrl: \"https://colab.research.google.com/notebooks/data_table.ipynb\",\n        suppressOutputScrolling: true,\n        minimumWidth: undefined,\n      });\n    ",
            "text/html": [
              "<div>\n",
              "<style scoped>\n",
              "    .dataframe tbody tr th:only-of-type {\n",
              "        vertical-align: middle;\n",
              "    }\n",
              "\n",
              "    .dataframe tbody tr th {\n",
              "        vertical-align: top;\n",
              "    }\n",
              "\n",
              "    .dataframe thead th {\n",
              "        text-align: right;\n",
              "    }\n",
              "</style>\n",
              "<table border=\"1\" class=\"dataframe\">\n",
              "  <thead>\n",
              "    <tr style=\"text-align: right;\">\n",
              "      <th></th>\n",
              "      <th>number_of_calls</th>\n",
              "    </tr>\n",
              "  </thead>\n",
              "  <tbody>\n",
              "    <tr>\n",
              "      <th>0</th>\n",
              "      <td>182104652</td>\n",
              "    </tr>\n",
              "  </tbody>\n",
              "</table>\n",
              "</div>"
            ],
            "text/plain": [
              "   number_of_calls\n",
              "0        182104652"
            ]
          },
          "metadata": {
            "tags": []
          },
          "execution_count": 28
        }
      ]
    },
    {
      "cell_type": "markdown",
      "metadata": {
        "id": "U0ivxF9ssjY_"
      },
      "source": [
        "Three"
      ]
    },
    {
      "cell_type": "code",
      "metadata": {
        "id": "kymif5-SsgOF"
      },
      "source": [
        "Query4='''\n",
        "#standardSQL\n",
        "SELECT\n",
        "  COUNT(call) AS number_of_calls\n",
        "FROM\n",
        "  `bigquery-public-data.human_genome_variants.platinum_genomes_deepvariant_variants_20180823` v, v.call\n",
        "'''"
      ],
      "execution_count": null,
      "outputs": []
    },
    {
      "cell_type": "code",
      "metadata": {
        "id": "EFWXsMg9sqcb",
        "colab": {
          "base_uri": "https://localhost:8080/"
        },
        "outputId": "4186d402-ef5f-45cf-8bcc-e68e89b209f0"
      },
      "source": [
        "bq_assistant.estimate_query_size(Query4)"
      ],
      "execution_count": null,
      "outputs": [
        {
          "output_type": "execute_result",
          "data": {
            "text/plain": [
              "0.0"
            ]
          },
          "metadata": {
            "tags": []
          },
          "execution_count": 30
        }
      ]
    },
    {
      "cell_type": "code",
      "metadata": {
        "id": "043Nngsgsw0z"
      },
      "source": [
        "df=bq_assistant.query_to_pandas(Query4)"
      ],
      "execution_count": null,
      "outputs": []
    },
    {
      "cell_type": "code",
      "metadata": {
        "id": "x4Tue9Tjs2aX",
        "colab": {
          "base_uri": "https://localhost:8080/",
          "height": 109
        },
        "outputId": "efd6d8fc-d603-469d-830d-2d194194b0b2"
      },
      "source": [
        "df"
      ],
      "execution_count": null,
      "outputs": [
        {
          "output_type": "execute_result",
          "data": {
            "application/vnd.google.colaboratory.module+javascript": "\n      import \"https://ssl.gstatic.com/colaboratory/data_table/a6224c040fa35dcf/data_table.js\";\n\n      window.createDataTable({\n        data: [[{\n            'v': 0,\n            'f': \"0\",\n        },\n{\n            'v': 182104652,\n            'f': \"182104652\",\n        }]],\n        columns: [[\"number\", \"index\"], [\"number\", \"number_of_calls\"]],\n        columnOptions: [{\"width\": \"1px\", \"className\": \"index_column\"}],\n        rowsPerPage: 25,\n        helpUrl: \"https://colab.research.google.com/notebooks/data_table.ipynb\",\n        suppressOutputScrolling: true,\n        minimumWidth: undefined,\n      });\n    ",
            "text/html": [
              "<div>\n",
              "<style scoped>\n",
              "    .dataframe tbody tr th:only-of-type {\n",
              "        vertical-align: middle;\n",
              "    }\n",
              "\n",
              "    .dataframe tbody tr th {\n",
              "        vertical-align: top;\n",
              "    }\n",
              "\n",
              "    .dataframe thead th {\n",
              "        text-align: right;\n",
              "    }\n",
              "</style>\n",
              "<table border=\"1\" class=\"dataframe\">\n",
              "  <thead>\n",
              "    <tr style=\"text-align: right;\">\n",
              "      <th></th>\n",
              "      <th>number_of_calls</th>\n",
              "    </tr>\n",
              "  </thead>\n",
              "  <tbody>\n",
              "    <tr>\n",
              "      <th>0</th>\n",
              "      <td>182104652</td>\n",
              "    </tr>\n",
              "  </tbody>\n",
              "</table>\n",
              "</div>"
            ],
            "text/plain": [
              "   number_of_calls\n",
              "0        182104652"
            ]
          },
          "metadata": {
            "tags": []
          },
          "execution_count": 32
        }
      ]
    },
    {
      "cell_type": "markdown",
      "metadata": {
        "id": "qd6EmmJVt63V"
      },
      "source": [
        "To count the number of variant segments in the table, first run a query to filter out the non-variant segments:"
      ]
    },
    {
      "cell_type": "code",
      "metadata": {
        "id": "HtyNuHI7s33E"
      },
      "source": [
        "Query5 = '''\n",
        "#standardSQL\n",
        "SELECT\n",
        "  COUNT(1) AS number_of_real_variants\n",
        "FROM\n",
        "  `bigquery-public-data.human_genome_variants.platinum_genomes_deepvariant_variants_20180823` v, v.call call\n",
        "WHERE\n",
        "  EXISTS (SELECT 1\n",
        "            FROM UNNEST(v.alternate_bases) AS alt\n",
        "          WHERE\n",
        "            alt.alt NOT IN (\"<NON_REF>\", \"<*>\"))\n",
        "'''"
      ],
      "execution_count": null,
      "outputs": []
    },
    {
      "cell_type": "code",
      "metadata": {
        "id": "-ZU-WgZNs-3h",
        "colab": {
          "base_uri": "https://localhost:8080/"
        },
        "outputId": "8a405756-e486-465c-fc29-a2f51cb60409"
      },
      "source": [
        "bq_assistant.estimate_query_size(Query5)"
      ],
      "execution_count": null,
      "outputs": [
        {
          "output_type": "execute_result",
          "data": {
            "text/plain": [
              "0.5340448450297117"
            ]
          },
          "metadata": {
            "tags": []
          },
          "execution_count": 34
        }
      ]
    },
    {
      "cell_type": "code",
      "metadata": {
        "id": "_Esx4S_ktFoG"
      },
      "source": [
        "df = bq_assistant.query_to_pandas(Query5)"
      ],
      "execution_count": null,
      "outputs": []
    },
    {
      "cell_type": "code",
      "metadata": {
        "id": "krerQSsNtMOk",
        "colab": {
          "base_uri": "https://localhost:8080/",
          "height": 109
        },
        "outputId": "1a7fe01f-e683-4ee5-dabf-ed7fd13a7f02"
      },
      "source": [
        "df"
      ],
      "execution_count": null,
      "outputs": [
        {
          "output_type": "execute_result",
          "data": {
            "application/vnd.google.colaboratory.module+javascript": "\n      import \"https://ssl.gstatic.com/colaboratory/data_table/a6224c040fa35dcf/data_table.js\";\n\n      window.createDataTable({\n        data: [[{\n            'v': 0,\n            'f': \"0\",\n        },\n{\n            'v': 38549388,\n            'f': \"38549388\",\n        }]],\n        columns: [[\"number\", \"index\"], [\"number\", \"number_of_real_variants\"]],\n        columnOptions: [{\"width\": \"1px\", \"className\": \"index_column\"}],\n        rowsPerPage: 25,\n        helpUrl: \"https://colab.research.google.com/notebooks/data_table.ipynb\",\n        suppressOutputScrolling: true,\n        minimumWidth: undefined,\n      });\n    ",
            "text/html": [
              "<div>\n",
              "<style scoped>\n",
              "    .dataframe tbody tr th:only-of-type {\n",
              "        vertical-align: middle;\n",
              "    }\n",
              "\n",
              "    .dataframe tbody tr th {\n",
              "        vertical-align: top;\n",
              "    }\n",
              "\n",
              "    .dataframe thead th {\n",
              "        text-align: right;\n",
              "    }\n",
              "</style>\n",
              "<table border=\"1\" class=\"dataframe\">\n",
              "  <thead>\n",
              "    <tr style=\"text-align: right;\">\n",
              "      <th></th>\n",
              "      <th>number_of_real_variants</th>\n",
              "    </tr>\n",
              "  </thead>\n",
              "  <tbody>\n",
              "    <tr>\n",
              "      <th>0</th>\n",
              "      <td>38549388</td>\n",
              "    </tr>\n",
              "  </tbody>\n",
              "</table>\n",
              "</div>"
            ],
            "text/plain": [
              "   number_of_real_variants\n",
              "0                 38549388"
            ]
          },
          "metadata": {
            "tags": []
          },
          "execution_count": 36
        }
      ]
    },
    {
      "cell_type": "markdown",
      "metadata": {
        "id": "o91jWUE8t5QK"
      },
      "source": [
        "To count the number of non-variant segments in the table, first run a query to filter out the non-variant segments:"
      ]
    },
    {
      "cell_type": "code",
      "metadata": {
        "id": "rSWtEDuGtgRr"
      },
      "source": [
        "Query6 = '''\n",
        "#standardSQL\n",
        "SELECT\n",
        "  COUNT(1) AS number_of_non_variants\n",
        "FROM\n",
        "  `bigquery-public-data.human_genome_variants.platinum_genomes_deepvariant_variants_20180823` v, v.call call\n",
        "WHERE\n",
        "  NOT EXISTS (SELECT 1\n",
        "                FROM UNNEST(v.alternate_bases) AS alt\n",
        "              WHERE\n",
        "                alt.alt NOT IN (\"<NON_REF>\", \"<*>\"))\n",
        "'''"
      ],
      "execution_count": null,
      "outputs": []
    },
    {
      "cell_type": "code",
      "metadata": {
        "id": "EAhbAxoOtm7N",
        "colab": {
          "base_uri": "https://localhost:8080/"
        },
        "outputId": "02e02948-6833-4661-fd86-4e1d6e982472"
      },
      "source": [
        "bq_assistant.estimate_query_size(Query6)"
      ],
      "execution_count": null,
      "outputs": [
        {
          "output_type": "execute_result",
          "data": {
            "text/plain": [
              "0.5340448450297117"
            ]
          },
          "metadata": {
            "tags": []
          },
          "execution_count": 38
        }
      ]
    },
    {
      "cell_type": "code",
      "metadata": {
        "id": "S5JxSdJTtss_"
      },
      "source": [
        "df = bq_assistant.query_to_pandas(Query6)"
      ],
      "execution_count": null,
      "outputs": []
    },
    {
      "cell_type": "code",
      "metadata": {
        "id": "HoA7EWL1t0_B",
        "colab": {
          "base_uri": "https://localhost:8080/",
          "height": 109
        },
        "outputId": "45973d25-d242-40ac-b852-fe55867bce79"
      },
      "source": [
        "df"
      ],
      "execution_count": null,
      "outputs": [
        {
          "output_type": "execute_result",
          "data": {
            "application/vnd.google.colaboratory.module+javascript": "\n      import \"https://ssl.gstatic.com/colaboratory/data_table/a6224c040fa35dcf/data_table.js\";\n\n      window.createDataTable({\n        data: [[{\n            'v': 0,\n            'f': \"0\",\n        },\n{\n            'v': 143555264,\n            'f': \"143555264\",\n        }]],\n        columns: [[\"number\", \"index\"], [\"number\", \"number_of_non_variants\"]],\n        columnOptions: [{\"width\": \"1px\", \"className\": \"index_column\"}],\n        rowsPerPage: 25,\n        helpUrl: \"https://colab.research.google.com/notebooks/data_table.ipynb\",\n        suppressOutputScrolling: true,\n        minimumWidth: undefined,\n      });\n    ",
            "text/html": [
              "<div>\n",
              "<style scoped>\n",
              "    .dataframe tbody tr th:only-of-type {\n",
              "        vertical-align: middle;\n",
              "    }\n",
              "\n",
              "    .dataframe tbody tr th {\n",
              "        vertical-align: top;\n",
              "    }\n",
              "\n",
              "    .dataframe thead th {\n",
              "        text-align: right;\n",
              "    }\n",
              "</style>\n",
              "<table border=\"1\" class=\"dataframe\">\n",
              "  <thead>\n",
              "    <tr style=\"text-align: right;\">\n",
              "      <th></th>\n",
              "      <th>number_of_non_variants</th>\n",
              "    </tr>\n",
              "  </thead>\n",
              "  <tbody>\n",
              "    <tr>\n",
              "      <th>0</th>\n",
              "      <td>143555264</td>\n",
              "    </tr>\n",
              "  </tbody>\n",
              "</table>\n",
              "</div>"
            ],
            "text/plain": [
              "   number_of_non_variants\n",
              "0               143555264"
            ]
          },
          "metadata": {
            "tags": []
          },
          "execution_count": 40
        }
      ]
    },
    {
      "cell_type": "markdown",
      "metadata": {
        "id": "qQYMU4u9uDlu"
      },
      "source": [
        "To count the number of rows in which each call set appears"
      ]
    },
    {
      "cell_type": "code",
      "metadata": {
        "id": "ufwOrRJft1_x"
      },
      "source": [
        "Query7 = '''\n",
        "#standardSQL\n",
        "SELECT\n",
        "  call.name AS call_name,\n",
        "  COUNT(call.name) AS call_count_for_call_set\n",
        "FROM\n",
        "  `bigquery-public-data.human_genome_variants.platinum_genomes_deepvariant_variants_20180823` v, v.call\n",
        "GROUP BY\n",
        "  call_name\n",
        "ORDER BY\n",
        "  call_name\n",
        "'''"
      ],
      "execution_count": null,
      "outputs": []
    },
    {
      "cell_type": "code",
      "metadata": {
        "id": "PeFxVHoIuI41",
        "colab": {
          "base_uri": "https://localhost:8080/"
        },
        "outputId": "82565ebb-b41a-48f9-89fc-fa369f68d094"
      },
      "source": [
        "bq_assistant.estimate_query_size(Query7)"
      ],
      "execution_count": null,
      "outputs": [
        {
          "output_type": "execute_result",
          "data": {
            "text/plain": [
              "1.5263835601508617"
            ]
          },
          "metadata": {
            "tags": []
          },
          "execution_count": 42
        }
      ]
    },
    {
      "cell_type": "code",
      "metadata": {
        "id": "3MCA1G7kuROd"
      },
      "source": [
        "df = bq_assistant.query_to_pandas(Query7)"
      ],
      "execution_count": null,
      "outputs": []
    },
    {
      "cell_type": "code",
      "metadata": {
        "id": "U3JT2jhHuTI6",
        "colab": {
          "base_uri": "https://localhost:8080/",
          "height": 214
        },
        "outputId": "0947a002-3898-48e5-e7cf-5e741f15a770"
      },
      "source": [
        "df"
      ],
      "execution_count": null,
      "outputs": [
        {
          "output_type": "execute_result",
          "data": {
            "application/vnd.google.colaboratory.module+javascript": "\n      import \"https://ssl.gstatic.com/colaboratory/data_table/a6224c040fa35dcf/data_table.js\";\n\n      window.createDataTable({\n        data: [[{\n            'v': 0,\n            'f': \"0\",\n        },\n\"NA12877\",\n{\n            'v': 31592135,\n            'f': \"31592135\",\n        }],\n [{\n            'v': 1,\n            'f': \"1\",\n        },\n\"NA12878\",\n{\n            'v': 28012646,\n            'f': \"28012646\",\n        }],\n [{\n            'v': 2,\n            'f': \"2\",\n        },\n\"NA12889\",\n{\n            'v': 31028550,\n            'f': \"31028550\",\n        }],\n [{\n            'v': 3,\n            'f': \"3\",\n        },\n\"NA12890\",\n{\n            'v': 30636087,\n            'f': \"30636087\",\n        }],\n [{\n            'v': 4,\n            'f': \"4\",\n        },\n\"NA12891\",\n{\n            'v': 33487348,\n            'f': \"33487348\",\n        }],\n [{\n            'v': 5,\n            'f': \"5\",\n        },\n\"NA12892\",\n{\n            'v': 27347886,\n            'f': \"27347886\",\n        }]],\n        columns: [[\"number\", \"index\"], [\"string\", \"call_name\"], [\"number\", \"call_count_for_call_set\"]],\n        columnOptions: [{\"width\": \"1px\", \"className\": \"index_column\"}],\n        rowsPerPage: 25,\n        helpUrl: \"https://colab.research.google.com/notebooks/data_table.ipynb\",\n        suppressOutputScrolling: true,\n        minimumWidth: undefined,\n      });\n    ",
            "text/html": [
              "<div>\n",
              "<style scoped>\n",
              "    .dataframe tbody tr th:only-of-type {\n",
              "        vertical-align: middle;\n",
              "    }\n",
              "\n",
              "    .dataframe tbody tr th {\n",
              "        vertical-align: top;\n",
              "    }\n",
              "\n",
              "    .dataframe thead th {\n",
              "        text-align: right;\n",
              "    }\n",
              "</style>\n",
              "<table border=\"1\" class=\"dataframe\">\n",
              "  <thead>\n",
              "    <tr style=\"text-align: right;\">\n",
              "      <th></th>\n",
              "      <th>call_name</th>\n",
              "      <th>call_count_for_call_set</th>\n",
              "    </tr>\n",
              "  </thead>\n",
              "  <tbody>\n",
              "    <tr>\n",
              "      <th>0</th>\n",
              "      <td>NA12877</td>\n",
              "      <td>31592135</td>\n",
              "    </tr>\n",
              "    <tr>\n",
              "      <th>1</th>\n",
              "      <td>NA12878</td>\n",
              "      <td>28012646</td>\n",
              "    </tr>\n",
              "    <tr>\n",
              "      <th>2</th>\n",
              "      <td>NA12889</td>\n",
              "      <td>31028550</td>\n",
              "    </tr>\n",
              "    <tr>\n",
              "      <th>3</th>\n",
              "      <td>NA12890</td>\n",
              "      <td>30636087</td>\n",
              "    </tr>\n",
              "    <tr>\n",
              "      <th>4</th>\n",
              "      <td>NA12891</td>\n",
              "      <td>33487348</td>\n",
              "    </tr>\n",
              "    <tr>\n",
              "      <th>5</th>\n",
              "      <td>NA12892</td>\n",
              "      <td>27347886</td>\n",
              "    </tr>\n",
              "  </tbody>\n",
              "</table>\n",
              "</div>"
            ],
            "text/plain": [
              "  call_name  call_count_for_call_set\n",
              "0   NA12877                 31592135\n",
              "1   NA12878                 28012646\n",
              "2   NA12889                 31028550\n",
              "3   NA12890                 30636087\n",
              "4   NA12891                 33487348\n",
              "5   NA12892                 27347886"
            ]
          },
          "metadata": {
            "tags": []
          },
          "execution_count": 44
        }
      ]
    },
    {
      "cell_type": "markdown",
      "metadata": {
        "id": "Bst8MtQ2uctd"
      },
      "source": [
        "Filter out the non-variant segments to count just the variant rows:"
      ]
    },
    {
      "cell_type": "code",
      "metadata": {
        "id": "qxYVZaI9uUSS"
      },
      "source": [
        "Query8 = '''\n",
        "#standardSQL\n",
        "SELECT\n",
        "  call.name AS call_name,\n",
        "  COUNT(call.name) AS call_count_for_call_set\n",
        "FROM\n",
        "  `bigquery-public-data.human_genome_variants.platinum_genomes_deepvariant_variants_20180823` v, v.call\n",
        "WHERE\n",
        "  EXISTS (SELECT 1\n",
        "            FROM UNNEST(v.alternate_bases) AS alt\n",
        "          WHERE\n",
        "            alt.alt NOT IN (\"<NON_REF>\", \"<*>\"))\n",
        "GROUP BY\n",
        "  call_name\n",
        "ORDER BY\n",
        "  call_name\n",
        "'''"
      ],
      "execution_count": null,
      "outputs": []
    },
    {
      "cell_type": "code",
      "metadata": {
        "id": "YwNlaT4Eug_d",
        "colab": {
          "base_uri": "https://localhost:8080/"
        },
        "outputId": "244a6062-c948-4cfa-d7b2-cd4e5be13a24"
      },
      "source": [
        "bq_assistant.estimate_query_size(Query8)"
      ],
      "execution_count": null,
      "outputs": [
        {
          "output_type": "execute_result",
          "data": {
            "text/plain": [
              "2.0604284051805735"
            ]
          },
          "metadata": {
            "tags": []
          },
          "execution_count": 46
        }
      ]
    },
    {
      "cell_type": "code",
      "metadata": {
        "id": "ryZamiLOuocy"
      },
      "source": [
        "df = bq_assistant.query_to_pandas(Query8)"
      ],
      "execution_count": null,
      "outputs": []
    },
    {
      "cell_type": "code",
      "metadata": {
        "id": "5lXtbEc-uvha",
        "colab": {
          "base_uri": "https://localhost:8080/",
          "height": 214
        },
        "outputId": "d8a6afdc-0652-48ef-a2b4-17f60f7cbf85"
      },
      "source": [
        "df"
      ],
      "execution_count": null,
      "outputs": [
        {
          "output_type": "execute_result",
          "data": {
            "application/vnd.google.colaboratory.module+javascript": "\n      import \"https://ssl.gstatic.com/colaboratory/data_table/a6224c040fa35dcf/data_table.js\";\n\n      window.createDataTable({\n        data: [[{\n            'v': 0,\n            'f': \"0\",\n        },\n\"NA12877\",\n{\n            'v': 6284275,\n            'f': \"6284275\",\n        }],\n [{\n            'v': 1,\n            'f': \"1\",\n        },\n\"NA12878\",\n{\n            'v': 6397315,\n            'f': \"6397315\",\n        }],\n [{\n            'v': 2,\n            'f': \"2\",\n        },\n\"NA12889\",\n{\n            'v': 6407532,\n            'f': \"6407532\",\n        }],\n [{\n            'v': 3,\n            'f': \"3\",\n        },\n\"NA12890\",\n{\n            'v': 6448600,\n            'f': \"6448600\",\n        }],\n [{\n            'v': 4,\n            'f': \"4\",\n        },\n\"NA12891\",\n{\n            'v': 6516669,\n            'f': \"6516669\",\n        }],\n [{\n            'v': 5,\n            'f': \"5\",\n        },\n\"NA12892\",\n{\n            'v': 6494997,\n            'f': \"6494997\",\n        }]],\n        columns: [[\"number\", \"index\"], [\"string\", \"call_name\"], [\"number\", \"call_count_for_call_set\"]],\n        columnOptions: [{\"width\": \"1px\", \"className\": \"index_column\"}],\n        rowsPerPage: 25,\n        helpUrl: \"https://colab.research.google.com/notebooks/data_table.ipynb\",\n        suppressOutputScrolling: true,\n        minimumWidth: undefined,\n      });\n    ",
            "text/html": [
              "<div>\n",
              "<style scoped>\n",
              "    .dataframe tbody tr th:only-of-type {\n",
              "        vertical-align: middle;\n",
              "    }\n",
              "\n",
              "    .dataframe tbody tr th {\n",
              "        vertical-align: top;\n",
              "    }\n",
              "\n",
              "    .dataframe thead th {\n",
              "        text-align: right;\n",
              "    }\n",
              "</style>\n",
              "<table border=\"1\" class=\"dataframe\">\n",
              "  <thead>\n",
              "    <tr style=\"text-align: right;\">\n",
              "      <th></th>\n",
              "      <th>call_name</th>\n",
              "      <th>call_count_for_call_set</th>\n",
              "    </tr>\n",
              "  </thead>\n",
              "  <tbody>\n",
              "    <tr>\n",
              "      <th>0</th>\n",
              "      <td>NA12877</td>\n",
              "      <td>6284275</td>\n",
              "    </tr>\n",
              "    <tr>\n",
              "      <th>1</th>\n",
              "      <td>NA12878</td>\n",
              "      <td>6397315</td>\n",
              "    </tr>\n",
              "    <tr>\n",
              "      <th>2</th>\n",
              "      <td>NA12889</td>\n",
              "      <td>6407532</td>\n",
              "    </tr>\n",
              "    <tr>\n",
              "      <th>3</th>\n",
              "      <td>NA12890</td>\n",
              "      <td>6448600</td>\n",
              "    </tr>\n",
              "    <tr>\n",
              "      <th>4</th>\n",
              "      <td>NA12891</td>\n",
              "      <td>6516669</td>\n",
              "    </tr>\n",
              "    <tr>\n",
              "      <th>5</th>\n",
              "      <td>NA12892</td>\n",
              "      <td>6494997</td>\n",
              "    </tr>\n",
              "  </tbody>\n",
              "</table>\n",
              "</div>"
            ],
            "text/plain": [
              "  call_name  call_count_for_call_set\n",
              "0   NA12877                  6284275\n",
              "1   NA12878                  6397315\n",
              "2   NA12889                  6407532\n",
              "3   NA12890                  6448600\n",
              "4   NA12891                  6516669\n",
              "5   NA12892                  6494997"
            ]
          },
          "metadata": {
            "tags": []
          },
          "execution_count": 48
        }
      ]
    },
    {
      "cell_type": "markdown",
      "metadata": {
        "id": "pCS26Bvruyaz"
      },
      "source": [
        "To filter the variants by genotype"
      ]
    },
    {
      "cell_type": "code",
      "metadata": {
        "id": "EU-zdUfnuwoB"
      },
      "source": [
        "Query9 = '''\n",
        "#standardSQL\n",
        "SELECT\n",
        "  call.name AS call_name,\n",
        "  COUNT(call.name) AS call_count_for_call_set\n",
        "FROM\n",
        "  `bigquery-public-data.human_genome_variants.platinum_genomes_deepvariant_variants_20180823` v, v.call\n",
        "WHERE\n",
        "  EXISTS (SELECT 1 FROM UNNEST(call.genotype) AS gt WHERE gt > 0)\n",
        "  AND NOT EXISTS (SELECT 1 FROM UNNEST(call.genotype) AS gt WHERE gt < 0)\n",
        "GROUP BY\n",
        "  call_name\n",
        "ORDER BY\n",
        "  call_name\n",
        "'''"
      ],
      "execution_count": null,
      "outputs": []
    },
    {
      "cell_type": "code",
      "metadata": {
        "id": "R6b6FBoou4Ab",
        "colab": {
          "base_uri": "https://localhost:8080/"
        },
        "outputId": "deed714a-c344-42ca-ef57-48c759222fc9"
      },
      "source": [
        "bq_assistant.estimate_query_size(Query9)"
      ],
      "execution_count": null,
      "outputs": [
        {
          "output_type": "execute_result",
          "data": {
            "text/plain": [
              "4.239954333752394"
            ]
          },
          "metadata": {
            "tags": []
          },
          "execution_count": 50
        }
      ]
    },
    {
      "cell_type": "code",
      "metadata": {
        "id": "lURJXGenu8yk"
      },
      "source": [
        "df=bq_assistant.query_to_pandas(Query9)"
      ],
      "execution_count": null,
      "outputs": []
    },
    {
      "cell_type": "code",
      "metadata": {
        "id": "ksiiAYehvCBt",
        "colab": {
          "base_uri": "https://localhost:8080/",
          "height": 214
        },
        "outputId": "2d26a4bd-0c42-4ff5-a8ab-2ccb0a03f1b4"
      },
      "source": [
        "df"
      ],
      "execution_count": null,
      "outputs": [
        {
          "output_type": "execute_result",
          "data": {
            "application/vnd.google.colaboratory.module+javascript": "\n      import \"https://ssl.gstatic.com/colaboratory/data_table/a6224c040fa35dcf/data_table.js\";\n\n      window.createDataTable({\n        data: [[{\n            'v': 0,\n            'f': \"0\",\n        },\n\"NA12877\",\n{\n            'v': 4486610,\n            'f': \"4486610\",\n        }],\n [{\n            'v': 1,\n            'f': \"1\",\n        },\n\"NA12878\",\n{\n            'v': 4502017,\n            'f': \"4502017\",\n        }],\n [{\n            'v': 2,\n            'f': \"2\",\n        },\n\"NA12889\",\n{\n            'v': 4422706,\n            'f': \"4422706\",\n        }],\n [{\n            'v': 3,\n            'f': \"3\",\n        },\n\"NA12890\",\n{\n            'v': 4528725,\n            'f': \"4528725\",\n        }],\n [{\n            'v': 4,\n            'f': \"4\",\n        },\n\"NA12891\",\n{\n            'v': 4424094,\n            'f': \"4424094\",\n        }],\n [{\n            'v': 5,\n            'f': \"5\",\n        },\n\"NA12892\",\n{\n            'v': 4495753,\n            'f': \"4495753\",\n        }]],\n        columns: [[\"number\", \"index\"], [\"string\", \"call_name\"], [\"number\", \"call_count_for_call_set\"]],\n        columnOptions: [{\"width\": \"1px\", \"className\": \"index_column\"}],\n        rowsPerPage: 25,\n        helpUrl: \"https://colab.research.google.com/notebooks/data_table.ipynb\",\n        suppressOutputScrolling: true,\n        minimumWidth: undefined,\n      });\n    ",
            "text/html": [
              "<div>\n",
              "<style scoped>\n",
              "    .dataframe tbody tr th:only-of-type {\n",
              "        vertical-align: middle;\n",
              "    }\n",
              "\n",
              "    .dataframe tbody tr th {\n",
              "        vertical-align: top;\n",
              "    }\n",
              "\n",
              "    .dataframe thead th {\n",
              "        text-align: right;\n",
              "    }\n",
              "</style>\n",
              "<table border=\"1\" class=\"dataframe\">\n",
              "  <thead>\n",
              "    <tr style=\"text-align: right;\">\n",
              "      <th></th>\n",
              "      <th>call_name</th>\n",
              "      <th>call_count_for_call_set</th>\n",
              "    </tr>\n",
              "  </thead>\n",
              "  <tbody>\n",
              "    <tr>\n",
              "      <th>0</th>\n",
              "      <td>NA12877</td>\n",
              "      <td>4486610</td>\n",
              "    </tr>\n",
              "    <tr>\n",
              "      <th>1</th>\n",
              "      <td>NA12878</td>\n",
              "      <td>4502017</td>\n",
              "    </tr>\n",
              "    <tr>\n",
              "      <th>2</th>\n",
              "      <td>NA12889</td>\n",
              "      <td>4422706</td>\n",
              "    </tr>\n",
              "    <tr>\n",
              "      <th>3</th>\n",
              "      <td>NA12890</td>\n",
              "      <td>4528725</td>\n",
              "    </tr>\n",
              "    <tr>\n",
              "      <th>4</th>\n",
              "      <td>NA12891</td>\n",
              "      <td>4424094</td>\n",
              "    </tr>\n",
              "    <tr>\n",
              "      <th>5</th>\n",
              "      <td>NA12892</td>\n",
              "      <td>4495753</td>\n",
              "    </tr>\n",
              "  </tbody>\n",
              "</table>\n",
              "</div>"
            ],
            "text/plain": [
              "  call_name  call_count_for_call_set\n",
              "0   NA12877                  4486610\n",
              "1   NA12878                  4502017\n",
              "2   NA12889                  4422706\n",
              "3   NA12890                  4528725\n",
              "4   NA12891                  4424094\n",
              "5   NA12892                  4495753"
            ]
          },
          "metadata": {
            "tags": []
          },
          "execution_count": 52
        }
      ]
    },
    {
      "cell_type": "markdown",
      "metadata": {
        "id": "5WLHlqP2vHy3"
      },
      "source": [
        "Alternatively Efficient"
      ]
    },
    {
      "cell_type": "code",
      "metadata": {
        "id": "cTiYFQ3NvCwk"
      },
      "source": [
        "Query10 = '''\n",
        "#standardSQL\n",
        "SELECT\n",
        "  COUNT(DISTINCT call.name) AS number_of_callsets\n",
        "FROM\n",
        "  `bigquery-public-data.human_genome_variants.platinum_genomes_deepvariant_variants_20180823` v,  v.call\n",
        "'''"
      ],
      "execution_count": null,
      "outputs": []
    },
    {
      "cell_type": "code",
      "metadata": {
        "id": "zMX52I1SvRdb",
        "colab": {
          "base_uri": "https://localhost:8080/"
        },
        "outputId": "2bace47f-ec0a-402b-916b-2bddc9adfd6d"
      },
      "source": [
        "bq_assistant.estimate_query_size(Query10)"
      ],
      "execution_count": null,
      "outputs": [
        {
          "output_type": "execute_result",
          "data": {
            "text/plain": [
              "1.5263835601508617"
            ]
          },
          "metadata": {
            "tags": []
          },
          "execution_count": 54
        }
      ]
    },
    {
      "cell_type": "code",
      "metadata": {
        "id": "kK0jbhlgvVoN"
      },
      "source": [
        "df=bq_assistant.query_to_pandas(Query10)"
      ],
      "execution_count": null,
      "outputs": []
    },
    {
      "cell_type": "code",
      "metadata": {
        "id": "DEVp_DPXvhTA",
        "colab": {
          "base_uri": "https://localhost:8080/",
          "height": 109
        },
        "outputId": "35ebcb50-13a3-47ba-827b-439a6550757f"
      },
      "source": [
        "df"
      ],
      "execution_count": null,
      "outputs": [
        {
          "output_type": "execute_result",
          "data": {
            "application/vnd.google.colaboratory.module+javascript": "\n      import \"https://ssl.gstatic.com/colaboratory/data_table/a6224c040fa35dcf/data_table.js\";\n\n      window.createDataTable({\n        data: [[{\n            'v': 0,\n            'f': \"0\",\n        },\n{\n            'v': 6,\n            'f': \"6\",\n        }]],\n        columns: [[\"number\", \"index\"], [\"number\", \"number_of_callsets\"]],\n        columnOptions: [{\"width\": \"1px\", \"className\": \"index_column\"}],\n        rowsPerPage: 25,\n        helpUrl: \"https://colab.research.google.com/notebooks/data_table.ipynb\",\n        suppressOutputScrolling: true,\n        minimumWidth: undefined,\n      });\n    ",
            "text/html": [
              "<div>\n",
              "<style scoped>\n",
              "    .dataframe tbody tr th:only-of-type {\n",
              "        vertical-align: middle;\n",
              "    }\n",
              "\n",
              "    .dataframe tbody tr th {\n",
              "        vertical-align: top;\n",
              "    }\n",
              "\n",
              "    .dataframe thead th {\n",
              "        text-align: right;\n",
              "    }\n",
              "</style>\n",
              "<table border=\"1\" class=\"dataframe\">\n",
              "  <thead>\n",
              "    <tr style=\"text-align: right;\">\n",
              "      <th></th>\n",
              "      <th>number_of_callsets</th>\n",
              "    </tr>\n",
              "  </thead>\n",
              "  <tbody>\n",
              "    <tr>\n",
              "      <th>0</th>\n",
              "      <td>6</td>\n",
              "    </tr>\n",
              "  </tbody>\n",
              "</table>\n",
              "</div>"
            ],
            "text/plain": [
              "   number_of_callsets\n",
              "0                   6"
            ]
          },
          "metadata": {
            "tags": []
          },
          "execution_count": 56
        }
      ]
    },
    {
      "cell_type": "markdown",
      "metadata": {
        "id": "oePuspkkvzh5"
      },
      "source": [
        "To count the number of variants per chromosome, you can run the following query, which:"
      ]
    },
    {
      "cell_type": "code",
      "metadata": {
        "id": "dYqgo4SYvmgN"
      },
      "source": [
        "Query11 = '''\n",
        "#standardSQL\n",
        "SELECT\n",
        "  reference_name,\n",
        "  COUNT(reference_name) AS number_of_variant_rows\n",
        "FROM\n",
        "  `bigquery-public-data.human_genome_variants.platinum_genomes_deepvariant_variants_20180823` v\n",
        "WHERE\n",
        "  EXISTS (SELECT 1\n",
        "            FROM UNNEST(v.call) AS call, UNNEST(call.genotype) AS gt\n",
        "          WHERE gt > 0)\n",
        "GROUP BY\n",
        "  reference_name\n",
        "ORDER BY\n",
        "  CASE\n",
        "    WHEN SAFE_CAST(REGEXP_REPLACE(reference_name, '^chr', '') AS INT64) < 10\n",
        "      THEN CONCAT('0', REGEXP_REPLACE(reference_name, '^chr', ''))\n",
        "      ELSE REGEXP_REPLACE(reference_name, '^chr', '')\n",
        "  END\n",
        "'''"
      ],
      "execution_count": null,
      "outputs": []
    },
    {
      "cell_type": "code",
      "metadata": {
        "id": "DHw8xKtKv7nF",
        "colab": {
          "base_uri": "https://localhost:8080/"
        },
        "outputId": "7b152db2-c302-4eff-cc7e-cccf970de76c"
      },
      "source": [
        "bq_assistant.estimate_query_size(Query11)"
      ],
      "execution_count": null,
      "outputs": [
        {
          "output_type": "execute_result",
          "data": {
            "text/plain": [
              "3.341447635553777"
            ]
          },
          "metadata": {
            "tags": []
          },
          "execution_count": 58
        }
      ]
    },
    {
      "cell_type": "code",
      "metadata": {
        "id": "ayxhAJZLwGq2"
      },
      "source": [
        "df = bq_assistant.query_to_pandas(Query11)"
      ],
      "execution_count": null,
      "outputs": []
    },
    {
      "cell_type": "code",
      "metadata": {
        "id": "E8YbQdC0wMLy",
        "colab": {
          "base_uri": "https://localhost:8080/",
          "height": 590
        },
        "outputId": "bfa56a68-2762-4ef0-f823-42d50d538317"
      },
      "source": [
        "df"
      ],
      "execution_count": null,
      "outputs": [
        {
          "output_type": "execute_result",
          "data": {
            "application/vnd.google.colaboratory.module+javascript": "\n      import \"https://ssl.gstatic.com/colaboratory/data_table/a6224c040fa35dcf/data_table.js\";\n\n      window.createDataTable({\n        data: [[{\n            'v': 0,\n            'f': \"0\",\n        },\n\"chr1\",\n{\n            'v': 615000,\n            'f': \"615000\",\n        }],\n [{\n            'v': 1,\n            'f': \"1\",\n        },\n\"chr2\",\n{\n            'v': 646401,\n            'f': \"646401\",\n        }],\n [{\n            'v': 2,\n            'f': \"2\",\n        },\n\"chr3\",\n{\n            'v': 542315,\n            'f': \"542315\",\n        }],\n [{\n            'v': 3,\n            'f': \"3\",\n        },\n\"chr4\",\n{\n            'v': 578600,\n            'f': \"578600\",\n        }],\n [{\n            'v': 4,\n            'f': \"4\",\n        },\n\"chr5\",\n{\n            'v': 496202,\n            'f': \"496202\",\n        }],\n [{\n            'v': 5,\n            'f': \"5\",\n        },\n\"chr6\",\n{\n            'v': 512152,\n            'f': \"512152\",\n        }],\n [{\n            'v': 6,\n            'f': \"6\",\n        },\n\"chr7\",\n{\n            'v': 459506,\n            'f': \"459506\",\n        }],\n [{\n            'v': 7,\n            'f': \"7\",\n        },\n\"chr8\",\n{\n            'v': 416376,\n            'f': \"416376\",\n        }],\n [{\n            'v': 8,\n            'f': \"8\",\n        },\n\"chr9\",\n{\n            'v': 344985,\n            'f': \"344985\",\n        }],\n [{\n            'v': 9,\n            'f': \"9\",\n        },\n\"chr10\",\n{\n            'v': 396773,\n            'f': \"396773\",\n        }],\n [{\n            'v': 10,\n            'f': \"10\",\n        },\n\"chr11\",\n{\n            'v': 391260,\n            'f': \"391260\",\n        }],\n [{\n            'v': 11,\n            'f': \"11\",\n        },\n\"chr12\",\n{\n            'v': 382841,\n            'f': \"382841\",\n        }],\n [{\n            'v': 12,\n            'f': \"12\",\n        },\n\"chr13\",\n{\n            'v': 298044,\n            'f': \"298044\",\n        }],\n [{\n            'v': 13,\n            'f': \"13\",\n        },\n\"chr14\",\n{\n            'v': 258756,\n            'f': \"258756\",\n        }],\n [{\n            'v': 14,\n            'f': \"14\",\n        },\n\"chr15\",\n{\n            'v': 234569,\n            'f': \"234569\",\n        }],\n [{\n            'v': 15,\n            'f': \"15\",\n        },\n\"chr16\",\n{\n            'v': 247671,\n            'f': \"247671\",\n        }],\n [{\n            'v': 16,\n            'f': \"16\",\n        },\n\"chr17\",\n{\n            'v': 224403,\n            'f': \"224403\",\n        }],\n [{\n            'v': 17,\n            'f': \"17\",\n        },\n\"chr18\",\n{\n            'v': 227200,\n            'f': \"227200\",\n        }],\n [{\n            'v': 18,\n            'f': \"18\",\n        },\n\"chr19\",\n{\n            'v': 192538,\n            'f': \"192538\",\n        }],\n [{\n            'v': 19,\n            'f': \"19\",\n        },\n\"chr20\",\n{\n            'v': 168958,\n            'f': \"168958\",\n        }],\n [{\n            'v': 20,\n            'f': \"20\",\n        },\n\"chr21\",\n{\n            'v': 121882,\n            'f': \"121882\",\n        }],\n [{\n            'v': 21,\n            'f': \"21\",\n        },\n\"chr22\",\n{\n            'v': 112338,\n            'f': \"112338\",\n        }],\n [{\n            'v': 22,\n            'f': \"22\",\n        },\n\"chrX\",\n{\n            'v': 231125,\n            'f': \"231125\",\n        }],\n [{\n            'v': 23,\n            'f': \"23\",\n        },\n\"chrY\",\n{\n            'v': 15357,\n            'f': \"15357\",\n        }]],\n        columns: [[\"number\", \"index\"], [\"string\", \"reference_name\"], [\"number\", \"number_of_variant_rows\"]],\n        columnOptions: [{\"width\": \"1px\", \"className\": \"index_column\"}],\n        rowsPerPage: 25,\n        helpUrl: \"https://colab.research.google.com/notebooks/data_table.ipynb\",\n        suppressOutputScrolling: true,\n        minimumWidth: undefined,\n      });\n    ",
            "text/html": [
              "<div>\n",
              "<style scoped>\n",
              "    .dataframe tbody tr th:only-of-type {\n",
              "        vertical-align: middle;\n",
              "    }\n",
              "\n",
              "    .dataframe tbody tr th {\n",
              "        vertical-align: top;\n",
              "    }\n",
              "\n",
              "    .dataframe thead th {\n",
              "        text-align: right;\n",
              "    }\n",
              "</style>\n",
              "<table border=\"1\" class=\"dataframe\">\n",
              "  <thead>\n",
              "    <tr style=\"text-align: right;\">\n",
              "      <th></th>\n",
              "      <th>reference_name</th>\n",
              "      <th>number_of_variant_rows</th>\n",
              "    </tr>\n",
              "  </thead>\n",
              "  <tbody>\n",
              "    <tr>\n",
              "      <th>0</th>\n",
              "      <td>chr1</td>\n",
              "      <td>615000</td>\n",
              "    </tr>\n",
              "    <tr>\n",
              "      <th>1</th>\n",
              "      <td>chr2</td>\n",
              "      <td>646401</td>\n",
              "    </tr>\n",
              "    <tr>\n",
              "      <th>2</th>\n",
              "      <td>chr3</td>\n",
              "      <td>542315</td>\n",
              "    </tr>\n",
              "    <tr>\n",
              "      <th>3</th>\n",
              "      <td>chr4</td>\n",
              "      <td>578600</td>\n",
              "    </tr>\n",
              "    <tr>\n",
              "      <th>4</th>\n",
              "      <td>chr5</td>\n",
              "      <td>496202</td>\n",
              "    </tr>\n",
              "    <tr>\n",
              "      <th>5</th>\n",
              "      <td>chr6</td>\n",
              "      <td>512152</td>\n",
              "    </tr>\n",
              "    <tr>\n",
              "      <th>6</th>\n",
              "      <td>chr7</td>\n",
              "      <td>459506</td>\n",
              "    </tr>\n",
              "    <tr>\n",
              "      <th>7</th>\n",
              "      <td>chr8</td>\n",
              "      <td>416376</td>\n",
              "    </tr>\n",
              "    <tr>\n",
              "      <th>8</th>\n",
              "      <td>chr9</td>\n",
              "      <td>344985</td>\n",
              "    </tr>\n",
              "    <tr>\n",
              "      <th>9</th>\n",
              "      <td>chr10</td>\n",
              "      <td>396773</td>\n",
              "    </tr>\n",
              "    <tr>\n",
              "      <th>10</th>\n",
              "      <td>chr11</td>\n",
              "      <td>391260</td>\n",
              "    </tr>\n",
              "    <tr>\n",
              "      <th>11</th>\n",
              "      <td>chr12</td>\n",
              "      <td>382841</td>\n",
              "    </tr>\n",
              "    <tr>\n",
              "      <th>12</th>\n",
              "      <td>chr13</td>\n",
              "      <td>298044</td>\n",
              "    </tr>\n",
              "    <tr>\n",
              "      <th>13</th>\n",
              "      <td>chr14</td>\n",
              "      <td>258756</td>\n",
              "    </tr>\n",
              "    <tr>\n",
              "      <th>14</th>\n",
              "      <td>chr15</td>\n",
              "      <td>234569</td>\n",
              "    </tr>\n",
              "    <tr>\n",
              "      <th>15</th>\n",
              "      <td>chr16</td>\n",
              "      <td>247671</td>\n",
              "    </tr>\n",
              "    <tr>\n",
              "      <th>16</th>\n",
              "      <td>chr17</td>\n",
              "      <td>224403</td>\n",
              "    </tr>\n",
              "    <tr>\n",
              "      <th>17</th>\n",
              "      <td>chr18</td>\n",
              "      <td>227200</td>\n",
              "    </tr>\n",
              "    <tr>\n",
              "      <th>18</th>\n",
              "      <td>chr19</td>\n",
              "      <td>192538</td>\n",
              "    </tr>\n",
              "    <tr>\n",
              "      <th>19</th>\n",
              "      <td>chr20</td>\n",
              "      <td>168958</td>\n",
              "    </tr>\n",
              "    <tr>\n",
              "      <th>20</th>\n",
              "      <td>chr21</td>\n",
              "      <td>121882</td>\n",
              "    </tr>\n",
              "    <tr>\n",
              "      <th>21</th>\n",
              "      <td>chr22</td>\n",
              "      <td>112338</td>\n",
              "    </tr>\n",
              "    <tr>\n",
              "      <th>22</th>\n",
              "      <td>chrX</td>\n",
              "      <td>231125</td>\n",
              "    </tr>\n",
              "    <tr>\n",
              "      <th>23</th>\n",
              "      <td>chrY</td>\n",
              "      <td>15357</td>\n",
              "    </tr>\n",
              "  </tbody>\n",
              "</table>\n",
              "</div>"
            ],
            "text/plain": [
              "   reference_name  number_of_variant_rows\n",
              "0            chr1                  615000\n",
              "1            chr2                  646401\n",
              "2            chr3                  542315\n",
              "3            chr4                  578600\n",
              "4            chr5                  496202\n",
              "5            chr6                  512152\n",
              "6            chr7                  459506\n",
              "7            chr8                  416376\n",
              "8            chr9                  344985\n",
              "9           chr10                  396773\n",
              "10          chr11                  391260\n",
              "11          chr12                  382841\n",
              "12          chr13                  298044\n",
              "13          chr14                  258756\n",
              "14          chr15                  234569\n",
              "15          chr16                  247671\n",
              "16          chr17                  224403\n",
              "17          chr18                  227200\n",
              "18          chr19                  192538\n",
              "19          chr20                  168958\n",
              "20          chr21                  121882\n",
              "21          chr22                  112338\n",
              "22           chrX                  231125\n",
              "23           chrY                   15357"
            ]
          },
          "metadata": {
            "tags": []
          },
          "execution_count": 60
        }
      ]
    },
    {
      "cell_type": "markdown",
      "metadata": {
        "id": "4HmCqPGtxg52"
      },
      "source": [
        "The following query shows how to view the per-variant-call FILTER values for the dataset:\n",
        "\n"
      ]
    },
    {
      "cell_type": "code",
      "metadata": {
        "id": "MAH4-pKvwN-E"
      },
      "source": [
        "Query12 = '''\n",
        "#standardSQL\n",
        "SELECT\n",
        "  call_filter,\n",
        "  COUNT(call_filter) AS number_of_calls\n",
        "FROM\n",
        "  `bigquery-public-data.human_genome_variants.platinum_genomes_deepvariant_variants_20180823` v,\n",
        "  v.call,\n",
        "  UNNEST(call.FILTER) AS call_filter\n",
        "GROUP BY\n",
        "  call_filter\n",
        "ORDER BY\n",
        "  number_of_calls\n",
        "'''"
      ],
      "execution_count": null,
      "outputs": []
    },
    {
      "cell_type": "code",
      "metadata": {
        "id": "Dr8tJxFpyCYN",
        "colab": {
          "base_uri": "https://localhost:8080/"
        },
        "outputId": "f661185d-c77a-4d4d-e17e-2fd037fb1e97"
      },
      "source": [
        "bq_assistant.estimate_query_size(Query12)"
      ],
      "execution_count": null,
      "outputs": [
        {
          "output_type": "execute_result",
          "data": {
            "text/plain": [
              "0.24804932065308094"
            ]
          },
          "metadata": {
            "tags": []
          },
          "execution_count": 62
        }
      ]
    },
    {
      "cell_type": "code",
      "metadata": {
        "id": "fx6xDchcyG2M"
      },
      "source": [
        "df = bq_assistant.query_to_pandas(Query12)"
      ],
      "execution_count": null,
      "outputs": []
    },
    {
      "cell_type": "code",
      "metadata": {
        "id": "BiL_VvmayNoW",
        "colab": {
          "base_uri": "https://localhost:8080/",
          "height": 130
        },
        "outputId": "721e00e1-440b-4dea-de3a-f3f6a396cdb0"
      },
      "source": [
        "df"
      ],
      "execution_count": null,
      "outputs": [
        {
          "output_type": "execute_result",
          "data": {
            "application/vnd.google.colaboratory.module+javascript": "\n      import \"https://ssl.gstatic.com/colaboratory/data_table/a6224c040fa35dcf/data_table.js\";\n\n      window.createDataTable({\n        data: [[{\n            'v': 0,\n            'f': \"0\",\n        },\n\"RefCall\",\n{\n            'v': 11681534,\n            'f': \"11681534\",\n        }],\n [{\n            'v': 1,\n            'f': \"1\",\n        },\n\"PASS\",\n{\n            'v': 26867854,\n            'f': \"26867854\",\n        }]],\n        columns: [[\"number\", \"index\"], [\"string\", \"call_filter\"], [\"number\", \"number_of_calls\"]],\n        columnOptions: [{\"width\": \"1px\", \"className\": \"index_column\"}],\n        rowsPerPage: 25,\n        helpUrl: \"https://colab.research.google.com/notebooks/data_table.ipynb\",\n        suppressOutputScrolling: true,\n        minimumWidth: undefined,\n      });\n    ",
            "text/html": [
              "<div>\n",
              "<style scoped>\n",
              "    .dataframe tbody tr th:only-of-type {\n",
              "        vertical-align: middle;\n",
              "    }\n",
              "\n",
              "    .dataframe tbody tr th {\n",
              "        vertical-align: top;\n",
              "    }\n",
              "\n",
              "    .dataframe thead th {\n",
              "        text-align: right;\n",
              "    }\n",
              "</style>\n",
              "<table border=\"1\" class=\"dataframe\">\n",
              "  <thead>\n",
              "    <tr style=\"text-align: right;\">\n",
              "      <th></th>\n",
              "      <th>call_filter</th>\n",
              "      <th>number_of_calls</th>\n",
              "    </tr>\n",
              "  </thead>\n",
              "  <tbody>\n",
              "    <tr>\n",
              "      <th>0</th>\n",
              "      <td>RefCall</td>\n",
              "      <td>11681534</td>\n",
              "    </tr>\n",
              "    <tr>\n",
              "      <th>1</th>\n",
              "      <td>PASS</td>\n",
              "      <td>26867854</td>\n",
              "    </tr>\n",
              "  </tbody>\n",
              "</table>\n",
              "</div>"
            ],
            "text/plain": [
              "  call_filter  number_of_calls\n",
              "0     RefCall         11681534\n",
              "1        PASS         26867854"
            ]
          },
          "metadata": {
            "tags": []
          },
          "execution_count": 64
        }
      ]
    },
    {
      "cell_type": "markdown",
      "metadata": {
        "id": "X3ylqN9SyXGG"
      },
      "source": [
        "When analyzing variants, you might want to filter out lower quality variants. If the FILTER column contains the value PASS, it is expected that the column will contain no other values. You can verify this by running the following query. The query also omits any calls that do not contain a PASS value under FILTER."
      ]
    },
    {
      "cell_type": "code",
      "metadata": {
        "id": "_L49-87oyRK1"
      },
      "source": [
        "Query13 = '''\n",
        "#standardSQL\n",
        "SELECT\n",
        "  reference_name,\n",
        "  start_position,\n",
        "  end_position,\n",
        "  reference_bases,\n",
        "  call.name AS call_name,\n",
        "  (SELECT STRING_AGG(call_filter) FROM UNNEST(call.FILTER) AS call_filter) AS filters,\n",
        "  ARRAY_LENGTH(call.FILTER) AS filter_count\n",
        "FROM\n",
        "  `bigquery-public-data.human_genome_variants.platinum_genomes_deepvariant_variants_20180823` v, v.call\n",
        "WHERE\n",
        "  EXISTS (SELECT 1 FROM UNNEST(call.FILTER) AS call_filter WHERE call_filter = 'PASS')\n",
        "  AND ARRAY_LENGTH(call.FILTER) > 1\n",
        "ORDER BY\n",
        "  filter_count DESC, reference_name, start_position, end_position, reference_bases, call_name\n",
        "LIMIT\n",
        "  10\n",
        "'''"
      ],
      "execution_count": null,
      "outputs": []
    },
    {
      "cell_type": "code",
      "metadata": {
        "id": "GVXbvMU8ybVR",
        "colab": {
          "base_uri": "https://localhost:8080/"
        },
        "outputId": "6142cb77-27d8-4a71-ed09-d075e840e511"
      },
      "source": [
        "bq_assistant.estimate_query_size(Query13)"
      ],
      "execution_count": null,
      "outputs": [
        {
          "output_type": "execute_result",
          "data": {
            "text/plain": [
              "4.281298340298235"
            ]
          },
          "metadata": {
            "tags": []
          },
          "execution_count": 66
        }
      ]
    },
    {
      "cell_type": "code",
      "metadata": {
        "id": "S-kLIlznyiiI"
      },
      "source": [
        "df = bq_assistant.query_to_pandas(Query13)"
      ],
      "execution_count": null,
      "outputs": []
    },
    {
      "cell_type": "code",
      "metadata": {
        "id": "eGWA80Rsy2Yu",
        "colab": {
          "base_uri": "https://localhost:8080/",
          "height": 88
        },
        "outputId": "ceeb3962-18f2-4984-a31c-3aa965e93dac"
      },
      "source": [
        "df"
      ],
      "execution_count": null,
      "outputs": [
        {
          "output_type": "execute_result",
          "data": {
            "application/vnd.google.colaboratory.module+javascript": "\n      import \"https://ssl.gstatic.com/colaboratory/data_table/a6224c040fa35dcf/data_table.js\";\n\n      window.createDataTable({\n        data: [],\n        columns: [[\"number\", \"index\"], [\"number\", \"reference_name\"], [\"number\", \"start_position\"], [\"number\", \"end_position\"], [\"number\", \"reference_bases\"], [\"number\", \"call_name\"], [\"number\", \"filters\"], [\"number\", \"filter_count\"]],\n        columnOptions: [{\"width\": \"1px\", \"className\": \"index_column\"}],\n        rowsPerPage: 25,\n        helpUrl: \"https://colab.research.google.com/notebooks/data_table.ipynb\",\n        suppressOutputScrolling: true,\n        minimumWidth: undefined,\n      });\n    ",
            "text/html": [
              "<div>\n",
              "<style scoped>\n",
              "    .dataframe tbody tr th:only-of-type {\n",
              "        vertical-align: middle;\n",
              "    }\n",
              "\n",
              "    .dataframe tbody tr th {\n",
              "        vertical-align: top;\n",
              "    }\n",
              "\n",
              "    .dataframe thead th {\n",
              "        text-align: right;\n",
              "    }\n",
              "</style>\n",
              "<table border=\"1\" class=\"dataframe\">\n",
              "  <thead>\n",
              "    <tr style=\"text-align: right;\">\n",
              "      <th></th>\n",
              "      <th>reference_name</th>\n",
              "      <th>start_position</th>\n",
              "      <th>end_position</th>\n",
              "      <th>reference_bases</th>\n",
              "      <th>call_name</th>\n",
              "      <th>filters</th>\n",
              "      <th>filter_count</th>\n",
              "    </tr>\n",
              "  </thead>\n",
              "  <tbody>\n",
              "  </tbody>\n",
              "</table>\n",
              "</div>"
            ],
            "text/plain": [
              "Empty DataFrame\n",
              "Columns: [reference_name, start_position, end_position, reference_bases, call_name, filters, filter_count]\n",
              "Index: []"
            ]
          },
          "metadata": {
            "tags": []
          },
          "execution_count": 68
        }
      ]
    },
    {
      "cell_type": "markdown",
      "metadata": {
        "id": "QAQnwx8Hy7lQ"
      },
      "source": [
        "Alternate Five"
      ]
    },
    {
      "cell_type": "code",
      "metadata": {
        "id": "A7Ktc_qoy52u"
      },
      "source": [
        "Query14 = '''\n",
        "#standardSQL\n",
        "SELECT\n",
        "  call.name AS call_name,\n",
        "  COUNT(1) AS number_of_calls\n",
        "FROM\n",
        "  `bigquery-public-data.human_genome_variants.platinum_genomes_deepvariant_variants_20180823` v, v.call\n",
        "WHERE\n",
        "  NOT EXISTS (SELECT 1 FROM UNNEST(call.FILTER) AS call_filter WHERE call_filter != 'PASS')\n",
        "GROUP BY\n",
        "  call_name\n",
        "ORDER BY\n",
        "  call_name\n",
        "'''"
      ],
      "execution_count": null,
      "outputs": []
    },
    {
      "cell_type": "code",
      "metadata": {
        "id": "p5FBA3MuzEKj",
        "colab": {
          "base_uri": "https://localhost:8080/"
        },
        "outputId": "991f95b2-f44b-4101-ec29-edf6295b536e"
      },
      "source": [
        "bq_assistant.estimate_query_size(Query14)"
      ],
      "execution_count": null,
      "outputs": [
        {
          "output_type": "execute_result",
          "data": {
            "text/plain": [
              "1.7744328808039427"
            ]
          },
          "metadata": {
            "tags": []
          },
          "execution_count": 70
        }
      ]
    },
    {
      "cell_type": "code",
      "metadata": {
        "id": "_qMJbcjhzUee"
      },
      "source": [
        "df = bq_assistant.query_to_pandas(Query14)"
      ],
      "execution_count": null,
      "outputs": []
    },
    {
      "cell_type": "code",
      "metadata": {
        "id": "diaxaWyGzbh8",
        "colab": {
          "base_uri": "https://localhost:8080/",
          "height": 214
        },
        "outputId": "d07c34bf-d28a-4966-cbb9-94d8dbb0cb7b"
      },
      "source": [
        "df"
      ],
      "execution_count": null,
      "outputs": [
        {
          "output_type": "execute_result",
          "data": {
            "application/vnd.google.colaboratory.module+javascript": "\n      import \"https://ssl.gstatic.com/colaboratory/data_table/a6224c040fa35dcf/data_table.js\";\n\n      window.createDataTable({\n        data: [[{\n            'v': 0,\n            'f': \"0\",\n        },\n\"NA12877\",\n{\n            'v': 29795946,\n            'f': \"29795946\",\n        }],\n [{\n            'v': 1,\n            'f': \"1\",\n        },\n\"NA12878\",\n{\n            'v': 26118774,\n            'f': \"26118774\",\n        }],\n [{\n            'v': 2,\n            'f': \"2\",\n        },\n\"NA12889\",\n{\n            'v': 29044992,\n            'f': \"29044992\",\n        }],\n [{\n            'v': 3,\n            'f': \"3\",\n        },\n\"NA12890\",\n{\n            'v': 28717437,\n            'f': \"28717437\",\n        }],\n [{\n            'v': 4,\n            'f': \"4\",\n        },\n\"NA12891\",\n{\n            'v': 31395995,\n            'f': \"31395995\",\n        }],\n [{\n            'v': 5,\n            'f': \"5\",\n        },\n\"NA12892\",\n{\n            'v': 25349974,\n            'f': \"25349974\",\n        }]],\n        columns: [[\"number\", \"index\"], [\"string\", \"call_name\"], [\"number\", \"number_of_calls\"]],\n        columnOptions: [{\"width\": \"1px\", \"className\": \"index_column\"}],\n        rowsPerPage: 25,\n        helpUrl: \"https://colab.research.google.com/notebooks/data_table.ipynb\",\n        suppressOutputScrolling: true,\n        minimumWidth: undefined,\n      });\n    ",
            "text/html": [
              "<div>\n",
              "<style scoped>\n",
              "    .dataframe tbody tr th:only-of-type {\n",
              "        vertical-align: middle;\n",
              "    }\n",
              "\n",
              "    .dataframe tbody tr th {\n",
              "        vertical-align: top;\n",
              "    }\n",
              "\n",
              "    .dataframe thead th {\n",
              "        text-align: right;\n",
              "    }\n",
              "</style>\n",
              "<table border=\"1\" class=\"dataframe\">\n",
              "  <thead>\n",
              "    <tr style=\"text-align: right;\">\n",
              "      <th></th>\n",
              "      <th>call_name</th>\n",
              "      <th>number_of_calls</th>\n",
              "    </tr>\n",
              "  </thead>\n",
              "  <tbody>\n",
              "    <tr>\n",
              "      <th>0</th>\n",
              "      <td>NA12877</td>\n",
              "      <td>29795946</td>\n",
              "    </tr>\n",
              "    <tr>\n",
              "      <th>1</th>\n",
              "      <td>NA12878</td>\n",
              "      <td>26118774</td>\n",
              "    </tr>\n",
              "    <tr>\n",
              "      <th>2</th>\n",
              "      <td>NA12889</td>\n",
              "      <td>29044992</td>\n",
              "    </tr>\n",
              "    <tr>\n",
              "      <th>3</th>\n",
              "      <td>NA12890</td>\n",
              "      <td>28717437</td>\n",
              "    </tr>\n",
              "    <tr>\n",
              "      <th>4</th>\n",
              "      <td>NA12891</td>\n",
              "      <td>31395995</td>\n",
              "    </tr>\n",
              "    <tr>\n",
              "      <th>5</th>\n",
              "      <td>NA12892</td>\n",
              "      <td>25349974</td>\n",
              "    </tr>\n",
              "  </tbody>\n",
              "</table>\n",
              "</div>"
            ],
            "text/plain": [
              "  call_name  number_of_calls\n",
              "0   NA12877         29795946\n",
              "1   NA12878         26118774\n",
              "2   NA12889         29044992\n",
              "3   NA12890         28717437\n",
              "4   NA12891         31395995\n",
              "5   NA12892         25349974"
            ]
          },
          "metadata": {
            "tags": []
          },
          "execution_count": 72
        }
      ]
    },
    {
      "cell_type": "markdown",
      "metadata": {
        "id": "y7NXD-njzduI"
      },
      "source": [
        "Alternate Six"
      ]
    },
    {
      "cell_type": "code",
      "metadata": {
        "id": "Yt1E7C24zcRo"
      },
      "source": [
        "QUERY15 = '''\n",
        "#standardSQL\n",
        "SELECT\n",
        "  call.name AS call_name,\n",
        "  COUNT(1) AS number_of_calls\n",
        "FROM\n",
        "  `bigquery-public-data.human_genome_variants.platinum_genomes_deepvariant_variants_20180823` v, v.call\n",
        "WHERE\n",
        "  NOT EXISTS (SELECT 1 FROM UNNEST(call.FILTER) AS call_filter WHERE call_filter != 'PASS')\n",
        "  AND EXISTS (SELECT 1 FROM UNNEST(call.genotype) as gt WHERE gt > 0)\n",
        "GROUP BY\n",
        "  call_name\n",
        "ORDER BY\n",
        "  call_name\n",
        "'''"
      ],
      "execution_count": null,
      "outputs": []
    },
    {
      "cell_type": "code",
      "metadata": {
        "id": "9E-C-9NRzpVW",
        "colab": {
          "base_uri": "https://localhost:8080/"
        },
        "outputId": "1e2f7ccf-7b7f-4cf3-d117-5d6358ea088c"
      },
      "source": [
        "bq_assistant.estimate_query_size(QUERY15)"
      ],
      "execution_count": null,
      "outputs": [
        {
          "output_type": "execute_result",
          "data": {
            "text/plain": [
              "4.488003654405475"
            ]
          },
          "metadata": {
            "tags": []
          },
          "execution_count": 74
        }
      ]
    },
    {
      "cell_type": "code",
      "metadata": {
        "id": "LyJCWSrO0R8H"
      },
      "source": [
        "df = bq_assistant.query_to_pandas(QUERY15)"
      ],
      "execution_count": null,
      "outputs": []
    },
    {
      "cell_type": "code",
      "metadata": {
        "id": "Hzs8IGLk0Wrw",
        "colab": {
          "base_uri": "https://localhost:8080/",
          "height": 214
        },
        "outputId": "caae8a3b-101d-4c2a-f11b-4f8e2523eb62"
      },
      "source": [
        "df"
      ],
      "execution_count": null,
      "outputs": [
        {
          "output_type": "execute_result",
          "data": {
            "application/vnd.google.colaboratory.module+javascript": "\n      import \"https://ssl.gstatic.com/colaboratory/data_table/a6224c040fa35dcf/data_table.js\";\n\n      window.createDataTable({\n        data: [[{\n            'v': 0,\n            'f': \"0\",\n        },\n\"NA12877\",\n{\n            'v': 4486610,\n            'f': \"4486610\",\n        }],\n [{\n            'v': 1,\n            'f': \"1\",\n        },\n\"NA12878\",\n{\n            'v': 4502017,\n            'f': \"4502017\",\n        }],\n [{\n            'v': 2,\n            'f': \"2\",\n        },\n\"NA12889\",\n{\n            'v': 4422706,\n            'f': \"4422706\",\n        }],\n [{\n            'v': 3,\n            'f': \"3\",\n        },\n\"NA12890\",\n{\n            'v': 4528725,\n            'f': \"4528725\",\n        }],\n [{\n            'v': 4,\n            'f': \"4\",\n        },\n\"NA12891\",\n{\n            'v': 4424094,\n            'f': \"4424094\",\n        }],\n [{\n            'v': 5,\n            'f': \"5\",\n        },\n\"NA12892\",\n{\n            'v': 4495753,\n            'f': \"4495753\",\n        }]],\n        columns: [[\"number\", \"index\"], [\"string\", \"call_name\"], [\"number\", \"number_of_calls\"]],\n        columnOptions: [{\"width\": \"1px\", \"className\": \"index_column\"}],\n        rowsPerPage: 25,\n        helpUrl: \"https://colab.research.google.com/notebooks/data_table.ipynb\",\n        suppressOutputScrolling: true,\n        minimumWidth: undefined,\n      });\n    ",
            "text/html": [
              "<div>\n",
              "<style scoped>\n",
              "    .dataframe tbody tr th:only-of-type {\n",
              "        vertical-align: middle;\n",
              "    }\n",
              "\n",
              "    .dataframe tbody tr th {\n",
              "        vertical-align: top;\n",
              "    }\n",
              "\n",
              "    .dataframe thead th {\n",
              "        text-align: right;\n",
              "    }\n",
              "</style>\n",
              "<table border=\"1\" class=\"dataframe\">\n",
              "  <thead>\n",
              "    <tr style=\"text-align: right;\">\n",
              "      <th></th>\n",
              "      <th>call_name</th>\n",
              "      <th>number_of_calls</th>\n",
              "    </tr>\n",
              "  </thead>\n",
              "  <tbody>\n",
              "    <tr>\n",
              "      <th>0</th>\n",
              "      <td>NA12877</td>\n",
              "      <td>4486610</td>\n",
              "    </tr>\n",
              "    <tr>\n",
              "      <th>1</th>\n",
              "      <td>NA12878</td>\n",
              "      <td>4502017</td>\n",
              "    </tr>\n",
              "    <tr>\n",
              "      <th>2</th>\n",
              "      <td>NA12889</td>\n",
              "      <td>4422706</td>\n",
              "    </tr>\n",
              "    <tr>\n",
              "      <th>3</th>\n",
              "      <td>NA12890</td>\n",
              "      <td>4528725</td>\n",
              "    </tr>\n",
              "    <tr>\n",
              "      <th>4</th>\n",
              "      <td>NA12891</td>\n",
              "      <td>4424094</td>\n",
              "    </tr>\n",
              "    <tr>\n",
              "      <th>5</th>\n",
              "      <td>NA12892</td>\n",
              "      <td>4495753</td>\n",
              "    </tr>\n",
              "  </tbody>\n",
              "</table>\n",
              "</div>"
            ],
            "text/plain": [
              "  call_name  number_of_calls\n",
              "0   NA12877          4486610\n",
              "1   NA12878          4502017\n",
              "2   NA12889          4422706\n",
              "3   NA12890          4528725\n",
              "4   NA12891          4424094\n",
              "5   NA12892          4495753"
            ]
          },
          "metadata": {
            "tags": []
          },
          "execution_count": 76
        }
      ]
    },
    {
      "cell_type": "markdown",
      "metadata": {
        "id": "Pt9sxTXI1AEK"
      },
      "source": [
        "Best Practice"
      ]
    },
    {
      "cell_type": "code",
      "metadata": {
        "id": "Y2BPPObf0ZC8"
      },
      "source": [
        "Q1 = '''\n",
        "#standardSQL\n",
        "SELECT\n",
        "  reference_name,\n",
        "  COUNT(reference_name) AS number_of_variant_rows\n",
        "FROM\n",
        "  `bigquery-public-data.human_genome_variants.platinum_genomes_deepvariant_variants_20180823` v\n",
        "WHERE\n",
        "  EXISTS (SELECT 1\n",
        "            FROM UNNEST(v.call) AS call\n",
        "          WHERE EXISTS (SELECT 1\n",
        "                          FROM UNNEST(call.genotype) AS gt\n",
        "                        WHERE gt > 0))\n",
        "GROUP BY\n",
        "  reference_name\n",
        "ORDER BY\n",
        "  reference_name\n",
        "'''"
      ],
      "execution_count": null,
      "outputs": []
    },
    {
      "cell_type": "code",
      "metadata": {
        "id": "K5S1N_F71j8Y",
        "colab": {
          "base_uri": "https://localhost:8080/"
        },
        "outputId": "6f3bcc01-94dd-4c83-e9f3-381c14334a52"
      },
      "source": [
        "bq_assistant.estimate_query_size(Q1)"
      ],
      "execution_count": null,
      "outputs": [
        {
          "output_type": "execute_result",
          "data": {
            "text/plain": [
              "3.341447635553777"
            ]
          },
          "metadata": {
            "tags": []
          },
          "execution_count": 78
        }
      ]
    },
    {
      "cell_type": "code",
      "metadata": {
        "id": "QGdbfV_B1nMU"
      },
      "source": [
        "df = bq_assistant.query_to_pandas(Q1)"
      ],
      "execution_count": null,
      "outputs": []
    },
    {
      "cell_type": "code",
      "metadata": {
        "id": "bKKXO-Hh2BfG",
        "colab": {
          "base_uri": "https://localhost:8080/",
          "height": 193
        },
        "outputId": "982c9e4a-a640-44d3-98e8-5d197779cdc4"
      },
      "source": [
        "df.head()"
      ],
      "execution_count": null,
      "outputs": [
        {
          "output_type": "execute_result",
          "data": {
            "application/vnd.google.colaboratory.module+javascript": "\n      import \"https://ssl.gstatic.com/colaboratory/data_table/a6224c040fa35dcf/data_table.js\";\n\n      window.createDataTable({\n        data: [[{\n            'v': 0,\n            'f': \"0\",\n        },\n\"chr1\",\n{\n            'v': 615000,\n            'f': \"615000\",\n        }],\n [{\n            'v': 1,\n            'f': \"1\",\n        },\n\"chr10\",\n{\n            'v': 396773,\n            'f': \"396773\",\n        }],\n [{\n            'v': 2,\n            'f': \"2\",\n        },\n\"chr11\",\n{\n            'v': 391260,\n            'f': \"391260\",\n        }],\n [{\n            'v': 3,\n            'f': \"3\",\n        },\n\"chr12\",\n{\n            'v': 382841,\n            'f': \"382841\",\n        }],\n [{\n            'v': 4,\n            'f': \"4\",\n        },\n\"chr13\",\n{\n            'v': 298044,\n            'f': \"298044\",\n        }]],\n        columns: [[\"number\", \"index\"], [\"string\", \"reference_name\"], [\"number\", \"number_of_variant_rows\"]],\n        columnOptions: [{\"width\": \"1px\", \"className\": \"index_column\"}],\n        rowsPerPage: 25,\n        helpUrl: \"https://colab.research.google.com/notebooks/data_table.ipynb\",\n        suppressOutputScrolling: true,\n        minimumWidth: undefined,\n      });\n    ",
            "text/html": [
              "<div>\n",
              "<style scoped>\n",
              "    .dataframe tbody tr th:only-of-type {\n",
              "        vertical-align: middle;\n",
              "    }\n",
              "\n",
              "    .dataframe tbody tr th {\n",
              "        vertical-align: top;\n",
              "    }\n",
              "\n",
              "    .dataframe thead th {\n",
              "        text-align: right;\n",
              "    }\n",
              "</style>\n",
              "<table border=\"1\" class=\"dataframe\">\n",
              "  <thead>\n",
              "    <tr style=\"text-align: right;\">\n",
              "      <th></th>\n",
              "      <th>reference_name</th>\n",
              "      <th>number_of_variant_rows</th>\n",
              "    </tr>\n",
              "  </thead>\n",
              "  <tbody>\n",
              "    <tr>\n",
              "      <th>0</th>\n",
              "      <td>chr1</td>\n",
              "      <td>615000</td>\n",
              "    </tr>\n",
              "    <tr>\n",
              "      <th>1</th>\n",
              "      <td>chr10</td>\n",
              "      <td>396773</td>\n",
              "    </tr>\n",
              "    <tr>\n",
              "      <th>2</th>\n",
              "      <td>chr11</td>\n",
              "      <td>391260</td>\n",
              "    </tr>\n",
              "    <tr>\n",
              "      <th>3</th>\n",
              "      <td>chr12</td>\n",
              "      <td>382841</td>\n",
              "    </tr>\n",
              "    <tr>\n",
              "      <th>4</th>\n",
              "      <td>chr13</td>\n",
              "      <td>298044</td>\n",
              "    </tr>\n",
              "  </tbody>\n",
              "</table>\n",
              "</div>"
            ],
            "text/plain": [
              "  reference_name  number_of_variant_rows\n",
              "0           chr1                  615000\n",
              "1          chr10                  396773\n",
              "2          chr11                  391260\n",
              "3          chr12                  382841\n",
              "4          chr13                  298044"
            ]
          },
          "metadata": {
            "tags": []
          },
          "execution_count": 80
        }
      ]
    },
    {
      "cell_type": "markdown",
      "metadata": {
        "id": "oCAQ5YlZ2SIg"
      },
      "source": [
        "Changing Exist to Join in call.genotype"
      ]
    },
    {
      "cell_type": "code",
      "metadata": {
        "id": "yhg0PZas2DIc"
      },
      "source": [
        "Q2 = '''\n",
        "#standardSQL\n",
        "SELECT\n",
        "  reference_name,\n",
        "  COUNT(reference_name) AS number_of_variant_rows\n",
        "FROM\n",
        "  `bigquery-public-data.human_genome_variants.platinum_genomes_deepvariant_variants_20180823` v\n",
        "WHERE\n",
        "  EXISTS (SELECT 1\n",
        "            FROM UNNEST(v.call) AS call, UNNEST(call.genotype) AS gt\n",
        "          WHERE gt > 0)\n",
        "GROUP BY\n",
        "  reference_name\n",
        "ORDER BY\n",
        "  reference_name\n",
        "'''"
      ],
      "execution_count": null,
      "outputs": []
    },
    {
      "cell_type": "code",
      "metadata": {
        "id": "PKIxTWNd2ekE",
        "colab": {
          "base_uri": "https://localhost:8080/"
        },
        "outputId": "afb217f7-ce54-49c5-f9d3-0a2458329195"
      },
      "source": [
        "bq_assistant.estimate_query_size(Q2)"
      ],
      "execution_count": null,
      "outputs": [
        {
          "output_type": "execute_result",
          "data": {
            "text/plain": [
              "3.341447635553777"
            ]
          },
          "metadata": {
            "tags": []
          },
          "execution_count": 82
        }
      ]
    },
    {
      "cell_type": "code",
      "metadata": {
        "id": "WCfrrkdO2h1N"
      },
      "source": [
        "df = bq_assistant.query_to_pandas(Q2)"
      ],
      "execution_count": null,
      "outputs": []
    },
    {
      "cell_type": "code",
      "metadata": {
        "id": "5oVFgSWp2oWS",
        "colab": {
          "base_uri": "https://localhost:8080/",
          "height": 193
        },
        "outputId": "a96a79b3-f96a-42c5-d50a-352ce96d4f39"
      },
      "source": [
        "df.head()"
      ],
      "execution_count": null,
      "outputs": [
        {
          "output_type": "execute_result",
          "data": {
            "application/vnd.google.colaboratory.module+javascript": "\n      import \"https://ssl.gstatic.com/colaboratory/data_table/a6224c040fa35dcf/data_table.js\";\n\n      window.createDataTable({\n        data: [[{\n            'v': 0,\n            'f': \"0\",\n        },\n\"chr1\",\n{\n            'v': 615000,\n            'f': \"615000\",\n        }],\n [{\n            'v': 1,\n            'f': \"1\",\n        },\n\"chr10\",\n{\n            'v': 396773,\n            'f': \"396773\",\n        }],\n [{\n            'v': 2,\n            'f': \"2\",\n        },\n\"chr11\",\n{\n            'v': 391260,\n            'f': \"391260\",\n        }],\n [{\n            'v': 3,\n            'f': \"3\",\n        },\n\"chr12\",\n{\n            'v': 382841,\n            'f': \"382841\",\n        }],\n [{\n            'v': 4,\n            'f': \"4\",\n        },\n\"chr13\",\n{\n            'v': 298044,\n            'f': \"298044\",\n        }]],\n        columns: [[\"number\", \"index\"], [\"string\", \"reference_name\"], [\"number\", \"number_of_variant_rows\"]],\n        columnOptions: [{\"width\": \"1px\", \"className\": \"index_column\"}],\n        rowsPerPage: 25,\n        helpUrl: \"https://colab.research.google.com/notebooks/data_table.ipynb\",\n        suppressOutputScrolling: true,\n        minimumWidth: undefined,\n      });\n    ",
            "text/html": [
              "<div>\n",
              "<style scoped>\n",
              "    .dataframe tbody tr th:only-of-type {\n",
              "        vertical-align: middle;\n",
              "    }\n",
              "\n",
              "    .dataframe tbody tr th {\n",
              "        vertical-align: top;\n",
              "    }\n",
              "\n",
              "    .dataframe thead th {\n",
              "        text-align: right;\n",
              "    }\n",
              "</style>\n",
              "<table border=\"1\" class=\"dataframe\">\n",
              "  <thead>\n",
              "    <tr style=\"text-align: right;\">\n",
              "      <th></th>\n",
              "      <th>reference_name</th>\n",
              "      <th>number_of_variant_rows</th>\n",
              "    </tr>\n",
              "  </thead>\n",
              "  <tbody>\n",
              "    <tr>\n",
              "      <th>0</th>\n",
              "      <td>chr1</td>\n",
              "      <td>615000</td>\n",
              "    </tr>\n",
              "    <tr>\n",
              "      <th>1</th>\n",
              "      <td>chr10</td>\n",
              "      <td>396773</td>\n",
              "    </tr>\n",
              "    <tr>\n",
              "      <th>2</th>\n",
              "      <td>chr11</td>\n",
              "      <td>391260</td>\n",
              "    </tr>\n",
              "    <tr>\n",
              "      <th>3</th>\n",
              "      <td>chr12</td>\n",
              "      <td>382841</td>\n",
              "    </tr>\n",
              "    <tr>\n",
              "      <th>4</th>\n",
              "      <td>chr13</td>\n",
              "      <td>298044</td>\n",
              "    </tr>\n",
              "  </tbody>\n",
              "</table>\n",
              "</div>"
            ],
            "text/plain": [
              "  reference_name  number_of_variant_rows\n",
              "0           chr1                  615000\n",
              "1          chr10                  396773\n",
              "2          chr11                  391260\n",
              "3          chr12                  382841\n",
              "4          chr13                  298044"
            ]
          },
          "metadata": {
            "tags": []
          },
          "execution_count": 84
        }
      ]
    },
    {
      "cell_type": "markdown",
      "metadata": {
        "id": "WaKa6IFS20Ng"
      },
      "source": [
        "To sort the output numerically, first remove the \"chr\" prefix from the reference_name column and give it the alias chromosome:"
      ]
    },
    {
      "cell_type": "code",
      "metadata": {
        "id": "w9rAG2922p0N"
      },
      "source": [
        "Q3 = '''\n",
        "#standardSQL\n",
        "SELECT\n",
        "  REGEXP_REPLACE(reference_name, '^chr', '') AS chromosome,\n",
        "  COUNT(reference_name) AS number_of_variant_rows\n",
        "FROM\n",
        "  `bigquery-public-data.human_genome_variants.platinum_genomes_deepvariant_variants_20180823` v\n",
        "WHERE\n",
        "  EXISTS (SELECT 1\n",
        "            FROM UNNEST(v.call) AS call, UNNEST(call.genotype) AS gt\n",
        "          WHERE gt > 0)\n",
        "GROUP BY\n",
        "  chromosome\n",
        "ORDER BY\n",
        "  chromosome\n",
        "'''"
      ],
      "execution_count": null,
      "outputs": []
    },
    {
      "cell_type": "code",
      "metadata": {
        "id": "YBk2iey229Ca",
        "colab": {
          "base_uri": "https://localhost:8080/"
        },
        "outputId": "4f37a406-b956-48f1-bee2-d2d8feaf7577"
      },
      "source": [
        "bq_assistant.estimate_query_size(Q3)"
      ],
      "execution_count": null,
      "outputs": [
        {
          "output_type": "execute_result",
          "data": {
            "text/plain": [
              "3.341447635553777"
            ]
          },
          "metadata": {
            "tags": []
          },
          "execution_count": 86
        }
      ]
    },
    {
      "cell_type": "code",
      "metadata": {
        "id": "STofwUuh3DJN"
      },
      "source": [
        "df = bq_assistant.query_to_pandas(Q3)"
      ],
      "execution_count": null,
      "outputs": []
    },
    {
      "cell_type": "code",
      "metadata": {
        "id": "45SBLGye3Iff",
        "colab": {
          "base_uri": "https://localhost:8080/",
          "height": 193
        },
        "outputId": "b4c4ed11-786a-4807-8656-45689b891984"
      },
      "source": [
        "df.head()"
      ],
      "execution_count": null,
      "outputs": [
        {
          "output_type": "execute_result",
          "data": {
            "application/vnd.google.colaboratory.module+javascript": "\n      import \"https://ssl.gstatic.com/colaboratory/data_table/a6224c040fa35dcf/data_table.js\";\n\n      window.createDataTable({\n        data: [[{\n            'v': 0,\n            'f': \"0\",\n        },\n\"1\",\n{\n            'v': 615000,\n            'f': \"615000\",\n        }],\n [{\n            'v': 1,\n            'f': \"1\",\n        },\n\"10\",\n{\n            'v': 396773,\n            'f': \"396773\",\n        }],\n [{\n            'v': 2,\n            'f': \"2\",\n        },\n\"11\",\n{\n            'v': 391260,\n            'f': \"391260\",\n        }],\n [{\n            'v': 3,\n            'f': \"3\",\n        },\n\"12\",\n{\n            'v': 382841,\n            'f': \"382841\",\n        }],\n [{\n            'v': 4,\n            'f': \"4\",\n        },\n\"13\",\n{\n            'v': 298044,\n            'f': \"298044\",\n        }]],\n        columns: [[\"number\", \"index\"], [\"string\", \"chromosome\"], [\"number\", \"number_of_variant_rows\"]],\n        columnOptions: [{\"width\": \"1px\", \"className\": \"index_column\"}],\n        rowsPerPage: 25,\n        helpUrl: \"https://colab.research.google.com/notebooks/data_table.ipynb\",\n        suppressOutputScrolling: true,\n        minimumWidth: undefined,\n      });\n    ",
            "text/html": [
              "<div>\n",
              "<style scoped>\n",
              "    .dataframe tbody tr th:only-of-type {\n",
              "        vertical-align: middle;\n",
              "    }\n",
              "\n",
              "    .dataframe tbody tr th {\n",
              "        vertical-align: top;\n",
              "    }\n",
              "\n",
              "    .dataframe thead th {\n",
              "        text-align: right;\n",
              "    }\n",
              "</style>\n",
              "<table border=\"1\" class=\"dataframe\">\n",
              "  <thead>\n",
              "    <tr style=\"text-align: right;\">\n",
              "      <th></th>\n",
              "      <th>chromosome</th>\n",
              "      <th>number_of_variant_rows</th>\n",
              "    </tr>\n",
              "  </thead>\n",
              "  <tbody>\n",
              "    <tr>\n",
              "      <th>0</th>\n",
              "      <td>1</td>\n",
              "      <td>615000</td>\n",
              "    </tr>\n",
              "    <tr>\n",
              "      <th>1</th>\n",
              "      <td>10</td>\n",
              "      <td>396773</td>\n",
              "    </tr>\n",
              "    <tr>\n",
              "      <th>2</th>\n",
              "      <td>11</td>\n",
              "      <td>391260</td>\n",
              "    </tr>\n",
              "    <tr>\n",
              "      <th>3</th>\n",
              "      <td>12</td>\n",
              "      <td>382841</td>\n",
              "    </tr>\n",
              "    <tr>\n",
              "      <th>4</th>\n",
              "      <td>13</td>\n",
              "      <td>298044</td>\n",
              "    </tr>\n",
              "  </tbody>\n",
              "</table>\n",
              "</div>"
            ],
            "text/plain": [
              "  chromosome  number_of_variant_rows\n",
              "0          1                  615000\n",
              "1         10                  396773\n",
              "2         11                  391260\n",
              "3         12                  382841\n",
              "4         13                  298044"
            ]
          },
          "metadata": {
            "tags": []
          },
          "execution_count": 88
        }
      ]
    },
    {
      "cell_type": "markdown",
      "metadata": {
        "id": "6zUKrzwK3ia7"
      },
      "source": [
        "To instead sort the output numerically, cast the chromosome column from a string to an integer:"
      ]
    },
    {
      "cell_type": "code",
      "metadata": {
        "id": "ApkPEwE53K5t"
      },
      "source": [
        "Q4 = '''\n",
        "#standardSQL\n",
        "SELECT\n",
        "  CAST(REGEXP_REPLACE(reference_name, '^chr', '') AS INT64) AS chromosome,\n",
        "  COUNT(reference_name) AS number_of_variant_rows\n",
        "FROM\n",
        "  `bigquery-public-data.human_genome_variants.platinum_genomes_deepvariant_variants_20180823` v\n",
        "WHERE\n",
        "  EXISTS (SELECT 1\n",
        "            FROM UNNEST(v.call) AS call, UNNEST(call.genotype) AS gt\n",
        "          WHERE gt > 0)\n",
        "GROUP BY\n",
        "  chromosome\n",
        "ORDER BY\n",
        "  chromosome\n",
        "'''"
      ],
      "execution_count": null,
      "outputs": []
    },
    {
      "cell_type": "code",
      "metadata": {
        "id": "HOAfNqJ33sKh",
        "colab": {
          "base_uri": "https://localhost:8080/"
        },
        "outputId": "4d6da56c-2f59-4fd7-d86e-f0cf915127e8"
      },
      "source": [
        "bq_assistant.estimate_query_size(Q4)"
      ],
      "execution_count": null,
      "outputs": [
        {
          "output_type": "execute_result",
          "data": {
            "text/plain": [
              "3.341447635553777"
            ]
          },
          "metadata": {
            "tags": []
          },
          "execution_count": 90
        }
      ]
    },
    {
      "cell_type": "code",
      "metadata": {
        "id": "dWPLVlBJ62-9",
        "colab": {
          "base_uri": "https://localhost:8080/",
          "height": 322
        },
        "outputId": "4a9ad2b2-4bf6-4ff3-b662-a342c6e1b857"
      },
      "source": [
        "df = bq_assistant.query_to_pandas(Q4)"
      ],
      "execution_count": null,
      "outputs": [
        {
          "output_type": "error",
          "ename": "BadRequest",
          "evalue": "ignored",
          "traceback": [
            "\u001b[0;31m---------------------------------------------------------------------------\u001b[0m",
            "\u001b[0;31mBadRequest\u001b[0m                                Traceback (most recent call last)",
            "\u001b[0;32m<ipython-input-92-a2bd7b3251a0>\u001b[0m in \u001b[0;36m<module>\u001b[0;34m()\u001b[0m\n\u001b[0;32m----> 1\u001b[0;31m \u001b[0mdf\u001b[0m \u001b[0;34m=\u001b[0m \u001b[0mbq_assistant\u001b[0m\u001b[0;34m.\u001b[0m\u001b[0mquery_to_pandas\u001b[0m\u001b[0;34m(\u001b[0m\u001b[0mQ4\u001b[0m\u001b[0;34m)\u001b[0m\u001b[0;34m\u001b[0m\u001b[0;34m\u001b[0m\u001b[0m\n\u001b[0m",
            "\u001b[0;32m/content/src/bq-helper/bq_helper.py\u001b[0m in \u001b[0;36mquery_to_pandas\u001b[0;34m(self, query)\u001b[0m\n\u001b[1;32m    133\u001b[0m         \u001b[0mmy_job\u001b[0m \u001b[0;34m=\u001b[0m \u001b[0mself\u001b[0m\u001b[0;34m.\u001b[0m\u001b[0mclient\u001b[0m\u001b[0;34m.\u001b[0m\u001b[0mquery\u001b[0m\u001b[0;34m(\u001b[0m\u001b[0mquery\u001b[0m\u001b[0;34m)\u001b[0m\u001b[0;34m\u001b[0m\u001b[0;34m\u001b[0m\u001b[0m\n\u001b[1;32m    134\u001b[0m         \u001b[0mstart_time\u001b[0m \u001b[0;34m=\u001b[0m \u001b[0mtime\u001b[0m\u001b[0;34m.\u001b[0m\u001b[0mtime\u001b[0m\u001b[0;34m(\u001b[0m\u001b[0;34m)\u001b[0m\u001b[0;34m\u001b[0m\u001b[0;34m\u001b[0m\u001b[0m\n\u001b[0;32m--> 135\u001b[0;31m         \u001b[0;32mwhile\u001b[0m \u001b[0;32mnot\u001b[0m \u001b[0mmy_job\u001b[0m\u001b[0;34m.\u001b[0m\u001b[0mdone\u001b[0m\u001b[0;34m(\u001b[0m\u001b[0;34m)\u001b[0m\u001b[0;34m:\u001b[0m\u001b[0;34m\u001b[0m\u001b[0;34m\u001b[0m\u001b[0m\n\u001b[0m\u001b[1;32m    136\u001b[0m             \u001b[0;32mif\u001b[0m \u001b[0;34m(\u001b[0m\u001b[0mtime\u001b[0m\u001b[0;34m.\u001b[0m\u001b[0mtime\u001b[0m\u001b[0;34m(\u001b[0m\u001b[0;34m)\u001b[0m \u001b[0;34m-\u001b[0m \u001b[0mstart_time\u001b[0m\u001b[0;34m)\u001b[0m \u001b[0;34m>\u001b[0m \u001b[0mself\u001b[0m\u001b[0;34m.\u001b[0m\u001b[0mmax_wait_seconds\u001b[0m\u001b[0;34m:\u001b[0m\u001b[0;34m\u001b[0m\u001b[0;34m\u001b[0m\u001b[0m\n\u001b[1;32m    137\u001b[0m                 \u001b[0mprint\u001b[0m\u001b[0;34m(\u001b[0m\u001b[0;34m\"Max wait time elapsed, query cancelled.\"\u001b[0m\u001b[0;34m)\u001b[0m\u001b[0;34m\u001b[0m\u001b[0;34m\u001b[0m\u001b[0m\n",
            "\u001b[0;32m/usr/local/lib/python3.6/dist-packages/google/cloud/bigquery/job.py\u001b[0m in \u001b[0;36mdone\u001b[0;34m(self, retry)\u001b[0m\n\u001b[1;32m   2871\u001b[0m                 \u001b[0mproject\u001b[0m\u001b[0;34m=\u001b[0m\u001b[0mself\u001b[0m\u001b[0;34m.\u001b[0m\u001b[0mproject\u001b[0m\u001b[0;34m,\u001b[0m\u001b[0;34m\u001b[0m\u001b[0;34m\u001b[0m\u001b[0m\n\u001b[1;32m   2872\u001b[0m                 \u001b[0mtimeout_ms\u001b[0m\u001b[0;34m=\u001b[0m\u001b[0mtimeout_ms\u001b[0m\u001b[0;34m,\u001b[0m\u001b[0;34m\u001b[0m\u001b[0;34m\u001b[0m\u001b[0m\n\u001b[0;32m-> 2873\u001b[0;31m                 \u001b[0mlocation\u001b[0m\u001b[0;34m=\u001b[0m\u001b[0mself\u001b[0m\u001b[0;34m.\u001b[0m\u001b[0mlocation\u001b[0m\u001b[0;34m,\u001b[0m\u001b[0;34m\u001b[0m\u001b[0;34m\u001b[0m\u001b[0m\n\u001b[0m\u001b[1;32m   2874\u001b[0m             )\n\u001b[1;32m   2875\u001b[0m \u001b[0;34m\u001b[0m\u001b[0m\n",
            "\u001b[0;32m/usr/local/lib/python3.6/dist-packages/google/cloud/bigquery/client.py\u001b[0m in \u001b[0;36m_get_query_results\u001b[0;34m(self, job_id, retry, project, timeout_ms, location)\u001b[0m\n\u001b[1;32m   1100\u001b[0m         \u001b[0;31m# QueryJob.result()). So we don't need to poll here.\u001b[0m\u001b[0;34m\u001b[0m\u001b[0;34m\u001b[0m\u001b[0;34m\u001b[0m\u001b[0m\n\u001b[1;32m   1101\u001b[0m         resource = self._call_api(\n\u001b[0;32m-> 1102\u001b[0;31m             \u001b[0mretry\u001b[0m\u001b[0;34m,\u001b[0m \u001b[0mmethod\u001b[0m\u001b[0;34m=\u001b[0m\u001b[0;34m\"GET\"\u001b[0m\u001b[0;34m,\u001b[0m \u001b[0mpath\u001b[0m\u001b[0;34m=\u001b[0m\u001b[0mpath\u001b[0m\u001b[0;34m,\u001b[0m \u001b[0mquery_params\u001b[0m\u001b[0;34m=\u001b[0m\u001b[0mextra_params\u001b[0m\u001b[0;34m\u001b[0m\u001b[0;34m\u001b[0m\u001b[0m\n\u001b[0m\u001b[1;32m   1103\u001b[0m         )\n\u001b[1;32m   1104\u001b[0m         \u001b[0;32mreturn\u001b[0m \u001b[0m_QueryResults\u001b[0m\u001b[0;34m.\u001b[0m\u001b[0mfrom_api_repr\u001b[0m\u001b[0;34m(\u001b[0m\u001b[0mresource\u001b[0m\u001b[0;34m)\u001b[0m\u001b[0;34m\u001b[0m\u001b[0;34m\u001b[0m\u001b[0m\n",
            "\u001b[0;32m/usr/local/lib/python3.6/dist-packages/google/cloud/bigquery/client.py\u001b[0m in \u001b[0;36m_call_api\u001b[0;34m(self, retry, **kwargs)\u001b[0m\n\u001b[1;32m    474\u001b[0m         \u001b[0;32mif\u001b[0m \u001b[0mretry\u001b[0m\u001b[0;34m:\u001b[0m\u001b[0;34m\u001b[0m\u001b[0;34m\u001b[0m\u001b[0m\n\u001b[1;32m    475\u001b[0m             \u001b[0mcall\u001b[0m \u001b[0;34m=\u001b[0m \u001b[0mretry\u001b[0m\u001b[0;34m(\u001b[0m\u001b[0mcall\u001b[0m\u001b[0;34m)\u001b[0m\u001b[0;34m\u001b[0m\u001b[0;34m\u001b[0m\u001b[0m\n\u001b[0;32m--> 476\u001b[0;31m         \u001b[0;32mreturn\u001b[0m \u001b[0mcall\u001b[0m\u001b[0;34m(\u001b[0m\u001b[0;34m)\u001b[0m\u001b[0;34m\u001b[0m\u001b[0;34m\u001b[0m\u001b[0m\n\u001b[0m\u001b[1;32m    477\u001b[0m \u001b[0;34m\u001b[0m\u001b[0m\n\u001b[1;32m    478\u001b[0m     \u001b[0;32mdef\u001b[0m \u001b[0mget_dataset\u001b[0m\u001b[0;34m(\u001b[0m\u001b[0mself\u001b[0m\u001b[0;34m,\u001b[0m \u001b[0mdataset_ref\u001b[0m\u001b[0;34m,\u001b[0m \u001b[0mretry\u001b[0m\u001b[0;34m=\u001b[0m\u001b[0mDEFAULT_RETRY\u001b[0m\u001b[0;34m)\u001b[0m\u001b[0;34m:\u001b[0m\u001b[0;34m\u001b[0m\u001b[0;34m\u001b[0m\u001b[0m\n",
            "\u001b[0;32m/usr/local/lib/python3.6/dist-packages/google/api_core/retry.py\u001b[0m in \u001b[0;36mretry_wrapped_func\u001b[0;34m(*args, **kwargs)\u001b[0m\n\u001b[1;32m    284\u001b[0m                 \u001b[0msleep_generator\u001b[0m\u001b[0;34m,\u001b[0m\u001b[0;34m\u001b[0m\u001b[0;34m\u001b[0m\u001b[0m\n\u001b[1;32m    285\u001b[0m                 \u001b[0mself\u001b[0m\u001b[0;34m.\u001b[0m\u001b[0m_deadline\u001b[0m\u001b[0;34m,\u001b[0m\u001b[0;34m\u001b[0m\u001b[0;34m\u001b[0m\u001b[0m\n\u001b[0;32m--> 286\u001b[0;31m                 \u001b[0mon_error\u001b[0m\u001b[0;34m=\u001b[0m\u001b[0mon_error\u001b[0m\u001b[0;34m,\u001b[0m\u001b[0;34m\u001b[0m\u001b[0;34m\u001b[0m\u001b[0m\n\u001b[0m\u001b[1;32m    287\u001b[0m             )\n\u001b[1;32m    288\u001b[0m \u001b[0;34m\u001b[0m\u001b[0m\n",
            "\u001b[0;32m/usr/local/lib/python3.6/dist-packages/google/api_core/retry.py\u001b[0m in \u001b[0;36mretry_target\u001b[0;34m(target, predicate, sleep_generator, deadline, on_error)\u001b[0m\n\u001b[1;32m    182\u001b[0m     \u001b[0;32mfor\u001b[0m \u001b[0msleep\u001b[0m \u001b[0;32min\u001b[0m \u001b[0msleep_generator\u001b[0m\u001b[0;34m:\u001b[0m\u001b[0;34m\u001b[0m\u001b[0;34m\u001b[0m\u001b[0m\n\u001b[1;32m    183\u001b[0m         \u001b[0;32mtry\u001b[0m\u001b[0;34m:\u001b[0m\u001b[0;34m\u001b[0m\u001b[0;34m\u001b[0m\u001b[0m\n\u001b[0;32m--> 184\u001b[0;31m             \u001b[0;32mreturn\u001b[0m \u001b[0mtarget\u001b[0m\u001b[0;34m(\u001b[0m\u001b[0;34m)\u001b[0m\u001b[0;34m\u001b[0m\u001b[0;34m\u001b[0m\u001b[0m\n\u001b[0m\u001b[1;32m    185\u001b[0m \u001b[0;34m\u001b[0m\u001b[0m\n\u001b[1;32m    186\u001b[0m         \u001b[0;31m# pylint: disable=broad-except\u001b[0m\u001b[0;34m\u001b[0m\u001b[0;34m\u001b[0m\u001b[0;34m\u001b[0m\u001b[0m\n",
            "\u001b[0;32m/usr/local/lib/python3.6/dist-packages/google/cloud/_http.py\u001b[0m in \u001b[0;36mapi_request\u001b[0;34m(self, method, path, query_params, data, content_type, headers, api_base_url, api_version, expect_json, _target_object)\u001b[0m\n\u001b[1;32m    391\u001b[0m \u001b[0;34m\u001b[0m\u001b[0m\n\u001b[1;32m    392\u001b[0m         \u001b[0;32mif\u001b[0m \u001b[0;32mnot\u001b[0m \u001b[0;36m200\u001b[0m \u001b[0;34m<=\u001b[0m \u001b[0mresponse\u001b[0m\u001b[0;34m.\u001b[0m\u001b[0mstatus_code\u001b[0m \u001b[0;34m<\u001b[0m \u001b[0;36m300\u001b[0m\u001b[0;34m:\u001b[0m\u001b[0;34m\u001b[0m\u001b[0;34m\u001b[0m\u001b[0m\n\u001b[0;32m--> 393\u001b[0;31m             \u001b[0;32mraise\u001b[0m \u001b[0mexceptions\u001b[0m\u001b[0;34m.\u001b[0m\u001b[0mfrom_http_response\u001b[0m\u001b[0;34m(\u001b[0m\u001b[0mresponse\u001b[0m\u001b[0;34m)\u001b[0m\u001b[0;34m\u001b[0m\u001b[0;34m\u001b[0m\u001b[0m\n\u001b[0m\u001b[1;32m    394\u001b[0m \u001b[0;34m\u001b[0m\u001b[0m\n\u001b[1;32m    395\u001b[0m         \u001b[0;32mif\u001b[0m \u001b[0mexpect_json\u001b[0m \u001b[0;32mand\u001b[0m \u001b[0mresponse\u001b[0m\u001b[0;34m.\u001b[0m\u001b[0mcontent\u001b[0m\u001b[0;34m:\u001b[0m\u001b[0;34m\u001b[0m\u001b[0;34m\u001b[0m\u001b[0m\n",
            "\u001b[0;31mBadRequest\u001b[0m: 400 GET https://bigquery.googleapis.com/bigquery/v2/projects/project297814/queries/ffc4696e-46b8-43e2-9212-b47f01dc5021?maxResults=0&location=US: Bad int64 value: X"
          ]
        }
      ]
    },
    {
      "cell_type": "markdown",
      "metadata": {
        "id": "DlSSWn2I7YRv"
      },
      "source": [
        "In this case, the query returns an error because not all chromosome names, such as \"X,\" \"Y,\" and \"M\" are numeric. Instead, use the CASE function to prepend a \"0\" to chromosomes 1 through 9 and remove the \"chr\" prefix:"
      ]
    },
    {
      "cell_type": "code",
      "metadata": {
        "id": "3WxLlZUg7ChO"
      },
      "source": [
        "Q5 = '''\n",
        "#standardSQL\n",
        "SELECT\n",
        "  CASE\n",
        "    WHEN SAFE_CAST(REGEXP_REPLACE(reference_name, '^chr', '') AS INT64) < 10\n",
        "      THEN CONCAT('0', REGEXP_REPLACE(reference_name, '^chr', ''))\n",
        "      ELSE REGEXP_REPLACE(reference_name, '^chr', '')\n",
        "  END AS chromosome,\n",
        "  COUNT(reference_name) AS number_of_variant_rows\n",
        "FROM\n",
        "  `bigquery-public-data.human_genome_variants.platinum_genomes_deepvariant_variants_20180823` v\n",
        "WHERE\n",
        "  EXISTS (SELECT 1\n",
        "            FROM UNNEST(v.call) AS call, UNNEST(call.genotype) AS gt\n",
        "          WHERE gt > 0)\n",
        "GROUP BY\n",
        "  chromosome\n",
        "ORDER BY\n",
        "  chromosome\n",
        "'''"
      ],
      "execution_count": null,
      "outputs": []
    },
    {
      "cell_type": "code",
      "metadata": {
        "id": "Hf4IcXX27iav",
        "colab": {
          "base_uri": "https://localhost:8080/"
        },
        "outputId": "661120a9-c619-4583-81d6-60e56ae63e44"
      },
      "source": [
        "bq_assistant.estimate_query_size(Q5)"
      ],
      "execution_count": null,
      "outputs": [
        {
          "output_type": "execute_result",
          "data": {
            "text/plain": [
              "3.341447635553777"
            ]
          },
          "metadata": {
            "tags": []
          },
          "execution_count": 94
        }
      ]
    },
    {
      "cell_type": "code",
      "metadata": {
        "id": "uO41Tb6y7mnw"
      },
      "source": [
        "df = bq_assistant.query_to_pandas(Q5)"
      ],
      "execution_count": null,
      "outputs": []
    },
    {
      "cell_type": "code",
      "metadata": {
        "id": "XIxrJpMB7urL",
        "colab": {
          "base_uri": "https://localhost:8080/",
          "height": 590
        },
        "outputId": "311b5521-e3ab-4ec2-e572-cd2c407322f1"
      },
      "source": [
        "df"
      ],
      "execution_count": null,
      "outputs": [
        {
          "output_type": "execute_result",
          "data": {
            "application/vnd.google.colaboratory.module+javascript": "\n      import \"https://ssl.gstatic.com/colaboratory/data_table/a6224c040fa35dcf/data_table.js\";\n\n      window.createDataTable({\n        data: [[{\n            'v': 0,\n            'f': \"0\",\n        },\n\"01\",\n{\n            'v': 615000,\n            'f': \"615000\",\n        }],\n [{\n            'v': 1,\n            'f': \"1\",\n        },\n\"02\",\n{\n            'v': 646401,\n            'f': \"646401\",\n        }],\n [{\n            'v': 2,\n            'f': \"2\",\n        },\n\"03\",\n{\n            'v': 542315,\n            'f': \"542315\",\n        }],\n [{\n            'v': 3,\n            'f': \"3\",\n        },\n\"04\",\n{\n            'v': 578600,\n            'f': \"578600\",\n        }],\n [{\n            'v': 4,\n            'f': \"4\",\n        },\n\"05\",\n{\n            'v': 496202,\n            'f': \"496202\",\n        }],\n [{\n            'v': 5,\n            'f': \"5\",\n        },\n\"06\",\n{\n            'v': 512152,\n            'f': \"512152\",\n        }],\n [{\n            'v': 6,\n            'f': \"6\",\n        },\n\"07\",\n{\n            'v': 459506,\n            'f': \"459506\",\n        }],\n [{\n            'v': 7,\n            'f': \"7\",\n        },\n\"08\",\n{\n            'v': 416376,\n            'f': \"416376\",\n        }],\n [{\n            'v': 8,\n            'f': \"8\",\n        },\n\"09\",\n{\n            'v': 344985,\n            'f': \"344985\",\n        }],\n [{\n            'v': 9,\n            'f': \"9\",\n        },\n\"10\",\n{\n            'v': 396773,\n            'f': \"396773\",\n        }],\n [{\n            'v': 10,\n            'f': \"10\",\n        },\n\"11\",\n{\n            'v': 391260,\n            'f': \"391260\",\n        }],\n [{\n            'v': 11,\n            'f': \"11\",\n        },\n\"12\",\n{\n            'v': 382841,\n            'f': \"382841\",\n        }],\n [{\n            'v': 12,\n            'f': \"12\",\n        },\n\"13\",\n{\n            'v': 298044,\n            'f': \"298044\",\n        }],\n [{\n            'v': 13,\n            'f': \"13\",\n        },\n\"14\",\n{\n            'v': 258756,\n            'f': \"258756\",\n        }],\n [{\n            'v': 14,\n            'f': \"14\",\n        },\n\"15\",\n{\n            'v': 234569,\n            'f': \"234569\",\n        }],\n [{\n            'v': 15,\n            'f': \"15\",\n        },\n\"16\",\n{\n            'v': 247671,\n            'f': \"247671\",\n        }],\n [{\n            'v': 16,\n            'f': \"16\",\n        },\n\"17\",\n{\n            'v': 224403,\n            'f': \"224403\",\n        }],\n [{\n            'v': 17,\n            'f': \"17\",\n        },\n\"18\",\n{\n            'v': 227200,\n            'f': \"227200\",\n        }],\n [{\n            'v': 18,\n            'f': \"18\",\n        },\n\"19\",\n{\n            'v': 192538,\n            'f': \"192538\",\n        }],\n [{\n            'v': 19,\n            'f': \"19\",\n        },\n\"20\",\n{\n            'v': 168958,\n            'f': \"168958\",\n        }],\n [{\n            'v': 20,\n            'f': \"20\",\n        },\n\"21\",\n{\n            'v': 121882,\n            'f': \"121882\",\n        }],\n [{\n            'v': 21,\n            'f': \"21\",\n        },\n\"22\",\n{\n            'v': 112338,\n            'f': \"112338\",\n        }],\n [{\n            'v': 22,\n            'f': \"22\",\n        },\n\"X\",\n{\n            'v': 231125,\n            'f': \"231125\",\n        }],\n [{\n            'v': 23,\n            'f': \"23\",\n        },\n\"Y\",\n{\n            'v': 15357,\n            'f': \"15357\",\n        }]],\n        columns: [[\"number\", \"index\"], [\"string\", \"chromosome\"], [\"number\", \"number_of_variant_rows\"]],\n        columnOptions: [{\"width\": \"1px\", \"className\": \"index_column\"}],\n        rowsPerPage: 25,\n        helpUrl: \"https://colab.research.google.com/notebooks/data_table.ipynb\",\n        suppressOutputScrolling: true,\n        minimumWidth: undefined,\n      });\n    ",
            "text/html": [
              "<div>\n",
              "<style scoped>\n",
              "    .dataframe tbody tr th:only-of-type {\n",
              "        vertical-align: middle;\n",
              "    }\n",
              "\n",
              "    .dataframe tbody tr th {\n",
              "        vertical-align: top;\n",
              "    }\n",
              "\n",
              "    .dataframe thead th {\n",
              "        text-align: right;\n",
              "    }\n",
              "</style>\n",
              "<table border=\"1\" class=\"dataframe\">\n",
              "  <thead>\n",
              "    <tr style=\"text-align: right;\">\n",
              "      <th></th>\n",
              "      <th>chromosome</th>\n",
              "      <th>number_of_variant_rows</th>\n",
              "    </tr>\n",
              "  </thead>\n",
              "  <tbody>\n",
              "    <tr>\n",
              "      <th>0</th>\n",
              "      <td>01</td>\n",
              "      <td>615000</td>\n",
              "    </tr>\n",
              "    <tr>\n",
              "      <th>1</th>\n",
              "      <td>02</td>\n",
              "      <td>646401</td>\n",
              "    </tr>\n",
              "    <tr>\n",
              "      <th>2</th>\n",
              "      <td>03</td>\n",
              "      <td>542315</td>\n",
              "    </tr>\n",
              "    <tr>\n",
              "      <th>3</th>\n",
              "      <td>04</td>\n",
              "      <td>578600</td>\n",
              "    </tr>\n",
              "    <tr>\n",
              "      <th>4</th>\n",
              "      <td>05</td>\n",
              "      <td>496202</td>\n",
              "    </tr>\n",
              "    <tr>\n",
              "      <th>5</th>\n",
              "      <td>06</td>\n",
              "      <td>512152</td>\n",
              "    </tr>\n",
              "    <tr>\n",
              "      <th>6</th>\n",
              "      <td>07</td>\n",
              "      <td>459506</td>\n",
              "    </tr>\n",
              "    <tr>\n",
              "      <th>7</th>\n",
              "      <td>08</td>\n",
              "      <td>416376</td>\n",
              "    </tr>\n",
              "    <tr>\n",
              "      <th>8</th>\n",
              "      <td>09</td>\n",
              "      <td>344985</td>\n",
              "    </tr>\n",
              "    <tr>\n",
              "      <th>9</th>\n",
              "      <td>10</td>\n",
              "      <td>396773</td>\n",
              "    </tr>\n",
              "    <tr>\n",
              "      <th>10</th>\n",
              "      <td>11</td>\n",
              "      <td>391260</td>\n",
              "    </tr>\n",
              "    <tr>\n",
              "      <th>11</th>\n",
              "      <td>12</td>\n",
              "      <td>382841</td>\n",
              "    </tr>\n",
              "    <tr>\n",
              "      <th>12</th>\n",
              "      <td>13</td>\n",
              "      <td>298044</td>\n",
              "    </tr>\n",
              "    <tr>\n",
              "      <th>13</th>\n",
              "      <td>14</td>\n",
              "      <td>258756</td>\n",
              "    </tr>\n",
              "    <tr>\n",
              "      <th>14</th>\n",
              "      <td>15</td>\n",
              "      <td>234569</td>\n",
              "    </tr>\n",
              "    <tr>\n",
              "      <th>15</th>\n",
              "      <td>16</td>\n",
              "      <td>247671</td>\n",
              "    </tr>\n",
              "    <tr>\n",
              "      <th>16</th>\n",
              "      <td>17</td>\n",
              "      <td>224403</td>\n",
              "    </tr>\n",
              "    <tr>\n",
              "      <th>17</th>\n",
              "      <td>18</td>\n",
              "      <td>227200</td>\n",
              "    </tr>\n",
              "    <tr>\n",
              "      <th>18</th>\n",
              "      <td>19</td>\n",
              "      <td>192538</td>\n",
              "    </tr>\n",
              "    <tr>\n",
              "      <th>19</th>\n",
              "      <td>20</td>\n",
              "      <td>168958</td>\n",
              "    </tr>\n",
              "    <tr>\n",
              "      <th>20</th>\n",
              "      <td>21</td>\n",
              "      <td>121882</td>\n",
              "    </tr>\n",
              "    <tr>\n",
              "      <th>21</th>\n",
              "      <td>22</td>\n",
              "      <td>112338</td>\n",
              "    </tr>\n",
              "    <tr>\n",
              "      <th>22</th>\n",
              "      <td>X</td>\n",
              "      <td>231125</td>\n",
              "    </tr>\n",
              "    <tr>\n",
              "      <th>23</th>\n",
              "      <td>Y</td>\n",
              "      <td>15357</td>\n",
              "    </tr>\n",
              "  </tbody>\n",
              "</table>\n",
              "</div>"
            ],
            "text/plain": [
              "   chromosome  number_of_variant_rows\n",
              "0          01                  615000\n",
              "1          02                  646401\n",
              "2          03                  542315\n",
              "3          04                  578600\n",
              "4          05                  496202\n",
              "5          06                  512152\n",
              "6          07                  459506\n",
              "7          08                  416376\n",
              "8          09                  344985\n",
              "9          10                  396773\n",
              "10         11                  391260\n",
              "11         12                  382841\n",
              "12         13                  298044\n",
              "13         14                  258756\n",
              "14         15                  234569\n",
              "15         16                  247671\n",
              "16         17                  224403\n",
              "17         18                  227200\n",
              "18         19                  192538\n",
              "19         20                  168958\n",
              "20         21                  121882\n",
              "21         22                  112338\n",
              "22          X                  231125\n",
              "23          Y                   15357"
            ]
          },
          "metadata": {
            "tags": []
          },
          "execution_count": 96
        }
      ]
    },
    {
      "cell_type": "markdown",
      "metadata": {
        "id": "gDKlSx6d9NwJ"
      },
      "source": [
        "As a last improvement on the output, display the reference_name column again instead of setting it to the chromosome alias. To do so, move the CASE clause to the ORDER BY function:"
      ]
    },
    {
      "cell_type": "code",
      "metadata": {
        "id": "7xbut_fK7v8K"
      },
      "source": [
        "Q6 = '''\n",
        "#standardSQL\n",
        "SELECT\n",
        "  reference_name,\n",
        "  COUNT(reference_name) AS number_of_variant_rows\n",
        "FROM\n",
        "  `bigquery-public-data.human_genome_variants.platinum_genomes_deepvariant_variants_20180823` v\n",
        "WHERE\n",
        "  EXISTS (SELECT 1\n",
        "            FROM UNNEST(v.call) AS call, UNNEST(call.genotype) AS gt\n",
        "          WHERE gt > 0)\n",
        "GROUP BY\n",
        "  reference_name\n",
        "ORDER BY\n",
        "  CASE\n",
        "    WHEN SAFE_CAST(REGEXP_REPLACE(reference_name, '^chr', '') AS INT64) < 10\n",
        "      THEN CONCAT('0', REGEXP_REPLACE(reference_name, '^chr', ''))\n",
        "      ELSE REGEXP_REPLACE(reference_name, '^chr', '')\n",
        "  END\n",
        "'''"
      ],
      "execution_count": null,
      "outputs": []
    },
    {
      "cell_type": "code",
      "metadata": {
        "id": "1iSyEcem9Zno",
        "colab": {
          "base_uri": "https://localhost:8080/"
        },
        "outputId": "3a595953-684f-4aba-da7f-5a4f72006b65"
      },
      "source": [
        "bq_assistant.estimate_query_size(Q6)"
      ],
      "execution_count": null,
      "outputs": [
        {
          "output_type": "execute_result",
          "data": {
            "text/plain": [
              "3.341447635553777"
            ]
          },
          "metadata": {
            "tags": []
          },
          "execution_count": 98
        }
      ]
    },
    {
      "cell_type": "code",
      "metadata": {
        "id": "QmDphNWb9fsV"
      },
      "source": [
        "df = bq_assistant.query_to_pandas(Q6)"
      ],
      "execution_count": null,
      "outputs": []
    },
    {
      "cell_type": "code",
      "metadata": {
        "id": "3j5D26XN9l-E",
        "colab": {
          "base_uri": "https://localhost:8080/",
          "height": 193
        },
        "outputId": "a41117e0-8277-489e-ee12-8eaa874a8b66"
      },
      "source": [
        "df.head()"
      ],
      "execution_count": null,
      "outputs": [
        {
          "output_type": "execute_result",
          "data": {
            "application/vnd.google.colaboratory.module+javascript": "\n      import \"https://ssl.gstatic.com/colaboratory/data_table/a6224c040fa35dcf/data_table.js\";\n\n      window.createDataTable({\n        data: [[{\n            'v': 0,\n            'f': \"0\",\n        },\n\"chr1\",\n{\n            'v': 615000,\n            'f': \"615000\",\n        }],\n [{\n            'v': 1,\n            'f': \"1\",\n        },\n\"chr2\",\n{\n            'v': 646401,\n            'f': \"646401\",\n        }],\n [{\n            'v': 2,\n            'f': \"2\",\n        },\n\"chr3\",\n{\n            'v': 542315,\n            'f': \"542315\",\n        }],\n [{\n            'v': 3,\n            'f': \"3\",\n        },\n\"chr4\",\n{\n            'v': 578600,\n            'f': \"578600\",\n        }],\n [{\n            'v': 4,\n            'f': \"4\",\n        },\n\"chr5\",\n{\n            'v': 496202,\n            'f': \"496202\",\n        }]],\n        columns: [[\"number\", \"index\"], [\"string\", \"reference_name\"], [\"number\", \"number_of_variant_rows\"]],\n        columnOptions: [{\"width\": \"1px\", \"className\": \"index_column\"}],\n        rowsPerPage: 25,\n        helpUrl: \"https://colab.research.google.com/notebooks/data_table.ipynb\",\n        suppressOutputScrolling: true,\n        minimumWidth: undefined,\n      });\n    ",
            "text/html": [
              "<div>\n",
              "<style scoped>\n",
              "    .dataframe tbody tr th:only-of-type {\n",
              "        vertical-align: middle;\n",
              "    }\n",
              "\n",
              "    .dataframe tbody tr th {\n",
              "        vertical-align: top;\n",
              "    }\n",
              "\n",
              "    .dataframe thead th {\n",
              "        text-align: right;\n",
              "    }\n",
              "</style>\n",
              "<table border=\"1\" class=\"dataframe\">\n",
              "  <thead>\n",
              "    <tr style=\"text-align: right;\">\n",
              "      <th></th>\n",
              "      <th>reference_name</th>\n",
              "      <th>number_of_variant_rows</th>\n",
              "    </tr>\n",
              "  </thead>\n",
              "  <tbody>\n",
              "    <tr>\n",
              "      <th>0</th>\n",
              "      <td>chr1</td>\n",
              "      <td>615000</td>\n",
              "    </tr>\n",
              "    <tr>\n",
              "      <th>1</th>\n",
              "      <td>chr2</td>\n",
              "      <td>646401</td>\n",
              "    </tr>\n",
              "    <tr>\n",
              "      <th>2</th>\n",
              "      <td>chr3</td>\n",
              "      <td>542315</td>\n",
              "    </tr>\n",
              "    <tr>\n",
              "      <th>3</th>\n",
              "      <td>chr4</td>\n",
              "      <td>578600</td>\n",
              "    </tr>\n",
              "    <tr>\n",
              "      <th>4</th>\n",
              "      <td>chr5</td>\n",
              "      <td>496202</td>\n",
              "    </tr>\n",
              "  </tbody>\n",
              "</table>\n",
              "</div>"
            ],
            "text/plain": [
              "  reference_name  number_of_variant_rows\n",
              "0           chr1                  615000\n",
              "1           chr2                  646401\n",
              "2           chr3                  542315\n",
              "3           chr4                  578600\n",
              "4           chr5                  496202"
            ]
          },
          "metadata": {
            "tags": []
          },
          "execution_count": 100
        }
      ]
    },
    {
      "cell_type": "markdown",
      "metadata": {
        "id": "UTW-jr-d9us1"
      },
      "source": [
        "**User Defined Functions**\n"
      ]
    },
    {
      "cell_type": "markdown",
      "metadata": {
        "id": "8bjUnovG_JOV"
      },
      "source": [
        "BigQuery supports User-defined functions, which enable you to create a function using another SQL expression or another programming language, such as JavaScript.\n",
        "\n",
        "The example in Condensing queries shows how to build a complex query, but the query becomes overly verbose.\n",
        "\n",
        "The following query demonstrates how to make the query more concise by moving the CASE logic into a function:"
      ]
    },
    {
      "cell_type": "code",
      "metadata": {
        "id": "SuxSr1O59mvY"
      },
      "source": [
        "Q7 = '''\n",
        "#standardSQL\n",
        "CREATE TEMPORARY FUNCTION SortableChromosome(reference_name STRING)\n",
        "  RETURNS STRING AS (\n",
        "  -- Remove the leading \"chr\" (if any) in the reference_name\n",
        "  -- If the chromosome is 1 - 9, prepend a \"0\" since\n",
        "  -- \"2\" sorts after \"10\", but \"02\" sorts before \"10\".\n",
        "  CASE\n",
        "    WHEN SAFE_CAST(REGEXP_REPLACE(reference_name, '^chr', '') AS INT64) < 10\n",
        "      THEN CONCAT('0', REGEXP_REPLACE(reference_name, '^chr', ''))\n",
        "      ELSE REGEXP_REPLACE(reference_name, '^chr', '')\n",
        "  END\n",
        ");\n",
        "\n",
        "SELECT\n",
        "  reference_name,\n",
        "  COUNT(reference_name) AS number_of_variant_rows\n",
        "FROM\n",
        "  `bigquery-public-data.human_genome_variants.platinum_genomes_deepvariant_variants_20180823` v\n",
        "WHERE\n",
        "  EXISTS (SELECT 1\n",
        "            FROM UNNEST(v.call) AS call, UNNEST(call.genotype) AS gt\n",
        "          WHERE gt > 0)\n",
        "GROUP BY\n",
        "  reference_name\n",
        "ORDER BY SortableChromosome(reference_name)\n",
        "'''"
      ],
      "execution_count": null,
      "outputs": []
    },
    {
      "cell_type": "code",
      "metadata": {
        "id": "u-E4YvdH_fAO",
        "colab": {
          "base_uri": "https://localhost:8080/"
        },
        "outputId": "d86c3252-3420-4cb9-e952-29105ce13f52"
      },
      "source": [
        "bq_assistant.estimate_query_size(Q7)"
      ],
      "execution_count": null,
      "outputs": [
        {
          "output_type": "execute_result",
          "data": {
            "text/plain": [
              "3.341447635553777"
            ]
          },
          "metadata": {
            "tags": []
          },
          "execution_count": 102
        }
      ]
    },
    {
      "cell_type": "code",
      "metadata": {
        "id": "poi8Sn79_kA4"
      },
      "source": [
        "df = bq_assistant.query_to_pandas(Q7)"
      ],
      "execution_count": null,
      "outputs": []
    },
    {
      "cell_type": "code",
      "metadata": {
        "id": "NSs2SPqn_yNV",
        "colab": {
          "base_uri": "https://localhost:8080/",
          "height": 193
        },
        "outputId": "b8c86056-7c18-41af-e137-5075a8929354"
      },
      "source": [
        "df.head()"
      ],
      "execution_count": null,
      "outputs": [
        {
          "output_type": "execute_result",
          "data": {
            "application/vnd.google.colaboratory.module+javascript": "\n      import \"https://ssl.gstatic.com/colaboratory/data_table/a6224c040fa35dcf/data_table.js\";\n\n      window.createDataTable({\n        data: [[{\n            'v': 0,\n            'f': \"0\",\n        },\n\"chr1\",\n{\n            'v': 615000,\n            'f': \"615000\",\n        }],\n [{\n            'v': 1,\n            'f': \"1\",\n        },\n\"chr2\",\n{\n            'v': 646401,\n            'f': \"646401\",\n        }],\n [{\n            'v': 2,\n            'f': \"2\",\n        },\n\"chr3\",\n{\n            'v': 542315,\n            'f': \"542315\",\n        }],\n [{\n            'v': 3,\n            'f': \"3\",\n        },\n\"chr4\",\n{\n            'v': 578600,\n            'f': \"578600\",\n        }],\n [{\n            'v': 4,\n            'f': \"4\",\n        },\n\"chr5\",\n{\n            'v': 496202,\n            'f': \"496202\",\n        }]],\n        columns: [[\"number\", \"index\"], [\"string\", \"reference_name\"], [\"number\", \"number_of_variant_rows\"]],\n        columnOptions: [{\"width\": \"1px\", \"className\": \"index_column\"}],\n        rowsPerPage: 25,\n        helpUrl: \"https://colab.research.google.com/notebooks/data_table.ipynb\",\n        suppressOutputScrolling: true,\n        minimumWidth: undefined,\n      });\n    ",
            "text/html": [
              "<div>\n",
              "<style scoped>\n",
              "    .dataframe tbody tr th:only-of-type {\n",
              "        vertical-align: middle;\n",
              "    }\n",
              "\n",
              "    .dataframe tbody tr th {\n",
              "        vertical-align: top;\n",
              "    }\n",
              "\n",
              "    .dataframe thead th {\n",
              "        text-align: right;\n",
              "    }\n",
              "</style>\n",
              "<table border=\"1\" class=\"dataframe\">\n",
              "  <thead>\n",
              "    <tr style=\"text-align: right;\">\n",
              "      <th></th>\n",
              "      <th>reference_name</th>\n",
              "      <th>number_of_variant_rows</th>\n",
              "    </tr>\n",
              "  </thead>\n",
              "  <tbody>\n",
              "    <tr>\n",
              "      <th>0</th>\n",
              "      <td>chr1</td>\n",
              "      <td>615000</td>\n",
              "    </tr>\n",
              "    <tr>\n",
              "      <th>1</th>\n",
              "      <td>chr2</td>\n",
              "      <td>646401</td>\n",
              "    </tr>\n",
              "    <tr>\n",
              "      <th>2</th>\n",
              "      <td>chr3</td>\n",
              "      <td>542315</td>\n",
              "    </tr>\n",
              "    <tr>\n",
              "      <th>3</th>\n",
              "      <td>chr4</td>\n",
              "      <td>578600</td>\n",
              "    </tr>\n",
              "    <tr>\n",
              "      <th>4</th>\n",
              "      <td>chr5</td>\n",
              "      <td>496202</td>\n",
              "    </tr>\n",
              "  </tbody>\n",
              "</table>\n",
              "</div>"
            ],
            "text/plain": [
              "  reference_name  number_of_variant_rows\n",
              "0           chr1                  615000\n",
              "1           chr2                  646401\n",
              "2           chr3                  542315\n",
              "3           chr4                  578600\n",
              "4           chr5                  496202"
            ]
          },
          "metadata": {
            "tags": []
          },
          "execution_count": 104
        }
      ]
    },
    {
      "cell_type": "markdown",
      "metadata": {
        "id": "jf-9mWOLAQv1"
      },
      "source": [
        "Reusing code makes it more concise"
      ]
    },
    {
      "cell_type": "code",
      "metadata": {
        "id": "1o_qAV9m_znB"
      },
      "source": [
        "Q8 = '''\n",
        "#standardSQL\n",
        "CREATE TEMPORARY FUNCTION SortableChromosome(reference_name STRING)\n",
        "  RETURNS STRING LANGUAGE js AS \"\"\"\n",
        "  // Remove the leading \"chr\" (if any) in the reference_name\n",
        "  var chr = reference_name.replace(/^chr/, '');\n",
        "\n",
        "  // If the chromosome is 1 - 9, prepend a \"0\" since\n",
        "  // \"2\" sorts after \"10\", but \"02\" sorts before \"10\".\n",
        "  if (chr.length == 1 && '123456789'.indexOf(chr) >= 0) {\n",
        "    return '0' + chr;\n",
        "  }\n",
        "\n",
        "  return chr;\n",
        "\"\"\";\n",
        "\n",
        "SELECT\n",
        "  reference_name,\n",
        "  COUNT(reference_name) AS number_of_variant_rows\n",
        "FROM\n",
        "  `bigquery-public-data.human_genome_variants.platinum_genomes_deepvariant_variants_20180823` v\n",
        "WHERE\n",
        "  EXISTS (SELECT 1\n",
        "            FROM UNNEST(v.call) AS call, UNNEST(call.genotype) AS gt\n",
        "          WHERE gt > 0)\n",
        "GROUP BY\n",
        "  reference_name\n",
        "ORDER BY SortableChromosome(reference_name)\n",
        "'''"
      ],
      "execution_count": null,
      "outputs": []
    },
    {
      "cell_type": "code",
      "metadata": {
        "id": "i1bGkx0vAYj1",
        "colab": {
          "base_uri": "https://localhost:8080/"
        },
        "outputId": "ee3ed296-5a8c-48ed-fe00-b2a3bf51e47c"
      },
      "source": [
        "bq_assistant.estimate_query_size(Q8)"
      ],
      "execution_count": null,
      "outputs": [
        {
          "output_type": "execute_result",
          "data": {
            "text/plain": [
              "3.341447635553777"
            ]
          },
          "metadata": {
            "tags": []
          },
          "execution_count": 106
        }
      ]
    },
    {
      "cell_type": "code",
      "metadata": {
        "id": "MMqeD_tzAdef"
      },
      "source": [
        "df = bq_assistant.query_to_pandas(Q8)"
      ],
      "execution_count": null,
      "outputs": []
    },
    {
      "cell_type": "code",
      "metadata": {
        "id": "2LNP7XkCAjPc",
        "colab": {
          "base_uri": "https://localhost:8080/",
          "height": 193
        },
        "outputId": "672166c6-48ae-460c-c58f-cc9e03abe6b7"
      },
      "source": [
        "df.head()"
      ],
      "execution_count": null,
      "outputs": [
        {
          "output_type": "execute_result",
          "data": {
            "application/vnd.google.colaboratory.module+javascript": "\n      import \"https://ssl.gstatic.com/colaboratory/data_table/a6224c040fa35dcf/data_table.js\";\n\n      window.createDataTable({\n        data: [[{\n            'v': 0,\n            'f': \"0\",\n        },\n\"chr1\",\n{\n            'v': 615000,\n            'f': \"615000\",\n        }],\n [{\n            'v': 1,\n            'f': \"1\",\n        },\n\"chr2\",\n{\n            'v': 646401,\n            'f': \"646401\",\n        }],\n [{\n            'v': 2,\n            'f': \"2\",\n        },\n\"chr3\",\n{\n            'v': 542315,\n            'f': \"542315\",\n        }],\n [{\n            'v': 3,\n            'f': \"3\",\n        },\n\"chr4\",\n{\n            'v': 578600,\n            'f': \"578600\",\n        }],\n [{\n            'v': 4,\n            'f': \"4\",\n        },\n\"chr5\",\n{\n            'v': 496202,\n            'f': \"496202\",\n        }]],\n        columns: [[\"number\", \"index\"], [\"string\", \"reference_name\"], [\"number\", \"number_of_variant_rows\"]],\n        columnOptions: [{\"width\": \"1px\", \"className\": \"index_column\"}],\n        rowsPerPage: 25,\n        helpUrl: \"https://colab.research.google.com/notebooks/data_table.ipynb\",\n        suppressOutputScrolling: true,\n        minimumWidth: undefined,\n      });\n    ",
            "text/html": [
              "<div>\n",
              "<style scoped>\n",
              "    .dataframe tbody tr th:only-of-type {\n",
              "        vertical-align: middle;\n",
              "    }\n",
              "\n",
              "    .dataframe tbody tr th {\n",
              "        vertical-align: top;\n",
              "    }\n",
              "\n",
              "    .dataframe thead th {\n",
              "        text-align: right;\n",
              "    }\n",
              "</style>\n",
              "<table border=\"1\" class=\"dataframe\">\n",
              "  <thead>\n",
              "    <tr style=\"text-align: right;\">\n",
              "      <th></th>\n",
              "      <th>reference_name</th>\n",
              "      <th>number_of_variant_rows</th>\n",
              "    </tr>\n",
              "  </thead>\n",
              "  <tbody>\n",
              "    <tr>\n",
              "      <th>0</th>\n",
              "      <td>chr1</td>\n",
              "      <td>615000</td>\n",
              "    </tr>\n",
              "    <tr>\n",
              "      <th>1</th>\n",
              "      <td>chr2</td>\n",
              "      <td>646401</td>\n",
              "    </tr>\n",
              "    <tr>\n",
              "      <th>2</th>\n",
              "      <td>chr3</td>\n",
              "      <td>542315</td>\n",
              "    </tr>\n",
              "    <tr>\n",
              "      <th>3</th>\n",
              "      <td>chr4</td>\n",
              "      <td>578600</td>\n",
              "    </tr>\n",
              "    <tr>\n",
              "      <th>4</th>\n",
              "      <td>chr5</td>\n",
              "      <td>496202</td>\n",
              "    </tr>\n",
              "  </tbody>\n",
              "</table>\n",
              "</div>"
            ],
            "text/plain": [
              "  reference_name  number_of_variant_rows\n",
              "0           chr1                  615000\n",
              "1           chr2                  646401\n",
              "2           chr3                  542315\n",
              "3           chr4                  578600\n",
              "4           chr5                  496202"
            ]
          },
          "metadata": {
            "tags": []
          },
          "execution_count": 108
        }
      ]
    },
    {
      "cell_type": "code",
      "metadata": {
        "id": "7jvEGkXMAmNy"
      },
      "source": [
        ""
      ],
      "execution_count": null,
      "outputs": []
    }
  ]
}